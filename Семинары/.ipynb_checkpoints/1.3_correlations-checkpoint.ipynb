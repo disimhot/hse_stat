{
 "cells": [
  {
   "cell_type": "markdown",
   "metadata": {
    "id": "caPEXOv8GdVg",
    "toc": true
   },
   "source": [
    "<h1>Table of Contents<span class=\"tocSkip\"></span></h1>\n",
    "<div class=\"toc\"><ul class=\"toc-item\"><li><span><a href=\"#Взаимосвязи-в-данных\" data-toc-modified-id=\"Взаимосвязи-в-данных-1\"><span class=\"toc-item-num\">1&nbsp;&nbsp;</span>Взаимосвязи в данных</a></span><ul class=\"toc-item\"><li><span><a href=\"#Пол-клиента,-день-недели-и-чаевые\" data-toc-modified-id=\"Пол-клиента,-день-недели-и-чаевые-1.1\"><span class=\"toc-item-num\">1.1&nbsp;&nbsp;</span>Пол клиента, день недели и чаевые</a></span></li><li><span><a href=\"#Корреляции\" data-toc-modified-id=\"Корреляции-1.2\"><span class=\"toc-item-num\">1.2&nbsp;&nbsp;</span>Корреляции</a></span></li></ul></li><li><span><a href=\"#Разные-свойства\" data-toc-modified-id=\"Разные-свойства-2\"><span class=\"toc-item-num\">2&nbsp;&nbsp;</span>Разные свойства</a></span><ul class=\"toc-item\"><li><span><a href=\"#cdf-и-правило-3-сигм\" data-toc-modified-id=\"cdf-и-правило-3-сигм-2.1\"><span class=\"toc-item-num\">2.1&nbsp;&nbsp;</span>cdf и правило 3 сигм</a></span></li><li><span><a href=\"#Куртозис-и-эксцесс\" data-toc-modified-id=\"Куртозис-и-эксцесс-2.2\"><span class=\"toc-item-num\">2.2&nbsp;&nbsp;</span>Куртозис и эксцесс</a></span></li><li><span><a href=\"#Гистограмма-и-kde\" data-toc-modified-id=\"Гистограмма-и-kde-2.3\"><span class=\"toc-item-num\">2.3&nbsp;&nbsp;</span>Гистограмма и kde</a></span></li><li><span><a href=\"#Стандартизация\" data-toc-modified-id=\"Стандартизация-2.4\"><span class=\"toc-item-num\">2.4&nbsp;&nbsp;</span>Стандартизация</a></span></li><li><span><a href=\"#Сдвиги-по-осям-X-и-Y\" data-toc-modified-id=\"Сдвиги-по-осям-X-и-Y-2.5\"><span class=\"toc-item-num\">2.5&nbsp;&nbsp;</span>Сдвиги по осям X и Y</a></span></li><li><span><a href=\"#Кодирование-категориальных-переменных\" data-toc-modified-id=\"Кодирование-категориальных-переменных-2.6\"><span class=\"toc-item-num\">2.6&nbsp;&nbsp;</span>Кодирование категориальных переменных</a></span></li></ul></li></ul></div>"
   ]
  },
  {
   "cell_type": "markdown",
   "metadata": {
    "id": "e9TURfQNGdVh"
   },
   "source": [
    "#  Взаимосвязи в данных\n",
    "\n",
    "В этой тетрадке мы поговорим про корреляции. "
   ]
  },
  {
   "cell_type": "code",
   "execution_count": 1,
   "metadata": {
    "id": "51nXCy6OGdVh"
   },
   "outputs": [],
   "source": [
    "import numpy as np         # библиотека для матриц и математики\n",
    "import pandas as pd        # библиотека для работы с табличками\n",
    "from scipy import stats    # модуль для работы со статистикой\n",
    "\n",
    "# библиотеки для визуализации\n",
    "import matplotlib.pyplot as plt\n",
    "import seaborn as sns\n",
    "\n",
    "plt.style.use('ggplot')    # стиль графиков"
   ]
  },
  {
   "cell_type": "code",
   "execution_count": 2,
   "metadata": {
    "id": "10tk27fpGdVi"
   },
   "outputs": [],
   "source": [
    "from statsmodels.api import qqplot"
   ]
  },
  {
   "cell_type": "code",
   "execution_count": 3,
   "metadata": {
    "id": "gv6Y_OWzGdVi"
   },
   "outputs": [],
   "source": [
    "import ssl\n",
    "ssl._create_default_https_context = ssl._create_unverified_context"
   ]
  },
  {
   "cell_type": "markdown",
   "metadata": {
    "id": "y_CFmwD3GdVi"
   },
   "source": [
    "Будем использовать небольшой набор данных по тому, как люди платят чаевые. "
   ]
  },
  {
   "cell_type": "code",
   "execution_count": 4,
   "metadata": {
    "id": "4OUkbwY6GdVi",
    "outputId": "b9b705da-6916-4840-f64a-39557c5b18ae"
   },
   "outputs": [
    {
     "data": {
      "text/html": [
       "<div>\n",
       "<style scoped>\n",
       "    .dataframe tbody tr th:only-of-type {\n",
       "        vertical-align: middle;\n",
       "    }\n",
       "\n",
       "    .dataframe tbody tr th {\n",
       "        vertical-align: top;\n",
       "    }\n",
       "\n",
       "    .dataframe thead th {\n",
       "        text-align: right;\n",
       "    }\n",
       "</style>\n",
       "<table border=\"1\" class=\"dataframe\">\n",
       "  <thead>\n",
       "    <tr style=\"text-align: right;\">\n",
       "      <th></th>\n",
       "      <th>total_bill</th>\n",
       "      <th>tip</th>\n",
       "      <th>sex</th>\n",
       "      <th>smoker</th>\n",
       "      <th>day</th>\n",
       "      <th>time</th>\n",
       "      <th>size</th>\n",
       "    </tr>\n",
       "  </thead>\n",
       "  <tbody>\n",
       "    <tr>\n",
       "      <th>0</th>\n",
       "      <td>16.99</td>\n",
       "      <td>1.01</td>\n",
       "      <td>Female</td>\n",
       "      <td>No</td>\n",
       "      <td>Sun</td>\n",
       "      <td>Dinner</td>\n",
       "      <td>2</td>\n",
       "    </tr>\n",
       "    <tr>\n",
       "      <th>1</th>\n",
       "      <td>10.34</td>\n",
       "      <td>1.66</td>\n",
       "      <td>Male</td>\n",
       "      <td>No</td>\n",
       "      <td>Sun</td>\n",
       "      <td>Dinner</td>\n",
       "      <td>3</td>\n",
       "    </tr>\n",
       "    <tr>\n",
       "      <th>2</th>\n",
       "      <td>21.01</td>\n",
       "      <td>3.50</td>\n",
       "      <td>Male</td>\n",
       "      <td>No</td>\n",
       "      <td>Sun</td>\n",
       "      <td>Dinner</td>\n",
       "      <td>3</td>\n",
       "    </tr>\n",
       "    <tr>\n",
       "      <th>3</th>\n",
       "      <td>23.68</td>\n",
       "      <td>3.31</td>\n",
       "      <td>Male</td>\n",
       "      <td>No</td>\n",
       "      <td>Sun</td>\n",
       "      <td>Dinner</td>\n",
       "      <td>2</td>\n",
       "    </tr>\n",
       "    <tr>\n",
       "      <th>4</th>\n",
       "      <td>24.59</td>\n",
       "      <td>3.61</td>\n",
       "      <td>Female</td>\n",
       "      <td>No</td>\n",
       "      <td>Sun</td>\n",
       "      <td>Dinner</td>\n",
       "      <td>4</td>\n",
       "    </tr>\n",
       "  </tbody>\n",
       "</table>\n",
       "</div>"
      ],
      "text/plain": [
       "   total_bill   tip     sex smoker  day    time  size\n",
       "0       16.99  1.01  Female     No  Sun  Dinner     2\n",
       "1       10.34  1.66    Male     No  Sun  Dinner     3\n",
       "2       21.01  3.50    Male     No  Sun  Dinner     3\n",
       "3       23.68  3.31    Male     No  Sun  Dinner     2\n",
       "4       24.59  3.61  Female     No  Sun  Dinner     4"
      ]
     },
     "execution_count": 4,
     "metadata": {},
     "output_type": "execute_result"
    }
   ],
   "source": [
    "df = sns.load_dataset('tips')\n",
    "df.head()"
   ]
  },
  {
   "cell_type": "markdown",
   "metadata": {
    "id": "OoAQG6TyIlbC"
   },
   "source": [
    "## Пол клиента, день недели и чаевые"
   ]
  },
  {
   "cell_type": "markdown",
   "metadata": {
    "id": "mpSTJjRrGdVj"
   },
   "source": [
    "__Посмотрим как между собой ваимосвязаны счёт, чаевые и пол клиента.__ "
   ]
  },
  {
   "cell_type": "code",
   "execution_count": null,
   "metadata": {
    "id": "6citAEgPGdVj",
    "outputId": "fdba408a-51d8-49e9-ae37-339eb7762e85"
   },
   "outputs": [],
   "source": [
    "sns.pairplot(df, hue='sex', height=2.5, kind='reg', ); #kind = 'reg'"
   ]
  },
  {
   "cell_type": "markdown",
   "metadata": {
    "id": "ddqZxriGGdVj"
   },
   "source": [
    "- Видно, что общий счёт и величина чаевых зависят друг от друга: чем больше счёт, тем больше чаевых оставляют\n",
    "- Пол никак не влияет на то, какое количество чаевых оставлено, красные и синие точки на графиках распределены равномерно, плотности на диагонали выглядят похожим образом. "
   ]
  },
  {
   "cell_type": "markdown",
   "metadata": {
    "id": "FrMiJ3r0GdVk"
   },
   "source": [
    "__Посмотрим на разбиение по дням недели.__"
   ]
  },
  {
   "cell_type": "code",
   "execution_count": null,
   "metadata": {
    "id": "sbKnYj-jGdVk",
    "outputId": "0c70a4c4-aef2-4655-b5c6-b1c8a984a512"
   },
   "outputs": [],
   "source": [
    "sns.catplot(x=\"day\", y=\"total_bill\", hue=\"sex\", data=df, kind=\"box\", height=6);"
   ]
  },
  {
   "cell_type": "markdown",
   "metadata": {
    "id": "I0I3D7IgGdVk"
   },
   "source": [
    "- Почему-то в пятницу мужчины платят больше чаевых, чем женщины. Возможно, что это как-то связано с пятничными свиданиями и с древней традицией: счёт оплачивает мужчина. Но правда ли это так?\n",
    "\n",
    "__Давайтте посмотрим сколько наблюдений приходится на какой день недели.__ "
   ]
  },
  {
   "cell_type": "code",
   "execution_count": null,
   "metadata": {
    "id": "TqvYa__yGdVk",
    "outputId": "67d138f6-06c5-4545-de74-12b2d9330ef2"
   },
   "outputs": [],
   "source": [
    "sns.catplot(x=\"day\", y=\"total_bill\", hue=\"sex\", data=df, height=6);"
   ]
  },
  {
   "cell_type": "markdown",
   "metadata": {
    "id": "fnSQ-1v3GdVk"
   },
   "source": [
    "- Более подробный взгляд на данные показывает, что это связано не с тем, что счёт оплачивает мужчина, а с тем, что в выборке мало данных с пятницы. Из-за этого мы видим такую разницу между чаевыми. \n",
    "- В будущем мы будем говорить про статистические тесты. Они будут помогать нам отличать случайную разницу, как в этом примере, от настоящей. "
   ]
  },
  {
   "cell_type": "markdown",
   "metadata": {
    "id": "OLpKZyq4IZlO"
   },
   "source": [
    "## Корреляции"
   ]
  },
  {
   "cell_type": "markdown",
   "metadata": {
    "id": "nFUF4-uEGdVk"
   },
   "source": [
    "__Можно посмотреть на взаимосвязь только двух переменных.__"
   ]
  },
  {
   "cell_type": "code",
   "execution_count": 5,
   "metadata": {},
   "outputs": [
    {
     "data": {
      "image/png": "[encoded data removed]",
      "text/plain": [
       "<Figure size 432x288 with 1 Axes>"
      ]
     },
     "metadata": {},
     "output_type": "display_data"
    }
   ],
   "source": [
    "plt.scatter(df['total_bill'], df['tip']);"
   ]
  },
  {
   "cell_type": "code",
   "execution_count": 6,
   "metadata": {},
   "outputs": [
    {
     "data": {
      "image/png": "[encoded data removed]",
      "text/plain": [
       "<Figure size 432x288 with 1 Axes>"
      ]
     },
     "metadata": {},
     "output_type": "display_data"
    }
   ],
   "source": [
    "sns.scatterplot(x=\"total_bill\", y=\"tip\", data=df);"
   ]
  },
  {
   "cell_type": "code",
   "execution_count": 19,
   "metadata": {},
   "outputs": [
    {
     "data": {
      "image/png": "[encoded data removed]",
      "text/plain": [
       "<Figure size 432x288 with 1 Axes>"
      ]
     },
     "metadata": {},
     "output_type": "display_data"
    }
   ],
   "source": [
    "sns.regplot(x=\"total_bill\", y=\"tip\", data=df, \n",
    "            line_kws={'color':'blue'},\n",
    "            scatter_kws={'s':10, 'alpha':0.7},\n",
    "            ci=None\n",
    "           );"
   ]
  },
  {
   "cell_type": "code",
   "execution_count": 20,
   "metadata": {
    "id": "cZGc8J2OGdVk",
    "outputId": "508583ca-7133-4cc8-cd1d-024ecc0b0870"
   },
   "outputs": [
    {
     "data": {
      "image/png": "[encoded data removed]",
      "text/plain": [
       "<Figure size 432x432 with 3 Axes>"
      ]
     },
     "metadata": {},
     "output_type": "display_data"
    }
   ],
   "source": [
    "sns.jointplot(x=\"total_bill\", y=\"tip\", data=df, kind='reg',\n",
    "            line_kws={'color':'blue'},\n",
    "            scatter_kws={'s':10, 'alpha':0.7},\n",
    "            ci=None\n",
    "             );"
   ]
  },
  {
   "cell_type": "markdown",
   "metadata": {
    "id": "Ssq_yKEoGdVk"
   },
   "source": [
    "- Снова видим, что чем больше общий счёт, тем большую сумму оставляют в качестве чаевых. Хочется провести сквозь точки линию регрессии. \n",
    "\n",
    "__Посмотрим на ковариационную матрицу.__"
   ]
  },
  {
   "cell_type": "code",
   "execution_count": 21,
   "metadata": {
    "id": "O6nOdiN8GdVk",
    "outputId": "7f50304f-ffbd-41e7-8ab8-9e82786aabf4"
   },
   "outputs": [
    {
     "data": {
      "text/html": [
       "<div>\n",
       "<style scoped>\n",
       "    .dataframe tbody tr th:only-of-type {\n",
       "        vertical-align: middle;\n",
       "    }\n",
       "\n",
       "    .dataframe tbody tr th {\n",
       "        vertical-align: top;\n",
       "    }\n",
       "\n",
       "    .dataframe thead th {\n",
       "        text-align: right;\n",
       "    }\n",
       "</style>\n",
       "<table border=\"1\" class=\"dataframe\">\n",
       "  <thead>\n",
       "    <tr style=\"text-align: right;\">\n",
       "      <th></th>\n",
       "      <th>total_bill</th>\n",
       "      <th>tip</th>\n",
       "      <th>size</th>\n",
       "    </tr>\n",
       "  </thead>\n",
       "  <tbody>\n",
       "    <tr>\n",
       "      <th>total_bill</th>\n",
       "      <td>1.000000</td>\n",
       "      <td>0.675734</td>\n",
       "      <td>0.598315</td>\n",
       "    </tr>\n",
       "    <tr>\n",
       "      <th>tip</th>\n",
       "      <td>0.675734</td>\n",
       "      <td>1.000000</td>\n",
       "      <td>0.489299</td>\n",
       "    </tr>\n",
       "    <tr>\n",
       "      <th>size</th>\n",
       "      <td>0.598315</td>\n",
       "      <td>0.489299</td>\n",
       "      <td>1.000000</td>\n",
       "    </tr>\n",
       "  </tbody>\n",
       "</table>\n",
       "</div>"
      ],
      "text/plain": [
       "            total_bill       tip      size\n",
       "total_bill    1.000000  0.675734  0.598315\n",
       "tip           0.675734  1.000000  0.489299\n",
       "size          0.598315  0.489299  1.000000"
      ]
     },
     "execution_count": 21,
     "metadata": {},
     "output_type": "execute_result"
    }
   ],
   "source": [
    "df.corr()#method='pearson')"
   ]
  },
  {
   "cell_type": "code",
   "execution_count": 22,
   "metadata": {
    "id": "E18vhHeIGdVl",
    "outputId": "dcc74bb8-1255-4d0e-c9e1-86bb2406e52b"
   },
   "outputs": [
    {
     "data": {
      "text/html": [
       "<div>\n",
       "<style scoped>\n",
       "    .dataframe tbody tr th:only-of-type {\n",
       "        vertical-align: middle;\n",
       "    }\n",
       "\n",
       "    .dataframe tbody tr th {\n",
       "        vertical-align: top;\n",
       "    }\n",
       "\n",
       "    .dataframe thead th {\n",
       "        text-align: right;\n",
       "    }\n",
       "</style>\n",
       "<table border=\"1\" class=\"dataframe\">\n",
       "  <thead>\n",
       "    <tr style=\"text-align: right;\">\n",
       "      <th></th>\n",
       "      <th>total_bill</th>\n",
       "      <th>tip</th>\n",
       "      <th>size</th>\n",
       "    </tr>\n",
       "  </thead>\n",
       "  <tbody>\n",
       "    <tr>\n",
       "      <th>total_bill</th>\n",
       "      <td>1.000000</td>\n",
       "      <td>0.678968</td>\n",
       "      <td>0.604791</td>\n",
       "    </tr>\n",
       "    <tr>\n",
       "      <th>tip</th>\n",
       "      <td>0.678968</td>\n",
       "      <td>1.000000</td>\n",
       "      <td>0.468268</td>\n",
       "    </tr>\n",
       "    <tr>\n",
       "      <th>size</th>\n",
       "      <td>0.604791</td>\n",
       "      <td>0.468268</td>\n",
       "      <td>1.000000</td>\n",
       "    </tr>\n",
       "  </tbody>\n",
       "</table>\n",
       "</div>"
      ],
      "text/plain": [
       "            total_bill       tip      size\n",
       "total_bill    1.000000  0.678968  0.604791\n",
       "tip           0.678968  1.000000  0.468268\n",
       "size          0.604791  0.468268  1.000000"
      ]
     },
     "execution_count": 22,
     "metadata": {},
     "output_type": "execute_result"
    }
   ],
   "source": [
    "df.corr(method='spearman')"
   ]
  },
  {
   "cell_type": "code",
   "execution_count": 23,
   "metadata": {
    "id": "R1s_7gjRGdVl",
    "outputId": "4340b9ad-042a-4109-e913-25898e8593b4"
   },
   "outputs": [
    {
     "data": {
      "image/png": "[encoded data removed]",
      "text/plain": [
       "<Figure size 540x540 with 12 Axes>"
      ]
     },
     "metadata": {},
     "output_type": "display_data"
    }
   ],
   "source": [
    "sns.pairplot(df, kind='scatter');"
   ]
  },
  {
   "cell_type": "markdown",
   "metadata": {
    "id": "0MA0uQQSGdVl"
   },
   "source": [
    "Можно визуализировать матрицу с помощью тепловой карты. "
   ]
  },
  {
   "cell_type": "code",
   "execution_count": 31,
   "metadata": {
    "id": "wfgTL2OaGdVl",
    "outputId": "3abb6e39-b8b6-46c7-8d12-e000d9ffc06a"
   },
   "outputs": [
    {
     "data": {
      "image/png": "[encoded data removed]",
      "text/plain": [
       "<Figure size 504x504 with 2 Axes>"
      ]
     },
     "metadata": {},
     "output_type": "display_data"
    }
   ],
   "source": [
    "# https://seaborn.pydata.org/examples/many_pairwise_correlations.html\n",
    "corr = df.corr(method='spearman')\n",
    "mask = np.triu(np.ones_like(corr, dtype=bool))\n",
    "\n",
    "\n",
    "sns.set(font_scale=1.3)\n",
    "plt.subplots(figsize=(7, 7))\n",
    "\n",
    "sns.heatmap(corr, \n",
    "            #mask=mask, \n",
    "            square=True,\n",
    "            annot=True, fmt=\".3f\", \n",
    "            linewidths=0.2, cmap=\"RdBu_r\",\n",
    "            vmin=-1, vmax=1, center=0\n",
    "           );"
   ]
  },
  {
   "cell_type": "markdown",
   "metadata": {
    "id": "vn2xY5MhGdVl"
   },
   "source": [
    "- Видно, что корреляция Спирмэна и Пирсона не сильно отличаются друг от друга в нашем примере. Это связано с тем, что взаимосвязи в данных линейные. "
   ]
  },
  {
   "cell_type": "markdown",
   "metadata": {
    "id": "VCbn4Pb4GdVl"
   },
   "source": [
    "__Пример с рангами из презентации:__\n",
    "\n",
    "Корреляция Спирмэна - это корреляция Пирсона, которую посчитали между рангами. "
   ]
  },
  {
   "cell_type": "code",
   "execution_count": 32,
   "metadata": {
    "id": "yZnLlgp7GdVl",
    "outputId": "62699b94-dfed-44a5-d9da-57216e0ba9c4"
   },
   "outputs": [
    {
     "data": {
      "text/plain": [
       "0.644578313253012"
      ]
     },
     "execution_count": 32,
     "metadata": {},
     "output_type": "execute_result"
    }
   ],
   "source": [
    "x = np.array([10, 8, 6, 7, 4, 10, 9, 5])\n",
    "y = np.array([9, 9, 4, 5, 6, 8, 10, 7])\n",
    "\n",
    "stats.spearmanr(x, y).correlation"
   ]
  },
  {
   "cell_type": "code",
   "execution_count": 34,
   "metadata": {
    "id": "gaO9oboAGdVm",
    "outputId": "72d7a80e-a133-49cb-da63-f34959bf4b92"
   },
   "outputs": [
    {
     "data": {
      "text/plain": [
       "0.6445783132530122"
      ]
     },
     "execution_count": 34,
     "metadata": {},
     "output_type": "execute_result"
    }
   ],
   "source": [
    "rx = np.array([7.5, 5, 3, 4, 1, 7.5, 6, 2])\n",
    "ry = np.array([6.5, 6.5, 1, 2, 3, 5, 8, 4])\n",
    "\n",
    "stats.pearsonr(rx, ry)[0]"
   ]
  },
  {
   "cell_type": "code",
   "execution_count": 36,
   "metadata": {},
   "outputs": [
    {
     "data": {
      "text/plain": [
       "array([[1.        , 0.66187928],\n",
       "       [0.66187928, 1.        ]])"
      ]
     },
     "execution_count": 36,
     "metadata": {},
     "output_type": "execute_result"
    }
   ],
   "source": [
    "# корреляционная матрица\n",
    "np.corrcoef(x,y)"
   ]
  },
  {
   "cell_type": "markdown",
   "metadata": {
    "id": "rHOi0YiIGdVm"
   },
   "source": [
    "# Разные свойства"
   ]
  },
  {
   "cell_type": "markdown",
   "metadata": {
    "id": "pparU3IoGdVn"
   },
   "source": [
    "## cdf и правило 3 сигм "
   ]
  },
  {
   "cell_type": "code",
   "execution_count": null,
   "metadata": {
    "id": "yoM8yXirGdVn",
    "outputId": "28753718-e9f7-4bf9-c619-2b4184895e69"
   },
   "outputs": [],
   "source": [
    "stats.norm.cdf(2)"
   ]
  },
  {
   "cell_type": "code",
   "execution_count": null,
   "metadata": {
    "id": "VK-a1qhyGdVn",
    "outputId": "ad237c2d-ac8b-4ff7-9e62-1c3d1c4f7190"
   },
   "outputs": [],
   "source": [
    "for i in range(1,4):\n",
    "    print(i, stats.norm.cdf(i) - stats.norm.cdf(-i))"
   ]
  },
  {
   "cell_type": "markdown",
   "metadata": {
    "id": "mQuQmG2oGdVn"
   },
   "source": [
    "## Куртозис и эксцесс"
   ]
  },
  {
   "cell_type": "code",
   "execution_count": null,
   "metadata": {
    "id": "5ojA5XVlGdVn",
    "outputId": "7d9da1bc-bb32-4159-da03-93f36f2ac8ea"
   },
   "outputs": [],
   "source": [
    "sns.histplot(x, kde=True);"
   ]
  },
  {
   "cell_type": "code",
   "execution_count": null,
   "metadata": {
    "id": "VMlaCmXuGdVn",
    "outputId": "aa195779-6576-497a-f96c-96d040ee69f0"
   },
   "outputs": [],
   "source": [
    "x.mean() - 3*x.std(), x.mean() + 3*x.std()\n",
    "# в диапозон 3 mu +/- 3*sigma лежат почти все данные"
   ]
  },
  {
   "cell_type": "code",
   "execution_count": null,
   "metadata": {
    "id": "n3FHicYKGdVn",
    "outputId": "b6151585-976d-49b5-80d8-ae13f15cbe78"
   },
   "outputs": [],
   "source": [
    "stats.kurtosis(x) - 3 # не равно 0 - хвосты менее тяжелые, чем у нормально распределения"
   ]
  },
  {
   "cell_type": "code",
   "execution_count": null,
   "metadata": {
    "id": "f9MvXh9dGdVn",
    "outputId": "acd40aab-776c-4a9c-a3a7-267e8275bf7b"
   },
   "outputs": [],
   "source": [
    "stats.skew(x) # коэффицент ассиметрии > 0 - перекос вправо"
   ]
  },
  {
   "cell_type": "code",
   "execution_count": null,
   "metadata": {
    "id": "nf2T7BBnGdVn",
    "outputId": "6260dab4-de28-499a-d2c1-418644b8071f"
   },
   "outputs": [],
   "source": [
    "sns.histplot(100-x, kde=True);\n",
    "# перекос влево\n",
    "stats.skew(100-x)"
   ]
  },
  {
   "cell_type": "markdown",
   "metadata": {
    "id": "vggMLrqPGdVn"
   },
   "source": [
    "## Гистограмма и kde"
   ]
  },
  {
   "cell_type": "code",
   "execution_count": null,
   "metadata": {
    "id": "e8DzKkdZGdVn",
    "outputId": "ab8ab6c9-58ea-4e44-8699-5b2419aefdbc"
   },
   "outputs": [],
   "source": [
    "x.plot(kind='hist');"
   ]
  },
  {
   "cell_type": "code",
   "execution_count": null,
   "metadata": {
    "id": "7qWnKK0zGdVo",
    "outputId": "43f74070-3158-436d-9c09-0bf184d5e3f0"
   },
   "outputs": [],
   "source": [
    "x.plot(kind='kde');"
   ]
  },
  {
   "cell_type": "code",
   "execution_count": null,
   "metadata": {
    "id": "Ny0WRUVaGdVo",
    "outputId": "3eef02ea-86a1-415f-baec-35adab333723"
   },
   "outputs": [],
   "source": [
    "plt.hist(x);"
   ]
  },
  {
   "cell_type": "code",
   "execution_count": null,
   "metadata": {
    "id": "WA0rhSn1GdVo",
    "outputId": "8b1f5773-1958-419e-814e-7cc87e8f749d"
   },
   "outputs": [],
   "source": [
    "# самый рекомендуемый способ гистограммы\n",
    "sns.histplot(data=df, x='total_bill', kde=True);"
   ]
  },
  {
   "cell_type": "code",
   "execution_count": null,
   "metadata": {
    "id": "CQtf4KAgGdVo",
    "outputId": "27dec8b4-4264-4663-e818-31ad3e2035ec"
   },
   "outputs": [],
   "source": [
    "sns.kdeplot(data=df, x='total_bill', bw_adjust=1);\n",
    "sns.kdeplot(data=df, x='total_bill', bw_adjust=0.2);"
   ]
  },
  {
   "cell_type": "code",
   "execution_count": null,
   "metadata": {
    "id": "Ic0cEeHhGdVo",
    "outputId": "4441249c-915c-4d68-eb07-42543fab6b99"
   },
   "outputs": [],
   "source": [
    "sns.displot(data=df, x='total_bill');"
   ]
  },
  {
   "cell_type": "code",
   "execution_count": null,
   "metadata": {
    "id": "oZN7bNXIGdVo",
    "outputId": "54c813b3-4bb2-474f-b6e8-6503971d0c8f"
   },
   "outputs": [],
   "source": [
    "sns.distplot(df['total_bill']);"
   ]
  },
  {
   "cell_type": "code",
   "execution_count": null,
   "metadata": {
    "id": "rXyPDvLZGdVo",
    "outputId": "7f996855-0db4-4460-9daa-c1544101c35a"
   },
   "outputs": [],
   "source": [
    "sns.boxplot(x=df['total_bill']);"
   ]
  },
  {
   "cell_type": "code",
   "execution_count": null,
   "metadata": {
    "id": "i2Pf27dGGdVo",
    "outputId": "3b6b1990-22c0-4b19-a543-1c08bb3464b9"
   },
   "outputs": [],
   "source": [
    "sns.kdeplot(data=df, x='total_bill', hue='size', common_norm=False);"
   ]
  },
  {
   "cell_type": "code",
   "execution_count": null,
   "metadata": {
    "id": "9xOxAcsQGdVo",
    "outputId": "93a0c5e9-c565-491d-dba4-97e1185fd178"
   },
   "outputs": [],
   "source": [
    "sns.histplot(data=df, x='total_bill', hue='sex', common_norm=False, bins=10, stat='density');"
   ]
  },
  {
   "cell_type": "code",
   "execution_count": null,
   "metadata": {
    "id": "wfzpX2rGGdVr",
    "outputId": "38c21f99-cacb-4d79-d0b9-036b4c9d630e"
   },
   "outputs": [],
   "source": [
    "sns.kdeplot(data=df, x='total_bill', hue='sex', common_norm=False);#, bins=10, stat='density');"
   ]
  },
  {
   "cell_type": "code",
   "execution_count": null,
   "metadata": {
    "id": "jDGGTaqEGdVr",
    "outputId": "cd5c6f7c-de2c-49e5-ecdd-1056cda591de"
   },
   "outputs": [],
   "source": [
    "sns.boxplot(data=df, x='total_bill', y='sex');"
   ]
  },
  {
   "cell_type": "code",
   "execution_count": null,
   "metadata": {
    "id": "jy8oymEvGdVr",
    "outputId": "293bea51-fc9d-410a-b5fe-8a6c4894924b"
   },
   "outputs": [],
   "source": [
    "sns.histplot(data=df, x='total_bill', kde=True, log_scale=True);"
   ]
  },
  {
   "cell_type": "code",
   "execution_count": null,
   "metadata": {
    "id": "fk9EB_GRGdVr",
    "outputId": "7306f966-9552-47f1-ab89-fcbfc3b819b7"
   },
   "outputs": [],
   "source": [
    "sns.histplot(np.log(1+df['total_bill']), kde=True);"
   ]
  },
  {
   "cell_type": "code",
   "execution_count": null,
   "metadata": {
    "id": "GhjY-fdhGdVr"
   },
   "outputs": [],
   "source": [
    "# from sklearn.preprocessing import power_transform\n",
    "from sklearn.preprocessing import PowerTransformer\n",
    "\n",
    "transformer = PowerTransformer()\n",
    "x_transformed = transformer.fit_transform(df[['total_bill']])"
   ]
  },
  {
   "cell_type": "code",
   "execution_count": null,
   "metadata": {
    "id": "yrCQTS-lGdVr",
    "outputId": "1e5a3ad4-1d9f-4978-e73d-2a8ea4dc9e4a"
   },
   "outputs": [],
   "source": [
    "transformer.lambdas_"
   ]
  },
  {
   "cell_type": "code",
   "execution_count": null,
   "metadata": {
    "id": "l5j8Xk4lGdVr"
   },
   "outputs": [],
   "source": [
    "df['total_bill_boxcox'] = x_transformed\n",
    "df['total_bill_log'] = np.log(1+df['total_bill'])"
   ]
  },
  {
   "cell_type": "code",
   "execution_count": null,
   "metadata": {
    "id": "3BZVpiSlGdVr",
    "outputId": "7c2b21fb-c36b-42e8-87da-3e6c6d52678b"
   },
   "outputs": [],
   "source": [
    "plt.figure(figsize=(8,4))\n",
    "\n",
    "\n",
    "plt.subplot(121)\n",
    "sns.histplot(df['total_bill_boxcox'], kde=True);\n",
    "\n",
    "plt.subplot(122)\n",
    "sns.histplot(df['total_bill_log'], kde=True);"
   ]
  },
  {
   "cell_type": "code",
   "execution_count": null,
   "metadata": {
    "id": "-R6ZN0BdGdVr",
    "outputId": "ed3a4b48-2a02-478a-f789-8afbf7faf66a"
   },
   "outputs": [],
   "source": [
    "qqplot(df['total_bill'], fit=True, line='45')\n",
    "plt.show()\n",
    "\n"
   ]
  },
  {
   "cell_type": "code",
   "execution_count": null,
   "metadata": {
    "id": "fV5d950CGdVr",
    "outputId": "ff9c0b3f-066c-4009-a608-3d118d2879b5"
   },
   "outputs": [],
   "source": [
    "qqplot(df['total_bill_boxcox'], fit=True, line='45')\n",
    "plt.show()"
   ]
  },
  {
   "cell_type": "markdown",
   "metadata": {
    "id": "N5f3uXqeGdVm"
   },
   "source": [
    "## Стандартизация"
   ]
  },
  {
   "cell_type": "code",
   "execution_count": null,
   "metadata": {
    "id": "V-ug9kYuGdVm",
    "outputId": "20341f2e-34eb-4cb3-dfa6-d7379e8b1af5"
   },
   "outputs": [],
   "source": [
    "x = df['total_bill']\n",
    "\n",
    "x.mean(), x.std()"
   ]
  },
  {
   "cell_type": "code",
   "execution_count": null,
   "metadata": {
    "id": "EN5OGw1HGdVm",
    "outputId": "5d1b935d-86e4-4622-db8b-12a71fbb8912"
   },
   "outputs": [],
   "source": [
    "z = (x-x.mean())/x.std()\n",
    "\n",
    "# стандартизация\n",
    "z.mean(), z.std()"
   ]
  },
  {
   "cell_type": "markdown",
   "metadata": {
    "id": "Vbe6YWmnGdVm"
   },
   "source": [
    "## Сдвиги по осям X и Y"
   ]
  },
  {
   "cell_type": "code",
   "execution_count": null,
   "metadata": {
    "id": "csb_46upGdVm",
    "outputId": "207f8b73-7d0e-4dc7-e159-ea3003a0cc86"
   },
   "outputs": [],
   "source": [
    "df.head()"
   ]
  },
  {
   "cell_type": "code",
   "execution_count": null,
   "metadata": {
    "id": "xFX8fOjbGdVm",
    "outputId": "d726696b-cf09-4066-c7bb-bfa6edbce813"
   },
   "outputs": [],
   "source": [
    "sns.scatterplot(data=df, x='total_bill', y='tip');"
   ]
  },
  {
   "cell_type": "code",
   "execution_count": null,
   "metadata": {
    "id": "4Kpjjn6IGdVm",
    "outputId": "bc0cb72f-1217-416f-ae97-059c38ca9c94"
   },
   "outputs": [],
   "source": [
    "sns.kdeplot(data=df, x='total_bill', y='tip', fill=True,);"
   ]
  },
  {
   "cell_type": "code",
   "execution_count": null,
   "metadata": {
    "id": "3ow5Hew3GdVm",
    "outputId": "520420d9-f7fd-4527-c37c-f21fa73de274"
   },
   "outputs": [],
   "source": [
    "df.cov()"
   ]
  },
  {
   "cell_type": "code",
   "execution_count": null,
   "metadata": {
    "id": "MWBxj0lbGdVn",
    "outputId": "99655f3f-ee68-44e1-fd6d-c094153e4835"
   },
   "outputs": [],
   "source": [
    "plt.figure(figsize=(8,8))\n",
    "\n",
    "plt.subplot(211)\n",
    "sns.scatterplot(x=df['total_bill'], y=df['tip']);\n",
    "plt.xlim(-2,100)\n",
    "plt.ylim(-2,10)\n",
    "\n",
    "\n",
    "plt.subplot(212)\n",
    "sns.scatterplot(x=df['total_bill']*2, y=2+df['tip']/2);\n",
    "plt.xlim(-2,100)\n",
    "plt.ylim(-2,10)\n",
    "\n",
    "plt.tight_layout()\n",
    "plt.show()"
   ]
  },
  {
   "cell_type": "code",
   "execution_count": null,
   "metadata": {
    "id": "48RAtjgBGdVn",
    "outputId": "19d0c112-6e5f-4e55-ca0e-1980359ecd26"
   },
   "outputs": [],
   "source": [
    "sns.scatterplot(x=(df['total_bill']-df['total_bill'].mean())/df['total_bill'].std(), \n",
    "                y=(df['tip']-df['tip'].mean())/df['tip'].std());"
   ]
  },
  {
   "cell_type": "markdown",
   "metadata": {
    "id": "j1ozUW5PGdVr"
   },
   "source": [
    "## Кодирование категориальных переменных"
   ]
  },
  {
   "cell_type": "code",
   "execution_count": null,
   "metadata": {
    "id": "3gbnSumvGdVr",
    "outputId": "a680cae1-150e-4c9a-d0ee-9657ef8e834d"
   },
   "outputs": [],
   "source": [
    "pd.get_dummies(df, drop_first=True)"
   ]
  },
  {
   "cell_type": "code",
   "execution_count": null,
   "metadata": {
    "id": "ARL2uTMNGdVs"
   },
   "outputs": [],
   "source": [
    "from sklearn.preprocessing import OneHotEncoder\n",
    "ohe = OneHotEncoder()\n",
    "\n",
    "cat_cols = ['sex','smoker','day','time']\n",
    "X = ohe.fit_transform(df[cat_cols])"
   ]
  },
  {
   "cell_type": "code",
   "execution_count": null,
   "metadata": {
    "id": "qL2nPYZAGdVs",
    "outputId": "67d33bda-cf54-417b-d4fb-8ab182a55859"
   },
   "outputs": [],
   "source": [
    "X.toarray().shape"
   ]
  },
  {
   "cell_type": "code",
   "execution_count": null,
   "metadata": {
    "id": "ntASpBM-GdVs"
   },
   "outputs": [],
   "source": [
    "from sklearn.preprocessing import OrdinalEncoder\n",
    "\n",
    "ord_enc = OrdinalEncoder()\n",
    "cat_cols = ['sex','smoker','day','time']\n",
    "X = ord_enc.fit_transform(df[cat_cols])"
   ]
  },
  {
   "cell_type": "code",
   "execution_count": null,
   "metadata": {
    "id": "gKeaevNSGdVs",
    "outputId": "c4990c01-b7fa-461a-c3c5-716cf34b3558"
   },
   "outputs": [],
   "source": [
    "ord_enc.categories_"
   ]
  },
  {
   "cell_type": "code",
   "execution_count": null,
   "metadata": {
    "id": "xcdygjLYGdVs",
    "outputId": "b40bfd28-df5c-45cd-cfc2-14dd87a154b6"
   },
   "outputs": [],
   "source": [
    "df['day']"
   ]
  },
  {
   "cell_type": "code",
   "execution_count": null,
   "metadata": {
    "id": "ljULVM_LGdVs",
    "outputId": "70fa8065-80dd-44da-f278-2519c30e75a6"
   },
   "outputs": [],
   "source": [
    "df['day'].map({'Fri':0, 'Sat':1, 'Sun':2, 'Thur':3})"
   ]
  }
 ],
 "metadata": {
  "colab": {
   "collapsed_sections": [
    "OoAQG6TyIlbC",
    "pparU3IoGdVn"
   ],
   "name": "02_correlations.ipynb",
   "provenance": [],
   "toc_visible": true
  },
  "kernelspec": {
   "display_name": "Python 3 (ipykernel)",
   "language": "python",
   "name": "python3"
  },
  "language_info": {
   "codemirror_mode": {
    "name": "ipython",
    "version": 3
   },
   "file_extension": ".py",
   "mimetype": "text/x-python",
   "name": "python",
   "nbconvert_exporter": "python",
   "pygments_lexer": "ipython3",
   "version": "3.10.4"
  },
  "toc": {
   "base_numbering": 1,
   "nav_menu": {},
   "number_sections": true,
   "sideBar": true,
   "skip_h1_title": false,
   "title_cell": "Table of Contents",
   "title_sidebar": "Contents",
   "toc_cell": true,
   "toc_position": {},
   "toc_section_display": true,
   "toc_window_display": true
  }
 },
 "nbformat": 4,
 "nbformat_minor": 1
}
