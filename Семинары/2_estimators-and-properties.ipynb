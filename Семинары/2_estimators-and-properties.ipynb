{
 "cells": [
  {
   "cell_type": "markdown",
   "metadata": {
    "toc": true
   },
   "source": [
    "<h1>Table of Contents<span class=\"tocSkip\"></span></h1>\n",
    "<div class=\"toc\"><ul class=\"toc-item\"><li><span><a href=\"#Несмещённость\" data-toc-modified-id=\"Несмещённость-1\"><span class=\"toc-item-num\">1&nbsp;&nbsp;</span>Несмещённость</a></span></li><li><span><a href=\"#Состоятельность\" data-toc-modified-id=\"Состоятельность-2\"><span class=\"toc-item-num\">2&nbsp;&nbsp;</span>Состоятельность</a></span></li><li><span><a href=\"#Эффективность\" data-toc-modified-id=\"Эффективность-3\"><span class=\"toc-item-num\">3&nbsp;&nbsp;</span>Эффективность</a></span></li></ul></div>"
   ]
  },
  {
   "cell_type": "markdown",
   "metadata": {
    "id": "NixGOs10ztBk"
   },
   "source": [
    "\n",
    "\n",
    "#  Несмещённость\n",
    "\n",
    "Когда статистик оценивает какой-нибудь параметр, он хочет: \n",
    "\n",
    "* __несмещённость__ (при фиксированном размере выборки мы в среднем не ошибаемся) \n",
    "* __состоятельность__ (при бесконечном расширении выборки мы приходим к истинному значению)\n",
    "* __эффективность__ (у нашей оценки самая маленькая дисперсия для её класса (например, для всех несмещенных оценок))\n",
    "* иногда ещё статистик ссылается на какую-то мифическую __асимптотическую нормальность__ оценки.\n"
   ]
  },
  {
   "cell_type": "code",
   "execution_count": 1,
   "metadata": {
    "executionInfo": {
     "elapsed": 891,
     "status": "ok",
     "timestamp": 1645523323508,
     "user": {
      "displayName": "Ilya A",
      "photoUrl": "https://lh3.googleusercontent.com/a-/AOh14GiSa8oddSgsU03OOnvGn7Dk96PjoJwbTrHh_f7oDw=s64",
      "userId": "17148912465935982955"
     },
     "user_tz": -180
    },
    "id": "6kxawFdxztBl"
   },
   "outputs": [],
   "source": [
    "import numpy as np\n",
    "import pandas as pd\n",
    "\n",
    "from scipy import stats\n",
    "import matplotlib.pyplot as plt\n",
    "import seaborn as sns\n",
    "\n",
    "plt.style.use('ggplot')  # стиль для графиков\n",
    "%matplotlib inline"
   ]
  },
  {
   "cell_type": "markdown",
   "metadata": {
    "id": "6Iwhu6uXztBm"
   },
   "source": [
    "__Определение:__  Оценка $\\hat{\\theta}$ параметра $\\theta$ называется __несмещённой,__ если $\\mathbb{E} (\\hat{\\theta}) = \\theta$."
   ]
  },
  {
   "cell_type": "markdown",
   "metadata": {
    "id": "AeFKdZmKztBn"
   },
   "source": [
    "**Пример (мамонтоборцы)**\n",
    "\n",
    "В долине летучей мыши Шикака живёт племя Вачати. Оно охотится на мамонтов. Древний Бог Оньянкопонга не так давно сгенерировал в долине реки из нормального распределения $10$ тысяч мамонтов со средним весом $300$ кг и стандартным отклонением $100$ кг. "
   ]
  },
  {
   "cell_type": "code",
   "execution_count": 2,
   "metadata": {
    "colab": {
     "base_uri": "https://localhost:8080/"
    },
    "executionInfo": {
     "elapsed": 29,
     "status": "ok",
     "timestamp": 1645523323510,
     "user": {
      "displayName": "Ilya A",
      "photoUrl": "https://lh3.googleusercontent.com/a-/AOh14GiSa8oddSgsU03OOnvGn7Dk96PjoJwbTrHh_f7oDw=s64",
      "userId": "17148912465935982955"
     },
     "user_tz": -180
    },
    "id": "yMmnaTc2ztBo",
    "outputId": "b5f5d62f-96ba-4398-d6a6-4fed04c07c5d"
   },
   "outputs": [
    {
     "data": {
      "text/plain": [
       "301.0250570673464"
      ]
     },
     "execution_count": 2,
     "metadata": {},
     "output_type": "execute_result"
    }
   ],
   "source": [
    "norm_rv = stats.norm(loc=300, scale=100)\n",
    "\n",
    "# вся генеральная совокупность \n",
    "x_mamont = norm_rv.rvs(size = 10**4)\n",
    "\n",
    "np.mean(x_mamont) # настоящее среднее"
   ]
  },
  {
   "cell_type": "markdown",
   "metadata": {
    "id": "d28T9CzbztBq"
   },
   "source": [
    "* Шаман Одэхингум (лёгкое колебание воды) уверен в своём взоре: \n",
    "\n",
    "$$ \\hat \\theta_{od} = \\frac{1}{n}\\sum_{i=1}^{n} x_i.$$\n",
    "\n",
    "* Шаман Пэпина (виноградная лоза, растущая вокруг дуба) не любит, когда его избивают за слишком оптимистичные прогнозы:\n",
    "\n",
    "$$ \\hat \\theta_{pe} = \\frac{1}{n}\\sum_{i=1}^{n} x_i - \\frac{4200}{n}.$$\n",
    "\n",
    "* Шаман Апониви (где ветер вырывает промежуток с корнем) тоже коректирует прогноз:\n",
    "\n",
    "$$ \\hat \\theta_{ap} = \\frac{1}{n}\\sum_{i=1}^{n} x_i - \\frac{5 \\cdot (n+1)}{n}.$$"
   ]
  },
  {
   "cell_type": "code",
   "execution_count": 3,
   "metadata": {
    "executionInfo": {
     "elapsed": 25,
     "status": "ok",
     "timestamp": 1645523323512,
     "user": {
      "displayName": "Ilya A",
      "photoUrl": "https://lh3.googleusercontent.com/a-/AOh14GiSa8oddSgsU03OOnvGn7Dk96PjoJwbTrHh_f7oDw=s64",
      "userId": "17148912465935982955"
     },
     "user_tz": -180
    },
    "id": "TsNejB07ztBq"
   },
   "outputs": [],
   "source": [
    "# Команда нам не подходит, так как она всю матрицу сделает без повторений\n",
    "# np.random.choice(x_mamont, size=(n,m), replace=False)\n",
    "\n",
    "n = 100\n",
    "number_of_samples = 200\n",
    "\n",
    "th_od = np.zeros(number_of_samples)\n",
    "th_pe = np.zeros(number_of_samples)\n",
    "th_ap = np.zeros(number_of_samples)\n",
    "\n",
    "for i in range(number_of_samples):\n",
    "    x_sample = np.random.choice(x_mamont, size=n, replace=False)\n",
    "    x_mean = np.mean(x_sample)\n",
    "    th_od[i] = x_mean\n",
    "    th_pe[i] = x_mean - 4200/n\n",
    "    th_ap[i] = x_mean - 5*(n+1)/n  \n"
   ]
  },
  {
   "cell_type": "code",
   "execution_count": 4,
   "metadata": {},
   "outputs": [
    {
     "data": {
      "text/plain": [
       "(200,)"
      ]
     },
     "execution_count": 4,
     "metadata": {},
     "output_type": "execute_result"
    }
   ],
   "source": [
    "th_od.shape"
   ]
  },
  {
   "cell_type": "code",
   "execution_count": 5,
   "metadata": {
    "colab": {
     "base_uri": "https://localhost:8080/"
    },
    "executionInfo": {
     "elapsed": 25,
     "status": "ok",
     "timestamp": 1645523323513,
     "user": {
      "displayName": "Ilya A",
      "photoUrl": "https://lh3.googleusercontent.com/a-/AOh14GiSa8oddSgsU03OOnvGn7Dk96PjoJwbTrHh_f7oDw=s64",
      "userId": "17148912465935982955"
     },
     "user_tz": -180
    },
    "id": "DYNXjMIyztBr",
    "outputId": "f03af21d-76f3-4e3b-d651-4f44563b051a"
   },
   "outputs": [
    {
     "data": {
      "text/plain": [
       "(302.3026904158472, 260.3026904158472, 297.25269041584727)"
      ]
     },
     "execution_count": 5,
     "metadata": {},
     "output_type": "execute_result"
    }
   ],
   "source": [
    "# посмотрим на оценки E(\\hat \\theta)\n",
    "np.mean(th_od), np.mean(th_pe), np.mean(th_ap)"
   ]
  },
  {
   "cell_type": "code",
   "execution_count": 6,
   "metadata": {
    "colab": {
     "base_uri": "https://localhost:8080/",
     "height": 374
    },
    "executionInfo": {
     "elapsed": 23,
     "status": "ok",
     "timestamp": 1645523323515,
     "user": {
      "displayName": "Ilya A",
      "photoUrl": "https://lh3.googleusercontent.com/a-/AOh14GiSa8oddSgsU03OOnvGn7Dk96PjoJwbTrHh_f7oDw=s64",
      "userId": "17148912465935982955"
     },
     "user_tz": -180
    },
    "id": "FZbre-7_ztBs",
    "outputId": "ac66f90c-6e4d-4ebe-e996-a09bb70cf822"
   },
   "outputs": [
    {
     "data": {
      "image/png": "[encoded data removed]",
      "text/plain": [
       "<Figure size 864x432 with 1 Axes>"
      ]
     },
     "metadata": {
      "needs_background": "light"
     },
     "output_type": "display_data"
    }
   ],
   "source": [
    "plt.figure(figsize=(12,6))\n",
    "\n",
    "df = pd.DataFrame(zip(th_od, th_pe, th_ap), columns = ['Одэхингум', 'Пэпина', 'Апониви'])\n",
    "sns.boxplot(data = df,);"
   ]
  },
  {
   "cell_type": "markdown",
   "metadata": {
    "id": "vP_QnA8vztBu"
   },
   "source": [
    "Давайте попробуем посмотреть, как ведут себя распределения оценок шаманов в динамике, при росте числа наблюдений.\n",
    "\n",
    "\n",
    "<center>\n",
    "<img src=\"./image/animation_boxplot.gif\" width=\"400\"> \n",
    "</center>\n"
   ]
  },
  {
   "cell_type": "markdown",
   "metadata": {
    "id": "7yeAp1mxztBv"
   },
   "source": [
    "Хех. Шаманы. Детский сад. Подавай нам что-нибудь из бизнеса. Окей, договорились. Давайте предположим, что шаманы прогнозируют не вес мамонта, а то на какую сумму в среднем будут наступать страховые случаи. Ясное дело, что наш  бюджет на статистические исследования довольно сильно ограничен. И ежедневно мы можем собирать информацию только от ограниченного числа респондентов. Если мы стабильно будем на основе этой информации получать смещённую оценку страхового покрытия, то вместо получения прибыли в среднем, мы легко можем оказаться банкротами. \n",
    "\n",
    "__Ещё раз, ещё раз:__ несмещённость это свойство оценки при фиксированном размере выборки $n$. Оно означает, что ошибка \"в среднем\", то есть при систематическом использовании оценки, отсутствует. Это довольно хорошее свойство, но не обязательное. Достаточно, чтобы смещение оценки уменьшалось с ростом объёма выборки. Такая оценка называется асимптотически несмещённой. "
   ]
  },
  {
   "cell_type": "markdown",
   "metadata": {
    "id": "OKAG7WFjz5Js"
   },
   "source": [
    "#  Состоятельность \n"
   ]
  },
  {
   "cell_type": "markdown",
   "metadata": {
    "id": "761LuLEfz5Jv"
   },
   "source": [
    "__Определение:__  Оценка $\\hat \\theta$ параметра $\\theta$ называется __состоятельной,__ если $\\hat \\theta \\to \\theta$ по вероятности при росте $n$. "
   ]
  },
  {
   "cell_type": "code",
   "execution_count": 7,
   "metadata": {
    "colab": {
     "base_uri": "https://localhost:8080/"
    },
    "executionInfo": {
     "elapsed": 1366,
     "status": "ok",
     "timestamp": 1645523324862,
     "user": {
      "displayName": "Ilya A",
      "photoUrl": "https://lh3.googleusercontent.com/a-/AOh14GiSa8oddSgsU03OOnvGn7Dk96PjoJwbTrHh_f7oDw=s64",
      "userId": "17148912465935982955"
     },
     "user_tz": -180
    },
    "id": "uGaUWO8bz5Jw",
    "outputId": "c1d63cb6-e848-4149-e027-0329329642c5"
   },
   "outputs": [
    {
     "data": {
      "text/plain": [
       "299.9635004014545"
      ]
     },
     "execution_count": 7,
     "metadata": {},
     "output_type": "execute_result"
    }
   ],
   "source": [
    "norm_rv = stats.norm(loc=300, scale=100)\n",
    "\n",
    "# вся генеральная совокупность \n",
    "x_mamont = norm_rv.rvs(size = 10**6)\n",
    "\n",
    "theta_real = np.mean(x_mamont) # настоящее среднее\n",
    "theta_real"
   ]
  },
  {
   "cell_type": "markdown",
   "metadata": {
    "id": "FcSR-C7h03OP"
   },
   "source": [
    "**Пример (мамонтоборцы)**"
   ]
  },
  {
   "cell_type": "markdown",
   "metadata": {
    "id": "P9v3Xwkvz5Jy"
   },
   "source": [
    "__Шаманы и их оценки:__\n",
    "\n",
    "\\begin{equation*}\n",
    "\\begin{aligned}\n",
    "& \\hat \\theta_{od} = \\frac{1}{n}\\sum_{i=1}^{n} x_i \\\\\n",
    "& \\hat \\theta_{pe} = \\frac{1}{n}\\sum_{i=1}^{n} x_i - \\frac{4200}{n} \\\\\n",
    "& \\hat \\theta_{ap} = \\frac{1}{n}\\sum_{i=1}^{n} x_i - \\frac{5 \\cdot (n+1)}{n} \\\\\n",
    "\\end{aligned}\n",
    "\\end{equation*}"
   ]
  },
  {
   "cell_type": "code",
   "execution_count": 8,
   "metadata": {
    "executionInfo": {
     "elapsed": 2997,
     "status": "ok",
     "timestamp": 1645523327845,
     "user": {
      "displayName": "Ilya A",
      "photoUrl": "https://lh3.googleusercontent.com/a-/AOh14GiSa8oddSgsU03OOnvGn7Dk96PjoJwbTrHh_f7oDw=s64",
      "userId": "17148912465935982955"
     },
     "user_tz": -180
    },
    "id": "Mvb93LnBz5Jz"
   },
   "outputs": [],
   "source": [
    "theta_hat = np.zeros((100, 50))\n",
    "\n",
    "for n in range(100, 10100, 100): # поднимаемся выше и видим больше мамонтов\n",
    "    \n",
    "    # 50 выборок с повторениями для простоты \n",
    "    x_sample = np.random.choice(x_mamont, size = (n, 50), replace=False)\n",
    "    \n",
    "    # 50 разных оценок \n",
    "    x_mean = np.mean(x_sample, axis=0) \n",
    "    \n",
    "    theta_hat[n//100 - 1] = x_mean                # состоятельная, несмещенная\n",
    "    #theta_hat[n//100 - 1] = (x_mean - 4200/n)     # состоятельная, несмещенная ассимптотические\n",
    "    #theta_hat[n//100 - 1] = (x_mean - 5*(n+1)/n)   # несостоятельная "
   ]
  },
  {
   "cell_type": "code",
   "execution_count": 9,
   "metadata": {
    "colab": {
     "base_uri": "https://localhost:8080/"
    },
    "executionInfo": {
     "elapsed": 13,
     "status": "ok",
     "timestamp": 1645523327847,
     "user": {
      "displayName": "Ilya A",
      "photoUrl": "https://lh3.googleusercontent.com/a-/AOh14GiSa8oddSgsU03OOnvGn7Dk96PjoJwbTrHh_f7oDw=s64",
      "userId": "17148912465935982955"
     },
     "user_tz": -180
    },
    "id": "AUbbGKr9z5J0",
    "outputId": "37d0ad2c-75bf-4e7b-9e3c-5e1743bcdcdb"
   },
   "outputs": [
    {
     "data": {
      "text/plain": [
       "(100, 50)"
      ]
     },
     "execution_count": 9,
     "metadata": {},
     "output_type": "execute_result"
    }
   ],
   "source": [
    "theta_hat.shape"
   ]
  },
  {
   "cell_type": "code",
   "execution_count": 10,
   "metadata": {
    "colab": {
     "base_uri": "https://localhost:8080/",
     "height": 511
    },
    "executionInfo": {
     "elapsed": 1417,
     "status": "ok",
     "timestamp": 1645523329256,
     "user": {
      "displayName": "Ilya A",
      "photoUrl": "https://lh3.googleusercontent.com/a-/AOh14GiSa8oddSgsU03OOnvGn7Dk96PjoJwbTrHh_f7oDw=s64",
      "userId": "17148912465935982955"
     },
     "user_tz": -180
    },
    "id": "xD4eiEaez5J1",
    "outputId": "0f1a67f9-22fd-4193-9198-a08ce40c1d2d",
    "scrolled": false
   },
   "outputs": [
    {
     "data": {
      "image/png": "[encoded data removed]",
      "text/plain": [
       "<Figure size 1008x576 with 1 Axes>"
      ]
     },
     "metadata": {
      "needs_background": "light"
     },
     "output_type": "display_data"
    }
   ],
   "source": [
    "plt.figure(figsize=(14,8))\n",
    "plt.plot(range(100, 10100, 100), theta_hat, c='grey', alpha = 0.3)\n",
    "\n",
    "plt.xlabel('Количество наблюдений', size=24)\n",
    "plt.ylabel('Оценка параметра', size=24)\n",
    "\n",
    "plt.hlines(theta_real, 0, 100, color='blue', lw=4, label='реальное значение')\n",
    "plt.legend(fontsize=20);"
   ]
  },
  {
   "cell_type": "markdown",
   "metadata": {
    "id": "cqtvYmSJz5J2"
   },
   "source": [
    "__Ещё раз, ещё раз:__ нельзя путать состоятельности и несмещённость. Состоятельность означает, что мы при расширении выборки приходим к истине. Несмещённость, что мы при фиксированном размере выборке в среднем не ошибаемся. Состоятельность это то свойство оценки, за которое стоит бороться. Без этого свойства нет никакого смысла использовать оценку. "
   ]
  },
  {
   "cell_type": "markdown",
   "metadata": {
    "id": "mwsRX080z5Kv"
   },
   "source": [
    "# Эффективность \n",
    "\n",
    "Предположим, что у нас есть две оценки. Они обе классные, несмещённые и состоятельные. Возникает вопрос: а какую взять то? Для того, чтобы выбрать, вводят свойство эффективности. \n",
    "\n",
    "__Определение:__ Оценка $\\hat \\theta$ параметра $\\theta$ называется __эффективной в некотором классе оценок,__ если её дисперсия, $Var(\\hat \\theta)$ в этом классе оценок, при заданном объёме выборке минимальна. \n",
    "\n",
    "Зачем это нужно? Для того, чтобы доверительные интервалы для оценок были как можно уже, то есть для того, чтобы оценка была как можно точнее."
   ]
  },
  {
   "cell_type": "markdown",
   "metadata": {
    "id": "l_Xh01bTz5Kx"
   },
   "source": [
    "**Две оценки** 𝑈[0;𝜃]\n",
    "\n"
   ]
  },
  {
   "cell_type": "markdown",
   "metadata": {},
   "source": [
    "У нас есть выборка $x_1, \\ldots, x_n \\sim iid \\hspace{2mm} U[0; \\theta]$. Мы оценили параметр $\\theta$ двумя способами. Методом моментов и методом максимального правдоподобия: \n",
    "\n",
    "\n",
    "$$\\hat \\theta_{MM} = 2 \\bar x, \\qquad \\qquad \\hat \\theta_{ML} = \\frac{n+1}{n} \\cdot x_{max}$$\n",
    "\n",
    "Обе оценки оказались несмещёнными и состоятельными. Какую из них выбрать? Ответ прост: надо понять какая из них эффективнее.  \n",
    "\n",
    "Сгенерируйте выборку оценок каждого вида. Постройте по ним гистограммы и найдите этот простой ответ."
   ]
  },
  {
   "cell_type": "code",
   "execution_count": 19,
   "metadata": {
    "executionInfo": {
     "elapsed": 36,
     "status": "ok",
     "timestamp": 1645523329258,
     "user": {
      "displayName": "Ilya A",
      "photoUrl": "https://lh3.googleusercontent.com/a-/AOh14GiSa8oddSgsU03OOnvGn7Dk96PjoJwbTrHh_f7oDw=s64",
      "userId": "17148912465935982955"
     },
     "user_tz": -180
    },
    "id": "6cWHSYxaz5Ky"
   },
   "outputs": [],
   "source": [
    "uniform_rv = stats.uniform(0, 5)"
   ]
  },
  {
   "cell_type": "code",
   "execution_count": 20,
   "metadata": {
    "colab": {
     "base_uri": "https://localhost:8080/"
    },
    "executionInfo": {
     "elapsed": 34,
     "status": "ok",
     "timestamp": 1645523329259,
     "user": {
      "displayName": "Ilya A",
      "photoUrl": "https://lh3.googleusercontent.com/a-/AOh14GiSa8oddSgsU03OOnvGn7Dk96PjoJwbTrHh_f7oDw=s64",
      "userId": "17148912465935982955"
     },
     "user_tz": -180
    },
    "id": "W8D8JmCVz5Ky",
    "outputId": "f1cf0f29-278a-47eb-8628-7440152b4cb4"
   },
   "outputs": [
    {
     "data": {
      "text/plain": [
       "(100, 1000)"
      ]
     },
     "execution_count": 20,
     "metadata": {},
     "output_type": "execute_result"
    }
   ],
   "source": [
    "n_obs = 100\n",
    "\n",
    "# 1000 выборок размера n_obs\n",
    "x = uniform_rv.rvs(size = (n_obs, 1000))\n",
    "x.shape"
   ]
  },
  {
   "cell_type": "code",
   "execution_count": 21,
   "metadata": {},
   "outputs": [
    {
     "data": {
      "text/plain": [
       "array([14.86607077, 14.57920826, 15.07520414, 14.56946336, 14.94750488,\n",
       "       15.10946232, 14.45435265, 14.92190882, 15.16837461, 15.10313365,\n",
       "       14.8217497 , 15.34496521, 15.33244132, 15.40038611, 15.06672619,\n",
       "       15.40210575, 15.17685702, 14.58883509, 15.12856485, 14.9434014 ,\n",
       "       15.00145755, 15.00920442, 14.8149229 , 15.33919012, 15.24718205,\n",
       "       14.84199698, 14.81659305, 14.61215983, 14.85737812, 14.9490868 ,\n",
       "       14.59893889, 14.99316543, 14.9534499 , 15.14464961, 14.81597865,\n",
       "       15.2416721 , 15.02128052, 14.31167277, 15.16454963, 14.95131892,\n",
       "       14.96172592, 15.22419623, 15.35425105, 14.90145968, 14.87992219,\n",
       "       15.24020191, 14.4218144 , 14.69362826, 14.4615886 , 14.73985374,\n",
       "       14.71246671, 15.43165523, 14.83601605, 14.64051903, 14.96607617,\n",
       "       14.84652729, 15.25329038, 15.04485458, 14.52449267, 14.61373923,\n",
       "       15.21575001, 15.27046974, 14.78053671, 15.17428169, 15.34120923,\n",
       "       14.87101496, 14.9629248 , 15.08049037, 14.63107904, 14.73340958,\n",
       "       15.36417426, 15.20130432, 14.95517653, 15.49996   , 15.00037966,\n",
       "       15.55003028, 14.52113289, 15.24158099, 14.83361445, 14.905978  ,\n",
       "       15.48841229, 14.75786554, 15.04612588, 15.12856434, 15.01497137,\n",
       "       14.87070409, 14.84738305, 15.31721876, 15.12963773, 15.2271142 ,\n",
       "       15.34791035, 15.04047811, 15.36129926, 15.46462212, 14.94379621,\n",
       "       15.26173618, 14.95243714, 15.02198305, 15.31805749, 15.40622035,\n",
       "       14.8880032 , 15.40164904, 15.25998895, 15.16931002, 15.0077739 ,\n",
       "       15.29150731, 15.10944222, 15.29531553, 15.17231743, 14.89614388,\n",
       "       14.76870702, 15.044641  , 14.98645464, 14.93624203, 14.63054334,\n",
       "       14.9155635 , 15.32612426, 15.24875413, 14.62401158, 14.79201781,\n",
       "       14.87455195, 15.50251301, 15.50496657, 14.94877538, 15.41715915,\n",
       "       15.25435654, 14.32862758, 15.41401238, 15.17155897, 15.250447  ,\n",
       "       15.26594332, 15.17426811, 15.21986925, 15.22138355, 14.44070458,\n",
       "       14.8426092 , 15.2572954 , 15.15621546, 15.49499763, 14.97240969,\n",
       "       15.36846675, 15.16741103, 15.06221966, 14.99323759, 14.92656237,\n",
       "       14.72655846, 14.87571047, 15.2639294 , 15.00160318, 14.89703933,\n",
       "       14.43249569, 15.05492629, 15.26107975, 15.24113573, 14.90897531,\n",
       "       14.87984119, 14.73128234, 14.95976668, 15.31909601, 15.15258421,\n",
       "       14.80538585, 15.20117272, 14.7725091 , 15.0433272 , 15.30596201,\n",
       "       15.03300677, 14.70140826, 15.04346222, 14.54406722, 14.56903275,\n",
       "       15.31972042, 15.13411856, 15.10520863, 15.08286355, 15.00636445,\n",
       "       14.89890493, 15.02690528, 14.36173236, 14.9724384 , 15.06975767,\n",
       "       14.88286833, 14.85334224, 15.55567677, 14.91570195, 14.95219899,\n",
       "       14.70448452, 15.18014215, 15.62614428, 15.13088977, 15.2270118 ,\n",
       "       15.24194355, 15.32727424, 14.92321619, 15.07564837, 14.78234049,\n",
       "       15.25864423, 14.56230244, 15.14686728, 14.90615671, 15.27938791,\n",
       "       15.07475298, 14.62015862, 15.20336273, 14.67606227, 14.57693683,\n",
       "       14.80199765, 14.81483972, 15.72149477, 15.56229837, 15.33293562,\n",
       "       14.90072534, 15.29005396, 15.32004119, 14.72028843, 14.89517896,\n",
       "       14.77672699, 14.73933181, 14.56865149, 15.03643712, 14.67494996,\n",
       "       15.20139239, 14.68918253, 15.1196929 , 15.0484398 , 14.95957101,\n",
       "       15.4265048 , 15.3552042 , 15.00733881, 15.06004399, 14.70216743,\n",
       "       14.61860375, 15.21370404, 15.19138697, 15.53251529, 15.2260224 ,\n",
       "       14.80659838, 14.74859808, 14.98818478, 14.60481765, 15.26153645,\n",
       "       15.24508076, 14.9236779 , 14.99345859, 15.10293343, 14.96658816,\n",
       "       14.8919739 , 14.91317169, 14.9104137 , 14.49674484, 15.21601461,\n",
       "       15.07434576, 14.82631185, 14.99392232, 15.03175557, 14.55790657,\n",
       "       14.53685297, 14.92375081, 15.33400267, 15.09109108, 15.11260784,\n",
       "       15.09641379, 14.89458666, 15.23181086, 14.45584392, 15.11762267,\n",
       "       15.24913593, 14.84971835, 15.42351306, 15.1397659 , 14.91720142,\n",
       "       14.99194142, 14.64989318, 15.18291759, 14.84281669, 15.56288541,\n",
       "       15.13674518, 15.28880272, 15.14573014, 15.23839389, 14.84720321,\n",
       "       14.98338954, 15.05104843, 14.78409478, 15.11304331, 15.28631592,\n",
       "       15.80539332, 15.0422772 , 14.90397337, 14.89075826, 15.16797355,\n",
       "       14.40232684, 14.77765353, 15.05253758, 14.96538155, 15.19667921,\n",
       "       15.0520981 , 15.31068077, 15.30212651, 15.05521658, 14.89531861,\n",
       "       15.34965753, 14.60272088, 15.22228335, 14.85024421, 15.68764906,\n",
       "       14.59174601, 15.29752661, 14.93316437, 15.02307324, 15.33293758,\n",
       "       15.26048831, 15.04363979, 15.32460384, 14.95640746, 15.0570978 ,\n",
       "       14.53567216, 15.58703383, 15.59295551, 14.68077523, 14.64723001,\n",
       "       15.48558973, 15.17599043, 14.7886927 , 14.7072162 , 14.53974954,\n",
       "       15.06276206, 15.27037916, 14.92392971, 14.81429937, 15.08852918,\n",
       "       14.60083905, 15.41351193, 14.84942727, 14.89942645, 15.39393486,\n",
       "       14.45629856, 15.0620851 , 15.08933454, 15.21887178, 15.61692019,\n",
       "       15.18497617, 14.83620358, 14.99321733, 15.35227062, 14.93357573,\n",
       "       14.83742348, 14.81817252, 14.4656821 , 15.31867816, 14.60453864,\n",
       "       15.25876575, 14.81589979, 14.66189075, 14.51035463, 14.91460919,\n",
       "       15.25193234, 14.43389799, 14.72647784, 14.62958167, 15.00306125,\n",
       "       15.2078467 , 15.39831032, 14.78395717, 15.51683822, 15.25446518,\n",
       "       14.8641064 , 14.9013546 , 14.84378703, 15.33650189, 14.8415132 ,\n",
       "       14.9748246 , 14.69186222, 14.96409577, 14.42976698, 14.74539316,\n",
       "       14.67870944, 15.40592102, 15.06415206, 15.00456319, 15.18375501,\n",
       "       14.94376714, 14.98443798, 15.17666893, 14.7506676 , 14.85631324,\n",
       "       15.06983163, 15.37170657, 15.23533392, 14.63824193, 15.7050076 ,\n",
       "       14.23883646, 14.77887723, 15.16240037, 14.82735611, 15.21433024,\n",
       "       15.08866706, 15.19841224, 15.37685939, 15.23989656, 14.66148001,\n",
       "       15.7241548 , 14.9459437 , 14.99983432, 14.40804127, 15.09953331,\n",
       "       14.9072749 , 15.34353243, 15.0125188 , 14.87783126, 14.96725523,\n",
       "       15.18935446, 15.02445532, 15.16761513, 15.3117524 , 15.44321405,\n",
       "       14.68772813, 15.3796588 , 15.11619533, 15.15409246, 15.10055902,\n",
       "       15.20553613, 15.11689958, 14.8332221 , 14.42054845, 14.89279835,\n",
       "       15.16043842, 14.96552614, 14.88093408, 15.06555893, 15.32851541,\n",
       "       15.00417257, 15.42552858, 15.41028534, 15.15831485, 15.24676326,\n",
       "       15.02413402, 15.47822684, 14.89627954, 14.81471514, 15.0352141 ,\n",
       "       15.19878381, 15.0333173 , 14.97529165, 15.36534316, 15.29657183,\n",
       "       14.68638275, 14.80821792, 14.95971545, 14.70384774, 14.75579589,\n",
       "       15.24789935, 15.36839008, 15.62055267, 14.85993763, 14.51228388,\n",
       "       15.17525495, 14.56738485, 15.50178244, 14.85516436, 15.03768287,\n",
       "       14.9480373 , 15.00261523, 14.89503902, 15.07822865, 14.85402309,\n",
       "       14.90092696, 14.86436769, 14.59340846, 15.00179638, 14.38828719,\n",
       "       14.7231232 , 14.84121131, 14.52022281, 14.5820051 , 14.94945604,\n",
       "       15.54046795, 14.83281943, 15.55123734, 15.4050424 , 14.65685406,\n",
       "       14.74225569, 14.909169  , 15.19563949, 14.99171366, 14.59002444,\n",
       "       15.74772496, 14.70332114, 14.78067966, 15.03701961, 14.84486963,\n",
       "       15.28617876, 14.74018394, 14.73166546, 14.55228224, 14.36647502,\n",
       "       14.88863914, 14.81447476, 15.04202245, 14.70012129, 15.62188778,\n",
       "       14.92395069, 14.63693006, 15.19385925, 15.09451602, 15.08091177,\n",
       "       15.43724115, 15.22915474, 15.31936939, 14.938176  , 14.48545038,\n",
       "       15.36496517, 15.05202843, 15.36440165, 14.95443139, 15.25330358,\n",
       "       15.45492778, 14.7870489 , 15.09772417, 15.11883958, 14.7814544 ,\n",
       "       15.00046454, 15.11668015, 14.80032327, 14.74038511, 15.16063452,\n",
       "       15.07135721, 14.99110279, 14.8474993 , 14.93122148, 15.13522451,\n",
       "       15.09865209, 14.8790565 , 14.98047546, 15.39149288, 15.51164832,\n",
       "       14.35352699, 15.02245257, 14.95251814, 14.78838693, 14.97538035,\n",
       "       15.33558579, 14.96517776, 15.2067804 , 15.15636571, 14.94075541,\n",
       "       15.06089095, 15.0923922 , 14.68731368, 15.25195736, 15.38666619,\n",
       "       14.8969563 , 15.35357728, 15.07952493, 14.89472443, 15.07119083,\n",
       "       15.60686033, 15.07762739, 15.3808253 , 14.64940308, 14.45367488,\n",
       "       14.86296532, 14.59591227, 14.63512527, 15.3369559 , 14.84762637,\n",
       "       14.84339218, 14.78114747, 14.60129111, 14.89738727, 15.07937316,\n",
       "       14.94510341, 15.01630598, 15.16842465, 15.23565535, 15.07462112,\n",
       "       15.17165105, 14.97203566, 14.95621717, 14.95422717, 15.35056672,\n",
       "       15.6121261 , 14.4405178 , 14.70854418, 15.29480811, 14.87711663,\n",
       "       15.23596343, 15.11865678, 15.12244223, 15.59044787, 14.99549518,\n",
       "       15.70941911, 14.92381737, 14.78260319, 14.63410042, 15.03833538,\n",
       "       15.05032672, 15.09314155, 15.39770374, 15.38484895, 14.84336204,\n",
       "       15.49488351, 15.61824858, 14.78445514, 15.18022248, 14.77766123,\n",
       "       15.3573562 , 14.86127203, 14.83173815, 14.81077039, 14.87822004,\n",
       "       15.04779764, 14.66663897, 15.17840746, 15.18983643, 14.56637074,\n",
       "       15.18546222, 14.69253511, 14.94345175, 15.0929371 , 15.26636373,\n",
       "       14.99327882, 14.36313261, 15.02798642, 15.04649006, 15.61317746,\n",
       "       15.42786912, 14.83915295, 15.32632473, 15.04308663, 14.94038112,\n",
       "       14.8535482 , 14.43964592, 14.65834231, 14.79903084, 15.24720088,\n",
       "       15.3181112 , 15.15733715, 15.04332949, 14.68875548, 14.55193496,\n",
       "       15.43660028, 15.32104273, 14.59163871, 15.08074212, 15.02321707,\n",
       "       14.98533787, 14.89567131, 15.13870277, 15.1519252 , 14.90157485,\n",
       "       14.68327384, 14.41981913, 15.5454001 , 15.25536968, 14.60732354,\n",
       "       15.1624688 , 14.31372613, 14.73012986, 14.94753098, 14.93799734,\n",
       "       14.58511525, 15.20628243, 15.09661065, 14.86907418, 15.05188329,\n",
       "       14.84742899, 15.35801403, 15.13692062, 14.82768338, 14.86470122,\n",
       "       15.22257621, 15.35785369, 14.52475827, 15.5301378 , 15.21578957,\n",
       "       15.5116946 , 14.95523433, 15.02888919, 14.89283681, 15.09685434,\n",
       "       15.49123644, 15.22748871, 14.93145161, 14.69308602, 14.6366536 ,\n",
       "       15.03794704, 15.24699731, 15.45123187, 14.7402941 , 15.00031831,\n",
       "       15.07309788, 14.75451398, 14.75643069, 14.70394997, 14.91127826,\n",
       "       14.95107013, 14.97913102, 15.17337354, 15.14728796, 15.25346744,\n",
       "       14.94620394, 14.71697537, 14.67214242, 14.76392618, 15.2088083 ,\n",
       "       16.01010069, 14.61495575, 14.82169114, 14.84320676, 15.36912284,\n",
       "       15.07473928, 15.06179191, 14.69817585, 14.85651182, 15.07695831,\n",
       "       15.24198614, 15.34705165, 14.80546185, 14.93441142, 15.17614302,\n",
       "       15.18785333, 15.14831803, 14.97233473, 15.21356668, 15.15238905,\n",
       "       15.29414124, 14.68792772, 14.71809049, 14.92719748, 15.10991922,\n",
       "       14.86120197, 15.33022341, 14.64578443, 15.21864556, 14.94278031,\n",
       "       15.40637617, 14.81321105, 14.58366687, 15.01427883, 14.89771911,\n",
       "       14.45336833, 14.97952677, 15.25024356, 14.8403519 , 15.1683448 ,\n",
       "       15.26368348, 15.07565592, 15.12165616, 14.95654602, 15.14886224,\n",
       "       14.97399246, 15.19654183, 14.55630669, 15.20492778, 14.89741362,\n",
       "       15.20474865, 15.1570379 , 14.96666177, 15.05108109, 14.46848626,\n",
       "       14.80132255, 14.93394292, 15.34902426, 15.07357018, 14.56666547,\n",
       "       14.77917847, 15.23946357, 14.65282086, 15.14892154, 14.90998869,\n",
       "       14.74597073, 14.57208112, 14.90243907, 15.25942471, 14.79854092,\n",
       "       14.67583174, 14.7684515 , 14.72557139, 14.67325971, 15.47010261,\n",
       "       14.43131531, 15.15766072, 14.74444369, 14.87344322, 15.12127407,\n",
       "       14.85603086, 15.03872011, 14.4539687 , 14.80295999, 14.59281868,\n",
       "       15.04713858, 14.83391732, 14.83146799, 15.28563798, 15.04784795,\n",
       "       14.75603169, 15.06035576, 14.79071633, 15.11159646, 15.27302857,\n",
       "       15.21857033, 15.19990306, 14.9982231 , 15.14408839, 14.73620711,\n",
       "       14.78521752, 14.69945778, 14.96778715, 14.55813747, 15.06110091,\n",
       "       15.52005049, 15.26702629, 14.68496512, 15.06388327, 15.35920239,\n",
       "       14.84370164, 14.74106038, 15.3966479 , 14.81361145, 15.0351225 ,\n",
       "       15.01943892, 14.99475764, 15.15609014, 15.15717638, 14.78188714,\n",
       "       15.31372564, 14.22608354, 15.04342347, 15.43946187, 15.1379024 ,\n",
       "       14.44945278, 15.17629603, 14.79603074, 14.96786844, 14.26855566,\n",
       "       14.78660398, 15.01476258, 14.87727287, 14.65710737, 15.15517851,\n",
       "       15.46283966, 14.63741905, 15.04693658, 14.86537416, 14.54182921,\n",
       "       14.46861813, 14.95630289, 14.54285668, 15.3459387 , 15.64808403,\n",
       "       14.81111727, 15.04574742, 15.11502846, 15.0405794 , 14.60836343,\n",
       "       15.33943999, 14.94150336, 15.2826959 , 15.25770356, 14.90585459,\n",
       "       14.79417926, 15.33205258, 15.36461639, 15.02982311, 14.72855925,\n",
       "       15.34984036, 15.00925329, 15.27523392, 15.15246151, 15.22096323,\n",
       "       15.07712616, 15.75213892, 14.80062618, 14.73513862, 14.72286244,\n",
       "       15.14824546, 15.12589601, 14.91916572, 14.64274596, 15.00377553,\n",
       "       15.05305213, 15.12582479, 14.67112215, 15.3967008 , 15.31399814,\n",
       "       15.25571465, 14.84685248, 14.81999698, 14.8155933 , 15.23301901,\n",
       "       14.84230336, 15.08284964, 14.67019904, 15.40681334, 14.8416957 ,\n",
       "       15.06711283, 15.35424421, 15.38726606, 15.21930999, 15.16301336,\n",
       "       15.08881884, 14.72799813, 15.11725844, 15.09699673, 14.62899935,\n",
       "       14.5818368 , 14.7655528 , 14.79826108, 15.3906159 , 14.32245803,\n",
       "       15.19783746, 15.20196262, 15.14247737, 15.27883406, 14.71729589,\n",
       "       15.03309472, 14.879985  , 14.83408108, 15.31782153, 15.02866456,\n",
       "       14.66241765, 15.36278015, 15.1901317 , 15.5213472 , 15.23000899,\n",
       "       14.93951631, 14.82952571, 14.76179634, 14.58656778, 14.81085637,\n",
       "       14.75983653, 14.78790839, 14.91058053, 14.41014767, 14.58256363,\n",
       "       15.01820012, 14.82387526, 15.26241814, 15.07402539, 14.71469739,\n",
       "       15.33421003, 14.71012976, 15.16854813, 14.72770301, 15.20226431,\n",
       "       14.7538851 , 14.91340338, 15.16003508, 14.79162475, 14.56609033,\n",
       "       14.73358337, 15.15324434, 14.7945169 , 15.17562485, 14.43830438,\n",
       "       14.89124272, 15.07185548, 15.26293451, 14.36059086, 14.54082511,\n",
       "       15.02726048, 14.84032816, 14.771314  , 14.96602368, 14.60917361,\n",
       "       15.10182432, 14.82394533, 14.53054915, 14.96552503, 15.07224159,\n",
       "       15.06139658, 15.21135914, 15.04234057, 14.67750543, 14.71461695,\n",
       "       15.07449198, 15.28357565, 14.92118533, 15.63752894, 14.73749004,\n",
       "       14.81450565, 14.79985368, 14.9310721 , 14.8328832 , 14.59349233,\n",
       "       15.20065033, 14.75812681, 14.99815188, 14.76574425, 14.63728229,\n",
       "       14.77530915, 14.85841877, 14.74922513, 14.62711435, 15.3468563 ,\n",
       "       14.96632857, 14.78331869, 14.71479875, 14.79965326, 15.10529637])"
      ]
     },
     "execution_count": 21,
     "metadata": {},
     "output_type": "execute_result"
    }
   ],
   "source": [
    "np.mean(x, axis=0)"
   ]
  },
  {
   "cell_type": "code",
   "execution_count": 22,
   "metadata": {
    "executionInfo": {
     "elapsed": 30,
     "status": "ok",
     "timestamp": 1645523329261,
     "user": {
      "displayName": "Ilya A",
      "photoUrl": "https://lh3.googleusercontent.com/a-/AOh14GiSa8oddSgsU03OOnvGn7Dk96PjoJwbTrHh_f7oDw=s64",
      "userId": "17148912465935982955"
     },
     "user_tz": -180
    },
    "id": "vnKYp00Cz5K2"
   },
   "outputs": [],
   "source": [
    "# первая оценка \n",
    "theta_1 = 2*np.mean(x, axis=0)\n",
    "\n",
    "# вторая оценка \n",
    "theta_2 = (n_obs + 1)/n_obs*np.max(x, axis=0)"
   ]
  },
  {
   "cell_type": "code",
   "execution_count": 23,
   "metadata": {},
   "outputs": [
    {
     "data": {
      "text/plain": [
       "(29.99959729176003, 20.100283150906296)"
      ]
     },
     "execution_count": 23,
     "metadata": {},
     "output_type": "execute_result"
    }
   ],
   "source": [
    "theta_1.mean(), theta_2.mean()"
   ]
  },
  {
   "cell_type": "code",
   "execution_count": 24,
   "metadata": {
    "colab": {
     "base_uri": "https://localhost:8080/",
     "height": 374
    },
    "executionInfo": {
     "elapsed": 33,
     "status": "ok",
     "timestamp": 1645523329264,
     "user": {
      "displayName": "Ilya A",
      "photoUrl": "https://lh3.googleusercontent.com/a-/AOh14GiSa8oddSgsU03OOnvGn7Dk96PjoJwbTrHh_f7oDw=s64",
      "userId": "17148912465935982955"
     },
     "user_tz": -180
    },
    "id": "ELhz2lmGz5K3",
    "outputId": "b8f7343c-1930-45f0-fcb5-b8d53e11a277"
   },
   "outputs": [
    {
     "data": {
      "image/png": "[encoded data removed]",
      "text/plain": [
       "<Figure size 864x432 with 1 Axes>"
      ]
     },
     "metadata": {
      "needs_background": "light"
     },
     "output_type": "display_data"
    }
   ],
   "source": [
    "plt.figure(figsize=(12,6))\n",
    "plt.hist(theta_1, bins=100, alpha=0.5, label='Moment method')\n",
    "plt.hist(theta_2, bins=50, alpha=0.5, label='ML method')\n",
    "plt.legend();"
   ]
  },
  {
   "cell_type": "markdown",
   "metadata": {
    "id": "AUpiTiPQz5K4"
   },
   "source": [
    "Видим, что у оценки максимального правдоподобия разброс оказался меньше.  "
   ]
  },
  {
   "cell_type": "code",
   "execution_count": 16,
   "metadata": {
    "colab": {
     "base_uri": "https://localhost:8080/"
    },
    "executionInfo": {
     "elapsed": 32,
     "status": "ok",
     "timestamp": 1645523329266,
     "user": {
      "displayName": "Ilya A",
      "photoUrl": "https://lh3.googleusercontent.com/a-/AOh14GiSa8oddSgsU03OOnvGn7Dk96PjoJwbTrHh_f7oDw=s64",
      "userId": "17148912465935982955"
     },
     "user_tz": -180
    },
    "id": "gvOsGdCgz5K6",
    "outputId": "4df140f3-24d0-4ef4-c7ab-19c0a72af3b2"
   },
   "outputs": [
    {
     "data": {
      "text/plain": [
       "0.07802076267307657"
      ]
     },
     "execution_count": 16,
     "metadata": {},
     "output_type": "execute_result"
    }
   ],
   "source": [
    "np.var(theta_1)"
   ]
  },
  {
   "cell_type": "code",
   "execution_count": 17,
   "metadata": {
    "colab": {
     "base_uri": "https://localhost:8080/"
    },
    "executionInfo": {
     "elapsed": 29,
     "status": "ok",
     "timestamp": 1645523329267,
     "user": {
      "displayName": "Ilya A",
      "photoUrl": "https://lh3.googleusercontent.com/a-/AOh14GiSa8oddSgsU03OOnvGn7Dk96PjoJwbTrHh_f7oDw=s64",
      "userId": "17148912465935982955"
     },
     "user_tz": -180
    },
    "id": "bqitqkzLz5K6",
    "outputId": "fa539035-8b34-4197-af71-c4bbec00fad4"
   },
   "outputs": [
    {
     "data": {
      "text/plain": [
       "0.0022450253190156406"
      ]
     },
     "execution_count": 17,
     "metadata": {},
     "output_type": "execute_result"
    }
   ],
   "source": [
    "np.var(theta_2)"
   ]
  },
  {
   "cell_type": "markdown",
   "metadata": {
    "id": "VclHAI_sz5K7"
   },
   "source": [
    "На практике следовало бы выбрать её. Когда у оценки самый маленький разброс в каком-то классе (например, в классе несмещённых оценок), её называют __эффективной__ в этом классе. \n",
    "\n",
    "Кстати говоря, для оценок из этого упражнения, можно руками выяснить, что: \n",
    "\n",
    "$$ E(\\hat \\theta_{MM} - \\theta)^2 = \\frac{\\theta^2}{3n} \\qquad \\qquad E(\\hat \\theta_{ML} - \\theta)^2 = \\frac{2 \\theta^2}{n(n+1)}.$$\n",
    "\n",
    "Получится, что при $n = 1,2$ дисперсии совпадут. При $n >2$ оценка максимального правдоподобия будет обладать меньшей дисперсией. Вывод этих формул руками можно посмотреть в [книге Черновой](https://nsu.ru/mmf/tvims/chernova/ms/ms_nsu07.pdf) на странице 33 (Пример 13)."
   ]
  },
  {
   "cell_type": "markdown",
   "metadata": {
    "id": "J5t2YAXSz5K7"
   },
   "source": [
    " "
   ]
  }
 ],
 "metadata": {
  "colab": {
   "collapsed_sections": [],
   "name": "02_estimators.ipynb",
   "provenance": [],
   "toc_visible": true
  },
  "kernelspec": {
   "display_name": "Python 3",
   "language": "python",
   "name": "python3"
  },
  "language_info": {
   "codemirror_mode": {
    "name": "ipython",
    "version": 3
   },
   "file_extension": ".py",
   "mimetype": "text/x-python",
   "name": "python",
   "nbconvert_exporter": "python",
   "pygments_lexer": "ipython3",
   "version": "3.8.8"
  },
  "toc": {
   "base_numbering": 1,
   "nav_menu": {},
   "number_sections": true,
   "sideBar": true,
   "skip_h1_title": false,
   "title_cell": "Table of Contents",
   "title_sidebar": "Contents",
   "toc_cell": true,
   "toc_position": {},
   "toc_section_display": true,
   "toc_window_display": true
  }
 },
 "nbformat": 4,
 "nbformat_minor": 1
}
