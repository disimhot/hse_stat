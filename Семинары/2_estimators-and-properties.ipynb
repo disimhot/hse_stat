{
 "cells": [
  {
   "cell_type": "markdown",
   "metadata": {
    "toc": true
   },
   "source": [
    "<h1>Table of Contents<span class=\"tocSkip\"></span></h1>\n",
    "<div class=\"toc\"><ul class=\"toc-item\"><li><span><a href=\"#Несмещённость\" data-toc-modified-id=\"Несмещённость-1\"><span class=\"toc-item-num\">1&nbsp;&nbsp;</span>Несмещённость</a></span></li><li><span><a href=\"#Состоятельность\" data-toc-modified-id=\"Состоятельность-2\"><span class=\"toc-item-num\">2&nbsp;&nbsp;</span>Состоятельность</a></span></li><li><span><a href=\"#Эффективность\" data-toc-modified-id=\"Эффективность-3\"><span class=\"toc-item-num\">3&nbsp;&nbsp;</span>Эффективность</a></span></li></ul></div>"
   ]
  },
  {
   "cell_type": "markdown",
   "metadata": {
    "id": "NixGOs10ztBk"
   },
   "source": [
    "\n",
    "\n",
    "#  Несмещённость\n",
    "\n",
    "Когда статистик оценивает какой-нибудь параметр, он хочет: \n",
    "\n",
    "* __несмещённость__ (при фиксированном размере выборки мы в среднем не ошибаемся) \n",
    "* __состоятельность__ (при бесконечном расширении выборки мы приходим к истинному значению)\n",
    "* __эффективность__ (у нашей оценки самая маленькая дисперсия для её класса (например, для всех несмещенных оценок))\n",
    "* иногда ещё статистик ссылается на какую-то мифическую __асимптотическую нормальность__ оценки.\n"
   ]
  },
  {
   "cell_type": "code",
   "execution_count": 2,
   "metadata": {
    "executionInfo": {
     "elapsed": 891,
     "status": "ok",
     "timestamp": 1645523323508,
     "user": {
      "displayName": "Ilya A",
      "photoUrl": "https://lh3.googleusercontent.com/a-/AOh14GiSa8oddSgsU03OOnvGn7Dk96PjoJwbTrHh_f7oDw=s64",
      "userId": "17148912465935982955"
     },
     "user_tz": -180
    },
    "id": "6kxawFdxztBl"
   },
   "outputs": [],
   "source": [
    "import numpy as np\n",
    "import pandas as pd\n",
    "\n",
    "from scipy import stats\n",
    "import matplotlib.pyplot as plt\n",
    "import seaborn as sns\n",
    "\n",
    "plt.style.use('ggplot')  # стиль для графиков\n",
    "%matplotlib inline"
   ]
  },
  {
   "cell_type": "markdown",
   "metadata": {
    "id": "6Iwhu6uXztBm"
   },
   "source": [
    "__Определение:__  Оценка $\\hat{\\theta}$ параметра $\\theta$ называется __несмещённой,__ если $\\mathbb{E} (\\hat{\\theta}) = \\theta$."
   ]
  },
  {
   "cell_type": "markdown",
   "metadata": {
    "id": "AeFKdZmKztBn"
   },
   "source": [
    "**Пример (мамонтоборцы)**\n",
    "\n",
    "В долине летучей мыши Шикака живёт племя Вачати. Оно охотится на мамонтов. Древний Бог Оньянкопонга не так давно сгенерировал в долине реки из нормального распределения $10$ тысяч мамонтов со средним весом $300$ кг и стандартным отклонением $100$ кг. "
   ]
  },
  {
   "cell_type": "code",
   "execution_count": 3,
   "metadata": {
    "colab": {
     "base_uri": "https://localhost:8080/"
    },
    "executionInfo": {
     "elapsed": 29,
     "status": "ok",
     "timestamp": 1645523323510,
     "user": {
      "displayName": "Ilya A",
      "photoUrl": "https://lh3.googleusercontent.com/a-/AOh14GiSa8oddSgsU03OOnvGn7Dk96PjoJwbTrHh_f7oDw=s64",
      "userId": "17148912465935982955"
     },
     "user_tz": -180
    },
    "id": "yMmnaTc2ztBo",
    "outputId": "b5f5d62f-96ba-4398-d6a6-4fed04c07c5d"
   },
   "outputs": [
    {
     "data": {
      "text/plain": [
       "298.89285029207946"
      ]
     },
     "execution_count": 3,
     "metadata": {},
     "output_type": "execute_result"
    }
   ],
   "source": [
    "norm_rv = stats.norm(loc=300, scale=100)\n",
    "\n",
    "# вся генеральная совокупность \n",
    "x_mamont = norm_rv.rvs(size = 10**4)\n",
    "\n",
    "np.mean(x_mamont) # настоящее среднее"
   ]
  },
  {
   "cell_type": "markdown",
   "metadata": {
    "id": "d28T9CzbztBq"
   },
   "source": [
    "* Шаман Одэхингум (лёгкое колебание воды) уверен в своём взоре: \n",
    "\n",
    "$$ \\hat \\theta_{od} = \\frac{1}{n}\\sum_{i=1}^{n} x_i.$$\n",
    "\n",
    "* Шаман Пэпина (виноградная лоза, растущая вокруг дуба) не любит, когда его избивают за слишком оптимистичные прогнозы:\n",
    "\n",
    "$$ \\hat \\theta_{pe} = \\frac{1}{n}\\sum_{i=1}^{n} x_i - \\frac{4200}{n}.$$\n",
    "\n",
    "* Шаман Апониви (где ветер вырывает промежуток с корнем) тоже коректирует прогноз:\n",
    "\n",
    "$$ \\hat \\theta_{ap} = \\frac{1}{n}\\sum_{i=1}^{n} x_i - \\frac{5 \\cdot (n+1)}{n}.$$"
   ]
  },
  {
   "cell_type": "code",
   "execution_count": 4,
   "metadata": {
    "executionInfo": {
     "elapsed": 25,
     "status": "ok",
     "timestamp": 1645523323512,
     "user": {
      "displayName": "Ilya A",
      "photoUrl": "https://lh3.googleusercontent.com/a-/AOh14GiSa8oddSgsU03OOnvGn7Dk96PjoJwbTrHh_f7oDw=s64",
      "userId": "17148912465935982955"
     },
     "user_tz": -180
    },
    "id": "TsNejB07ztBq"
   },
   "outputs": [],
   "source": [
    "# Команда нам не подходит, так как она всю матрицу сделает без повторений\n",
    "# np.random.choice(x_mamont, size=(n,m), replace=False)\n",
    "\n",
    "n = 100\n",
    "number_of_samples = 200\n",
    "\n",
    "th_od = np.zeros(number_of_samples)\n",
    "th_pe = np.zeros(number_of_samples)\n",
    "th_ap = np.zeros(number_of_samples)\n",
    "\n",
    "for i in range(number_of_samples):\n",
    "    x_sample = np.random.choice(x_mamont, size=n, replace=False)\n",
    "    x_mean = np.mean(x_sample)\n",
    "    th_od[i] = x_mean\n",
    "    th_pe[i] = x_mean - 4200/n\n",
    "    th_ap[i] = x_mean - 5*(n+1)/n  \n"
   ]
  },
  {
   "cell_type": "code",
   "execution_count": 5,
   "metadata": {},
   "outputs": [
    {
     "data": {
      "text/plain": [
       "(200,)"
      ]
     },
     "execution_count": 5,
     "metadata": {},
     "output_type": "execute_result"
    }
   ],
   "source": [
    "th_od.shape"
   ]
  },
  {
   "cell_type": "code",
   "execution_count": 6,
   "metadata": {
    "colab": {
     "base_uri": "https://localhost:8080/"
    },
    "executionInfo": {
     "elapsed": 25,
     "status": "ok",
     "timestamp": 1645523323513,
     "user": {
      "displayName": "Ilya A",
      "photoUrl": "https://lh3.googleusercontent.com/a-/AOh14GiSa8oddSgsU03OOnvGn7Dk96PjoJwbTrHh_f7oDw=s64",
      "userId": "17148912465935982955"
     },
     "user_tz": -180
    },
    "id": "DYNXjMIyztBr",
    "outputId": "f03af21d-76f3-4e3b-d651-4f44563b051a"
   },
   "outputs": [
    {
     "data": {
      "text/plain": [
       "(299.6015370439233, 257.6015370439233, 294.5515370439233)"
      ]
     },
     "execution_count": 6,
     "metadata": {},
     "output_type": "execute_result"
    }
   ],
   "source": [
    "# посмотрим на оценки E(\\hat \\theta)\n",
    "np.mean(th_od), np.mean(th_pe), np.mean(th_ap)"
   ]
  },
  {
   "cell_type": "code",
   "execution_count": 7,
   "metadata": {
    "colab": {
     "base_uri": "https://localhost:8080/",
     "height": 374
    },
    "executionInfo": {
     "elapsed": 23,
     "status": "ok",
     "timestamp": 1645523323515,
     "user": {
      "displayName": "Ilya A",
      "photoUrl": "https://lh3.googleusercontent.com/a-/AOh14GiSa8oddSgsU03OOnvGn7Dk96PjoJwbTrHh_f7oDw=s64",
      "userId": "17148912465935982955"
     },
     "user_tz": -180
    },
    "id": "FZbre-7_ztBs",
    "outputId": "ac66f90c-6e4d-4ebe-e996-a09bb70cf822"
   },
   "outputs": [
    {
     "data": {
      "image/png": "[encoded data removed]",
      "text/plain": [
       "<Figure size 864x432 with 1 Axes>"
      ]
     },
     "metadata": {
      "needs_background": "light"
     },
     "output_type": "display_data"
    }
   ],
   "source": [
    "plt.figure(figsize=(12,6))\n",
    "\n",
    "df = pd.DataFrame(zip(th_od, th_pe, th_ap), columns = ['Одэхингум', 'Пэпина', 'Апониви'])\n",
    "sns.boxplot(data = df,);"
   ]
  },
  {
   "cell_type": "markdown",
   "metadata": {
    "id": "vP_QnA8vztBu"
   },
   "source": [
    "Давайте попробуем посмотреть, как ведут себя распределения оценок шаманов в динамике, при росте числа наблюдений.\n",
    "\n",
    "\n",
    "<center>\n",
    "<img src=\"./image/animation_boxplot.gif\" width=\"400\"> \n",
    "</center>\n"
   ]
  },
  {
   "cell_type": "markdown",
   "metadata": {
    "id": "7yeAp1mxztBv"
   },
   "source": [
    "Хех. Шаманы. Детский сад. Подавай нам что-нибудь из бизнеса. Окей, договорились. Давайте предположим, что шаманы прогнозируют не вес мамонта, а то на какую сумму в среднем будут наступать страховые случаи. Ясное дело, что наш  бюджет на статистические исследования довольно сильно ограничен. И ежедневно мы можем собирать информацию только от ограниченного числа респондентов. Если мы стабильно будем на основе этой информации получать смещённую оценку страхового покрытия, то вместо получения прибыли в среднем, мы легко можем оказаться банкротами. \n",
    "\n",
    "__Ещё раз, ещё раз:__ несмещённость это свойство оценки при фиксированном размере выборки $n$. Оно означает, что ошибка \"в среднем\", то есть при систематическом использовании оценки, отсутствует. Это довольно хорошее свойство, но не обязательное. Достаточно, чтобы смещение оценки уменьшалось с ростом объёма выборки. Такая оценка называется асимптотически несмещённой. "
   ]
  },
  {
   "cell_type": "markdown",
   "metadata": {
    "id": "OKAG7WFjz5Js"
   },
   "source": [
    "#  Состоятельность \n"
   ]
  },
  {
   "cell_type": "markdown",
   "metadata": {
    "id": "761LuLEfz5Jv"
   },
   "source": [
    "__Определение:__  Оценка $\\hat \\theta$ параметра $\\theta$ называется __состоятельной,__ если $\\hat \\theta \\to \\theta$ по вероятности при росте $n$. "
   ]
  },
  {
   "cell_type": "code",
   "execution_count": 8,
   "metadata": {
    "colab": {
     "base_uri": "https://localhost:8080/"
    },
    "executionInfo": {
     "elapsed": 1366,
     "status": "ok",
     "timestamp": 1645523324862,
     "user": {
      "displayName": "Ilya A",
      "photoUrl": "https://lh3.googleusercontent.com/a-/AOh14GiSa8oddSgsU03OOnvGn7Dk96PjoJwbTrHh_f7oDw=s64",
      "userId": "17148912465935982955"
     },
     "user_tz": -180
    },
    "id": "uGaUWO8bz5Jw",
    "outputId": "c1d63cb6-e848-4149-e027-0329329642c5"
   },
   "outputs": [
    {
     "data": {
      "text/plain": [
       "299.96749830710826"
      ]
     },
     "execution_count": 8,
     "metadata": {},
     "output_type": "execute_result"
    }
   ],
   "source": [
    "norm_rv = stats.norm(loc=300, scale=100)\n",
    "\n",
    "# вся генеральная совокупность \n",
    "x_mamont = norm_rv.rvs(size = 10**6)\n",
    "\n",
    "theta_real = np.mean(x_mamont) # настоящее среднее\n",
    "theta_real"
   ]
  },
  {
   "cell_type": "markdown",
   "metadata": {
    "id": "FcSR-C7h03OP"
   },
   "source": [
    "**Пример (мамонтоборцы)**"
   ]
  },
  {
   "cell_type": "markdown",
   "metadata": {
    "id": "P9v3Xwkvz5Jy"
   },
   "source": [
    "__Шаманы и их оценки:__\n",
    "\n",
    "\\begin{equation*}\n",
    "\\begin{aligned}\n",
    "& \\hat \\theta_{od} = \\frac{1}{n}\\sum_{i=1}^{n} x_i \\\\\n",
    "& \\hat \\theta_{pe} = \\frac{1}{n}\\sum_{i=1}^{n} x_i - \\frac{4200}{n} \\\\\n",
    "& \\hat \\theta_{ap} = \\frac{1}{n}\\sum_{i=1}^{n} x_i - \\frac{5 \\cdot (n+1)}{n} \\\\\n",
    "\\end{aligned}\n",
    "\\end{equation*}"
   ]
  },
  {
   "cell_type": "code",
   "execution_count": 9,
   "metadata": {
    "executionInfo": {
     "elapsed": 2997,
     "status": "ok",
     "timestamp": 1645523327845,
     "user": {
      "displayName": "Ilya A",
      "photoUrl": "https://lh3.googleusercontent.com/a-/AOh14GiSa8oddSgsU03OOnvGn7Dk96PjoJwbTrHh_f7oDw=s64",
      "userId": "17148912465935982955"
     },
     "user_tz": -180
    },
    "id": "Mvb93LnBz5Jz"
   },
   "outputs": [],
   "source": [
    "theta_hat = np.zeros((100, 50))\n",
    "\n",
    "for n in range(100, 10100, 100): # поднимаемся выше и видим больше мамонтов\n",
    "    \n",
    "    # 50 выборок с повторениями для простоты \n",
    "    x_sample = np.random.choice(x_mamont, size = (n, 50), replace=False)\n",
    "    \n",
    "    # 50 разных оценок \n",
    "    x_mean = np.mean(x_sample, axis=0) \n",
    "    \n",
    "    theta_hat[n//100 - 1] = x_mean                # состоятельная, несмещенная\n",
    "    #theta_hat[n//100 - 1] = (x_mean - 4200/n)     # состоятельная, несмещенная ассимптотические\n",
    "    #theta_hat[n//100 - 1] = (x_mean - 5*(n+1)/n)   # несостоятельная "
   ]
  },
  {
   "cell_type": "code",
   "execution_count": 10,
   "metadata": {
    "colab": {
     "base_uri": "https://localhost:8080/"
    },
    "executionInfo": {
     "elapsed": 13,
     "status": "ok",
     "timestamp": 1645523327847,
     "user": {
      "displayName": "Ilya A",
      "photoUrl": "https://lh3.googleusercontent.com/a-/AOh14GiSa8oddSgsU03OOnvGn7Dk96PjoJwbTrHh_f7oDw=s64",
      "userId": "17148912465935982955"
     },
     "user_tz": -180
    },
    "id": "AUbbGKr9z5J0",
    "outputId": "37d0ad2c-75bf-4e7b-9e3c-5e1743bcdcdb"
   },
   "outputs": [
    {
     "data": {
      "text/plain": [
       "(100, 50)"
      ]
     },
     "execution_count": 10,
     "metadata": {},
     "output_type": "execute_result"
    }
   ],
   "source": [
    "theta_hat.shape"
   ]
  },
  {
   "cell_type": "code",
   "execution_count": 11,
   "metadata": {
    "colab": {
     "base_uri": "https://localhost:8080/",
     "height": 511
    },
    "executionInfo": {
     "elapsed": 1417,
     "status": "ok",
     "timestamp": 1645523329256,
     "user": {
      "displayName": "Ilya A",
      "photoUrl": "https://lh3.googleusercontent.com/a-/AOh14GiSa8oddSgsU03OOnvGn7Dk96PjoJwbTrHh_f7oDw=s64",
      "userId": "17148912465935982955"
     },
     "user_tz": -180
    },
    "id": "xD4eiEaez5J1",
    "outputId": "0f1a67f9-22fd-4193-9198-a08ce40c1d2d",
    "scrolled": false
   },
   "outputs": [
    {
     "data": {
      "image/png": "[encoded data removed]",
      "text/plain": [
       "<Figure size 1008x576 with 1 Axes>"
      ]
     },
     "metadata": {
      "needs_background": "light"
     },
     "output_type": "display_data"
    }
   ],
   "source": [
    "plt.figure(figsize=(14,8))\n",
    "plt.plot(range(100, 10100, 100), theta_hat, c='grey', alpha = 0.3)\n",
    "\n",
    "plt.xlabel('Количество наблюдений', size=24)\n",
    "plt.ylabel('Оценка параметра', size=24)\n",
    "\n",
    "plt.hlines(theta_real, 0, 100, color='blue', lw=4, label='реальное значение')\n",
    "plt.legend(fontsize=20);"
   ]
  },
  {
   "cell_type": "markdown",
   "metadata": {
    "id": "cqtvYmSJz5J2"
   },
   "source": [
    "__Ещё раз, ещё раз:__ нельзя путать состоятельности и несмещённость. Состоятельность означает, что мы при расширении выборки приходим к истине. Несмещённость, что мы при фиксированном размере выборке в среднем не ошибаемся. Состоятельность это то свойство оценки, за которое стоит бороться. Без этого свойства нет никакого смысла использовать оценку. "
   ]
  },
  {
   "cell_type": "markdown",
   "metadata": {
    "id": "mwsRX080z5Kv"
   },
   "source": [
    "# Эффективность \n",
    "\n",
    "Предположим, что у нас есть две оценки. Они обе классные, несмещённые и состоятельные. Возникает вопрос: а какую взять то? Для того, чтобы выбрать, вводят свойство эффективности. \n",
    "\n",
    "__Определение:__ Оценка $\\hat \\theta$ параметра $\\theta$ называется __эффективной в некотором классе оценок,__ если её дисперсия, $Var(\\hat \\theta)$ в этом классе оценок, при заданном объёме выборке минимальна. \n",
    "\n",
    "Зачем это нужно? Для того, чтобы доверительные интервалы для оценок были как можно уже, то есть для того, чтобы оценка была как можно точнее."
   ]
  },
  {
   "cell_type": "markdown",
   "metadata": {
    "id": "l_Xh01bTz5Kx"
   },
   "source": [
    "**Две оценки** 𝑈[0;𝜃]\n",
    "\n"
   ]
  },
  {
   "cell_type": "markdown",
   "metadata": {},
   "source": [
    "У нас есть выборка $x_1, \\ldots, x_n \\sim iid \\hspace{2mm} U[0; \\theta]$. Мы оценили параметр $\\theta$ двумя способами. Методом моментов и методом максимального правдоподобия: \n",
    "\n",
    "\n",
    "$$\\hat \\theta_{MM} = 2 \\bar x, \\qquad \\qquad \\hat \\theta_{ML} = \\frac{n+1}{n} \\cdot x_{max}$$\n",
    "\n",
    "Обе оценки оказались несмещёнными и состоятельными. Какую из них выбрать? Ответ прост: надо понять какая из них эффективнее.  \n",
    "\n",
    "Сгенерируйте выборку оценок каждого вида. Постройте по ним гистограммы и найдите этот простой ответ."
   ]
  },
  {
   "cell_type": "code",
   "execution_count": 12,
   "metadata": {
    "executionInfo": {
     "elapsed": 36,
     "status": "ok",
     "timestamp": 1645523329258,
     "user": {
      "displayName": "Ilya A",
      "photoUrl": "https://lh3.googleusercontent.com/a-/AOh14GiSa8oddSgsU03OOnvGn7Dk96PjoJwbTrHh_f7oDw=s64",
      "userId": "17148912465935982955"
     },
     "user_tz": -180
    },
    "id": "6cWHSYxaz5Ky"
   },
   "outputs": [],
   "source": [
    "uniform_rv = stats.uniform(0, 5)"
   ]
  },
  {
   "cell_type": "code",
   "execution_count": 13,
   "metadata": {
    "colab": {
     "base_uri": "https://localhost:8080/"
    },
    "executionInfo": {
     "elapsed": 34,
     "status": "ok",
     "timestamp": 1645523329259,
     "user": {
      "displayName": "Ilya A",
      "photoUrl": "https://lh3.googleusercontent.com/a-/AOh14GiSa8oddSgsU03OOnvGn7Dk96PjoJwbTrHh_f7oDw=s64",
      "userId": "17148912465935982955"
     },
     "user_tz": -180
    },
    "id": "W8D8JmCVz5Ky",
    "outputId": "f1cf0f29-278a-47eb-8628-7440152b4cb4"
   },
   "outputs": [
    {
     "data": {
      "text/plain": [
       "(100, 1000)"
      ]
     },
     "execution_count": 13,
     "metadata": {},
     "output_type": "execute_result"
    }
   ],
   "source": [
    "n_obs = 100\n",
    "\n",
    "# 1000 выборок размера n_obs\n",
    "x = uniform_rv.rvs(size = (n_obs, 1000))\n",
    "x.shape"
   ]
  },
  {
   "cell_type": "code",
   "execution_count": 14,
   "metadata": {},
   "outputs": [
    {
     "data": {
      "text/plain": [
       "array([2.40362272, 2.63524991, 2.77298007, 2.6331307 , 2.58848083,\n",
       "       2.53840335, 2.47143472, 2.72232109, 2.37455085, 2.53206471,\n",
       "       2.70722191, 2.66884747, 2.43253969, 2.54603921, 2.7404299 ,\n",
       "       2.38886715, 2.4379201 , 2.59029318, 2.48419833, 2.54744478,\n",
       "       2.7146179 , 2.45017855, 2.46342442, 2.5627678 , 2.36903736,\n",
       "       2.44210238, 2.43408205, 2.75750678, 2.49105785, 2.46015809,\n",
       "       2.45203798, 2.13241623, 2.51422363, 2.525862  , 2.42911529,\n",
       "       2.63435197, 2.52895602, 2.36744306, 2.58795956, 2.4739975 ,\n",
       "       2.9213191 , 2.54451626, 2.57131738, 2.85218033, 2.39342492,\n",
       "       2.60391669, 2.79479491, 2.64943304, 2.79381616, 2.5303701 ,\n",
       "       2.76989284, 2.35563667, 2.56221343, 2.37712326, 2.70945726,\n",
       "       2.52032026, 2.55936542, 2.51229301, 2.40076219, 2.63359658,\n",
       "       2.40400856, 2.60534346, 2.61443349, 2.6269109 , 2.62412652,\n",
       "       2.5423835 , 2.52492407, 2.66444855, 2.91100379, 2.35065897,\n",
       "       2.58940592, 2.54452337, 2.47497065, 2.76083021, 2.39760417,\n",
       "       2.35615955, 2.53889339, 2.27830832, 2.66828608, 2.31993533,\n",
       "       2.45578591, 2.45992898, 2.44629371, 2.45759699, 2.47641676,\n",
       "       2.47293329, 2.5522853 , 2.32093644, 2.38448496, 2.48444687,\n",
       "       2.39973366, 2.39573122, 2.57055339, 2.34505416, 2.42913701,\n",
       "       2.27487135, 2.54353736, 2.61203837, 2.41846033, 2.5241405 ,\n",
       "       2.42831349, 2.65031946, 2.25996105, 2.63019327, 2.72684104,\n",
       "       2.64118623, 2.32893588, 2.49527752, 2.30913639, 2.5367509 ,\n",
       "       2.58726045, 2.59904333, 2.42952772, 2.69168108, 2.38717616,\n",
       "       2.54176937, 2.44750002, 2.57670241, 2.44666476, 2.50739032,\n",
       "       2.39975277, 2.38431108, 2.61159538, 2.32815233, 2.34458005,\n",
       "       2.50686046, 2.51854271, 2.52165948, 2.53846063, 2.4836608 ,\n",
       "       2.49189846, 2.50564461, 2.48499735, 2.6107384 , 2.39742303,\n",
       "       2.36248476, 2.60103506, 2.49561386, 2.70172833, 2.60710481,\n",
       "       2.46357306, 2.46311764, 2.67885401, 2.71045898, 2.64640282,\n",
       "       2.52626568, 2.71519086, 2.76287638, 2.57242024, 2.51263844,\n",
       "       2.46820041, 2.50931332, 2.20109326, 2.56950476, 2.60020207,\n",
       "       2.45306358, 2.24807502, 2.25560472, 2.87787797, 2.67060413,\n",
       "       2.47696651, 2.62423679, 2.74212253, 2.40329588, 2.57367117,\n",
       "       2.49175291, 2.33894616, 2.62380172, 2.55776211, 2.73554021,\n",
       "       2.38752088, 2.19536763, 2.40051402, 2.49245423, 2.55212798,\n",
       "       2.497627  , 2.41327929, 2.31929148, 2.65598404, 2.85900909,\n",
       "       2.38339783, 2.40341008, 2.6184609 , 2.59455306, 2.67784159,\n",
       "       2.69206376, 2.64893627, 2.61938998, 2.39028492, 2.57811369,\n",
       "       2.45385273, 2.56989152, 2.37608804, 2.65441444, 2.60067118,\n",
       "       2.4504261 , 2.47270843, 2.78469693, 2.44807074, 2.37833099,\n",
       "       2.41770184, 2.44394553, 2.52147967, 2.64937612, 2.54702844,\n",
       "       2.43817996, 2.64821418, 2.52004015, 2.41519364, 2.53467238,\n",
       "       2.51168215, 2.5892965 , 2.53578388, 2.60252412, 2.29894829,\n",
       "       2.46452225, 2.37726634, 2.37691107, 2.26159821, 2.6118604 ,\n",
       "       2.75702422, 2.46003859, 2.28299111, 2.47837958, 2.64326796,\n",
       "       2.7314425 , 2.51840566, 2.43565978, 2.51102265, 2.43593066,\n",
       "       2.47474846, 2.39831821, 2.42226779, 2.49011435, 2.31371055,\n",
       "       2.37969775, 2.48802429, 2.50749601, 2.62838263, 2.6159186 ,\n",
       "       2.45358656, 2.50178331, 2.3714368 , 2.44303904, 2.41202006,\n",
       "       2.3226054 , 2.72746657, 2.32754191, 2.52551559, 2.4062885 ,\n",
       "       2.27371412, 2.74169985, 2.34250002, 2.57910145, 2.37471016,\n",
       "       2.3090841 , 2.47711752, 2.45343854, 2.53195681, 2.70063835,\n",
       "       2.38268322, 2.32990209, 2.36063032, 2.68315253, 2.43567768,\n",
       "       2.68234266, 2.71000128, 2.27558622, 2.4907499 , 2.55799483,\n",
       "       2.37347144, 2.77286308, 2.33059547, 2.22588955, 2.45426912,\n",
       "       2.36980478, 2.40942646, 2.39476466, 2.55564609, 2.72778776,\n",
       "       2.49704508, 2.36814988, 2.65535288, 2.54178421, 2.89328621,\n",
       "       2.4775502 , 2.63980578, 2.82367514, 2.53391386, 2.60430952,\n",
       "       2.38127573, 2.55409484, 2.28357941, 2.53362906, 2.62246742,\n",
       "       2.36076308, 2.43537067, 2.45082717, 2.63466483, 2.31563561,\n",
       "       2.44885092, 2.36766704, 2.41319972, 2.42678662, 2.49618095,\n",
       "       2.32199356, 2.7414952 , 2.52418588, 2.48461152, 2.50387589,\n",
       "       2.51946179, 2.4102231 , 2.67801951, 2.53061506, 2.39472036,\n",
       "       2.44570376, 2.31244674, 2.45437165, 2.49286276, 2.61986049,\n",
       "       2.78450564, 2.31233386, 2.53028525, 2.50174215, 2.52012248,\n",
       "       2.40785845, 2.87359331, 2.38268279, 2.57412393, 2.55109082,\n",
       "       2.27975352, 2.55047044, 2.79509165, 2.42951674, 2.33866845,\n",
       "       2.50819136, 2.58116268, 2.71828103, 2.51653926, 2.59721831,\n",
       "       2.48464154, 2.48029173, 2.35611275, 2.579251  , 2.54536667,\n",
       "       2.32591994, 2.46520188, 2.72375886, 2.72914547, 2.44281413,\n",
       "       2.45820067, 2.49876861, 2.33093385, 2.40555942, 2.46440004,\n",
       "       2.58736407, 2.69877978, 2.66350174, 2.41760991, 2.30077562,\n",
       "       2.27350555, 2.3654581 , 2.69807335, 2.40971426, 2.54769521,\n",
       "       2.51085343, 2.51801551, 2.38861143, 2.69637176, 2.45943018,\n",
       "       2.25985524, 2.29793602, 2.35579702, 2.44575468, 2.31855369,\n",
       "       2.43094358, 2.44469094, 2.43212465, 2.7160304 , 2.70397006,\n",
       "       2.54744026, 2.7641939 , 2.36940221, 2.48582263, 2.52065066,\n",
       "       2.44488377, 2.25670351, 2.74202554, 2.44170842, 2.1468894 ,\n",
       "       2.48630638, 2.95809877, 2.47058692, 2.62205489, 2.63769803,\n",
       "       2.43340798, 2.53122959, 2.5126762 , 2.79685347, 2.48905726,\n",
       "       2.75786842, 2.70191695, 2.72796909, 2.48382129, 2.71844231,\n",
       "       2.65480551, 2.3867285 , 2.47677873, 2.49779381, 2.71970031,\n",
       "       2.47491453, 2.56911047, 2.34819412, 2.63319189, 2.69905298,\n",
       "       2.6627191 , 2.69351635, 2.40517548, 2.36002264, 2.30637877,\n",
       "       2.25645433, 2.19829692, 2.69366565, 2.6318498 , 2.3881483 ,\n",
       "       2.39040594, 2.38152442, 2.44292498, 2.52540305, 2.7789108 ,\n",
       "       2.63257199, 2.58464956, 2.52671769, 2.40495413, 2.50475709,\n",
       "       2.35027684, 2.5623591 , 2.65988877, 2.48495254, 2.50516625,\n",
       "       2.35004702, 2.40858021, 2.38200579, 2.58328048, 2.69155535,\n",
       "       2.80023554, 2.16302716, 2.66662058, 2.45152853, 2.4102641 ,\n",
       "       2.42054774, 2.61263611, 2.40596401, 2.4958043 , 2.52591611,\n",
       "       2.4055017 , 2.47715898, 2.45456858, 2.34573024, 2.54309289,\n",
       "       2.46147428, 2.44610354, 2.15969377, 2.71071505, 2.4192267 ,\n",
       "       2.48905563, 2.44149813, 2.24217373, 2.38716484, 2.6455443 ,\n",
       "       2.44216985, 2.34243984, 2.57183648, 2.37025118, 2.52278753,\n",
       "       2.32763856, 2.53978015, 2.47784354, 2.63491031, 2.46744745,\n",
       "       2.58146927, 2.33276096, 2.72708435, 2.55796375, 2.24660733,\n",
       "       2.50943115, 2.61017047, 2.13602597, 2.66843778, 2.5018818 ,\n",
       "       2.38124082, 2.68591655, 2.72221   , 2.47263137, 2.50725177,\n",
       "       2.39481518, 2.48005653, 2.3644949 , 2.49060285, 2.39413356,\n",
       "       2.62282253, 2.45320875, 2.40209665, 2.43938232, 2.45201657,\n",
       "       2.67413432, 2.38604108, 2.58048499, 2.56127593, 2.4688378 ,\n",
       "       2.53958268, 2.35832245, 2.47772825, 2.30251203, 2.36539158,\n",
       "       2.53342117, 2.36824102, 2.75848267, 2.24587264, 2.60457383,\n",
       "       2.32663923, 2.58101754, 2.68240817, 2.7386885 , 2.83515716,\n",
       "       2.54103383, 2.62115946, 2.61179432, 2.55836514, 2.59719865,\n",
       "       2.7134417 , 2.46019149, 2.30223494, 2.5679394 , 2.16884745,\n",
       "       2.43805855, 2.52877458, 2.53440582, 2.55333041, 2.47402898,\n",
       "       2.25563659, 2.54995117, 2.58656113, 2.63640826, 2.40681778,\n",
       "       2.25199474, 2.496906  , 2.45331397, 2.49979457, 2.39347067,\n",
       "       2.4831061 , 2.33955863, 2.54517606, 2.43161917, 2.62654133,\n",
       "       2.18361152, 2.46364817, 2.60586932, 2.64036172, 2.71277302,\n",
       "       2.60272024, 2.476229  , 2.61174308, 2.459405  , 2.45832295,\n",
       "       2.34793065, 2.53372056, 2.57670435, 2.21072103, 2.75731444,\n",
       "       2.68770886, 2.31099844, 2.77993638, 2.65026041, 2.58538463,\n",
       "       2.38996484, 2.34636906, 2.44318739, 2.40959354, 2.60895276,\n",
       "       2.40325549, 2.64953274, 2.30592844, 2.56330905, 2.77583532,\n",
       "       2.6002926 , 2.58585514, 2.64354884, 2.39847482, 2.47643417,\n",
       "       2.48923213, 2.24776449, 2.46552682, 2.50641064, 2.26040607,\n",
       "       2.5305932 , 2.24512284, 2.39990915, 2.59411012, 2.55427581,\n",
       "       2.69013561, 2.41954937, 2.81835159, 2.53975612, 2.52750985,\n",
       "       2.63746318, 2.54471023, 2.34354242, 2.57281629, 2.44666932,\n",
       "       2.38592797, 2.73486388, 2.46904652, 2.48062186, 2.66038842,\n",
       "       2.61519622, 2.02724414, 2.49307444, 2.49679136, 2.33283894,\n",
       "       2.57111235, 2.65974091, 2.560379  , 2.64262118, 2.58362885,\n",
       "       2.36933958, 2.41848965, 2.55036686, 2.61724161, 2.62418914,\n",
       "       2.46860633, 2.65458187, 2.40833287, 2.59002129, 2.66004503,\n",
       "       2.64169599, 2.34228346, 2.6189029 , 2.35701669, 2.46994996,\n",
       "       2.67030804, 2.59068677, 2.64895398, 2.4947383 , 2.57205794,\n",
       "       2.39187995, 2.46758317, 2.44516099, 2.51352739, 2.50379788,\n",
       "       2.70145898, 2.51782416, 2.62544836, 2.61113228, 2.55110506,\n",
       "       2.74193049, 2.38641348, 2.430303  , 2.31046629, 2.39702266,\n",
       "       2.18849572, 2.37469146, 2.6993203 , 2.44797275, 2.49934325,\n",
       "       2.49490915, 2.21024175, 2.4322051 , 2.53646705, 2.49366394,\n",
       "       2.3898461 , 2.08446114, 2.36072697, 2.13582274, 2.44881215,\n",
       "       2.55308458, 2.52236922, 2.56126209, 2.63272127, 2.32882403,\n",
       "       2.20180791, 2.26177991, 2.48671394, 2.34032119, 2.26442582,\n",
       "       2.53356699, 2.67311978, 2.71831384, 2.34043005, 2.38324744,\n",
       "       2.45406834, 2.59320492, 2.46810181, 2.54558203, 2.39086627,\n",
       "       2.65696113, 2.42439049, 2.44437506, 2.18091922, 2.38366645,\n",
       "       2.74850504, 2.70943063, 2.56567129, 2.36157917, 2.35380953,\n",
       "       2.5383559 , 2.37387646, 2.44209377, 2.31186695, 2.57112473,\n",
       "       2.65100596, 2.34223338, 2.35497062, 2.33692649, 2.33496198,\n",
       "       2.27008328, 2.46389235, 2.36278073, 2.43059561, 2.31717832,\n",
       "       2.74576324, 2.31845223, 2.42439136, 2.47636843, 2.21796795,\n",
       "       2.41072569, 2.51720928, 2.27484025, 2.63922471, 2.37729432,\n",
       "       2.58767121, 2.74905541, 2.7569629 , 2.55277584, 2.40125184,\n",
       "       2.56635431, 2.49288777, 2.30027634, 2.62162164, 2.76385512,\n",
       "       2.41488076, 2.4827302 , 2.25791643, 2.58997781, 2.68355139,\n",
       "       2.48457423, 2.5129931 , 2.50128852, 2.39177969, 2.29305235,\n",
       "       2.48780092, 2.45066873, 2.61305462, 2.52212319, 2.21583858,\n",
       "       2.30300793, 2.46291428, 2.56137349, 2.63521806, 2.40418096,\n",
       "       2.53276495, 2.36701742, 2.6067629 , 2.4751343 , 2.48802771,\n",
       "       2.63081426, 2.37809325, 2.24909791, 2.20523708, 2.32067793,\n",
       "       2.54380589, 2.41841012, 2.26724511, 2.62185493, 2.26286487,\n",
       "       2.45602741, 2.36486075, 2.52516811, 2.69870702, 2.54243913,\n",
       "       2.53076666, 2.28049734, 2.73336209, 2.52646244, 2.64643954,\n",
       "       2.29404986, 2.5620999 , 2.5259078 , 2.42370821, 2.78215834,\n",
       "       2.42664903, 2.62445749, 2.60230046, 2.53456643, 2.49992991,\n",
       "       2.42678985, 2.66892419, 2.53543669, 2.62534173, 2.47922005,\n",
       "       2.47517815, 2.39199949, 2.67154031, 2.38616711, 2.59876704,\n",
       "       2.48198783, 2.3687476 , 2.62753282, 2.35656592, 2.27244504,\n",
       "       2.65615981, 2.58390298, 2.27022538, 2.46154145, 2.66316319,\n",
       "       2.52957077, 2.56091414, 2.61616333, 2.56739288, 2.44351797,\n",
       "       2.4891538 , 2.39784635, 2.45100276, 2.63932063, 2.52631945,\n",
       "       2.34742343, 2.22298998, 2.37163313, 2.56228686, 2.55938863,\n",
       "       2.45371255, 2.58907165, 2.44090931, 2.33543603, 2.36974406,\n",
       "       2.6136561 , 2.630726  , 2.67726557, 2.51361325, 2.45397198,\n",
       "       2.95068938, 2.53957825, 2.77426279, 2.40837585, 2.44055154,\n",
       "       2.74824987, 2.67293432, 2.58962738, 2.54756391, 2.86134919,\n",
       "       2.67847415, 2.3739615 , 2.62867815, 2.51431106, 2.56231443,\n",
       "       2.46363434, 2.3855201 , 2.52157589, 2.4991107 , 2.52989413,\n",
       "       2.35386905, 2.60925951, 2.61566773, 2.4952016 , 2.52572258,\n",
       "       2.49930444, 2.52545455, 2.61400468, 2.45992014, 2.60212058,\n",
       "       2.50157895, 2.44194833, 2.46950912, 2.62187079, 2.62402579,\n",
       "       2.74288195, 2.57820082, 2.52096839, 2.44056374, 2.43493337,\n",
       "       2.54405791, 2.56450077, 2.44049963, 2.43576879, 2.55340644,\n",
       "       2.44609812, 2.30767975, 2.47187139, 2.55551737, 2.3526101 ,\n",
       "       2.38596401, 2.42667463, 2.6631409 , 2.58630343, 2.3896466 ,\n",
       "       2.47787832, 2.70786213, 2.42893565, 2.442247  , 2.58451868,\n",
       "       2.62753683, 2.55924745, 2.53040405, 2.30192643, 2.46324907,\n",
       "       2.42721133, 2.69003841, 2.46778503, 2.41715505, 2.39011789,\n",
       "       2.37672314, 2.62080228, 2.71227286, 2.66629377, 2.38778647,\n",
       "       2.64677228, 2.47695224, 2.43729536, 2.4920044 , 2.41732543,\n",
       "       2.69213149, 2.54279587, 2.33080096, 2.52823488, 2.50049012,\n",
       "       2.48332211, 2.54235619, 2.22153092, 2.63930415, 2.84355418,\n",
       "       2.54760079, 2.49121374, 2.52524498, 2.40558357, 2.18293671,\n",
       "       2.70183995, 2.56605093, 2.55178311, 2.7229271 , 2.49289649,\n",
       "       2.45861788, 2.68219139, 2.34483269, 2.59476289, 2.51052385,\n",
       "       2.58788848, 2.63211166, 2.49410009, 2.70628807, 2.60856119,\n",
       "       2.53938264, 2.639936  , 2.45374399, 2.68115777, 2.45277487,\n",
       "       2.59300183, 2.30129938, 2.25761042, 2.51525488, 2.51290309,\n",
       "       2.62403045, 2.59797519, 2.38597075, 2.34971652, 2.74227726,\n",
       "       2.54338405, 2.68842337, 2.18467195, 2.47623145, 2.48920679,\n",
       "       2.57452468, 2.6809171 , 2.58117908, 2.40240596, 2.33827512,\n",
       "       2.47151565, 2.52686572, 2.33899583, 2.53386312, 2.37059607,\n",
       "       2.66567286, 2.42434475, 2.38668302, 2.36931504, 2.36517692,\n",
       "       2.76164833, 2.76675584, 2.42107107, 2.48698328, 2.45160147,\n",
       "       2.33329564, 2.39726421, 2.52360857, 2.7567598 , 2.37284561,\n",
       "       2.5036844 , 2.4653549 , 2.34230145, 2.65380661, 2.75284192])"
      ]
     },
     "execution_count": 14,
     "metadata": {},
     "output_type": "execute_result"
    }
   ],
   "source": [
    "np.mean(x, axis=0)"
   ]
  },
  {
   "cell_type": "code",
   "execution_count": 15,
   "metadata": {
    "executionInfo": {
     "elapsed": 30,
     "status": "ok",
     "timestamp": 1645523329261,
     "user": {
      "displayName": "Ilya A",
      "photoUrl": "https://lh3.googleusercontent.com/a-/AOh14GiSa8oddSgsU03OOnvGn7Dk96PjoJwbTrHh_f7oDw=s64",
      "userId": "17148912465935982955"
     },
     "user_tz": -180
    },
    "id": "vnKYp00Cz5K2"
   },
   "outputs": [],
   "source": [
    "# первая оценка \n",
    "theta_1 = 2*np.mean(x, axis=0)\n",
    "\n",
    "# вторая оценка \n",
    "theta_2 = (n_obs + 1)/n_obs*np.max(x, axis=0)"
   ]
  },
  {
   "cell_type": "code",
   "execution_count": 16,
   "metadata": {},
   "outputs": [
    {
     "data": {
      "text/plain": [
       "(5.007589256098454, 4.997583225973603)"
      ]
     },
     "execution_count": 16,
     "metadata": {},
     "output_type": "execute_result"
    }
   ],
   "source": [
    "theta_1.mean(), theta_2.mean()"
   ]
  },
  {
   "cell_type": "code",
   "execution_count": 17,
   "metadata": {
    "colab": {
     "base_uri": "https://localhost:8080/",
     "height": 374
    },
    "executionInfo": {
     "elapsed": 33,
     "status": "ok",
     "timestamp": 1645523329264,
     "user": {
      "displayName": "Ilya A",
      "photoUrl": "https://lh3.googleusercontent.com/a-/AOh14GiSa8oddSgsU03OOnvGn7Dk96PjoJwbTrHh_f7oDw=s64",
      "userId": "17148912465935982955"
     },
     "user_tz": -180
    },
    "id": "ELhz2lmGz5K3",
    "outputId": "b8f7343c-1930-45f0-fcb5-b8d53e11a277"
   },
   "outputs": [
    {
     "data": {
      "image/png": "[encoded data removed]",
      "text/plain": [
       "<Figure size 864x432 with 1 Axes>"
      ]
     },
     "metadata": {
      "needs_background": "light"
     },
     "output_type": "display_data"
    }
   ],
   "source": [
    "plt.figure(figsize=(12,6))\n",
    "plt.hist(theta_1, bins=100, alpha=0.5, label='Moment method')\n",
    "plt.hist(theta_2, bins=50, alpha=0.5, label='ML method')\n",
    "plt.legend();"
   ]
  },
  {
   "cell_type": "markdown",
   "metadata": {
    "id": "AUpiTiPQz5K4"
   },
   "source": [
    "Видим, что у оценки максимального правдоподобия разброс оказался меньше.  "
   ]
  },
  {
   "cell_type": "code",
   "execution_count": 18,
   "metadata": {
    "colab": {
     "base_uri": "https://localhost:8080/"
    },
    "executionInfo": {
     "elapsed": 32,
     "status": "ok",
     "timestamp": 1645523329266,
     "user": {
      "displayName": "Ilya A",
      "photoUrl": "https://lh3.googleusercontent.com/a-/AOh14GiSa8oddSgsU03OOnvGn7Dk96PjoJwbTrHh_f7oDw=s64",
      "userId": "17148912465935982955"
     },
     "user_tz": -180
    },
    "id": "gvOsGdCgz5K6",
    "outputId": "4df140f3-24d0-4ef4-c7ab-19c0a72af3b2"
   },
   "outputs": [
    {
     "data": {
      "text/plain": [
       "0.08110588216585526"
      ]
     },
     "execution_count": 18,
     "metadata": {},
     "output_type": "execute_result"
    }
   ],
   "source": [
    "np.var(theta_1)"
   ]
  },
  {
   "cell_type": "code",
   "execution_count": 19,
   "metadata": {
    "colab": {
     "base_uri": "https://localhost:8080/"
    },
    "executionInfo": {
     "elapsed": 29,
     "status": "ok",
     "timestamp": 1645523329267,
     "user": {
      "displayName": "Ilya A",
      "photoUrl": "https://lh3.googleusercontent.com/a-/AOh14GiSa8oddSgsU03OOnvGn7Dk96PjoJwbTrHh_f7oDw=s64",
      "userId": "17148912465935982955"
     },
     "user_tz": -180
    },
    "id": "bqitqkzLz5K6",
    "outputId": "fa539035-8b34-4197-af71-c4bbec00fad4"
   },
   "outputs": [
    {
     "data": {
      "text/plain": [
       "0.0027439031658640476"
      ]
     },
     "execution_count": 19,
     "metadata": {},
     "output_type": "execute_result"
    }
   ],
   "source": [
    "np.var(theta_2)"
   ]
  },
  {
   "cell_type": "markdown",
   "metadata": {
    "id": "VclHAI_sz5K7"
   },
   "source": [
    "На практике следовало бы выбрать её. Когда у оценки самый маленький разброс в каком-то классе (например, в классе несмещённых оценок), её называют __эффективной__ в этом классе. \n",
    "\n",
    "Кстати говоря, для оценок из этого упражнения, можно руками выяснить, что: \n",
    "\n",
    "$$ E(\\hat \\theta_{MM} - \\theta)^2 = \\frac{\\theta^2}{3n} \\qquad \\qquad E(\\hat \\theta_{ML} - \\theta)^2 = \\frac{2 \\theta^2}{n(n+1)}.$$\n",
    "\n",
    "Получится, что при $n = 1,2$ дисперсии совпадут. При $n >2$ оценка максимального правдоподобия будет обладать меньшей дисперсией. Вывод этих формул руками можно посмотреть в [книге Черновой](https://nsu.ru/mmf/tvims/chernova/ms/ms_nsu07.pdf) на странице 33 (Пример 13)."
   ]
  },
  {
   "cell_type": "markdown",
   "metadata": {
    "id": "J5t2YAXSz5K7"
   },
   "source": [
    " "
   ]
  }
 ],
 "metadata": {
  "colab": {
   "collapsed_sections": [],
   "name": "02_estimators.ipynb",
   "provenance": [],
   "toc_visible": true
  },
  "kernelspec": {
   "display_name": "Python 3",
   "language": "python",
   "name": "python3"
  },
  "language_info": {
   "codemirror_mode": {
    "name": "ipython",
    "version": 3
   },
   "file_extension": ".py",
   "mimetype": "text/x-python",
   "name": "python",
   "nbconvert_exporter": "python",
   "pygments_lexer": "ipython3",
   "version": "3.8.8"
  },
  "toc": {
   "base_numbering": 1,
   "nav_menu": {},
   "number_sections": true,
   "sideBar": true,
   "skip_h1_title": false,
   "title_cell": "Table of Contents",
   "title_sidebar": "Contents",
   "toc_cell": true,
   "toc_position": {},
   "toc_section_display": true,
   "toc_window_display": true
  }
 },
 "nbformat": 4,
 "nbformat_minor": 1
}
