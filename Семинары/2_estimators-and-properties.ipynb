{
 "cells": [
  {
   "cell_type": "markdown",
   "metadata": {
    "toc": true
   },
   "source": [
    "<h1>Table of Contents<span class=\"tocSkip\"></span></h1>\n",
    "<div class=\"toc\"><ul class=\"toc-item\"><li><span><a href=\"#Несмещённость\" data-toc-modified-id=\"Несмещённость-1\"><span class=\"toc-item-num\">1&nbsp;&nbsp;</span>Несмещённость</a></span></li><li><span><a href=\"#Состоятельность\" data-toc-modified-id=\"Состоятельность-2\"><span class=\"toc-item-num\">2&nbsp;&nbsp;</span>Состоятельность</a></span></li><li><span><a href=\"#Эффективность\" data-toc-modified-id=\"Эффективность-3\"><span class=\"toc-item-num\">3&nbsp;&nbsp;</span>Эффективность</a></span></li></ul></div>"
   ]
  },
  {
   "cell_type": "markdown",
   "metadata": {
    "id": "NixGOs10ztBk"
   },
   "source": [
    "\n",
    "\n",
    "#  Несмещённость\n",
    "\n",
    "Когда статистик оценивает какой-нибудь параметр, он хочет: \n",
    "\n",
    "* __несмещённость__ (при фиксированном размере выборки мы в среднем не ошибаемся) \n",
    "* __состоятельность__ (при бесконечном расширении выборки мы приходим к истинному значению)\n",
    "* __эффективность__ (у нашей оценки самая маленькая дисперсия для её класса (например, для всех несмещенных оценок))\n",
    "* иногда ещё статистик ссылается на какую-то мифическую __асимптотическую нормальность__ оценки.\n"
   ]
  },
  {
   "cell_type": "code",
   "execution_count": 1,
   "metadata": {
    "executionInfo": {
     "elapsed": 891,
     "status": "ok",
     "timestamp": 1645523323508,
     "user": {
      "displayName": "Ilya A",
      "photoUrl": "https://lh3.googleusercontent.com/a-/AOh14GiSa8oddSgsU03OOnvGn7Dk96PjoJwbTrHh_f7oDw=s64",
      "userId": "17148912465935982955"
     },
     "user_tz": -180
    },
    "id": "6kxawFdxztBl"
   },
   "outputs": [],
   "source": [
    "import numpy as np\n",
    "import pandas as pd\n",
    "\n",
    "from scipy import stats\n",
    "import matplotlib.pyplot as plt\n",
    "import seaborn as sns\n",
    "\n",
    "plt.style.use('ggplot')  # стиль для графиков\n",
    "%matplotlib inline"
   ]
  },
  {
   "cell_type": "markdown",
   "metadata": {
    "id": "6Iwhu6uXztBm"
   },
   "source": [
    "__Определение:__  Оценка $\\hat{\\theta}$ параметра $\\theta$ называется __несмещённой,__ если $\\mathbb{E} (\\hat{\\theta}) = \\theta$."
   ]
  },
  {
   "cell_type": "markdown",
   "metadata": {
    "id": "AeFKdZmKztBn"
   },
   "source": [
    "**Пример (мамонтоборцы)**\n",
    "\n",
    "В долине летучей мыши Шикака живёт племя Вачати. Оно охотится на мамонтов. Древний Бог Оньянкопонга не так давно сгенерировал в долине реки из нормального распределения $10$ тысяч мамонтов со средним весом $300$ кг и стандартным отклонением $100$ кг. "
   ]
  },
  {
   "cell_type": "code",
   "execution_count": 2,
   "metadata": {
    "colab": {
     "base_uri": "https://localhost:8080/"
    },
    "executionInfo": {
     "elapsed": 29,
     "status": "ok",
     "timestamp": 1645523323510,
     "user": {
      "displayName": "Ilya A",
      "photoUrl": "https://lh3.googleusercontent.com/a-/AOh14GiSa8oddSgsU03OOnvGn7Dk96PjoJwbTrHh_f7oDw=s64",
      "userId": "17148912465935982955"
     },
     "user_tz": -180
    },
    "id": "yMmnaTc2ztBo",
    "outputId": "b5f5d62f-96ba-4398-d6a6-4fed04c07c5d"
   },
   "outputs": [
    {
     "data": {
      "text/plain": [
       "300.3765965388024"
      ]
     },
     "execution_count": 2,
     "metadata": {},
     "output_type": "execute_result"
    }
   ],
   "source": [
    "norm_rv = stats.norm(loc=300, scale=100)\n",
    "\n",
    "# вся генеральная совокупность \n",
    "x_mamont = norm_rv.rvs(size = 10**4)\n",
    "\n",
    "np.mean(x_mamont) # настоящее среднее"
   ]
  },
  {
   "cell_type": "markdown",
   "metadata": {
    "id": "d28T9CzbztBq"
   },
   "source": [
    "* Шаман Одэхингум (лёгкое колебание воды) уверен в своём взоре: \n",
    "\n",
    "$$ \\hat \\theta_{od} = \\frac{1}{n}\\sum_{i=1}^{n} x_i.$$\n",
    "\n",
    "* Шаман Пэпина (виноградная лоза, растущая вокруг дуба) не любит, когда его избивают за слишком оптимистичные прогнозы:\n",
    "\n",
    "$$ \\hat \\theta_{pe} = \\frac{1}{n}\\sum_{i=1}^{n} x_i - \\frac{4200}{n}.$$\n",
    "\n",
    "* Шаман Апониви (где ветер вырывает промежуток с корнем) тоже коректирует прогноз:\n",
    "\n",
    "$$ \\hat \\theta_{ap} = \\frac{1}{n}\\sum_{i=1}^{n} x_i - \\frac{5 \\cdot (n+1)}{n}.$$"
   ]
  },
  {
   "cell_type": "code",
   "execution_count": 3,
   "metadata": {
    "executionInfo": {
     "elapsed": 25,
     "status": "ok",
     "timestamp": 1645523323512,
     "user": {
      "displayName": "Ilya A",
      "photoUrl": "https://lh3.googleusercontent.com/a-/AOh14GiSa8oddSgsU03OOnvGn7Dk96PjoJwbTrHh_f7oDw=s64",
      "userId": "17148912465935982955"
     },
     "user_tz": -180
    },
    "id": "TsNejB07ztBq"
   },
   "outputs": [],
   "source": [
    "# Команда нам не подходит, так как она всю матрицу сделает без повторений\n",
    "# np.random.choice(x_mamont, size=(n,m), replace=False)\n",
    "\n",
    "n = 100\n",
    "number_of_samples = 200\n",
    "\n",
    "th_od = np.zeros(number_of_samples)\n",
    "th_pe = np.zeros(number_of_samples)\n",
    "th_ap = np.zeros(number_of_samples)\n",
    "\n",
    "for i in range(number_of_samples):\n",
    "    x_sample = np.random.choice(x_mamont, size=n, replace=False)\n",
    "    x_mean = np.mean(x_sample)\n",
    "    th_od[i] = x_mean\n",
    "    th_pe[i] = x_mean - 4200/n\n",
    "    th_ap[i] = x_mean - 5*(n+1)/n  \n"
   ]
  },
  {
   "cell_type": "code",
   "execution_count": 4,
   "metadata": {},
   "outputs": [
    {
     "data": {
      "text/plain": [
       "(200,)"
      ]
     },
     "execution_count": 4,
     "metadata": {},
     "output_type": "execute_result"
    }
   ],
   "source": [
    "th_od.shape"
   ]
  },
  {
   "cell_type": "code",
   "execution_count": 5,
   "metadata": {
    "colab": {
     "base_uri": "https://localhost:8080/"
    },
    "executionInfo": {
     "elapsed": 25,
     "status": "ok",
     "timestamp": 1645523323513,
     "user": {
      "displayName": "Ilya A",
      "photoUrl": "https://lh3.googleusercontent.com/a-/AOh14GiSa8oddSgsU03OOnvGn7Dk96PjoJwbTrHh_f7oDw=s64",
      "userId": "17148912465935982955"
     },
     "user_tz": -180
    },
    "id": "DYNXjMIyztBr",
    "outputId": "f03af21d-76f3-4e3b-d651-4f44563b051a"
   },
   "outputs": [
    {
     "data": {
      "text/plain": [
       "(300.361236905588, 258.361236905588, 295.31123690558803)"
      ]
     },
     "execution_count": 5,
     "metadata": {},
     "output_type": "execute_result"
    }
   ],
   "source": [
    "# посмотрим на оценки E(\\hat \\theta)\n",
    "np.mean(th_od), np.mean(th_pe), np.mean(th_ap)"
   ]
  },
  {
   "cell_type": "code",
   "execution_count": 6,
   "metadata": {
    "colab": {
     "base_uri": "https://localhost:8080/",
     "height": 374
    },
    "executionInfo": {
     "elapsed": 23,
     "status": "ok",
     "timestamp": 1645523323515,
     "user": {
      "displayName": "Ilya A",
      "photoUrl": "https://lh3.googleusercontent.com/a-/AOh14GiSa8oddSgsU03OOnvGn7Dk96PjoJwbTrHh_f7oDw=s64",
      "userId": "17148912465935982955"
     },
     "user_tz": -180
    },
    "id": "FZbre-7_ztBs",
    "outputId": "ac66f90c-6e4d-4ebe-e996-a09bb70cf822"
   },
   "outputs": [
    {
     "data": {
      "image/png": "[encoded data removed]",
      "text/plain": [
       "<Figure size 864x432 with 1 Axes>"
      ]
     },
     "metadata": {
      "needs_background": "light"
     },
     "output_type": "display_data"
    }
   ],
   "source": [
    "plt.figure(figsize=(12,6))\n",
    "\n",
    "df = pd.DataFrame(zip(th_od, th_pe, th_ap), columns = ['Одэхингум', 'Пэпина', 'Апониви'])\n",
    "sns.boxplot(data = df,);"
   ]
  },
  {
   "cell_type": "markdown",
   "metadata": {
    "id": "vP_QnA8vztBu"
   },
   "source": [
    "Давайте попробуем посмотреть, как ведут себя распределения оценок шаманов в динамике, при росте числа наблюдений.\n",
    "\n",
    "\n",
    "<center>\n",
    "<img src=\"./image/animation_boxplot.gif\" width=\"400\"> \n",
    "</center>\n"
   ]
  },
  {
   "cell_type": "markdown",
   "metadata": {
    "id": "7yeAp1mxztBv"
   },
   "source": [
    "Хех. Шаманы. Детский сад. Подавай нам что-нибудь из бизнеса. Окей, договорились. Давайте предположим, что шаманы прогнозируют не вес мамонта, а то на какую сумму в среднем будут наступать страховые случаи. Ясное дело, что наш  бюджет на статистические исследования довольно сильно ограничен. И ежедневно мы можем собирать информацию только от ограниченного числа респондентов. Если мы стабильно будем на основе этой информации получать смещённую оценку страхового покрытия, то вместо получения прибыли в среднем, мы легко можем оказаться банкротами. \n",
    "\n",
    "__Ещё раз, ещё раз:__ несмещённость это свойство оценки при фиксированном размере выборки $n$. Оно означает, что ошибка \"в среднем\", то есть при систематическом использовании оценки, отсутствует. Это довольно хорошее свойство, но не обязательное. Достаточно, чтобы смещение оценки уменьшалось с ростом объёма выборки. Такая оценка называется асимптотически несмещённой. "
   ]
  },
  {
   "cell_type": "markdown",
   "metadata": {
    "id": "OKAG7WFjz5Js"
   },
   "source": [
    "#  Состоятельность \n"
   ]
  },
  {
   "cell_type": "markdown",
   "metadata": {
    "id": "761LuLEfz5Jv"
   },
   "source": [
    "__Определение:__  Оценка $\\hat \\theta$ параметра $\\theta$ называется __состоятельной,__ если $\\hat \\theta \\to \\theta$ по вероятности при росте $n$. "
   ]
  },
  {
   "cell_type": "code",
   "execution_count": 7,
   "metadata": {
    "colab": {
     "base_uri": "https://localhost:8080/"
    },
    "executionInfo": {
     "elapsed": 1366,
     "status": "ok",
     "timestamp": 1645523324862,
     "user": {
      "displayName": "Ilya A",
      "photoUrl": "https://lh3.googleusercontent.com/a-/AOh14GiSa8oddSgsU03OOnvGn7Dk96PjoJwbTrHh_f7oDw=s64",
      "userId": "17148912465935982955"
     },
     "user_tz": -180
    },
    "id": "uGaUWO8bz5Jw",
    "outputId": "c1d63cb6-e848-4149-e027-0329329642c5"
   },
   "outputs": [
    {
     "data": {
      "text/plain": [
       "300.08294561000463"
      ]
     },
     "execution_count": 7,
     "metadata": {},
     "output_type": "execute_result"
    }
   ],
   "source": [
    "norm_rv = stats.norm(loc=300, scale=100)\n",
    "\n",
    "# вся генеральная совокупность \n",
    "x_mamont = norm_rv.rvs(size = 10**6)\n",
    "\n",
    "theta_real = np.mean(x_mamont) # настоящее среднее\n",
    "theta_real"
   ]
  },
  {
   "cell_type": "markdown",
   "metadata": {
    "id": "FcSR-C7h03OP"
   },
   "source": [
    "**Пример (мамонтоборцы)**"
   ]
  },
  {
   "cell_type": "markdown",
   "metadata": {
    "id": "P9v3Xwkvz5Jy"
   },
   "source": [
    "__Шаманы и их оценки:__\n",
    "\n",
    "\\begin{equation*}\n",
    "\\begin{aligned}\n",
    "& \\hat \\theta_{od} = \\frac{1}{n}\\sum_{i=1}^{n} x_i \\\\\n",
    "& \\hat \\theta_{pe} = \\frac{1}{n}\\sum_{i=1}^{n} x_i - \\frac{4200}{n} \\\\\n",
    "& \\hat \\theta_{ap} = \\frac{1}{n}\\sum_{i=1}^{n} x_i - \\frac{5 \\cdot (n+1)}{n} \\\\\n",
    "\\end{aligned}\n",
    "\\end{equation*}"
   ]
  },
  {
   "cell_type": "code",
   "execution_count": 8,
   "metadata": {
    "executionInfo": {
     "elapsed": 2997,
     "status": "ok",
     "timestamp": 1645523327845,
     "user": {
      "displayName": "Ilya A",
      "photoUrl": "https://lh3.googleusercontent.com/a-/AOh14GiSa8oddSgsU03OOnvGn7Dk96PjoJwbTrHh_f7oDw=s64",
      "userId": "17148912465935982955"
     },
     "user_tz": -180
    },
    "id": "Mvb93LnBz5Jz"
   },
   "outputs": [],
   "source": [
    "theta_hat = np.zeros((100, 50))\n",
    "\n",
    "for n in range(100, 10100, 100): # поднимаемся выше и видим больше мамонтов\n",
    "    \n",
    "    # 50 выборок с повторениями для простоты \n",
    "    x_sample = np.random.choice(x_mamont, size = (n, 50), replace=False)\n",
    "    \n",
    "    # 50 разных оценок \n",
    "    x_mean = np.mean(x_sample, axis=0) \n",
    "    \n",
    "    theta_hat[n//100 - 1] = x_mean                # состоятельная, несмещенная\n",
    "    #theta_hat[n//100 - 1] = (x_mean - 4200/n)     # состоятельная, несмещенная ассимптотические\n",
    "    #theta_hat[n//100 - 1] = (x_mean - 5*(n+1)/n)   # несостоятельная "
   ]
  },
  {
   "cell_type": "code",
   "execution_count": 9,
   "metadata": {
    "colab": {
     "base_uri": "https://localhost:8080/"
    },
    "executionInfo": {
     "elapsed": 13,
     "status": "ok",
     "timestamp": 1645523327847,
     "user": {
      "displayName": "Ilya A",
      "photoUrl": "https://lh3.googleusercontent.com/a-/AOh14GiSa8oddSgsU03OOnvGn7Dk96PjoJwbTrHh_f7oDw=s64",
      "userId": "17148912465935982955"
     },
     "user_tz": -180
    },
    "id": "AUbbGKr9z5J0",
    "outputId": "37d0ad2c-75bf-4e7b-9e3c-5e1743bcdcdb"
   },
   "outputs": [
    {
     "data": {
      "text/plain": [
       "(100, 50)"
      ]
     },
     "execution_count": 9,
     "metadata": {},
     "output_type": "execute_result"
    }
   ],
   "source": [
    "theta_hat.shape"
   ]
  },
  {
   "cell_type": "code",
   "execution_count": 10,
   "metadata": {
    "colab": {
     "base_uri": "https://localhost:8080/",
     "height": 511
    },
    "executionInfo": {
     "elapsed": 1417,
     "status": "ok",
     "timestamp": 1645523329256,
     "user": {
      "displayName": "Ilya A",
      "photoUrl": "https://lh3.googleusercontent.com/a-/AOh14GiSa8oddSgsU03OOnvGn7Dk96PjoJwbTrHh_f7oDw=s64",
      "userId": "17148912465935982955"
     },
     "user_tz": -180
    },
    "id": "xD4eiEaez5J1",
    "outputId": "0f1a67f9-22fd-4193-9198-a08ce40c1d2d",
    "scrolled": false
   },
   "outputs": [
    {
     "data": {
      "image/png": "[encoded data removed]",
      "text/plain": [
       "<Figure size 1008x576 with 1 Axes>"
      ]
     },
     "metadata": {
      "needs_background": "light"
     },
     "output_type": "display_data"
    }
   ],
   "source": [
    "plt.figure(figsize=(14,8))\n",
    "plt.plot(range(100, 10100, 100), theta_hat, c='grey', alpha = 0.3)\n",
    "\n",
    "plt.xlabel('Количество наблюдений', size=24)\n",
    "plt.ylabel('Оценка параметра', size=24)\n",
    "\n",
    "plt.hlines(theta_real, 0, 100, color='blue', lw=4, label='реальное значение')\n",
    "plt.legend(fontsize=20);"
   ]
  },
  {
   "cell_type": "markdown",
   "metadata": {
    "id": "cqtvYmSJz5J2"
   },
   "source": [
    "__Ещё раз, ещё раз:__ нельзя путать состоятельности и несмещённость. Состоятельность означает, что мы при расширении выборки приходим к истине. Несмещённость, что мы при фиксированном размере выборке в среднем не ошибаемся. Состоятельность это то свойство оценки, за которое стоит бороться. Без этого свойства нет никакого смысла использовать оценку. "
   ]
  },
  {
   "cell_type": "markdown",
   "metadata": {
    "id": "mwsRX080z5Kv"
   },
   "source": [
    "# Эффективность \n",
    "\n",
    "Предположим, что у нас есть две оценки. Они обе классные, несмещённые и состоятельные. Возникает вопрос: а какую взять то? Для того, чтобы выбрать, вводят свойство эффективности. \n",
    "\n",
    "__Определение:__ Оценка $\\hat \\theta$ параметра $\\theta$ называется __эффективной в некотором классе оценок,__ если её дисперсия, $Var(\\hat \\theta)$ в этом классе оценок, при заданном объёме выборке минимальна. \n",
    "\n",
    "Зачем это нужно? Для того, чтобы доверительные интервалы для оценок были как можно уже, то есть для того, чтобы оценка была как можно точнее."
   ]
  },
  {
   "cell_type": "markdown",
   "metadata": {
    "id": "l_Xh01bTz5Kx"
   },
   "source": [
    "**Две оценки** 𝑈[0;𝜃]\n",
    "\n"
   ]
  },
  {
   "cell_type": "markdown",
   "metadata": {},
   "source": [
    "У нас есть выборка $x_1, \\ldots, x_n \\sim iid \\hspace{2mm} U[0; \\theta]$. Мы оценили параметр $\\theta$ двумя способами. Методом моментов и методом максимального правдоподобия: \n",
    "\n",
    "\n",
    "$$\\hat \\theta_{MM} = 2 \\bar x, \\qquad \\qquad \\hat \\theta_{ML} = \\frac{n+1}{n} \\cdot x_{max}$$\n",
    "\n",
    "Обе оценки оказались несмещёнными и состоятельными. Какую из них выбрать? Ответ прост: надо понять какая из них эффективнее.  \n",
    "\n",
    "Сгенерируйте выборку оценок каждого вида. Постройте по ним гистограммы и найдите этот простой ответ."
   ]
  },
  {
   "cell_type": "code",
   "execution_count": 11,
   "metadata": {
    "executionInfo": {
     "elapsed": 36,
     "status": "ok",
     "timestamp": 1645523329258,
     "user": {
      "displayName": "Ilya A",
      "photoUrl": "https://lh3.googleusercontent.com/a-/AOh14GiSa8oddSgsU03OOnvGn7Dk96PjoJwbTrHh_f7oDw=s64",
      "userId": "17148912465935982955"
     },
     "user_tz": -180
    },
    "id": "6cWHSYxaz5Ky"
   },
   "outputs": [],
   "source": [
    "uniform_rv = stats.uniform(0, 5)"
   ]
  },
  {
   "cell_type": "code",
   "execution_count": 12,
   "metadata": {
    "colab": {
     "base_uri": "https://localhost:8080/"
    },
    "executionInfo": {
     "elapsed": 34,
     "status": "ok",
     "timestamp": 1645523329259,
     "user": {
      "displayName": "Ilya A",
      "photoUrl": "https://lh3.googleusercontent.com/a-/AOh14GiSa8oddSgsU03OOnvGn7Dk96PjoJwbTrHh_f7oDw=s64",
      "userId": "17148912465935982955"
     },
     "user_tz": -180
    },
    "id": "W8D8JmCVz5Ky",
    "outputId": "f1cf0f29-278a-47eb-8628-7440152b4cb4"
   },
   "outputs": [
    {
     "data": {
      "text/plain": [
       "(100, 1000)"
      ]
     },
     "execution_count": 12,
     "metadata": {},
     "output_type": "execute_result"
    }
   ],
   "source": [
    "n_obs = 100\n",
    "\n",
    "# 1000 выборок размера n_obs\n",
    "x = uniform_rv.rvs(size = (n_obs, 1000))\n",
    "x.shape"
   ]
  },
  {
   "cell_type": "code",
   "execution_count": 13,
   "metadata": {
    "executionInfo": {
     "elapsed": 30,
     "status": "ok",
     "timestamp": 1645523329261,
     "user": {
      "displayName": "Ilya A",
      "photoUrl": "https://lh3.googleusercontent.com/a-/AOh14GiSa8oddSgsU03OOnvGn7Dk96PjoJwbTrHh_f7oDw=s64",
      "userId": "17148912465935982955"
     },
     "user_tz": -180
    },
    "id": "vnKYp00Cz5K2"
   },
   "outputs": [],
   "source": [
    "# первая оценка \n",
    "theta_1 = 2*np.mean(x, axis=0)\n",
    "\n",
    "# вторая оценка \n",
    "theta_2 = (n_obs + 1)/n_obs*np.max(x, axis=0)"
   ]
  },
  {
   "cell_type": "code",
   "execution_count": 14,
   "metadata": {},
   "outputs": [
    {
     "data": {
      "text/plain": [
       "(4.9909314971873995, 4.999455549259981)"
      ]
     },
     "execution_count": 14,
     "metadata": {},
     "output_type": "execute_result"
    }
   ],
   "source": [
    "theta_1.mean(), theta_2.mean()"
   ]
  },
  {
   "cell_type": "code",
   "execution_count": 15,
   "metadata": {
    "colab": {
     "base_uri": "https://localhost:8080/",
     "height": 374
    },
    "executionInfo": {
     "elapsed": 33,
     "status": "ok",
     "timestamp": 1645523329264,
     "user": {
      "displayName": "Ilya A",
      "photoUrl": "https://lh3.googleusercontent.com/a-/AOh14GiSa8oddSgsU03OOnvGn7Dk96PjoJwbTrHh_f7oDw=s64",
      "userId": "17148912465935982955"
     },
     "user_tz": -180
    },
    "id": "ELhz2lmGz5K3",
    "outputId": "b8f7343c-1930-45f0-fcb5-b8d53e11a277"
   },
   "outputs": [
    {
     "data": {
      "image/png": "[encoded data removed]",
      "text/plain": [
       "<Figure size 864x432 with 1 Axes>"
      ]
     },
     "metadata": {
      "needs_background": "light"
     },
     "output_type": "display_data"
    }
   ],
   "source": [
    "plt.figure(figsize=(12,6))\n",
    "plt.hist(theta_1, bins=100, alpha=0.5, label='Moment method')\n",
    "plt.hist(theta_2, bins=50, alpha=0.5, label='ML method')\n",
    "plt.legend();"
   ]
  },
  {
   "cell_type": "markdown",
   "metadata": {
    "id": "AUpiTiPQz5K4"
   },
   "source": [
    "Видим, что у оценки максимального правдоподобия разброс оказался меньше.  "
   ]
  },
  {
   "cell_type": "code",
   "execution_count": 16,
   "metadata": {
    "colab": {
     "base_uri": "https://localhost:8080/"
    },
    "executionInfo": {
     "elapsed": 32,
     "status": "ok",
     "timestamp": 1645523329266,
     "user": {
      "displayName": "Ilya A",
      "photoUrl": "https://lh3.googleusercontent.com/a-/AOh14GiSa8oddSgsU03OOnvGn7Dk96PjoJwbTrHh_f7oDw=s64",
      "userId": "17148912465935982955"
     },
     "user_tz": -180
    },
    "id": "gvOsGdCgz5K6",
    "outputId": "4df140f3-24d0-4ef4-c7ab-19c0a72af3b2"
   },
   "outputs": [
    {
     "data": {
      "text/plain": [
       "0.08192084623319071"
      ]
     },
     "execution_count": 16,
     "metadata": {},
     "output_type": "execute_result"
    }
   ],
   "source": [
    "np.var(theta_1)"
   ]
  },
  {
   "cell_type": "code",
   "execution_count": 17,
   "metadata": {
    "colab": {
     "base_uri": "https://localhost:8080/"
    },
    "executionInfo": {
     "elapsed": 29,
     "status": "ok",
     "timestamp": 1645523329267,
     "user": {
      "displayName": "Ilya A",
      "photoUrl": "https://lh3.googleusercontent.com/a-/AOh14GiSa8oddSgsU03OOnvGn7Dk96PjoJwbTrHh_f7oDw=s64",
      "userId": "17148912465935982955"
     },
     "user_tz": -180
    },
    "id": "bqitqkzLz5K6",
    "outputId": "fa539035-8b34-4197-af71-c4bbec00fad4"
   },
   "outputs": [
    {
     "data": {
      "text/plain": [
       "0.0024984284865967456"
      ]
     },
     "execution_count": 17,
     "metadata": {},
     "output_type": "execute_result"
    }
   ],
   "source": [
    "np.var(theta_2)"
   ]
  },
  {
   "cell_type": "markdown",
   "metadata": {
    "id": "VclHAI_sz5K7"
   },
   "source": [
    "На практике следовало бы выбрать её. Когда у оценки самый маленький разброс в каком-то классе (например, в классе несмещённых оценок), её называют __эффективной__ в этом классе. \n",
    "\n",
    "Кстати говоря, для оценок из этого упражнения, можно руками выяснить, что: \n",
    "\n",
    "$$ E(\\hat \\theta_{MM} - \\theta)^2 = \\frac{\\theta^2}{3n} \\qquad \\qquad E(\\hat \\theta_{ML} - \\theta)^2 = \\frac{2 \\theta^2}{n(n+1)}.$$\n",
    "\n",
    "Получится, что при $n = 1,2$ дисперсии совпадут. При $n >2$ оценка максимального правдоподобия будет обладать меньшей дисперсией. Вывод этих формул руками можно посмотреть в [книге Черновой](https://nsu.ru/mmf/tvims/chernova/ms/ms_nsu07.pdf) на странице 33 (Пример 13)."
   ]
  },
  {
   "cell_type": "markdown",
   "metadata": {
    "id": "J5t2YAXSz5K7"
   },
   "source": [
    " "
   ]
  }
 ],
 "metadata": {
  "colab": {
   "collapsed_sections": [],
   "name": "02_estimators.ipynb",
   "provenance": [],
   "toc_visible": true
  },
  "kernelspec": {
   "display_name": "Python 3 (ipykernel)",
   "language": "python",
   "name": "python3"
  },
  "language_info": {
   "codemirror_mode": {
    "name": "ipython",
    "version": 3
   },
   "file_extension": ".py",
   "mimetype": "text/x-python",
   "name": "python",
   "nbconvert_exporter": "python",
   "pygments_lexer": "ipython3",
   "version": "3.10.4"
  },
  "toc": {
   "base_numbering": 1,
   "nav_menu": {},
   "number_sections": true,
   "sideBar": true,
   "skip_h1_title": false,
   "title_cell": "Table of Contents",
   "title_sidebar": "Contents",
   "toc_cell": true,
   "toc_position": {},
   "toc_section_display": true,
   "toc_window_display": true
  }
 },
 "nbformat": 4,
 "nbformat_minor": 1
}
