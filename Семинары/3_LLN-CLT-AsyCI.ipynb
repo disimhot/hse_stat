{
 "cells": [
  {
   "cell_type": "markdown",
   "metadata": {
    "toc": true
   },
   "source": [
    "<h1>Table of Contents<span class=\"tocSkip\"></span></h1>\n",
    "<div class=\"toc\"><ul class=\"toc-item\"><li><span><a href=\"#Закон-больших-чисел\" data-toc-modified-id=\"Закон-больших-чисел-1\"><span class=\"toc-item-num\">1&nbsp;&nbsp;</span>Закон больших чисел</a></span><ul class=\"toc-item\"><li><span><a href=\"#ЗБЧ\" data-toc-modified-id=\"ЗБЧ-1.1\"><span class=\"toc-item-num\">1.1&nbsp;&nbsp;</span>ЗБЧ</a></span></li><li><span><a href=\"#Сходимость-по-вероятности\" data-toc-modified-id=\"Сходимость-по-вероятности-1.2\"><span class=\"toc-item-num\">1.2&nbsp;&nbsp;</span>Сходимость по вероятности</a></span></li><li><span><a href=\"#Расходимость--по-вероятности\" data-toc-modified-id=\"Расходимость--по-вероятности-1.3\"><span class=\"toc-item-num\">1.3&nbsp;&nbsp;</span>Расходимость  по вероятности</a></span></li></ul></li><li><span><a href=\"#Что-разрешает-ЗБЧ\" data-toc-modified-id=\"Что-разрешает-ЗБЧ-2\"><span class=\"toc-item-num\">2&nbsp;&nbsp;</span>Что разрешает ЗБЧ</a></span><ul class=\"toc-item\"><li><span><a href=\"#Сложные-распределения\" data-toc-modified-id=\"Сложные-распределения-2.1\"><span class=\"toc-item-num\">2.1&nbsp;&nbsp;</span>Сложные распределения</a></span></li><li><span><a href=\"#Удав-и-багеты\" data-toc-modified-id=\"Удав-и-багеты-2.2\"><span class=\"toc-item-num\">2.2&nbsp;&nbsp;</span>Удав и багеты</a></span></li><li><span><a href=\"#Парадокс-дней-рождений\" data-toc-modified-id=\"Парадокс-дней-рождений-2.3\"><span class=\"toc-item-num\">2.3&nbsp;&nbsp;</span>Парадокс дней рождений</a></span></li></ul></li><li><span><a href=\"#Центральная-предельная-теорема\" data-toc-modified-id=\"Центральная-предельная-теорема-3\"><span class=\"toc-item-num\">3&nbsp;&nbsp;</span>Центральная предельная теорема</a></span><ul class=\"toc-item\"><li><span><a href=\"#Центральная-предельная-теорема\" data-toc-modified-id=\"Центральная-предельная-теорема-3.1\"><span class=\"toc-item-num\">3.1&nbsp;&nbsp;</span>Центральная предельная теорема</a></span></li><li><span><a href=\"#Упражнение-(ЦПТ-для-равномерного)\" data-toc-modified-id=\"Упражнение-(ЦПТ-для-равномерного)-3.2\"><span class=\"toc-item-num\">3.2&nbsp;&nbsp;</span>Упражнение (ЦПТ для равномерного)</a></span></li><li><span><a href=\"#Сходимость-по-распределению\" data-toc-modified-id=\"Сходимость-по-распределению-3.3\"><span class=\"toc-item-num\">3.3&nbsp;&nbsp;</span>Сходимость по распределению</a></span></li></ul></li><li><span><a href=\"#Мощь-средних\" data-toc-modified-id=\"Мощь-средних-4\"><span class=\"toc-item-num\">4&nbsp;&nbsp;</span>Мощь средних</a></span><ul class=\"toc-item\"><li><span><a href=\"#Ещё-раз-о-квантилях\" data-toc-modified-id=\"Ещё-раз-о-квантилях-4.1\"><span class=\"toc-item-num\">4.1&nbsp;&nbsp;</span>Ещё раз о квантилях</a></span></li><li><span><a href=\"#Мощь-средних-и-асимптотические-доверительные-интервалы\" data-toc-modified-id=\"Мощь-средних-и-асимптотические-доверительные-интервалы-4.2\"><span class=\"toc-item-num\">4.2&nbsp;&nbsp;</span>Мощь средних и асимптотические доверительные интервалы</a></span><ul class=\"toc-item\"><li><span><a href=\"#Ульяна-смотрит-игру-престолов\" data-toc-modified-id=\"Ульяна-смотрит-игру-престолов-4.2.1\"><span class=\"toc-item-num\">4.2.1&nbsp;&nbsp;</span>Ульяна смотрит игру престолов</a></span></li><li><span><a href=\"#Подруга-Ульяны\" data-toc-modified-id=\"Подруга-Ульяны-4.2.2\"><span class=\"toc-item-num\">4.2.2&nbsp;&nbsp;</span>Подруга Ульяны</a></span></li></ul></li></ul></li></ul></div>"
   ]
  },
  {
   "cell_type": "markdown",
   "metadata": {
    "id": "GM0FvMj1tOtO"
   },
   "source": [
    "\n",
    "\n",
    "#  Закон больших чисел\n",
    "\n",
    "Просимулируем картинку из презентации для Закона больших чисел и немного обсудим сходимость по вероятности.\n",
    "\n",
    "---------------"
   ]
  },
  {
   "cell_type": "code",
   "execution_count": 1,
   "metadata": {
    "id": "m7tjxMGztOtO"
   },
   "outputs": [],
   "source": [
    "import numpy as np\n",
    "import pandas as pd\n",
    "\n",
    "import scipy.stats as sts\n",
    "from scipy import stats\n",
    "\n",
    "from tqdm.notebook import tqdm\n",
    "\n",
    "import matplotlib.pyplot as plt\n",
    "plt.style.use('ggplot')  # стиль для графиков\n",
    "%matplotlib inline"
   ]
  },
  {
   "cell_type": "code",
   "execution_count": 2,
   "metadata": {},
   "outputs": [
    {
     "data": {
      "text/plain": [
       "-1.348399724926484"
      ]
     },
     "execution_count": 2,
     "metadata": {},
     "output_type": "execute_result"
    }
   ],
   "source": [
    "q = (80-90)/55**0.5\n",
    "q"
   ]
  },
  {
   "cell_type": "code",
   "execution_count": 3,
   "metadata": {},
   "outputs": [
    {
     "data": {
      "text/plain": [
       "0.08876492620607673"
      ]
     },
     "execution_count": 3,
     "metadata": {},
     "output_type": "execute_result"
    }
   ],
   "source": [
    "stats.norm.cdf(q)"
   ]
  },
  {
   "cell_type": "code",
   "execution_count": 4,
   "metadata": {},
   "outputs": [
    {
     "data": {
      "text/plain": [
       "0.08876492620607679"
      ]
     },
     "execution_count": 4,
     "metadata": {},
     "output_type": "execute_result"
    }
   ],
   "source": [
    "1-stats.norm.cdf(np.abs(q))"
   ]
  },
  {
   "cell_type": "code",
   "execution_count": 5,
   "metadata": {},
   "outputs": [
    {
     "data": {
      "text/plain": [
       "3.2905267314919255"
      ]
     },
     "execution_count": 5,
     "metadata": {},
     "output_type": "execute_result"
    }
   ],
   "source": [
    "stats.norm.ppf(1-0.001/2)"
   ]
  },
  {
   "cell_type": "markdown",
   "metadata": {
    "id": "syrgfb4dtOtQ"
   },
   "source": [
    "## ЗБЧ\n",
    "\n",
    "**Слабая форма ЗБЧ (Пафнутий Львович Чебышёв)**\n",
    "\n",
    "Пусть $X_1, \\ldots, X_n$ попарно независимые и одинаково распределённые случайные величины с конечным вторым моментом, $E(X_i^2) < \\infty$, тогда имеет место сходимость:\n",
    "\n",
    "$$\n",
    "\\frac{X_1 + \\ldots + X_n}{n} \\overset{p}{\\to} E(X_1)\n",
    "$$\n"
   ]
  },
  {
   "cell_type": "markdown",
   "metadata": {
    "id": "oNd9QJOitOtQ"
   },
   "source": [
    "__Давайте нарисуем ЗБЧ.__ Мы знаем, что математическое ожидание игральной кости это $3.5$. Сделаем симуляцию: \n",
    "\n",
    "* подкинем кость 1 раз, посчитаем среднее число на ней\n",
    "* подкинем кость 2 раза, посчитаем среднее число на ней\n",
    "\n",
    ".....\n",
    "\n",
    "* подкинем кость 100 раз, посчитаем среднее число на ней\n",
    "\n",
    "Построим картинку для всех этих средних и убедимся в том, что оно и правда сходится к $3.5$."
   ]
  },
  {
   "cell_type": "code",
   "execution_count": 6,
   "metadata": {
    "id": "c0kBUkkxtOtQ",
    "outputId": "402f1256-4043-4e34-a373-99038bb57ee7"
   },
   "outputs": [
    {
     "data": {
      "text/plain": [
       "array([2, 6, 5, 4, 6, 2, 2, 2, 4, 3, 1, 5, 4, 2, 6, 3, 1, 3, 5, 5, 2, 5,\n",
       "       4, 4, 3, 4, 4, 2, 3, 6, 4, 3, 3, 1, 5, 1, 5, 1, 1, 4, 3, 4, 6, 2,\n",
       "       6, 2, 2, 4, 5, 2, 5, 3, 5, 6, 1, 1, 3, 1, 2, 1, 3, 3, 5, 1, 6, 6,\n",
       "       4, 1, 4, 4, 3, 6, 3, 1, 2, 1, 3, 4, 6, 6, 6, 1, 3, 1, 6, 6, 2, 2,\n",
       "       2, 1, 6, 1, 3, 1, 4, 4, 1, 6, 1, 2])"
      ]
     },
     "execution_count": 6,
     "metadata": {},
     "output_type": "execute_result"
    }
   ],
   "source": [
    "n_obs = 100\n",
    "\n",
    "# подкидываем кубик с повторениями много раз\n",
    "x = np.random.choice(np.arange(1,7), size=n_obs) \n",
    "x"
   ]
  },
  {
   "cell_type": "code",
   "execution_count": 7,
   "metadata": {
    "id": "jCJCeOxgtOtR",
    "outputId": "2c328028-5281-48ad-ce4b-236b53e50e5e"
   },
   "outputs": [
    {
     "data": {
      "text/plain": [
       "array([ 2,  8, 13, 17, 23])"
      ]
     },
     "execution_count": 7,
     "metadata": {},
     "output_type": "execute_result"
    }
   ],
   "source": [
    "# считаем кумулятивную сумму\n",
    "x_cumsum = np.cumsum(x)\n",
    "x_cumsum[:5]"
   ]
  },
  {
   "cell_type": "code",
   "execution_count": 8,
   "metadata": {
    "id": "ng1tQGEwtOtS",
    "outputId": "80af107c-44b3-4fc7-ef74-6c3234831f0b"
   },
   "outputs": [
    {
     "data": {
      "text/plain": [
       "array([  1,   2,   3,   4,   5,   6,   7,   8,   9,  10,  11,  12,  13,\n",
       "        14,  15,  16,  17,  18,  19,  20,  21,  22,  23,  24,  25,  26,\n",
       "        27,  28,  29,  30,  31,  32,  33,  34,  35,  36,  37,  38,  39,\n",
       "        40,  41,  42,  43,  44,  45,  46,  47,  48,  49,  50,  51,  52,\n",
       "        53,  54,  55,  56,  57,  58,  59,  60,  61,  62,  63,  64,  65,\n",
       "        66,  67,  68,  69,  70,  71,  72,  73,  74,  75,  76,  77,  78,\n",
       "        79,  80,  81,  82,  83,  84,  85,  86,  87,  88,  89,  90,  91,\n",
       "        92,  93,  94,  95,  96,  97,  98,  99, 100])"
      ]
     },
     "execution_count": 8,
     "metadata": {},
     "output_type": "execute_result"
    }
   ],
   "source": [
    "np.arange(1, n_obs + 1)"
   ]
  },
  {
   "cell_type": "code",
   "execution_count": 9,
   "metadata": {
    "id": "Z5S9tXV5tOtS",
    "outputId": "2dcbe6f1-11e5-4519-bccd-55c44665e93e"
   },
   "outputs": [
    {
     "data": {
      "text/plain": [
       "array([2.        , 4.        , 4.33333333, 4.25      , 4.6       ,\n",
       "       4.16666667, 3.85714286, 3.625     , 3.66666667, 3.6       ,\n",
       "       3.36363636, 3.5       , 3.53846154, 3.42857143, 3.6       ,\n",
       "       3.5625    , 3.41176471, 3.38888889, 3.47368421, 3.55      ,\n",
       "       3.47619048, 3.54545455, 3.56521739, 3.58333333, 3.56      ,\n",
       "       3.57692308, 3.59259259, 3.53571429, 3.51724138, 3.6       ,\n",
       "       3.61290323, 3.59375   , 3.57575758, 3.5       , 3.54285714,\n",
       "       3.47222222, 3.51351351, 3.44736842, 3.38461538, 3.4       ,\n",
       "       3.3902439 , 3.4047619 , 3.46511628, 3.43181818, 3.48888889,\n",
       "       3.45652174, 3.42553191, 3.4375    , 3.46938776, 3.44      ,\n",
       "       3.47058824, 3.46153846, 3.49056604, 3.53703704, 3.49090909,\n",
       "       3.44642857, 3.43859649, 3.39655172, 3.37288136, 3.33333333,\n",
       "       3.32786885, 3.32258065, 3.34920635, 3.3125    , 3.35384615,\n",
       "       3.39393939, 3.40298507, 3.36764706, 3.37681159, 3.38571429,\n",
       "       3.38028169, 3.41666667, 3.4109589 , 3.37837838, 3.36      ,\n",
       "       3.32894737, 3.32467532, 3.33333333, 3.36708861, 3.4       ,\n",
       "       3.43209877, 3.40243902, 3.39759036, 3.36904762, 3.4       ,\n",
       "       3.43023256, 3.4137931 , 3.39772727, 3.38202247, 3.35555556,\n",
       "       3.38461538, 3.35869565, 3.35483871, 3.32978723, 3.33684211,\n",
       "       3.34375   , 3.31958763, 3.34693878, 3.32323232, 3.31      ])"
      ]
     },
     "execution_count": 9,
     "metadata": {},
     "output_type": "execute_result"
    }
   ],
   "source": [
    "# делим на число наблюдений\n",
    "x_mean = x_cumsum/np.arange(1, n_obs + 1)\n",
    "x_mean"
   ]
  },
  {
   "cell_type": "code",
   "execution_count": 10,
   "metadata": {
    "id": "jJ9wYRqUtOtT",
    "outputId": "976d7d6f-a0a5-4b5c-d8f0-566e4ccb37f8"
   },
   "outputs": [
    {
     "data": {
      "image/png": "[encoded data removed]",
      "text/plain": [
       "<Figure size 720x360 with 1 Axes>"
      ]
     },
     "metadata": {
      "needs_background": "light"
     },
     "output_type": "display_data"
    }
   ],
   "source": [
    "plt.figure(figsize=(10,5))\n",
    "x = np.random.choice(np.arange(1,7), size=n_obs) \n",
    "x_mean = np.cumsum(x)/np.arange(1, n_obs + 1)\n",
    "plt.plot(x_mean)\n",
    "plt.axhline(3.5, color='b', linestyle='dashed', linewidth=2)\n",
    "plt.xlabel('Число подбрасываний игральной кости')\n",
    "plt.ylabel('Среднее значение');"
   ]
  },
  {
   "cell_type": "markdown",
   "metadata": {
    "id": "VovYK4bvtOtT"
   },
   "source": [
    "## Сходимость по вероятности\n",
    "\n",
    "Увидели, что оно сходится? Вопрос только в том как именно. Над стрелкой в ЗБЧ есть буква $p$. \n",
    "\n",
    "$$\n",
    "\\frac{X_1 + \\ldots + X_n}{n} \\overset{p}{\\to} E(X_1)\n",
    "$$\n",
    "\n",
    "Она означает, что последовательность случайных величин слева сходится к случайной величине справа по вероятности, то есть чем больше $n$ тем ближе вероятность отклонения $\\bar x_n$ от $E(X)$ к нулю: \n",
    "\n",
    "$$ \n",
    "P(\\mid \\bar x_n - 3.5 \\mid \\ge \\varepsilon) \\to 0\n",
    "$$\n",
    "\n",
    "Нарисуем её! Возьмём $\\varepsilon = 0.01$, нарисуем на нашей картинке из предыдущего упражнения коридор $3.5 \\pm \\varepsilon$, продолжим ряд до $100000$ подбрасываний и увидим, как постепенно $\\bar x_n$ попадает в коридор и всё реже выбивается из него. "
   ]
  },
  {
   "cell_type": "code",
   "execution_count": 11,
   "metadata": {
    "id": "pETlbozCtOtU",
    "outputId": "82593409-cf13-4145-ff9e-df834faf02ef"
   },
   "outputs": [
    {
     "data": {
      "image/png": "[encoded data removed]",
      "text/plain": [
       "<Figure size 864x432 with 1 Axes>"
      ]
     },
     "metadata": {
      "needs_background": "light"
     },
     "output_type": "display_data"
    }
   ],
   "source": [
    "n_obs = 100000\n",
    "\n",
    "# подкидываем кубик с повторениями много раз\n",
    "x = np.random.choice(np.arange(1,7), size=n_obs) \n",
    "x_cumsum = np.cumsum(x)\n",
    "\n",
    "x_mean = x_cumsum/np.arange(1, n_obs + 1)\n",
    "\n",
    "eps = 0.01\n",
    "\n",
    "plt.figure(figsize=(12,6))\n",
    "plt.plot(x_mean[100:])\n",
    "plt.axhline(3.5 + eps, color='g', linestyle='dashed', linewidth=2)\n",
    "plt.axhline(3.5 - eps, color='g', linestyle='dashed', linewidth=2)\n",
    "\n",
    "plt.xlabel('Число подбрасываний игральной кости')\n",
    "plt.ylabel('Среднее значение');"
   ]
  },
  {
   "cell_type": "markdown",
   "metadata": {
    "id": "CJkSzyBOtOtU"
   },
   "source": [
    "Можно попробовать оценить вероятность того, что последовательность из средних пробьёт на конкретном шаге установленный нами коридор. Для этого давайте сгенерируем много-много траекторий для игральной кости, как на картинке выше. А после посмотрим как часто на конкретном шаге эти траектории пробивают коридор $3.5 \\pm \\varepsilon$. Частота таких пробоин будет оценкой вероятности \n",
    "\n",
    "$$ \n",
    "P(\\mid \\bar x_n - 3.5 \\mid \\ge \\varepsilon).\n",
    "$$"
   ]
  },
  {
   "cell_type": "code",
   "execution_count": 12,
   "metadata": {
    "id": "c1Q9ZpBStOtU",
    "outputId": "40283c58-c80a-4da5-d2d6-cb06b3c3707f"
   },
   "outputs": [
    {
     "data": {
      "text/plain": [
       "(10000, 1000)"
      ]
     },
     "execution_count": 12,
     "metadata": {},
     "output_type": "execute_result"
    }
   ],
   "source": [
    "n_obs = 10**4\n",
    "\n",
    "# каждый раз подбрасываем кубик 1000 раз\n",
    "x = np.random.choice(np.arange(1,7), size=(n_obs, 1000))\n",
    "\n",
    "# по строкам считаем кумялятивную сумму \n",
    "x_cumsum = np.cumsum(x, axis = 0)\n",
    "\n",
    "# находим средние\n",
    "x_cumsum = x_cumsum/np.arange(1, n_obs + 1)[:,None]\n",
    "x_cumsum.shape"
   ]
  },
  {
   "cell_type": "code",
   "execution_count": 13,
   "metadata": {
    "id": "XTu8dXu3tOtV",
    "outputId": "4b69cd42-bcc1-4dd9-cb70-7e267b993dfb"
   },
   "outputs": [
    {
     "data": {
      "text/plain": [
       "(10000, 10)"
      ]
     },
     "execution_count": 13,
     "metadata": {},
     "output_type": "execute_result"
    }
   ],
   "source": [
    "x_cumsum[:,:10].shape"
   ]
  },
  {
   "cell_type": "code",
   "execution_count": 14,
   "metadata": {
    "id": "JxmBbHiHtOtV",
    "outputId": "528186dd-a499-4562-e276-4239eba26565"
   },
   "outputs": [
    {
     "data": {
      "image/png": "[encoded data removed]",
      "text/plain": [
       "<Figure size 432x288 with 1 Axes>"
      ]
     },
     "metadata": {
      "needs_background": "light"
     },
     "output_type": "display_data"
    }
   ],
   "source": [
    "eps= 0.1\n",
    "plt.plot(x_cumsum[:10000,:10], alpha=0.6, c='grey')\n",
    "\n",
    "\n",
    "plt.axhline(3.5 + eps, color='g', linestyle='dashed', linewidth=2)\n",
    "plt.axhline(3.5 - eps, color='g', linestyle='dashed', linewidth=2)\n",
    "\n",
    "plt.ylim(3,4)\n",
    "\n",
    "plt.show()"
   ]
  },
  {
   "cell_type": "code",
   "execution_count": 15,
   "metadata": {
    "id": "bPw3z5tntOtV",
    "outputId": "1407e7a3-1632-44c6-e810-ffe9244d40bf"
   },
   "outputs": [
    {
     "data": {
      "image/png": "[encoded data removed]",
      "text/plain": [
       "<Figure size 864x432 with 1 Axes>"
      ]
     },
     "metadata": {
      "needs_background": "light"
     },
     "output_type": "display_data"
    }
   ],
   "source": [
    "eps1 = 0.1\n",
    "eps2 = 0.01\n",
    "\n",
    "# все события, когда пробили коридор \n",
    "bad_events_1 = np.abs(x_cumsum - 3.5) > eps1\n",
    "bad_events_2 = np.abs(x_cumsum - 3.5) > eps2\n",
    "\n",
    "# вероятность пробоины \n",
    "proba_1 = np.mean(bad_events_1, axis=1)\n",
    "proba_2 = np.mean(bad_events_2, axis=1)\n",
    "\n",
    "plt.figure(figsize=(12,6))\n",
    "plt.plot(proba_1, label = f\"Вероятность для коридора {eps1}\")\n",
    "plt.plot(proba_2, label = f\"Вероятность для коридора {eps2}\")\n",
    "plt.xlabel('Число подбрасываний игральной кости')\n",
    "plt.ylabel('Вероятность пробить коридор')\n",
    "plt.legend(fontsize=14);"
   ]
  },
  {
   "cell_type": "markdown",
   "metadata": {
    "id": "7KRBWzLetOtW"
   },
   "source": [
    "Как мы видим, вероятность пробить коридор поначалу является высокой, но постепенно убывает. При этом для более узкого коридора вероятность убывает медленнее, что логично :) \n",
    "\n",
    "Для нашей ситуации со сходимостью к константе можно построить аналогичные графики для дисперсии среднего. Немного позже мы её вычислим. Тогда окажется, что это \n",
    "\n",
    "$$\n",
    "Var(\\bar x_n) = \\frac{Var(X_1 + \\ldots  + X_n)}{n^2} = \\frac{Var(X_1)}{n}.\n",
    "$$\n",
    "\n",
    "В знаменателе у нас $n$. По мере роста выборки разброс убывает и среднее сходится к математическому ожиданию. __Важно держать в голове, что дисперсия убывает только при сходимости к константе!__"
   ]
  },
  {
   "cell_type": "markdown",
   "metadata": {
    "id": "UcNSBCcktOtW"
   },
   "source": [
    "Давайте посмотрим на то как все три картинки выглядят рядом. На них нарисовано, как среднее $\\bar x$, посчитанное по выборке $x_1, \\ldots, x_n \\sim iid N(2,1),$ сходится по вероятности к $2$. \n",
    "\n",
    "<center>\n",
    "<img src=\"image/animation_prob_conv.gif\" width=\"1800\"> \n",
    "</center>"
   ]
  },
  {
   "cell_type": "markdown",
   "metadata": {
    "id": "HTaDIe-XtOtW"
   },
   "source": [
    "## Расходимость  по вероятности\n",
    "\n",
    "\n",
    "Теперь мы знаем как выглядит сходимость по вероятности. Интересно было бы посмотреть как выглядит её отсутствие.\n",
    "\n",
    "Распределение Коши тот ещё фрукт. У стандартного распределения Коши такая плотность: \n",
    "\n",
    "$$\n",
    "f_X(x) = \\frac{1}{\\pi(1+x^2)}\n",
    "$$\n",
    "\n",
    "Выглядит красиво. Красота, при этом, приносит нам кучу проблем. Одна из таких проблем - это отсутствие математического ожидания и дисперсии. ЗБЧ говорит нам, что для некоторых распределений \n",
    "\n",
    "$$ \n",
    "P( \\mid \\bar x - E(X)\\mid \\ge \\varepsilon  ) \\to 0, \n",
    "$$\n",
    "\n",
    "то есть выборочное среднее по вероятности сходится к математическому ожиданию. Интересно было бы узнать к чему будет сходиться выборочное среднее для распределения Коши __(математического ожидания то не существует).__ \n",
    "\n",
    "Построим для выборочного среднего распределения Коши картинку, которую мы строили при иллюстрации ЗБЧ чуть выше. "
   ]
  },
  {
   "cell_type": "code",
   "execution_count": 16,
   "metadata": {
    "id": "i7LOOt6ttOtW",
    "outputId": "066eb116-37ec-4d2f-9b26-f06bba4b8c11"
   },
   "outputs": [
    {
     "data": {
      "text/plain": [
       "(10000, 1000)"
      ]
     },
     "execution_count": 16,
     "metadata": {},
     "output_type": "execute_result"
    }
   ],
   "source": [
    "cauchy_rv = sts.cauchy()  # генератор \n",
    "\n",
    "n_obs = 10**4\n",
    "\n",
    "# 1000 траекторий по n_obs шагов\n",
    "x = cauchy_rv.rvs(size = (n_obs,1000))\n",
    "x.shape"
   ]
  },
  {
   "cell_type": "code",
   "execution_count": 17,
   "metadata": {
    "id": "4Ck7Qn52tOtX",
    "outputId": "38db659c-848f-41b1-f6b2-ac291b2dd8de"
   },
   "outputs": [
    {
     "data": {
      "text/plain": [
       "(10000, 1000)"
      ]
     },
     "execution_count": 17,
     "metadata": {},
     "output_type": "execute_result"
    }
   ],
   "source": [
    "# по строкам считаем кумялятивную сумму \n",
    "x_cumsum = np.cumsum(x, axis = 0)\n",
    "\n",
    "# находим средние\n",
    "x_mean = x_cumsum/np.arange(1, n_obs + 1)[:,None]\n",
    "x_mean.shape"
   ]
  },
  {
   "cell_type": "code",
   "execution_count": 18,
   "metadata": {
    "id": "HC26KTULtOtX",
    "outputId": "9191a4f9-c9c7-416d-a674-748e6062c716"
   },
   "outputs": [
    {
     "data": {
      "image/png": "[encoded data removed]",
      "text/plain": [
       "<Figure size 864x432 with 1 Axes>"
      ]
     },
     "metadata": {
      "needs_background": "light"
     },
     "output_type": "display_data"
    }
   ],
   "source": [
    "# Нарисуем одну любую траекторию\n",
    "\n",
    "plt.figure(figsize=(12,6))\n",
    "plt.plot(x_mean[:,442])\n",
    "plt.axhline(0, color='b', linestyle='dashed', linewidth=2)\n",
    "plt.xlabel('Число подбрасываний игральной кости')\n",
    "plt.ylabel('Среднее значение');"
   ]
  },
  {
   "cell_type": "markdown",
   "metadata": {
    "id": "d0GDvJwQtOtX"
   },
   "source": [
    "Тут может банально повести и траектория будет визуально выглядеть хорошо. Но что происходит с вероятностями? "
   ]
  },
  {
   "cell_type": "code",
   "execution_count": 19,
   "metadata": {
    "id": "43aR0WnetOtX",
    "outputId": "52168cda-08fa-485e-a0bf-43daf0ce58b8"
   },
   "outputs": [
    {
     "data": {
      "image/png": "[encoded data removed]",
      "text/plain": [
       "<Figure size 864x432 with 1 Axes>"
      ]
     },
     "metadata": {
      "needs_background": "light"
     },
     "output_type": "display_data"
    }
   ],
   "source": [
    "eps1 = 0.1\n",
    "eps2 = 0.01\n",
    "\n",
    "# все события, когда пробили коридор \n",
    "bad_events_1 = np.abs(x_mean - 0) > eps1\n",
    "bad_events_2 = np.abs(x_mean - 0) > eps2\n",
    "\n",
    "# вероятность пробоины \n",
    "proba_1 = np.mean(bad_events_1, axis=1)\n",
    "proba_2 = np.mean(bad_events_2, axis=1)\n",
    "\n",
    "plt.figure(figsize=(12,6))\n",
    "plt.plot(proba_1)\n",
    "plt.plot(proba_2)\n",
    "plt.xlabel('Число подбрасываний игральной кости')\n",
    "plt.ylabel('Вероятность пробить коридор');"
   ]
  },
  {
   "cell_type": "markdown",
   "metadata": {
    "id": "LZTX7YP2tOtX"
   },
   "source": [
    "Никакого движения к нулю. Постоянные пробоины в нашем коридоре. При этом во времени их количество никак не уменьшается. Так выглядит отсутствие сходимости по вероятности. Обратите внимание, что величина пробоины не очень важна. В случае, когда сходимость есть, пробоины также могут быть очень большими, но они происходят всё реже."
   ]
  },
  {
   "cell_type": "markdown",
   "metadata": {
    "id": "IygHrAnetOtX"
   },
   "source": [
    "Давайте посмотрим на то как все три картинки выглядят рядом. На них изобразим первые $200$ шагов для распределения Коши. Чисто визуально сравните с первыми $200$ шагами для нормального распределения из предыдущего упражнения и ужаснитесь. "
   ]
  },
  {
   "cell_type": "markdown",
   "metadata": {
    "id": "EjSMIelStOtX"
   },
   "source": [
    "<center>\n",
    "<img src=\"image/animation_prob_unconv.gif\" width=\"1400\"> \n",
    "</center>"
   ]
  },
  {
   "cell_type": "markdown",
   "metadata": {
    "id": "rnH1tIIBtOtX"
   },
   "source": [
    "  "
   ]
  },
  {
   "cell_type": "markdown",
   "metadata": {
    "id": "Zu65sJ9DtQtH"
   },
   "source": [
    "#  Что разрешает ЗБЧ\n",
    "\n",
    "\n",
    "---------------"
   ]
  },
  {
   "cell_type": "markdown",
   "metadata": {
    "id": "jCXYAM3qtQtI"
   },
   "source": [
    "## Сложные распределения\n",
    "\n",
    "ЗБЧ разрешает нам решать реальные проблемы с помощью симуляций. Например, можно оценить математическое ожидание случайной величины $\\frac{1}{X}$, где $X \\sim N(5; 3)$ без взятия интегралов."
   ]
  },
  {
   "cell_type": "code",
   "execution_count": 20,
   "metadata": {
    "id": "FXYPkqtHtQtI",
    "outputId": "e9d62727-64e5-43dc-c93f-16dec07da391"
   },
   "outputs": [
    {
     "data": {
      "text/plain": [
       "2.7799770095287233"
      ]
     },
     "execution_count": 20,
     "metadata": {},
     "output_type": "execute_result"
    }
   ],
   "source": [
    "n_obs = 10**6\n",
    "\n",
    "norm_rv = stats.norm(loc=5, scale=3)  \n",
    "x = norm_rv.rvs(n_obs)\n",
    "\n",
    "np.mean(1/x)"
   ]
  },
  {
   "cell_type": "markdown",
   "metadata": {
    "id": "ldPnpOMetQtJ"
   },
   "source": [
    "Если бы не было питона пришлось бы искать такой интеграл: \n",
    "\n",
    "$$\n",
    "\\mathbb{E} \\left(\\frac{1}{X} \\right) = \\int_{-\\infty}^{+\\infty} \\frac{1}{x} \\cdot \\frac{1}{\\sigma \\sqrt{2 \\pi}} \\cdot  e^{-\\frac{(x - 5)^2}{2 \\cdot 3^2}} dx.\n",
    "$$"
   ]
  },
  {
   "cell_type": "markdown",
   "metadata": {
    "id": "d0HR3wSttQtJ"
   },
   "source": [
    "> __Важно:__ для данного примера подход с симуляциями не работает. Интеграл расходится, так как этого математического ожидания не существует. При перезапуске симуляций мы каждый раз будем получать в качестве стреднего новые числа. Если мы попробуем нарисовать в динамике, к чему сходится выборочное среднее, мы увидим, что никакой сходимости тут нет. С делением случайных величин надо быть очень осторожным. \n",
    "\n",
    "-------------------------"
   ]
  },
  {
   "cell_type": "markdown",
   "metadata": {
    "id": "vOGNYrTgtQtJ"
   },
   "source": [
    "__Другой пример.__ Также легко оценить многие вероятности. Например, оценим вероятность $P(X_1 + X_2 + X_3^2 > 5)$, где величины $X_i$ независимы и одинаково равномерно распределены $X_i \\sim U[0;2]$:"
   ]
  },
  {
   "cell_type": "code",
   "execution_count": 21,
   "metadata": {
    "id": "WuY3lD21tQtJ",
    "outputId": "49ab477f-7982-4b31-f5c5-7d13ae1174c9"
   },
   "outputs": [
    {
     "data": {
      "text/plain": [
       "array([False, False, False, False, False])"
      ]
     },
     "execution_count": 21,
     "metadata": {},
     "output_type": "execute_result"
    }
   ],
   "source": [
    "n_obs = 10**7\n",
    "\n",
    "# обратите внимание, что в этой функции задается левая граница и длина\n",
    "# а не левая и правая границы\n",
    "uniform_rv = stats.uniform(0, 2)\n",
    "\n",
    "x_1 = uniform_rv.rvs(n_obs)\n",
    "x_2 = uniform_rv.rvs(n_obs)\n",
    "x_3 = uniform_rv.rvs(n_obs)\n",
    "\n",
    "success = x_1 + x_2 + x_3**2 > 5\n",
    "success[:5]"
   ]
  },
  {
   "cell_type": "code",
   "execution_count": 22,
   "metadata": {
    "id": "y34QY46MtQtJ",
    "outputId": "66de8044-1050-47f2-bceb-bc9221bf8497"
   },
   "outputs": [
    {
     "data": {
      "text/plain": [
       "0.1477948"
      ]
     },
     "execution_count": 22,
     "metadata": {},
     "output_type": "execute_result"
    }
   ],
   "source": [
    "np.sum(success) / n_obs"
   ]
  },
  {
   "cell_type": "markdown",
   "metadata": {
    "id": "S_EhAZpntQtJ"
   },
   "source": [
    "Здесь вектор success будет содержать значение `True` там, где условие `x_1 + x_2 + x_3**2 > 5` выполнено, и `False` там, где условие не выполнено. При сложении командой `np.sum()` каждое `True` будет посчитано как единица, а каждое `False` как ноль. Поэтому `np.sum(success)` даст количество раз, когда условие `x_1 + x_2 + x_3**2 > 5` выполнено.\n",
    "\n",
    "__Как найти такую вероятность руками:__ \n",
    "\n",
    "- Первым шагом нам придётся найти распределение для $X_3^2$ \n",
    "- Втором шагом по формуле свёртки надо будет найти распределение суммы\n",
    "- Третьим шагом можно посчитать вероятность\n",
    "\n",
    "Почти на каждом шаге мы сталкиваемся с интегрированием. "
   ]
  },
  {
   "cell_type": "markdown",
   "metadata": {
    "id": "T_oQ5tKJtQtK"
   },
   "source": [
    "__Ещё пример.__ давайте найдём условную вероятность $P(X_1 + X_2 + X_3 > 0.8 \\mid X_3 < 0.1)$. Снова используем для этого всю мощь `numpy` и сделаем срез по всем объектам, попавшим под условие."
   ]
  },
  {
   "cell_type": "code",
   "execution_count": 23,
   "metadata": {
    "id": "Qe9AMUeRtQtK",
    "outputId": "b5b4a29d-509c-4e64-b28f-b99a19d6a7c5"
   },
   "outputs": [
    {
     "data": {
      "text/plain": [
       "0.9297247852370347"
      ]
     },
     "execution_count": 23,
     "metadata": {},
     "output_type": "execute_result"
    }
   ],
   "source": [
    "n_obs = 10**6\n",
    "\n",
    "uniform_rv = stats.uniform(0, 2)\n",
    "\n",
    "x_1 = uniform_rv.rvs(n_obs)\n",
    "x_2 = uniform_rv.rvs(n_obs)\n",
    "x_3 = uniform_rv.rvs(n_obs)\n",
    "\n",
    "uslovie = x_3 < 0.1\n",
    "\n",
    "# x[uslovie] оставит в векторе только те элементы, где uslovie == True\n",
    "success = x_1[uslovie] + x_2[uslovie] + x_3[uslovie] > 0.8\n",
    "np.sum(success) / np.sum(uslovie)"
   ]
  },
  {
   "cell_type": "code",
   "execution_count": 24,
   "metadata": {
    "id": "fV08zuW6tQtK",
    "outputId": "846f203a-ecca-441c-9ffc-2ad9398fed48"
   },
   "outputs": [
    {
     "data": {
      "text/plain": [
       "50288"
      ]
     },
     "execution_count": 24,
     "metadata": {},
     "output_type": "execute_result"
    }
   ],
   "source": [
    "# можно посмотреть сколько раз за всю симуляцию x_3 < 0.1\n",
    "np.sum(uslovie)"
   ]
  },
  {
   "cell_type": "markdown",
   "metadata": {
    "id": "eAraxv_4tQtK"
   },
   "source": [
    "__Как найти такую вероятность руками:__ \n",
    "\n",
    "- Первым шагом по формуле свёртки надо будет найти распределение суммы\n",
    "- Вторым шагом нам надо будет найти условную плотность \n",
    "- Третьим шагом можно посчитать вероятность"
   ]
  },
  {
   "cell_type": "markdown",
   "metadata": {
    "id": "6tDb7gKjtQtK"
   },
   "source": [
    "__Тем не менее это не говорит про ненужность аналитической работы.__ \n",
    "\n",
    "- Постоянно делать симуляции вместо того, чтобы один раз получить формулу и считать по ней - неэффективно \n",
    "- Часто возникают ситуации, когда за счёт генераций получить правильный ответ очень сложно. Например, куча проблем возникает для многомерных распределений.\n",
    "\n",
    "> Подобные численные методы для оценки разных характеристик называются методами Монте-Карло.\n"
   ]
  },
  {
   "cell_type": "markdown",
   "metadata": {
    "id": "1SsZl9UutQtK"
   },
   "source": [
    "## Удав и багеты\n",
    "\n",
    "Удав Анатолий любит французские багеты. Длина французского багета равна $1$ метру. За один укус Удав Анатолий поедает кусок случайной длины, равномерно распределённый на отрезке $[0;1]$. Для того, чтобы съесть весь багет удаву потребуется случайное количество $N$ укусов. \n",
    "\n",
    "Найдём $\\mathbb{E}(N)$ и $Var(N)$ с помощью симуляций."
   ]
  },
  {
   "cell_type": "code",
   "execution_count": 25,
   "metadata": {
    "id": "bLJq1UuEtQtL",
    "outputId": "ca396116-b25b-4281-b87e-5d170219df8f"
   },
   "outputs": [
    {
     "name": "stdout",
     "output_type": "stream",
     "text": [
      "2\n"
     ]
    }
   ],
   "source": [
    "# Багеты! Давайте начнём с одной итерации эксперемента.\n",
    "unif_rv = stats.uniform(0, 1)\n",
    "\n",
    "l = 1 # длина багета\n",
    "m = 0 # число укусов\n",
    "\n",
    "# пока длина багета больше 0\n",
    "while l > 0:\n",
    "    # делай укусы\n",
    "    l -= unif_rv.rvs(1)\n",
    "    m += 1 # на один укус стало больше\n",
    "\n",
    "print(m)"
   ]
  },
  {
   "cell_type": "markdown",
   "metadata": {
    "id": "iwwpxlwstQtL"
   },
   "source": [
    "Одну итерацию можно обернуть в функцию, чтобы было удобнее пользоваться. "
   ]
  },
  {
   "cell_type": "code",
   "execution_count": 26,
   "metadata": {
    "id": "3jhV1kJwtQtL",
    "outputId": "3460e0db-8258-457c-8437-80859970db22"
   },
   "outputs": [
    {
     "data": {
      "text/plain": [
       "3"
      ]
     },
     "execution_count": 26,
     "metadata": {},
     "output_type": "execute_result"
    }
   ],
   "source": [
    "def eat_one_baguette():\n",
    "    l = 1\n",
    "    m = 0 \n",
    "    while l > 0:\n",
    "        l -= unif_rv.rvs(1)\n",
    "        m += 1\n",
    "\n",
    "    return(m)\n",
    "\n",
    "eat_one_baguette()"
   ]
  },
  {
   "cell_type": "markdown",
   "metadata": {
    "id": "PZiYemH2tQtL"
   },
   "source": [
    "Теперь мы можем провести много итераций эксперимента."
   ]
  },
  {
   "cell_type": "code",
   "execution_count": 27,
   "metadata": {
    "id": "8yVodG7btQtL"
   },
   "outputs": [],
   "source": [
    "n_obs = 10**4 # количество итераций эксперимента\n",
    "N = [eat_one_baguette() for i in range(n_obs)]"
   ]
  },
  {
   "cell_type": "code",
   "execution_count": 28,
   "metadata": {
    "id": "hVK9C-tgtQtL",
    "outputId": "9deac0e0-5b77-4867-9b6e-439a269d4b2e"
   },
   "outputs": [
    {
     "data": {
      "text/plain": [
       "2.7188"
      ]
     },
     "execution_count": 28,
     "metadata": {},
     "output_type": "execute_result"
    }
   ],
   "source": [
    "np.mean(N)"
   ]
  },
  {
   "cell_type": "code",
   "execution_count": 29,
   "metadata": {},
   "outputs": [
    {
     "data": {
      "text/plain": [
       "2.718281828459045"
      ]
     },
     "execution_count": 29,
     "metadata": {},
     "output_type": "execute_result"
    }
   ],
   "source": [
    "np.e"
   ]
  },
  {
   "cell_type": "code",
   "execution_count": 30,
   "metadata": {
    "id": "P2XKlOyGtQtL",
    "outputId": "7b571b27-e55e-4566-d77e-f25a53aaf7ce"
   },
   "outputs": [
    {
     "data": {
      "text/plain": [
       "0.7543265600000001"
      ]
     },
     "execution_count": 30,
     "metadata": {},
     "output_type": "execute_result"
    }
   ],
   "source": [
    "np.var(N)"
   ]
  },
  {
   "cell_type": "markdown",
   "metadata": {
    "id": "0H_JKOHHtQtM"
   },
   "source": [
    "## Парадокс дней рождений\n",
    "\n",
    "__Парадокс дней рождений:__ в произвольной группе из $50$ человек вероятность того, что хотябы у двоих людей дни рождения совпадут, равна $0.97$. Но это в теории, при предпосылке, что люди равномерно рождаются в течение года. Давайте проверим это. \n"
   ]
  },
  {
   "cell_type": "markdown",
   "metadata": {
    "id": "Vk60GjJCtQtM"
   },
   "source": [
    "В табличке `bdates.tsv` лежит информация о $1$ млн. пользователей из вконтакте. В табличке можно найти данные о имени пользователя `first_name`, его поле `sex`, городе проживания `city`, дне `bdate`, месяце `bmonth` и годе `byear` рождения."
   ]
  },
  {
   "cell_type": "code",
   "execution_count": 31,
   "metadata": {
    "id": "NHShNqwstQtM",
    "outputId": "ce93b051-2311-4ad6-fac6-689908dafc7f"
   },
   "outputs": [
    {
     "name": "stdout",
     "output_type": "stream",
     "text": [
      "(1000000, 7)\n"
     ]
    },
    {
     "data": {
      "text/html": [
       "<div>\n",
       "<style scoped>\n",
       "    .dataframe tbody tr th:only-of-type {\n",
       "        vertical-align: middle;\n",
       "    }\n",
       "\n",
       "    .dataframe tbody tr th {\n",
       "        vertical-align: top;\n",
       "    }\n",
       "\n",
       "    .dataframe thead th {\n",
       "        text-align: right;\n",
       "    }\n",
       "</style>\n",
       "<table border=\"1\" class=\"dataframe\">\n",
       "  <thead>\n",
       "    <tr style=\"text-align: right;\">\n",
       "      <th></th>\n",
       "      <th>city</th>\n",
       "      <th>first_name</th>\n",
       "      <th>id</th>\n",
       "      <th>sex</th>\n",
       "      <th>byear</th>\n",
       "      <th>bmonth</th>\n",
       "      <th>bday</th>\n",
       "    </tr>\n",
       "  </thead>\n",
       "  <tbody>\n",
       "    <tr>\n",
       "      <th>0</th>\n",
       "      <td>Севастополь</td>\n",
       "      <td>Галина</td>\n",
       "      <td>268520763</td>\n",
       "      <td>1</td>\n",
       "      <td>1955</td>\n",
       "      <td>2</td>\n",
       "      <td>4</td>\n",
       "    </tr>\n",
       "    <tr>\n",
       "      <th>1</th>\n",
       "      <td>Новороссийск</td>\n",
       "      <td>Маша</td>\n",
       "      <td>386703913</td>\n",
       "      <td>1</td>\n",
       "      <td>2002</td>\n",
       "      <td>7</td>\n",
       "      <td>10</td>\n",
       "    </tr>\n",
       "    <tr>\n",
       "      <th>2</th>\n",
       "      <td>Нижний Новгород</td>\n",
       "      <td>Екатерина</td>\n",
       "      <td>250291860</td>\n",
       "      <td>1</td>\n",
       "      <td>&lt;NA&gt;</td>\n",
       "      <td>&lt;NA&gt;</td>\n",
       "      <td>&lt;NA&gt;</td>\n",
       "    </tr>\n",
       "    <tr>\n",
       "      <th>3</th>\n",
       "      <td>Турсунзаде</td>\n",
       "      <td>Μαχμυδσθδ</td>\n",
       "      <td>384274806</td>\n",
       "      <td>2</td>\n",
       "      <td>&lt;NA&gt;</td>\n",
       "      <td>&lt;NA&gt;</td>\n",
       "      <td>&lt;NA&gt;</td>\n",
       "    </tr>\n",
       "    <tr>\n",
       "      <th>4</th>\n",
       "      <td>NaN</td>\n",
       "      <td>Bekzod</td>\n",
       "      <td>366702299</td>\n",
       "      <td>2</td>\n",
       "      <td>&lt;NA&gt;</td>\n",
       "      <td>&lt;NA&gt;</td>\n",
       "      <td>&lt;NA&gt;</td>\n",
       "    </tr>\n",
       "  </tbody>\n",
       "</table>\n",
       "</div>"
      ],
      "text/plain": [
       "              city first_name         id  sex  byear  bmonth  bday\n",
       "0      Севастополь     Галина  268520763    1   1955       2     4\n",
       "1     Новороссийск       Маша  386703913    1   2002       7    10\n",
       "2  Нижний Новгород  Екатерина  250291860    1   <NA>    <NA>  <NA>\n",
       "3       Турсунзаде  Μαχμυδσθδ  384274806    2   <NA>    <NA>  <NA>\n",
       "4              NaN     Bekzod  366702299    2   <NA>    <NA>  <NA>"
      ]
     },
     "execution_count": 31,
     "metadata": {},
     "output_type": "execute_result"
    }
   ],
   "source": [
    "df = pd.read_csv(\"./data/vk_bdate.tsv\", sep=\"\\t\", \n",
    "                 dtype={'byear': pd.Int64Dtype(), \n",
    "                        'bmonth': pd.Int64Dtype(), \n",
    "                         'bday': pd.Int64Dtype()}\n",
    "                )\n",
    "print(df.shape)\n",
    "df.head()"
   ]
  },
  {
   "cell_type": "markdown",
   "metadata": {
    "id": "9SIo_DaMtQtM"
   },
   "source": [
    "Удалим из данных всех, кто не указал когда он родился."
   ]
  },
  {
   "cell_type": "code",
   "execution_count": 32,
   "metadata": {
    "id": "0lk5GlfmtQtM",
    "outputId": "eb9b8304-a17c-4175-9e50-80553289a928"
   },
   "outputs": [
    {
     "data": {
      "text/plain": [
       "(694755, 7)"
      ]
     },
     "execution_count": 32,
     "metadata": {},
     "output_type": "execute_result"
    }
   ],
   "source": [
    "df = df[~(df.bmonth.isnull() | df.bday.isnull())]\n",
    "df.shape"
   ]
  },
  {
   "cell_type": "markdown",
   "metadata": {
    "id": "h20ZZLx7tQtM"
   },
   "source": [
    "Заведём колонку с днём и месяцем рождения человека."
   ]
  },
  {
   "cell_type": "code",
   "execution_count": 33,
   "metadata": {
    "id": "9H-TV-mutQtM"
   },
   "outputs": [
    {
     "data": {
      "text/html": [
       "<div>\n",
       "<style scoped>\n",
       "    .dataframe tbody tr th:only-of-type {\n",
       "        vertical-align: middle;\n",
       "    }\n",
       "\n",
       "    .dataframe tbody tr th {\n",
       "        vertical-align: top;\n",
       "    }\n",
       "\n",
       "    .dataframe thead th {\n",
       "        text-align: right;\n",
       "    }\n",
       "</style>\n",
       "<table border=\"1\" class=\"dataframe\">\n",
       "  <thead>\n",
       "    <tr style=\"text-align: right;\">\n",
       "      <th></th>\n",
       "      <th>city</th>\n",
       "      <th>first_name</th>\n",
       "      <th>id</th>\n",
       "      <th>sex</th>\n",
       "      <th>byear</th>\n",
       "      <th>bmonth</th>\n",
       "      <th>bday</th>\n",
       "      <th>bdate</th>\n",
       "    </tr>\n",
       "  </thead>\n",
       "  <tbody>\n",
       "    <tr>\n",
       "      <th>0</th>\n",
       "      <td>Севастополь</td>\n",
       "      <td>Галина</td>\n",
       "      <td>268520763</td>\n",
       "      <td>1</td>\n",
       "      <td>1955</td>\n",
       "      <td>2</td>\n",
       "      <td>4</td>\n",
       "      <td>4-2</td>\n",
       "    </tr>\n",
       "    <tr>\n",
       "      <th>1</th>\n",
       "      <td>Новороссийск</td>\n",
       "      <td>Маша</td>\n",
       "      <td>386703913</td>\n",
       "      <td>1</td>\n",
       "      <td>2002</td>\n",
       "      <td>7</td>\n",
       "      <td>10</td>\n",
       "      <td>10-7</td>\n",
       "    </tr>\n",
       "    <tr>\n",
       "      <th>6</th>\n",
       "      <td>Братск</td>\n",
       "      <td>Сергей</td>\n",
       "      <td>370238078</td>\n",
       "      <td>2</td>\n",
       "      <td>2002</td>\n",
       "      <td>12</td>\n",
       "      <td>21</td>\n",
       "      <td>21-12</td>\n",
       "    </tr>\n",
       "    <tr>\n",
       "      <th>8</th>\n",
       "      <td>Мозырь</td>\n",
       "      <td>Василиса</td>\n",
       "      <td>240423501</td>\n",
       "      <td>1</td>\n",
       "      <td>1989</td>\n",
       "      <td>3</td>\n",
       "      <td>8</td>\n",
       "      <td>8-3</td>\n",
       "    </tr>\n",
       "    <tr>\n",
       "      <th>9</th>\n",
       "      <td>Мстиславль</td>\n",
       "      <td>Ленчик</td>\n",
       "      <td>305822711</td>\n",
       "      <td>1</td>\n",
       "      <td>1992</td>\n",
       "      <td>12</td>\n",
       "      <td>14</td>\n",
       "      <td>14-12</td>\n",
       "    </tr>\n",
       "    <tr>\n",
       "      <th>...</th>\n",
       "      <td>...</td>\n",
       "      <td>...</td>\n",
       "      <td>...</td>\n",
       "      <td>...</td>\n",
       "      <td>...</td>\n",
       "      <td>...</td>\n",
       "      <td>...</td>\n",
       "      <td>...</td>\n",
       "    </tr>\n",
       "    <tr>\n",
       "      <th>999990</th>\n",
       "      <td>NaN</td>\n",
       "      <td>Манас</td>\n",
       "      <td>335400650</td>\n",
       "      <td>2</td>\n",
       "      <td>1998</td>\n",
       "      <td>2</td>\n",
       "      <td>27</td>\n",
       "      <td>27-2</td>\n",
       "    </tr>\n",
       "    <tr>\n",
       "      <th>999992</th>\n",
       "      <td>New York City</td>\n",
       "      <td>Макс</td>\n",
       "      <td>181294459</td>\n",
       "      <td>2</td>\n",
       "      <td>1999</td>\n",
       "      <td>2</td>\n",
       "      <td>20</td>\n",
       "      <td>20-2</td>\n",
       "    </tr>\n",
       "    <tr>\n",
       "      <th>999993</th>\n",
       "      <td>Астана</td>\n",
       "      <td>Алисултан</td>\n",
       "      <td>339352447</td>\n",
       "      <td>2</td>\n",
       "      <td>2001</td>\n",
       "      <td>12</td>\n",
       "      <td>12</td>\n",
       "      <td>12-12</td>\n",
       "    </tr>\n",
       "    <tr>\n",
       "      <th>999996</th>\n",
       "      <td>Реж</td>\n",
       "      <td>Елена</td>\n",
       "      <td>61449049</td>\n",
       "      <td>1</td>\n",
       "      <td>&lt;NA&gt;</td>\n",
       "      <td>11</td>\n",
       "      <td>17</td>\n",
       "      <td>17-11</td>\n",
       "    </tr>\n",
       "    <tr>\n",
       "      <th>999999</th>\n",
       "      <td>Псков</td>\n",
       "      <td>Макс</td>\n",
       "      <td>217346320</td>\n",
       "      <td>2</td>\n",
       "      <td>&lt;NA&gt;</td>\n",
       "      <td>3</td>\n",
       "      <td>23</td>\n",
       "      <td>23-3</td>\n",
       "    </tr>\n",
       "  </tbody>\n",
       "</table>\n",
       "<p>694755 rows × 8 columns</p>\n",
       "</div>"
      ],
      "text/plain": [
       "                 city first_name         id  sex  byear  bmonth  bday  bdate\n",
       "0         Севастополь     Галина  268520763    1   1955       2     4    4-2\n",
       "1        Новороссийск       Маша  386703913    1   2002       7    10   10-7\n",
       "6              Братск     Сергей  370238078    2   2002      12    21  21-12\n",
       "8              Мозырь   Василиса  240423501    1   1989       3     8    8-3\n",
       "9          Мстиславль     Ленчик  305822711    1   1992      12    14  14-12\n",
       "...               ...        ...        ...  ...    ...     ...   ...    ...\n",
       "999990            NaN      Манас  335400650    2   1998       2    27   27-2\n",
       "999992  New York City       Макс  181294459    2   1999       2    20   20-2\n",
       "999993         Астана  Алисултан  339352447    2   2001      12    12  12-12\n",
       "999996            Реж      Елена   61449049    1   <NA>      11    17  17-11\n",
       "999999          Псков       Макс  217346320    2   <NA>       3    23   23-3\n",
       "\n",
       "[694755 rows x 8 columns]"
      ]
     },
     "execution_count": 33,
     "metadata": {},
     "output_type": "execute_result"
    }
   ],
   "source": [
    "df['bdate'] = df['bday'].astype(str) + '-' + df['bmonth'].astype(str) \n",
    "df"
   ]
  },
  {
   "cell_type": "markdown",
   "metadata": {
    "id": "iJQYFIjRtQtM"
   },
   "source": [
    "Построим гистограмму, на которой было бы понятно, в какой месяц родилось какое количество людей. Правда ли, что рождаемость людей в течение года распределена равномерно?"
   ]
  },
  {
   "cell_type": "code",
   "execution_count": 34,
   "metadata": {
    "id": "F4MnChLutQtM",
    "outputId": "cff54721-133a-4f9b-d35b-b3478887435e"
   },
   "outputs": [
    {
     "data": {
      "image/png": "[encoded data removed]",
      "text/plain": [
       "<Figure size 720x360 with 1 Axes>"
      ]
     },
     "metadata": {
      "needs_background": "light"
     },
     "output_type": "display_data"
    }
   ],
   "source": [
    "plt.figure(figsize=(10, 5))\n",
    "\n",
    "df.bmonth.value_counts().sort_index().plot(kind='bar');\n",
    "\n",
    "plt.title('Количество дней рождений по месяцам')\n",
    "plt.xlabel('Номер месяца')\n",
    "plt.ylabel('Количество дней рождений в этот месяц');"
   ]
  },
  {
   "cell_type": "markdown",
   "metadata": {
    "id": "ldGm-lTItQtM"
   },
   "source": [
    "Эмпирически оценим вероятность того, что в группе из 50 произвольных людей найдутся хотя бы двое с одинаковым днём рождения."
   ]
  },
  {
   "cell_type": "code",
   "execution_count": 35,
   "metadata": {
    "id": "onZ6tW5ctQtN",
    "outputId": "33f06f35-5f6a-4357-919b-1639aca08680"
   },
   "outputs": [
    {
     "data": {
      "text/html": [
       "<div>\n",
       "<style scoped>\n",
       "    .dataframe tbody tr th:only-of-type {\n",
       "        vertical-align: middle;\n",
       "    }\n",
       "\n",
       "    .dataframe tbody tr th {\n",
       "        vertical-align: top;\n",
       "    }\n",
       "\n",
       "    .dataframe thead th {\n",
       "        text-align: right;\n",
       "    }\n",
       "</style>\n",
       "<table border=\"1\" class=\"dataframe\">\n",
       "  <thead>\n",
       "    <tr style=\"text-align: right;\">\n",
       "      <th></th>\n",
       "      <th>city</th>\n",
       "      <th>first_name</th>\n",
       "      <th>id</th>\n",
       "      <th>sex</th>\n",
       "      <th>byear</th>\n",
       "      <th>bmonth</th>\n",
       "      <th>bday</th>\n",
       "      <th>bdate</th>\n",
       "    </tr>\n",
       "  </thead>\n",
       "  <tbody>\n",
       "    <tr>\n",
       "      <th>429048</th>\n",
       "      <td>Минск</td>\n",
       "      <td>Руслан</td>\n",
       "      <td>252983122</td>\n",
       "      <td>2</td>\n",
       "      <td>&lt;NA&gt;</td>\n",
       "      <td>9</td>\n",
       "      <td>8</td>\n",
       "      <td>8-9</td>\n",
       "    </tr>\n",
       "    <tr>\n",
       "      <th>685407</th>\n",
       "      <td>Мурмаши</td>\n",
       "      <td>Алина</td>\n",
       "      <td>271985415</td>\n",
       "      <td>1</td>\n",
       "      <td>2001</td>\n",
       "      <td>7</td>\n",
       "      <td>26</td>\n",
       "      <td>26-7</td>\n",
       "    </tr>\n",
       "    <tr>\n",
       "      <th>658721</th>\n",
       "      <td>Чайковский</td>\n",
       "      <td>Лара</td>\n",
       "      <td>344672733</td>\n",
       "      <td>1</td>\n",
       "      <td>1981</td>\n",
       "      <td>4</td>\n",
       "      <td>27</td>\n",
       "      <td>27-4</td>\n",
       "    </tr>\n",
       "    <tr>\n",
       "      <th>861747</th>\n",
       "      <td>NaN</td>\n",
       "      <td>Данил</td>\n",
       "      <td>230613158</td>\n",
       "      <td>2</td>\n",
       "      <td>2003</td>\n",
       "      <td>5</td>\n",
       "      <td>12</td>\n",
       "      <td>12-5</td>\n",
       "    </tr>\n",
       "    <tr>\n",
       "      <th>891906</th>\n",
       "      <td>Бугуруслан</td>\n",
       "      <td>Alexandra</td>\n",
       "      <td>385354664</td>\n",
       "      <td>1</td>\n",
       "      <td>&lt;NA&gt;</td>\n",
       "      <td>5</td>\n",
       "      <td>10</td>\n",
       "      <td>10-5</td>\n",
       "    </tr>\n",
       "  </tbody>\n",
       "</table>\n",
       "</div>"
      ],
      "text/plain": [
       "              city first_name         id  sex  byear  bmonth  bday bdate\n",
       "429048       Минск     Руслан  252983122    2   <NA>       9     8   8-9\n",
       "685407     Мурмаши      Алина  271985415    1   2001       7    26  26-7\n",
       "658721  Чайковский       Лара  344672733    1   1981       4    27  27-4\n",
       "861747         NaN      Данил  230613158    2   2003       5    12  12-5\n",
       "891906  Бугуруслан  Alexandra  385354664    1   <NA>       5    10  10-5"
      ]
     },
     "execution_count": 35,
     "metadata": {},
     "output_type": "execute_result"
    }
   ],
   "source": [
    "df.sample(5) # выборка в 5 человек"
   ]
  },
  {
   "cell_type": "code",
   "execution_count": 36,
   "metadata": {
    "id": "ocBi-FqutQtN",
    "outputId": "8dc9c9c7-5b2d-42c1-aaa4-ffad231b79aa"
   },
   "outputs": [
    {
     "data": {
      "text/plain": [
       "45"
      ]
     },
     "execution_count": 36,
     "metadata": {},
     "output_type": "execute_result"
    }
   ],
   "source": [
    "# если уникальных дат меньше 50 => совпадение\n",
    "df.bdate.sample(50).unique().size "
   ]
  },
  {
   "cell_type": "code",
   "execution_count": 37,
   "metadata": {
    "colab": {
     "referenced_widgets": [
      "a702bea8cc60441c9158ad4dc0a4d84f"
     ]
    },
    "id": "3w_KLpx2tQtN",
    "outputId": "1a6945ad-058d-4d55-d7b7-653f96a6aceb"
   },
   "outputs": [
    {
     "data": {
      "application/vnd.jupyter.widget-view+json": {
       "model_id": "2e80777e5df248f486f43740f2577927",
       "version_major": 2,
       "version_minor": 0
      },
      "text/plain": [
       "  0%|          | 0/10000 [00:00<?, ?it/s]"
      ]
     },
     "metadata": {},
     "output_type": "display_data"
    }
   ],
   "source": [
    "n = 10**4  # число симуляций \n",
    "m = 0      # счётчик для наших событий\n",
    "\n",
    "for i in tqdm(range(n)):\n",
    "    m += df.bdate.sample(50).unique().size < 50"
   ]
  },
  {
   "cell_type": "code",
   "execution_count": 38,
   "metadata": {
    "id": "7uvSSo7etQtN",
    "outputId": "e9a83ca2-ddc6-42cf-f2ba-46f857f60e05"
   },
   "outputs": [
    {
     "data": {
      "text/plain": [
       "0.9792"
      ]
     },
     "execution_count": 38,
     "metadata": {},
     "output_type": "execute_result"
    }
   ],
   "source": [
    "m/n # итоговая вероятность "
   ]
  },
  {
   "cell_type": "markdown",
   "metadata": {
    "id": "s2Fg9RgEtQtN"
   },
   "source": [
    "Похоже на правду. "
   ]
  },
  {
   "cell_type": "markdown",
   "metadata": {
    "id": "7Y0YrajwtQtN"
   },
   "source": [
    "   "
   ]
  },
  {
   "cell_type": "markdown",
   "metadata": {
    "id": "nMf4conStO8c"
   },
   "source": [
    "\n",
    "#  Центральная предельная теорема\n",
    "\n",
    "Теперь поговорим про ЦПТ \n",
    "\n",
    "---------------"
   ]
  },
  {
   "cell_type": "markdown",
   "metadata": {
    "id": "wEPy-yZ3tO8e"
   },
   "source": [
    "## Центральная предельная теорема\n",
    "\n",
    "\n"
   ]
  },
  {
   "cell_type": "markdown",
   "metadata": {},
   "source": [
    "**ЦПТ**\n",
    "\n",
    "Пусть $X_1, \\ldots, X_n$ случайные величины, имеющие одинаковое распределение с конечными математическим ожиданием и дисперсией. Обычно этот факт записывают вот так:\n",
    "\n",
    "$$\n",
    "X_1, \\ldots, X_n \\sim iid(\\mu,\\sigma^2)\n",
    "$$\n",
    "\n",
    "тогда при $n \\to \\infty$ имеет место сходимость по распределению: \n",
    "\n",
    "$$\n",
    "\\frac{X_1 + \\ldots X_n - \\mu \\cdot n}{\\sqrt{n} \\sigma } \\overset{d}{\\to} N(0,1)\n",
    "$$\n",
    "\n",
    "\n",
    "__Простым языком:__ \n",
    "\n",
    "* При определённых условиях сумма достаточно большого числа случайных величин имеет распределение близкое к нормальному \n",
    "* __Главное,__ чтобы случайные величины были похожи и не было такого, что одна резко выделяется на фоне остальных \n"
   ]
  },
  {
   "cell_type": "markdown",
   "metadata": {
    "id": "QwnuRT34tO8e"
   },
   "source": [
    "## Упражнение (ЦПТ для равномерного) \n",
    "\n",
    "Пусть $X \\sim U[-1;1]$, пусть $Y = X_1 + \\ldots + X_n$ \n",
    "\n",
    "* Нарисуем гистограмму для $X_1$, $X_1 + X_2$,  $X_1 + X_2 + X_3$ и $X_1 + X_2 + X_3 + X_4$.\n",
    "* На последней картинке нарисуем плотность распределения $N(0,1)$ и визуально сравним, насколько сильно оно отличается от гистограммы. "
   ]
  },
  {
   "cell_type": "code",
   "execution_count": 39,
   "metadata": {
    "id": "_j606ZrUtO8f"
   },
   "outputs": [],
   "source": [
    "n_obs = 10**6\n",
    "\n",
    "# обратите внимание, что в этой функции задается левая граница и длина\n",
    "# а не левая и правая границы\n",
    "uniform_rv = sts.uniform(-1, 2)"
   ]
  },
  {
   "cell_type": "code",
   "execution_count": 40,
   "metadata": {
    "id": "l6EvOM27tO8f"
   },
   "outputs": [],
   "source": [
    "x_1 = uniform_rv.rvs(n_obs)\n",
    "x_2 = uniform_rv.rvs(n_obs)\n",
    "x_3 = uniform_rv.rvs(n_obs)\n",
    "x_4 = uniform_rv.rvs(n_obs)"
   ]
  },
  {
   "cell_type": "code",
   "execution_count": 41,
   "metadata": {
    "id": "z_OhoJ8rtO8f",
    "outputId": "a992d0c6-07cd-465f-bbde-bb2be662d677",
    "scrolled": true
   },
   "outputs": [
    {
     "data": {
      "image/png": "[encoded data removed]",
      "text/plain": [
       "<Figure size 432x288 with 1 Axes>"
      ]
     },
     "metadata": {
      "needs_background": "light"
     },
     "output_type": "display_data"
    }
   ],
   "source": [
    "plt.hist(x_1, bins=100); # равномерное распределение"
   ]
  },
  {
   "cell_type": "code",
   "execution_count": 42,
   "metadata": {
    "id": "AhmVtYAAtO8g",
    "outputId": "43e1160b-3f5b-4d24-91ec-f7772b9dbc67"
   },
   "outputs": [
    {
     "data": {
      "image/png": "[encoded data removed]",
      "text/plain": [
       "<Figure size 432x288 with 1 Axes>"
      ]
     },
     "metadata": {
      "needs_background": "light"
     },
     "output_type": "display_data"
    }
   ],
   "source": [
    "plt.hist(x_1 + x_2, bins=100); # треугольное распределение"
   ]
  },
  {
   "cell_type": "code",
   "execution_count": 43,
   "metadata": {
    "id": "dqsM4GaTtO8g",
    "outputId": "9283a58a-5720-49ae-aefd-4ef404fa744c"
   },
   "outputs": [
    {
     "data": {
      "image/png": "[encoded data removed]",
      "text/plain": [
       "<Figure size 432x288 with 1 Axes>"
      ]
     },
     "metadata": {
      "needs_background": "light"
     },
     "output_type": "display_data"
    }
   ],
   "source": [
    "plt.hist(x_1 + x_2 + x_3, bins=100); # уже прослеживается купол"
   ]
  },
  {
   "cell_type": "code",
   "execution_count": 44,
   "metadata": {
    "id": "2rA4s8j0tO8g",
    "outputId": "e5483170-6ead-46e2-bf99-aeb8a54ecb69"
   },
   "outputs": [
    {
     "data": {
      "image/png": "[encoded data removed]",
      "text/plain": [
       "<Figure size 432x288 with 1 Axes>"
      ]
     },
     "metadata": {
      "needs_background": "light"
     },
     "output_type": "display_data"
    }
   ],
   "source": [
    "plt.hist(x_1 + x_2 + x_3 + x_4, bins=100, density=True); # ещё куполообразнее\n",
    "\n",
    "# пририсуем нормальное распределение\n",
    "x = np.linspace(-4, 4, 100)\n",
    "pdf = sts.norm().pdf(x)\n",
    "plt.plot(x, pdf);"
   ]
  },
  {
   "cell_type": "markdown",
   "metadata": {
    "id": "8ODujK6_tO8h"
   },
   "source": [
    "На практике ЦПТ говорит нам, что при больших значениях $n$ мы можем заменять распределение средних нормальным и не особо сильно при этом ошибаться. \n",
    "\n",
    "Возникает вопрос: __А что такое большие значения n? Когда наступает асимптотика?__ Для разных распределений  и природных явлений она наступает по-разному. Для равномерного уже для четырёх слагаемых распределение довольно сильно напоминает $N(0,1)$.\n",
    " \n",
    "Вот так равномерное распределение будет вести себя дальше: \n",
    "\n",
    "<center>\n",
    "<img src=\"image/animation_CPT_1.gif\" width=\"350\"> \n",
    "</center>"
   ]
  },
  {
   "cell_type": "markdown",
   "metadata": {
    "id": "2vPOMEv-tO8h"
   },
   "source": [
    "А вот пример для хи-квадрат с одной степенью свободы: \n",
    "\n",
    "<center>\n",
    "<img src=\"image/animation_CPT_2.gif\" width=\"350\"> \n",
    "</center>"
   ]
  },
  {
   "cell_type": "markdown",
   "metadata": {
    "id": "x21jVM2dtO8h"
   },
   "source": [
    "Из довольно медленно сходящихся к нормальному распределений, наверное, можно выделить логнормальное распределение."
   ]
  },
  {
   "cell_type": "markdown",
   "metadata": {
    "id": "1CYVZV5itO8h"
   },
   "source": [
    "## Сходимость по распределению\n",
    "\n",
    "В ЦПТ над мы написали над стрелкой букву $d$. Она означает, что последовательность случайных величин сходится по распределению. \n",
    "\n",
    "__Определение:__ говорят, что последовательность случайных величин $X_1, X_2, \\ldots$ сходится к случайной величине $X$ _по распределению,_ если $F_{X_n}(x) \\to F_X(x)$ для всех $x$, в которых $F_X(x)$ непрерывна. Если функции сходятся, она есть. Если не сходятся, её нет.  \n",
    "\n",
    "__Пример:__ распредеелние Стьюдента при большом $n$ (число степеней свободы) становится похоже на нормальное, то есть $t(n) \\overset{d}{\\to}  N(0,1)$.\n",
    "\n",
    "Давайте это продемонстрируем: \n",
    "\n",
    "* Построим на картинке линию: плотность для $N(0,1)$.\n",
    "* Построим пять пунктирных разноцветных линий: $t(1)$, $t(2)$, $t(5)$, $t(10)$, $t(50)$.\n",
    "* Сделаем то же самое для функций распределения"
   ]
  },
  {
   "cell_type": "code",
   "execution_count": 45,
   "metadata": {
    "id": "ftGBy4DutO8h",
    "outputId": "96f37319-f335-4f47-f8dd-eb7359f1b224"
   },
   "outputs": [
    {
     "data": {
      "image/png": "[encoded data removed]",
      "text/plain": [
       "<Figure size 1152x288 with 2 Axes>"
      ]
     },
     "metadata": {
      "needs_background": "light"
     },
     "output_type": "display_data"
    }
   ],
   "source": [
    "x = np.linspace(-5,5,100)\n",
    "\n",
    "fig, ax = plt.subplots(1,2,figsize=(16, 4))\n",
    "\n",
    "for k in [1, 2, 5, 10, 50]:    \n",
    "    rv = sts.t(df=k)\n",
    "    pdf = rv.pdf(x)\n",
    "    cdf = rv.cdf(x) \n",
    "    ax[0].plot(x, pdf, label=\"$t(%s)$\" % k, lw=1.2)\n",
    "    ax[1].plot(x, cdf, label=\"$t(%s)$\" % k, lw=1.2)\n",
    "\n",
    "\n",
    "rv_limit = sts.norm( )\n",
    "pdf_limit = rv_limit.pdf(x)\n",
    "cdf_limit = rv_limit.cdf(x)\n",
    "\n",
    "ax[0].plot(x, pdf_limit, label='N(0,1)', linestyle='dashed', lw=2)\n",
    "ax[0].set_ylim(-0.03,0.45)\n",
    "ax[0].set_title(\"Плотность распределения (PDF)\")\n",
    "ax[0].legend() \n",
    "\n",
    "ax[1].set_ylim(-0.1,1.1)\n",
    "ax[1].plot(x, cdf_limit, label='N(0,1)', linestyle='dashed', lw=2)\n",
    "ax[1].set_title(\"Функция распределения (CDF)\")\n",
    "ax[1].legend();"
   ]
  },
  {
   "cell_type": "markdown",
   "metadata": {
    "id": "IV7L7H83tO8i"
   },
   "source": [
    "Конечно же держите гифку. Как же без неё: \n",
    "\n",
    "<center>\n",
    "<img src=\"https://raw.githubusercontent.com/hse-econ-data-science/eds_spring_2020/master/sem08_estimate_convergence/image/animation_convdist_student.gif\" width=\"1500\"> \n",
    "</center>"
   ]
  },
  {
   "cell_type": "markdown",
   "metadata": {
    "id": "mmysnKTPtO8i"
   },
   "source": [
    "  "
   ]
  },
  {
   "cell_type": "markdown",
   "metadata": {
    "id": "KmP0AndZKdsx"
   },
   "source": [
    "#  Мощь средних \n",
    "\n",
    "Теперь обсудим мощь средних и доверительные интервалы для них."
   ]
  },
  {
   "cell_type": "markdown",
   "metadata": {
    "id": "8RbXXpl_KdtT"
   },
   "source": [
    "## Ещё раз о квантилях"
   ]
  },
  {
   "cell_type": "code",
   "execution_count": 46,
   "metadata": {
    "id": "0nCGed9kKdtV",
    "outputId": "d5637d9f-b8a3-496c-f1cc-e45262a74e6d"
   },
   "outputs": [
    {
     "data": {
      "text/plain": [
       "-1.9599639845400545"
      ]
     },
     "execution_count": 46,
     "metadata": {},
     "output_type": "execute_result"
    }
   ],
   "source": [
    "norm_rv = stats.norm(loc=0, scale=1)  # задали генератор \n",
    "norm_rv.ppf(0.025) # нашли квантиль"
   ]
  },
  {
   "cell_type": "code",
   "execution_count": 47,
   "metadata": {
    "id": "zAZEDMY1tPhJ",
    "outputId": "675d336f-6908-4c9a-cff4-927d845f3b0b"
   },
   "outputs": [
    {
     "data": {
      "text/plain": [
       "1.959963984540054"
      ]
     },
     "execution_count": 47,
     "metadata": {},
     "output_type": "execute_result"
    }
   ],
   "source": [
    "alpha = 0.05\n",
    "stats.norm(loc=0, scale=1).ppf(1-alpha/2)"
   ]
  },
  {
   "cell_type": "code",
   "execution_count": 48,
   "metadata": {
    "id": "-PI3Q9lBtPhJ",
    "outputId": "2791898d-4846-4168-9c68-0bef822ab4aa"
   },
   "outputs": [
    {
     "data": {
      "text/plain": [
       "-1.9599639845400545"
      ]
     },
     "execution_count": 48,
     "metadata": {},
     "output_type": "execute_result"
    }
   ],
   "source": [
    "stats.norm(loc=0, scale=1).ppf(alpha/2)"
   ]
  },
  {
   "cell_type": "code",
   "execution_count": 49,
   "metadata": {},
   "outputs": [
    {
     "data": {
      "text/plain": [
       "0.04550026389635842"
      ]
     },
     "execution_count": 49,
     "metadata": {},
     "output_type": "execute_result"
    }
   ],
   "source": [
    "(1-stats.norm(loc=0, scale=1).cdf(2))*2"
   ]
  },
  {
   "cell_type": "markdown",
   "metadata": {
    "id": "8au_RhKfKdtX"
   },
   "source": [
    "Число $-1.96$ это квантиль уровня $2.5\\%$. Давайте нарисуем его на графике плотности. "
   ]
  },
  {
   "cell_type": "code",
   "execution_count": 50,
   "metadata": {
    "id": "AkSH1B6jKdtY",
    "outputId": "d92f50e0-0cdd-4bf1-dd08-5115333c0e4e"
   },
   "outputs": [
    {
     "data": {
      "text/plain": [
       "(-1.959963984540054, 1.959963984540054)"
      ]
     },
     "execution_count": 50,
     "metadata": {},
     "output_type": "execute_result"
    },
    {
     "data": {
      "image/png": "[encoded data removed]",
      "text/plain": [
       "<Figure size 720x360 with 1 Axes>"
      ]
     },
     "metadata": {
      "needs_background": "light"
     },
     "output_type": "display_data"
    }
   ],
   "source": [
    "def norm_conf_int(alpha, mean_hat=0, std_hat=1, margin=5):\n",
    "    \"\"\"\n",
    "        Строит 95% асимптотически-нормальный доверительный интервал\n",
    "    \"\"\"\n",
    "    \n",
    "    plt.figure(figsize=(10,5))\n",
    "    xs = np.linspace(mean_hat - margin, mean_hat + margin)\n",
    "    pdf = stats.norm(mean_hat, std_hat).pdf(xs)\n",
    "\n",
    "    plt.plot(xs, pdf)\n",
    "    plt.ylabel('$f(x)$', fontsize=18)\n",
    "    plt.xlabel('$x$', fontsize=18)\n",
    "\n",
    "    left, right = stats.norm.interval(1 - alpha, loc=mean_hat, scale=std_hat)\n",
    "    \n",
    "    for i in [left, right]: \n",
    "        y_max = plt.ylim()[1]\n",
    "        plt.axvline(i, color=\"blue\", linestyle='dashed', lw=2)\n",
    "        \n",
    "        if i == left:\n",
    "            xq = np.linspace(mean_hat - margin, left)\n",
    "        else:\n",
    "            xq = np.linspace(right, mean_hat + margin)\n",
    "        \n",
    "        text_margin = 0.05\n",
    "        plt.text(i + text_margin, 0.8*y_max, round(i, 2), color=\"blue\", fontsize=14)\n",
    "        yq = stats.norm(mean_hat, std_hat).pdf(xq)\n",
    "        plt.fill_between(xq, 0, yq, color='blue', alpha=0.3)\n",
    "\n",
    "    return left, right\n",
    "    \n",
    "alpha = 0.05\n",
    "norm_conf_int(0.05)"
   ]
  },
  {
   "cell_type": "markdown",
   "metadata": {
    "id": "boM0eR3qKdtZ"
   },
   "source": [
    "## Мощь средних и асимптотические доверительные интервалы\n",
    "\n",
    "__Ещё раз, ещё раз.__ Среднее хорошо тем, что есть ЦПТ, которая говорит нам, как оно распределено\n",
    "\n",
    "$$ \n",
    "\\bar x \\overset{asy}{\\sim} N \\left(\\mu, \\frac{\\sigma^2}{n}\\right),\n",
    "$$ \n",
    "\n",
    "На основе этого мы можем построить для среднего доверительный интервал."
   ]
  },
  {
   "cell_type": "markdown",
   "metadata": {
    "id": "yZ5xPG-CKdta"
   },
   "source": [
    "### Ульяна смотрит игру престолов\n",
    "\n",
    "Ульяна любит сериалы! Конечно же, Игра Престолов не обошла её стороной. Она смотрит её каждый день. Пусть $X$ - число серий, которое Ульяна просмотрела за день. Так как число серий - счётчик, можно предположить, что $X \\sim Poiss(\\lambda)$, где $\\lambda$ - интенсивность просмотра. Не забыли же ещё, что случайные величины счётчики можно (но не обязательно) моделировать с помощью распределения Пуассона? \n",
    "\n",
    "Ульяне стало интересно с какой интенсивностью она смотрит сериалы, и теперь она хочет построить для $\\lambda$ оценку методом моментов, а после доверительный интервал для неё. "
   ]
  },
  {
   "cell_type": "code",
   "execution_count": 51,
   "metadata": {
    "id": "aRKWJaP0Kdtb"
   },
   "outputs": [],
   "source": [
    "# Ульяна рассказала о том, сколько серий посмотрела на этой неделе\n",
    "x = [5, 7, 8, 2, 3, 1, 2]"
   ]
  },
  {
   "cell_type": "markdown",
   "metadata": {
    "id": "bsY7vzczKdtc"
   },
   "source": [
    "$$\n",
    "\\hat \\lambda = \\bar x\n",
    "$$"
   ]
  },
  {
   "cell_type": "code",
   "execution_count": 52,
   "metadata": {
    "id": "ADIqTIK9Kdtd",
    "outputId": "30dcd0e8-7a99-4471-b340-b51958029745"
   },
   "outputs": [
    {
     "data": {
      "text/plain": [
       "4.0"
      ]
     },
     "execution_count": 52,
     "metadata": {},
     "output_type": "execute_result"
    }
   ],
   "source": [
    "lam_hat = np.mean(x)\n",
    "lam_hat"
   ]
  },
  {
   "cell_type": "markdown",
   "metadata": {
    "id": "jNqcA-nFKdte"
   },
   "source": [
    "$$\n",
    "\\hat \\lambda \\overset{asy}{\\sim} N \\left(\\lambda, \\frac{\\hat \\lambda}{n} \\right).\n",
    "$$\n",
    "\n",
    "$$\n",
    "\\hat \\lambda \\pm z_{1 - \\frac{\\alpha}{2}} \\cdot \\sqrt{\\frac{\\hat \\lambda}{n}}\n",
    "$$"
   ]
  },
  {
   "cell_type": "code",
   "execution_count": 53,
   "metadata": {
    "id": "nWj27VmzKdte",
    "outputId": "af91f059-b370-49a9-d08e-72d7f5a4ede6"
   },
   "outputs": [
    {
     "name": "stdout",
     "output_type": "stream",
     "text": [
      "Доверительный интервал [2.52, 5.48] ширины 2.96\n"
     ]
    }
   ],
   "source": [
    "norm_rv = stats.norm(loc=0, scale=1)\n",
    "\n",
    "alpha = 0.05                       # задаём уровень значимости \n",
    "z_alpha = norm_rv.ppf(1 - alpha/2) # из нормального распределения автоматически посчитался квантиль\n",
    "\n",
    "lam_hat = np.mean(x)               # нашли оценку параметра \n",
    "lam_se = np.sqrt(lam_hat/len(x))   # оценили стандартное отклонение \n",
    "\n",
    "# по формулам посчитали границы\n",
    "lam_left = lam_hat - z_alpha*lam_se\n",
    "lam_right = lam_hat + z_alpha*lam_se\n",
    "\n",
    "# Помимо самого интервала нас интересует его ширина\n",
    "print(f\"Доверительный интервал [{lam_left:.3}, {lam_right:.3}] ширины { lam_right - lam_left:.3}\")"
   ]
  },
  {
   "cell_type": "markdown",
   "metadata": {
    "id": "Q0qLjiUSKdtf"
   },
   "source": [
    "По аналогии можно построить асимптотический доверительный интервал с помощью уже готовой функции. Единственное, что от нас потребуется: вычислить среднее и дисперсию. "
   ]
  },
  {
   "cell_type": "code",
   "execution_count": 54,
   "metadata": {
    "id": "OwbLiYxPKdtg",
    "outputId": "32226d66-cc08-4c3d-ca24-a0ba1762d53a"
   },
   "outputs": [
    {
     "data": {
      "text/plain": [
       "(2.518406490932507, 5.481593509067493)"
      ]
     },
     "execution_count": 54,
     "metadata": {},
     "output_type": "execute_result"
    }
   ],
   "source": [
    "lam_hat = np.mean(x)             # нашли оценку параметра \n",
    "lam_se = np.sqrt(lam_hat/len(x)) # оценили стандартное отклонение \n",
    "\n",
    "stats.norm.interval(0.95, loc=lam_hat, scale=lam_se)"
   ]
  },
  {
   "cell_type": "markdown",
   "metadata": {
    "id": "B4_OR6DYKdth"
   },
   "source": [
    "Можно построить этот же доверительный интервал на картинке с помощью функции, которую мы написали в самом начале тетрадки. "
   ]
  },
  {
   "cell_type": "code",
   "execution_count": 55,
   "metadata": {
    "id": "zE2-1T2CKdtj",
    "outputId": "c574040d-cd5f-4f8f-f03e-827dd6b1ce47"
   },
   "outputs": [
    {
     "data": {
      "text/plain": [
       "(2.518406490932507, 5.481593509067493)"
      ]
     },
     "execution_count": 55,
     "metadata": {},
     "output_type": "execute_result"
    },
    {
     "data": {
      "image/png": "[encoded data removed]",
      "text/plain": [
       "<Figure size 720x360 with 1 Axes>"
      ]
     },
     "metadata": {
      "needs_background": "light"
     },
     "output_type": "display_data"
    }
   ],
   "source": [
    "alpha = 0.05\n",
    "norm_conf_int(alpha, mean_hat=lam_hat, std_hat=lam_se)"
   ]
  },
  {
   "cell_type": "markdown",
   "metadata": {
    "id": "K8c5AKcUKdtk"
   },
   "source": [
    "###  Подруга Ульяны\n",
    "\n",
    "Теперь Таня и Ульяна смотрят сериалы вдвоём. Каждая со своей интенсивностью $\\lambda_i$. \n",
    "\n",
    "Ульяна считает, что она опережает Таню по интенсивности просмотра. Нужно построить доверительный интервал для разности $\\lambda_1 - \\lambda_2$ и понять, правда ли, что Ульяна впереди. Для простоты будем считать, что Ульяна и Таня смотрят сериалы независимо друг от друга. "
   ]
  },
  {
   "cell_type": "code",
   "execution_count": 56,
   "metadata": {
    "id": "XveXq-f7Kdtl"
   },
   "outputs": [],
   "source": [
    "x = [5, 7, 8, 2, 3, 1, 2]  # Ульяна\n",
    "y = [1, 1, 9, 1, 2, 2, 2]  # Таня "
   ]
  },
  {
   "cell_type": "code",
   "execution_count": 57,
   "metadata": {},
   "outputs": [
    {
     "data": {
      "text/plain": [
       "(4.0, 2.5714285714285716)"
      ]
     },
     "execution_count": 57,
     "metadata": {},
     "output_type": "execute_result"
    }
   ],
   "source": [
    "np.mean(x), np.mean(y)"
   ]
  },
  {
   "cell_type": "markdown",
   "metadata": {
    "id": "xZaTvS3XKdtl"
   },
   "source": [
    "$$\n",
    "\\hat \\lambda_1 - \\hat \\lambda_2 \\overset{asy}{\\sim} N \\left( \\lambda_1 - \\lambda_2, \\frac{\\hat \\lambda_1}{n_1} + \\frac{\\hat \\lambda_2}{n_2} \\right).\n",
    "$$\n",
    "\n",
    "$$\n",
    "\\hat{\\lambda}_1 - \\hat{\\lambda}_2 \\pm z_{1-\\frac{\\alpha}{2}}\\sqrt{\\frac{\\hat{\\lambda}_1}{n_1} + \\frac{\\hat{\\lambda}_2}{n_2}}\n",
    "$$"
   ]
  },
  {
   "cell_type": "code",
   "execution_count": 58,
   "metadata": {
    "id": "O1F7DpDdKdtm",
    "outputId": "8c3ca0bf-2e8f-410c-d1f5-11035e186c62"
   },
   "outputs": [
    {
     "name": "stdout",
     "output_type": "stream",
     "text": [
      "Доверительный интервал [-0.47, 3.33] ширины 3.8\n"
     ]
    }
   ],
   "source": [
    "alpha = 0.05 # задаём уровень значимости \n",
    "\n",
    "z_alpha = norm_rv.ppf(1 - alpha/2) # квантиль для нормального\n",
    "\n",
    "diff = np.mean(x) - np.mean(y)\n",
    "diff_se = np.sqrt(np.mean(x)/len(x) + np.mean(y)/len(y))\n",
    "\n",
    "left = diff - z_alpha*diff_se\n",
    "right = diff + z_alpha*diff_se\n",
    "\n",
    "# Помимо самого интервала нас интересует его ширина\n",
    "print(f\"Доверительный интервал [{left:.3}, {right:.3}] ширины {right - left:.3}\")"
   ]
  },
  {
   "cell_type": "markdown",
   "metadata": {
    "id": "GFQVxqQtKdtn"
   },
   "source": [
    "Доверительный интервал покрывает ноль. Это означает, что Ульяна и Таня смотрят сериал с одинаковой интенсивностью.\n",
    "\n",
    "Угадайте как часто мы сделаем ошибку, утверждая это? Правильно! В $5\\%$ случаев. \n",
    "\n",
    "Фактически мы с вами только что проверили на уровне значимости $5\\%$ гипотезу о равенстве средних. Зафиксируйте это в голове и вспомните, когда мы чётко и по шагам формализуем процедуру проверки гипотез. "
   ]
  },
  {
   "cell_type": "code",
   "execution_count": 59,
   "metadata": {
    "id": "mGivm_JSKdtn",
    "outputId": "9b731f53-8082-460c-fe31-a1cb4fa0d004",
    "scrolled": false
   },
   "outputs": [
    {
     "data": {
      "text/plain": [
       "(-0.47044607117023984, 3.3275889283130966)"
      ]
     },
     "execution_count": 59,
     "metadata": {},
     "output_type": "execute_result"
    },
    {
     "data": {
      "image/png": "[encoded data removed]",
      "text/plain": [
       "<Figure size 720x360 with 1 Axes>"
      ]
     },
     "metadata": {
      "needs_background": "light"
     },
     "output_type": "display_data"
    }
   ],
   "source": [
    "norm_conf_int(alpha, mean_hat=diff, std_hat=diff_se)"
   ]
  },
  {
   "cell_type": "markdown",
   "metadata": {
    "id": "Az3oEXQ2Kdto"
   },
   "source": [
    "  "
   ]
  }
 ],
 "metadata": {
  "colab": {
   "collapsed_sections": [],
   "name": "3_LLN-CLT-AsyCI.ipynb",
   "provenance": [
    {
     "file_id": "184AuNhskDvDof1XRGa1UK_6RpTUMHr96",
     "timestamp": 1649732305756
    }
   ],
   "toc_visible": true
  },
  "kernelspec": {
   "display_name": "Python 3 (ipykernel)",
   "language": "python",
   "name": "python3"
  },
  "language_info": {
   "codemirror_mode": {
    "name": "ipython",
    "version": 3
   },
   "file_extension": ".py",
   "mimetype": "text/x-python",
   "name": "python",
   "nbconvert_exporter": "python",
   "pygments_lexer": "ipython3",
   "version": "3.10.4"
  },
  "toc": {
   "base_numbering": 1,
   "nav_menu": {},
   "number_sections": true,
   "sideBar": true,
   "skip_h1_title": false,
   "title_cell": "Table of Contents",
   "title_sidebar": "Contents",
   "toc_cell": true,
   "toc_position": {},
   "toc_section_display": true,
   "toc_window_display": true
  }
 },
 "nbformat": 4,
 "nbformat_minor": 1
}
