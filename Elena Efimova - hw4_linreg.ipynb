{
 "cells": [
  {
   "cell_type": "markdown",
   "metadata": {
    "toc": true
   },
   "source": [
    "<h1>Table of Contents<span class=\"tocSkip\"></span></h1>\n",
    "<div class=\"toc\"><ul class=\"toc-item\"><li><span><a href=\"#Анализ-зарплат\" data-toc-modified-id=\"Анализ-зарплат-1\">Анализ зарплат</a></span><ul class=\"toc-item\"><li><span><a href=\"#Импорт-библиотек-и-чтение-датасета\" data-toc-modified-id=\"Импорт-библиотек-и-чтение-датасета-1.1\">Импорт библиотек и чтение датасета</a></span></li><li><span><a href=\"#Загрузка-данных\" data-toc-modified-id=\"Загрузка-данных-1.2\">Загрузка данных</a></span></li></ul></li><li><span><a href=\"#Задание\" data-toc-modified-id=\"Задание-2\">Задание</a></span><ul class=\"toc-item\"><li><span><a href=\"#Распределение-зарплат\" data-toc-modified-id=\"Распределение-зарплат-2.1\">Распределение зарплат</a></span></li><li><span><a href=\"#Анализ-факторов\" data-toc-modified-id=\"Анализ-факторов-2.2\">Анализ факторов</a></span><ul class=\"toc-item\"><li><span><a href=\"#пол-/-sex\" data-toc-modified-id=\"пол-/-sex-2.2.1\">пол / sex</a></span></li><li><span><a href=\"#тип-населенного-пункта-/-town_type\" data-toc-modified-id=\"тип-населенного-пункта-/-town_type-2.2.2\">тип населенного пункта / town_type</a></span></li><li><span><a href=\"#семейное-положение-/-marital_status\" data-toc-modified-id=\"семейное-положение-/-marital_status-2.2.3\">семейное положение / marital_status</a></span></li><li><span><a href=\"#проффессиональная-группа-/-professional_group\" data-toc-modified-id=\"проффессиональная-группа-/-professional_group-2.2.4\">проффессиональная группа / professional_group</a></span></li><li><span><a href=\"#образование-/-finished_education\" data-toc-modified-id=\"образование-/-finished_education-2.2.5\">образование / finished_education</a></span></li><li><span><a href=\"#индустрия-/-industry\" data-toc-modified-id=\"индустрия-/-industry-2.2.6\">индустрия / industry</a></span></li></ul></li><li><span><a href=\"#Кодировка-категориальных-признаков\" data-toc-modified-id=\"Кодировка-категориальных-признаков-2.3\">Кодировка категориальных признаков</a></span></li><li><span><a href=\"#Линейная-регрессия\" data-toc-modified-id=\"Линейная-регрессия-2.4\">Линейная регрессия</a></span></li><li><span><a href=\"#Корректность-линейной-регрессии\" data-toc-modified-id=\"Корректность-линейной-регрессии-2.5\">Корректность линейной регрессии</a></span></li></ul></li></ul></div>"
   ]
  },
  {
   "cell_type": "markdown",
   "metadata": {},
   "source": [
    "# Анализ зарплат"
   ]
  },
  {
   "cell_type": "markdown",
   "metadata": {},
   "source": [
    "Эта домашняя работа будет основана на основе данных РМЭЗ НИУ ВШЭ\n",
    "- [об исследовании подробнее](https://www.hse.ru/rlms/)\n",
    "- [данные за разные года](https://www.hse.ru/rlms/spss)\n",
    "- [опросник для 25-ой волны](https://www.hse.ru/data/2018/11/15/1169536982/r25a_user_1216.pdf)\n",
    "    - [за остальные волны](https://www.hse.ru/rlms/question)\n",
    "- [кодировка переменных 25-ой волны](https://www.hse.ru/data/2019/09/09/1170599989/R25_ind_codebook_09.2019.pdf)\n",
    "    - [за остальные волны](https://www.hse.ru/rlms/code)"
   ]
  },
  {
   "cell_type": "markdown",
   "metadata": {},
   "source": [
    "## Импорт библиотек и чтение датасета"
   ]
  },
  {
   "cell_type": "code",
   "execution_count": 1,
   "metadata": {
    "colab": {
     "base_uri": "https://localhost:8080/",
     "height": 50
    },
    "colab_type": "code",
    "executionInfo": {
     "elapsed": 2046,
     "status": "ok",
     "timestamp": 1589570140453,
     "user": {
      "displayName": "Ilya Abroskin",
      "photoUrl": "https://lh3.googleusercontent.com/a-/AOh14GiSa8oddSgsU03OOnvGn7Dk96PjoJwbTrHh_f7oDw=s64",
      "userId": "17148912465935982955"
     },
     "user_tz": -180
    },
    "id": "MUGPt2G_vZHi",
    "outputId": "7a4855b0-3e0d-4c0e-e1d9-13a442e558b1"
   },
   "outputs": [],
   "source": [
    "import numpy as np\n",
    "import pandas as pd\n",
    "import matplotlib.pyplot as plt\n",
    "import seaborn as sns\n",
    "\n",
    "%matplotlib inline\n"
   ]
  },
  {
   "cell_type": "code",
   "execution_count": 2,
   "metadata": {},
   "outputs": [],
   "source": [
    "plt.style.use('ggplot')\n",
    "plt.rcParams['figure.figsize'] = (10, 5)\n"
   ]
  },
  {
   "cell_type": "markdown",
   "metadata": {},
   "source": [
    "## Загрузка данных"
   ]
  },
  {
   "cell_type": "markdown",
   "metadata": {},
   "source": [
    "Далее идет небольшая предобработка датасета, это код можно просто запустить"
   ]
  },
  {
   "cell_type": "code",
   "execution_count": 3,
   "metadata": {
    "colab": {
     "base_uri": "https://localhost:8080/",
     "height": 191
    },
    "colab_type": "code",
    "executionInfo": {
     "elapsed": 2349,
     "status": "ok",
     "timestamp": 1589571627810,
     "user": {
      "displayName": "Ilya Abroskin",
      "photoUrl": "https://lh3.googleusercontent.com/a-/AOh14GiSa8oddSgsU03OOnvGn7Dk96PjoJwbTrHh_f7oDw=s64",
      "userId": "17148912465935982955"
     },
     "user_tz": -180
    },
    "id": "tana0FV3vZHq",
    "outputId": "c82b0795-8d9f-40ba-e06d-dde9ef0c8997"
   },
   "outputs": [],
   "source": [
    "# тип данных в колонках\n",
    "cols = {\n",
    "    'status':'category',\n",
    "    'popul':'category',\n",
    "    'u_age':float,\n",
    "    'uh5':'category',\n",
    "    'u_marst':'category',\n",
    "    'u_diplom':'category',\n",
    "    'u_educ':'category',\n",
    "    'u_occup08':'category',\n",
    "    'uj1':'category',\n",
    "    'uj4.1':'category',\n",
    "    'uj13.2':float\n",
    "}\n"
   ]
  },
  {
   "cell_type": "code",
   "execution_count": 4,
   "metadata": {},
   "outputs": [],
   "source": [
    "# как они будут переименованы\n",
    "rename_cols={\n",
    "    'status':'town_type',\n",
    "    'popul':'population',\n",
    "    'u_age':'age',\n",
    "    'uh5':'sex',\n",
    "    'u_marst':'marital_status',\n",
    "    'u_diplom':'finished_education',\n",
    "    'u_educ':'education',\n",
    "    'u_occup08':'professional_group',\n",
    "    'uj1':'employed',\n",
    "    'uj4.1':'industry',\n",
    "    'uj13.2':'wage'}\n"
   ]
  },
  {
   "cell_type": "code",
   "execution_count": 5,
   "metadata": {},
   "outputs": [
    {
     "data": {
      "text/html": [
       "<div>\n",
       "<style scoped>\n",
       "    .dataframe tbody tr th:only-of-type {\n",
       "        vertical-align: middle;\n",
       "    }\n",
       "\n",
       "    .dataframe tbody tr th {\n",
       "        vertical-align: top;\n",
       "    }\n",
       "\n",
       "    .dataframe thead th {\n",
       "        text-align: right;\n",
       "    }\n",
       "</style>\n",
       "<table border=\"1\" class=\"dataframe\">\n",
       "  <thead>\n",
       "    <tr style=\"text-align: right;\">\n",
       "      <th></th>\n",
       "      <th>town_type</th>\n",
       "      <th>population</th>\n",
       "      <th>age</th>\n",
       "      <th>professional_group</th>\n",
       "      <th>education</th>\n",
       "      <th>finished_education</th>\n",
       "      <th>marital_status</th>\n",
       "      <th>sex</th>\n",
       "      <th>employed</th>\n",
       "      <th>industry</th>\n",
       "      <th>wage</th>\n",
       "    </tr>\n",
       "  </thead>\n",
       "  <tbody>\n",
       "    <tr>\n",
       "      <th>0</th>\n",
       "      <td>3</td>\n",
       "      <td>12187</td>\n",
       "      <td>43.0</td>\n",
       "      <td>2</td>\n",
       "      <td>21</td>\n",
       "      <td>6</td>\n",
       "      <td>4</td>\n",
       "      <td>2</td>\n",
       "      <td>1</td>\n",
       "      <td>10</td>\n",
       "      <td>40000.0</td>\n",
       "    </tr>\n",
       "    <tr>\n",
       "      <th>1</th>\n",
       "      <td>3</td>\n",
       "      <td>12187</td>\n",
       "      <td>61.0</td>\n",
       "      <td>5</td>\n",
       "      <td>16</td>\n",
       "      <td>4</td>\n",
       "      <td>5</td>\n",
       "      <td>2</td>\n",
       "      <td>1</td>\n",
       "      <td>12</td>\n",
       "      <td>28000.0</td>\n",
       "    </tr>\n",
       "    <tr>\n",
       "      <th>2</th>\n",
       "      <td>3</td>\n",
       "      <td>12187</td>\n",
       "      <td>32.0</td>\n",
       "      <td>5</td>\n",
       "      <td>10</td>\n",
       "      <td>3</td>\n",
       "      <td>4</td>\n",
       "      <td>2</td>\n",
       "      <td>1</td>\n",
       "      <td>14</td>\n",
       "      <td>NaN</td>\n",
       "    </tr>\n",
       "    <tr>\n",
       "      <th>3</th>\n",
       "      <td>3</td>\n",
       "      <td>12187</td>\n",
       "      <td>30.0</td>\n",
       "      <td>NaN</td>\n",
       "      <td>9</td>\n",
       "      <td>3</td>\n",
       "      <td>2</td>\n",
       "      <td>1</td>\n",
       "      <td>5</td>\n",
       "      <td>NaN</td>\n",
       "      <td>NaN</td>\n",
       "    </tr>\n",
       "    <tr>\n",
       "      <th>4</th>\n",
       "      <td>3</td>\n",
       "      <td>12187</td>\n",
       "      <td>72.0</td>\n",
       "      <td>NaN</td>\n",
       "      <td>7</td>\n",
       "      <td>2</td>\n",
       "      <td>1</td>\n",
       "      <td>2</td>\n",
       "      <td>5</td>\n",
       "      <td>NaN</td>\n",
       "      <td>NaN</td>\n",
       "    </tr>\n",
       "  </tbody>\n",
       "</table>\n",
       "</div>"
      ],
      "text/plain": [
       "  town_type population   age professional_group education finished_education  \\\n",
       "0         3      12187  43.0                  2        21                  6   \n",
       "1         3      12187  61.0                  5        16                  4   \n",
       "2         3      12187  32.0                  5        10                  3   \n",
       "3         3      12187  30.0                NaN         9                  3   \n",
       "4         3      12187  72.0                NaN         7                  2   \n",
       "\n",
       "  marital_status sex employed industry     wage  \n",
       "0              4   2        1       10  40000.0  \n",
       "1              5   2        1       12  28000.0  \n",
       "2              4   2        1       14      NaN  \n",
       "3              2   1        5      NaN      NaN  \n",
       "4              1   2        5      NaN      NaN  "
      ]
     },
     "execution_count": 5,
     "metadata": {},
     "output_type": "execute_result"
    }
   ],
   "source": [
    "df = pd.read_csv('../data/r25iall26с.csv', usecols=cols.keys(), dtype=cols, \n",
    "                 na_values=['#NULL!','NA','99999999','99999998','99999997'], \n",
    "                 low_memory=False)\n",
    "df = df.rename(columns = rename_cols)\n",
    "df.head()"
   ]
  },
  {
   "cell_type": "code",
   "execution_count": 6,
   "metadata": {
    "colab": {},
    "colab_type": "code",
    "id": "MsQ8L3SbvZHw",
    "outputId": "bc22cbdd-3c2c-46d4-bc9b-044d68fcbd32"
   },
   "outputs": [
    {
     "name": "stdout",
     "output_type": "stream",
     "text": [
      "<class 'pandas.core.frame.DataFrame'>\n",
      "RangeIndex: 18756 entries, 0 to 18755\n",
      "Data columns (total 11 columns):\n",
      " #   Column              Non-Null Count  Dtype   \n",
      "---  ------              --------------  -----   \n",
      " 0   town_type           18756 non-null  category\n",
      " 1   population          18756 non-null  category\n",
      " 2   age                 18755 non-null  float64 \n",
      " 3   professional_group  8292 non-null   category\n",
      " 4   education           15280 non-null  category\n",
      " 5   finished_education  15280 non-null  category\n",
      " 6   marital_status      15289 non-null  category\n",
      " 7   sex                 18756 non-null  category\n",
      " 8   employed            15302 non-null  category\n",
      " 9   industry            8286 non-null   category\n",
      " 10  wage                7025 non-null   float64 \n",
      "dtypes: category(9), float64(2)\n",
      "memory usage: 485.0 KB\n"
     ]
    }
   ],
   "source": [
    "df.info()"
   ]
  },
  {
   "cell_type": "code",
   "execution_count": 7,
   "metadata": {
    "colab": {},
    "colab_type": "code",
    "id": "0cI_W55WvZH1",
    "outputId": "71ad6eb1-1f09-4ffa-8840-050b4476712f"
   },
   "outputs": [
    {
     "data": {
      "text/html": [
       "<div>\n",
       "<style scoped>\n",
       "    .dataframe tbody tr th:only-of-type {\n",
       "        vertical-align: middle;\n",
       "    }\n",
       "\n",
       "    .dataframe tbody tr th {\n",
       "        vertical-align: top;\n",
       "    }\n",
       "\n",
       "    .dataframe thead th {\n",
       "        text-align: right;\n",
       "    }\n",
       "</style>\n",
       "<table border=\"1\" class=\"dataframe\">\n",
       "  <thead>\n",
       "    <tr style=\"text-align: right;\">\n",
       "      <th></th>\n",
       "      <th>age</th>\n",
       "      <th>wage</th>\n",
       "    </tr>\n",
       "  </thead>\n",
       "  <tbody>\n",
       "    <tr>\n",
       "      <th>count</th>\n",
       "      <td>18755.000000</td>\n",
       "      <td>7025.000000</td>\n",
       "    </tr>\n",
       "    <tr>\n",
       "      <th>mean</th>\n",
       "      <td>38.184537</td>\n",
       "      <td>24324.848114</td>\n",
       "    </tr>\n",
       "    <tr>\n",
       "      <th>std</th>\n",
       "      <td>22.702215</td>\n",
       "      <td>18163.937524</td>\n",
       "    </tr>\n",
       "    <tr>\n",
       "      <th>min</th>\n",
       "      <td>0.000000</td>\n",
       "      <td>0.000000</td>\n",
       "    </tr>\n",
       "    <tr>\n",
       "      <th>25%</th>\n",
       "      <td>20.000000</td>\n",
       "      <td>14000.000000</td>\n",
       "    </tr>\n",
       "    <tr>\n",
       "      <th>50%</th>\n",
       "      <td>37.000000</td>\n",
       "      <td>20000.000000</td>\n",
       "    </tr>\n",
       "    <tr>\n",
       "      <th>75%</th>\n",
       "      <td>56.000000</td>\n",
       "      <td>30000.000000</td>\n",
       "    </tr>\n",
       "    <tr>\n",
       "      <th>max</th>\n",
       "      <td>102.000000</td>\n",
       "      <td>400000.000000</td>\n",
       "    </tr>\n",
       "  </tbody>\n",
       "</table>\n",
       "</div>"
      ],
      "text/plain": [
       "                age           wage\n",
       "count  18755.000000    7025.000000\n",
       "mean      38.184537   24324.848114\n",
       "std       22.702215   18163.937524\n",
       "min        0.000000       0.000000\n",
       "25%       20.000000   14000.000000\n",
       "50%       37.000000   20000.000000\n",
       "75%       56.000000   30000.000000\n",
       "max      102.000000  400000.000000"
      ]
     },
     "execution_count": 7,
     "metadata": {},
     "output_type": "execute_result"
    }
   ],
   "source": [
    "df.describe()"
   ]
  },
  {
   "cell_type": "code",
   "execution_count": null,
   "metadata": {},
   "outputs": [],
   "source": [
    "# for j in df.dtypes[df.dtypes=='category'].index:\n",
    "#     print('\\n',j,list(df[j].unique()))"
   ]
  },
  {
   "cell_type": "code",
   "execution_count": 9,
   "metadata": {
    "colab": {},
    "colab_type": "code",
    "id": "pQET7nQmvZH8"
   },
   "outputs": [],
   "source": [
    "# как будут переименованы категории\n",
    "\n",
    "town_type={1:'Областной центр',\n",
    "2:'Город',\n",
    "3:'Посёлок городского типа' ,\n",
    "4:'Село',\n",
    "}\n",
    "\n",
    "marital_status={\n",
    "1: 'Никогда в браке не состояли',\n",
    "2: 'Состоите в зарегистрированном браке',\n",
    "3: 'Живете вместе, но не зарегистрированы',\n",
    "4: 'Разведены и в браке не состоите',\n",
    "5: 'Bдовец (вдова)',\n",
    "6: 'Официально зарегистрированы, но вместе не проживают',\n",
    "}\n",
    "\n",
    "sex={\n",
    "1: 'М',\n",
    "2: 'Ж',\n",
    "}\n",
    "\n",
    "\n",
    "professional_group=[\n",
    "'Военнослужащие',\n",
    "'Законодатели; крупные чиновники; руководители высш. и сред. звена',\n",
    "'Специалисты высшего уровня квалификации',\n",
    "'Специалисты среднего уровня квалификации; чиновники',\n",
    "'Служащие офисные и по обслуживанию клиентов',\n",
    "'Работники сферы торговли и услуг',\n",
    "'Квалифицированные работники сельского, лесного хоз-ва и рыбоводства',\n",
    "'Квалифицированные рабочие, занятые ручным трудом',\n",
    "'Квалифицированные рабочие, исп. машины и механизмы',\n",
    "'Неквалифицированные рабочие всех отраслей',\n",
    "]\n",
    "professional_group = {x:professional_group[x] for x in range(len(professional_group))}\n",
    "\n",
    "\n",
    "finished_education = ['окончил 0 - 6 классов',\n",
    " 'незаконченное среднее образование (7 - 8 кл)',\n",
    " 'незаконченное среднее образование (7 - 8 кл) + что-то еще',\n",
    " 'законченное среднее образование',\n",
    " 'законченное среднее специальное образование',\n",
    " 'законченное высшее образование и выше']\n",
    "finished_education = {x:finished_education[x-1] for x in range(1,len(finished_education)+1)}\n",
    "\n",
    "\n",
    "education = ['0 классов школы',\n",
    "'1 класс школы',\n",
    "'2 класса школы',\n",
    "'3 класса школы',\n",
    "'4 класса школы',\n",
    "'5 классов школы',\n",
    "'6 классов школы',\n",
    "'7 классов школы',\n",
    "'8 классов школы',\n",
    "'9 классов школы',\n",
    "'7-9 классов школы (незак. средн) +     без диплома',\n",
    "'7-9 классов школы (незак. средн) +     с дипломом',\n",
    "'10 и более классов школы без аттестата о среднем образовании',\n",
    "'7-9 классов школы (незак. среднее) и менее 2 лет в техникуме',\n",
    "'среднее образование - есть аттестат о ср. образовании',\n",
    "'10 и более классов школы и какое-либо професс. обр. без диплома',\n",
    "'10 и более классов школы и какое-либо професс. обр. с дипломом',\n",
    "'10 и более классов школы и техникум без диплома',\n",
    "'техникум с дипломом',\n",
    "'1-2 года в высшем учебном заведении',\n",
    "'3 и более лет в высшем учебном заведении',\n",
    "'есть диплом о высшем образовании',\n",
    "'аспирантура и т.п. без диплома',\n",
    "'аспирантура и т.п. с дипломом',]\n",
    "education = {x:education[x] for x in range(len(education))}\n",
    "\n",
    "industry = ['ЛЕГКАЯ, ПИЩЕВАЯ ПРОМЫШЛЕННОСТЬ',\n",
    "'ГРАЖДАНСКОЕ МАШИНОСТРОЕНИЕ',\n",
    "'ВОЕННО-ПРОМЫШЛЕННЫЙ КОМПЛЕКС',\n",
    "'НЕФТЕГАЗОВАЯ ПРОМЫШЛЕННОСТЬ',\n",
    "'ДРУГАЯ ОТРАСЛЬ ТЯЖЕЛОЙ ПРОМЫШЛЕННОСТИ',\n",
    "'СТРОИТЕЛЬСТВО',\n",
    "'ТРАНСПОРТ, СВЯЗЬ',\n",
    "'СЕЛЬСКОЕ ХОЗЯЙСТВО',\n",
    "'ОРГАНЫ УПРАВЛЕНИЯ',\n",
    "'ОБРАЗОВАНИЕ',\n",
    "'НАУКА, КУЛЬТУРА',\n",
    "'ЗДРАВООХРАНЕНИЕ',\n",
    "'АРМИЯ, МВД, ОРГАНЫ БЕЗОПАСНОСТИ',\n",
    "'ТОРГОВЛЯ, БЫТОВОЕ ОБСЛУЖИВАНИЕ',\n",
    "'ФИНАНСЫ И СТРАХОВАНИЕ',\n",
    "'ЭНЕРГЕТИЧЕСКАЯ ПРОМЫШЛЕННОСТЬ',\n",
    "'ЖИЛИЩНО-КОММУНАЛЬНОЕ ХОЗЯЙСТВО',\n",
    "'ОПЕРАЦИИ С НЕДВИЖИМОСТЬЮ',\n",
    "'ДРУГОЕ',]\n",
    "industry=[x.lower().capitalize() for x in industry]\n",
    "industry = {x:industry[x-1] for x in range(1,1+len(industry))}\n",
    "\n",
    "employed = ['Вы сейчас работаете ',\n",
    "'Вы находитесь в отпуске - декретном или по уходу за ребёнком до 3-х лет ',\n",
    "'Вы находитесь в любом другом оплачиваемом отпуске ',\n",
    "'Вы находитесь в неоплачиваемом отпуске ',\n",
    "'Или у Вас сейчас нет работы',]\n",
    "employed = {x:employed[x-1] for x in range(1,1+len(employed))}\n"
   ]
  },
  {
   "cell_type": "code",
   "execution_count": 10,
   "metadata": {},
   "outputs": [],
   "source": [
    "df['population'] = df['population'].astype(int)"
   ]
  },
  {
   "cell_type": "code",
   "execution_count": 11,
   "metadata": {
    "colab": {},
    "colab_type": "code",
    "id": "-UjbDjecvZIF",
    "outputId": "fbb9adc4-e999-4b33-e4a4-5eb6f27d76b1"
   },
   "outputs": [
    {
     "data": {
      "text/plain": [
       "0     10\n",
       "1     12\n",
       "2     14\n",
       "3    NaN\n",
       "4    NaN\n",
       "Name: industry, dtype: category\n",
       "Categories (19, object): [19, '1', '10', '11', ..., '6', '7', '8', '9']"
      ]
     },
     "execution_count": 11,
     "metadata": {},
     "output_type": "execute_result"
    }
   ],
   "source": [
    "df['industry'] = np.where(df['industry'].astype(float)>19,19,df['industry'])\n",
    "df['industry'] = df['industry'].astype('category')\n",
    "df['industry'].head()"
   ]
  },
  {
   "cell_type": "code",
   "execution_count": 12,
   "metadata": {
    "colab": {},
    "colab_type": "code",
    "id": "7Tk66SllvZII"
   },
   "outputs": [],
   "source": [
    "cats = df.dtypes[df.dtypes=='category'].index\n",
    "for col in cats:\n",
    "    dict_j = globals()[col]\n",
    "#     print('\\n',col,dict_j,sep='\\n')\n",
    "#     df[col] = df[col].astype('category').cat.rename_categories(dict_j)\n",
    "    df[col] = df[col].astype(float).replace(dict_j).astype('category')\n"
   ]
  },
  {
   "cell_type": "code",
   "execution_count": 13,
   "metadata": {
    "colab": {},
    "colab_type": "code",
    "id": "U5dZESJXvZIL",
    "outputId": "0e29df4c-57aa-49ec-9ae9-52a759b7f5c7"
   },
   "outputs": [
    {
     "data": {
      "text/html": [
       "<div>\n",
       "<style scoped>\n",
       "    .dataframe tbody tr th:only-of-type {\n",
       "        vertical-align: middle;\n",
       "    }\n",
       "\n",
       "    .dataframe tbody tr th {\n",
       "        vertical-align: top;\n",
       "    }\n",
       "\n",
       "    .dataframe thead th {\n",
       "        text-align: right;\n",
       "    }\n",
       "</style>\n",
       "<table border=\"1\" class=\"dataframe\">\n",
       "  <thead>\n",
       "    <tr style=\"text-align: right;\">\n",
       "      <th></th>\n",
       "      <th>town_type</th>\n",
       "      <th>population</th>\n",
       "      <th>age</th>\n",
       "      <th>professional_group</th>\n",
       "      <th>education</th>\n",
       "      <th>finished_education</th>\n",
       "      <th>marital_status</th>\n",
       "      <th>sex</th>\n",
       "      <th>employed</th>\n",
       "      <th>industry</th>\n",
       "      <th>wage</th>\n",
       "    </tr>\n",
       "  </thead>\n",
       "  <tbody>\n",
       "    <tr>\n",
       "      <th>0</th>\n",
       "      <td>Посёлок городского типа</td>\n",
       "      <td>12187</td>\n",
       "      <td>43.0</td>\n",
       "      <td>Специалисты высшего уровня квалификации</td>\n",
       "      <td>есть диплом о высшем образовании</td>\n",
       "      <td>законченное высшее образование и выше</td>\n",
       "      <td>Разведены и в браке не состоите</td>\n",
       "      <td>Ж</td>\n",
       "      <td>Вы сейчас работаете</td>\n",
       "      <td>Образование</td>\n",
       "      <td>40000.0</td>\n",
       "    </tr>\n",
       "    <tr>\n",
       "      <th>1</th>\n",
       "      <td>Посёлок городского типа</td>\n",
       "      <td>12187</td>\n",
       "      <td>61.0</td>\n",
       "      <td>Работники сферы торговли и услуг</td>\n",
       "      <td>10 и более классов школы и какое-либо професс....</td>\n",
       "      <td>законченное среднее образование</td>\n",
       "      <td>Bдовец (вдова)</td>\n",
       "      <td>Ж</td>\n",
       "      <td>Вы сейчас работаете</td>\n",
       "      <td>Здравоохранение</td>\n",
       "      <td>28000.0</td>\n",
       "    </tr>\n",
       "    <tr>\n",
       "      <th>2</th>\n",
       "      <td>Посёлок городского типа</td>\n",
       "      <td>12187</td>\n",
       "      <td>32.0</td>\n",
       "      <td>Работники сферы торговли и услуг</td>\n",
       "      <td>7-9 классов школы (незак. средн) +     без дип...</td>\n",
       "      <td>незаконченное среднее образование (7 - 8 кл) +...</td>\n",
       "      <td>Разведены и в браке не состоите</td>\n",
       "      <td>Ж</td>\n",
       "      <td>Вы сейчас работаете</td>\n",
       "      <td>Торговля, бытовое обслуживание</td>\n",
       "      <td>NaN</td>\n",
       "    </tr>\n",
       "    <tr>\n",
       "      <th>3</th>\n",
       "      <td>Посёлок городского типа</td>\n",
       "      <td>12187</td>\n",
       "      <td>30.0</td>\n",
       "      <td>NaN</td>\n",
       "      <td>9 классов школы</td>\n",
       "      <td>незаконченное среднее образование (7 - 8 кл) +...</td>\n",
       "      <td>Состоите в зарегистрированном браке</td>\n",
       "      <td>М</td>\n",
       "      <td>Или у Вас сейчас нет работы</td>\n",
       "      <td>NaN</td>\n",
       "      <td>NaN</td>\n",
       "    </tr>\n",
       "    <tr>\n",
       "      <th>4</th>\n",
       "      <td>Посёлок городского типа</td>\n",
       "      <td>12187</td>\n",
       "      <td>72.0</td>\n",
       "      <td>NaN</td>\n",
       "      <td>7 классов школы</td>\n",
       "      <td>незаконченное среднее образование (7 - 8 кл)</td>\n",
       "      <td>Никогда в браке не состояли</td>\n",
       "      <td>Ж</td>\n",
       "      <td>Или у Вас сейчас нет работы</td>\n",
       "      <td>NaN</td>\n",
       "      <td>NaN</td>\n",
       "    </tr>\n",
       "  </tbody>\n",
       "</table>\n",
       "</div>"
      ],
      "text/plain": [
       "                 town_type  population   age  \\\n",
       "0  Посёлок городского типа       12187  43.0   \n",
       "1  Посёлок городского типа       12187  61.0   \n",
       "2  Посёлок городского типа       12187  32.0   \n",
       "3  Посёлок городского типа       12187  30.0   \n",
       "4  Посёлок городского типа       12187  72.0   \n",
       "\n",
       "                        professional_group  \\\n",
       "0  Специалисты высшего уровня квалификации   \n",
       "1         Работники сферы торговли и услуг   \n",
       "2         Работники сферы торговли и услуг   \n",
       "3                                      NaN   \n",
       "4                                      NaN   \n",
       "\n",
       "                                           education  \\\n",
       "0                   есть диплом о высшем образовании   \n",
       "1  10 и более классов школы и какое-либо професс....   \n",
       "2  7-9 классов школы (незак. средн) +     без дип...   \n",
       "3                                    9 классов школы   \n",
       "4                                    7 классов школы   \n",
       "\n",
       "                                  finished_education  \\\n",
       "0              законченное высшее образование и выше   \n",
       "1                    законченное среднее образование   \n",
       "2  незаконченное среднее образование (7 - 8 кл) +...   \n",
       "3  незаконченное среднее образование (7 - 8 кл) +...   \n",
       "4       незаконченное среднее образование (7 - 8 кл)   \n",
       "\n",
       "                        marital_status sex                      employed  \\\n",
       "0      Разведены и в браке не состоите   Ж         Вы сейчас работаете    \n",
       "1                       Bдовец (вдова)   Ж         Вы сейчас работаете    \n",
       "2      Разведены и в браке не состоите   Ж         Вы сейчас работаете    \n",
       "3  Состоите в зарегистрированном браке   М  Или у Вас сейчас нет работы   \n",
       "4          Никогда в браке не состояли   Ж  Или у Вас сейчас нет работы   \n",
       "\n",
       "                         industry     wage  \n",
       "0                     Образование  40000.0  \n",
       "1                 Здравоохранение  28000.0  \n",
       "2  Торговля, бытовое обслуживание      NaN  \n",
       "3                             NaN      NaN  \n",
       "4                             NaN      NaN  "
      ]
     },
     "execution_count": 13,
     "metadata": {},
     "output_type": "execute_result"
    }
   ],
   "source": [
    "df.head()"
   ]
  },
  {
   "cell_type": "code",
   "execution_count": 14,
   "metadata": {
    "colab": {},
    "colab_type": "code",
    "id": "ppAL8cVevZIS",
    "outputId": "00e4230b-7ce1-43ae-a776-db895221df54"
   },
   "outputs": [
    {
     "name": "stdout",
     "output_type": "stream",
     "text": [
      "<class 'pandas.core.frame.DataFrame'>\n",
      "RangeIndex: 18756 entries, 0 to 18755\n",
      "Data columns (total 11 columns):\n",
      " #   Column              Non-Null Count  Dtype   \n",
      "---  ------              --------------  -----   \n",
      " 0   town_type           18756 non-null  category\n",
      " 1   population          18756 non-null  int64   \n",
      " 2   age                 18755 non-null  float64 \n",
      " 3   professional_group  8292 non-null   category\n",
      " 4   education           15280 non-null  category\n",
      " 5   finished_education  15280 non-null  category\n",
      " 6   marital_status      15289 non-null  category\n",
      " 7   sex                 18756 non-null  category\n",
      " 8   employed            15302 non-null  category\n",
      " 9   industry            8286 non-null   category\n",
      " 10  wage                7025 non-null   float64 \n",
      "dtypes: category(8), float64(2), int64(1)\n",
      "memory usage: 589.0 KB\n"
     ]
    }
   ],
   "source": [
    "df.info()"
   ]
  },
  {
   "cell_type": "markdown",
   "metadata": {},
   "source": [
    "# Задание"
   ]
  },
  {
   "cell_type": "markdown",
   "metadata": {},
   "source": [
    "| Задание                            | Баллы          |\n",
    "|------------------------------------|----------------|\n",
    "| Добавление новых переменных        |             5 |\n",
    "| Распределение зарплат              |             15 |\n",
    "| Анализ факторов                    |             50+50 |\n",
    "| Кодировка категориальных признаков |             10 |\n",
    "| Линейная регрессия                 |             10 |\n",
    "| Корректность линейной регрессии    |             10 |\n",
    "| Всего                              |            100 |"
   ]
  },
  {
   "cell_type": "markdown",
   "metadata": {},
   "source": [
    "## Распределение зарплат"
   ]
  },
  {
   "cell_type": "markdown",
   "metadata": {},
   "source": [
    "Изучите опросник или кодировку переменных в этом исследовании и добавьте 1-3 переменных, которые могли бы влиять на зарплату.\n",
    "\n",
    "\n",
    "Исследуйте распределение зарплат в России. \n",
    "\n",
    "- Похоже ли распределение на нормальное? А после логарифмирования? Воспользуйтесь формальными критериями для выводов. Если бы выборка была меньше, изменились бы выводы?\n",
    "- Постройте подходящие гистограммы. Проанализируйте qq-график для исходной переменной и логарифмированной. Можно ли предположить, что логарифм зарплат имеет нормальное распределение?\n"
   ]
  },
  {
   "cell_type": "code",
   "execution_count": null,
   "metadata": {},
   "outputs": [],
   "source": []
  },
  {
   "cell_type": "markdown",
   "metadata": {},
   "source": [
    "## Анализ факторов"
   ]
  },
  {
   "cell_type": "markdown",
   "metadata": {},
   "source": [
    "**Часть 1**\n",
    "- Для начала оставьте в выборке только работающих (колонка - employed)\n",
    "- Проанализируйте влияние каждого фактора на зарплату\n",
    "    - пол / sex\n",
    "    - тип населенного пункта / town_type\n",
    "    - семейное положение / marital_status\n",
    "    - проффессиональная группа / professional_group\n",
    "    - образование / finished_education\n",
    "    - индустрия / industry\n",
    "- Для анализа взаимосвязи постройте подходящие графики \n",
    "    - например, боксплоты зарплаты в зависимости от категорий или распределение зарплаты в зависимости от бинарных переменных\n",
    "    - вы можете рассмотреть, как логарифм зарплаты, так и ее оригинальное значение – в зависимости от того, что решили делать с целевой переменной и как лучше видна взаимосвязь или её отсутствие\n",
    "- Напишите **краткие** выводы о наличии взаимосвязи (к более развернутым выводам стоит прийти после построения регрессии)\n",
    "\n",
    "\n",
    "---\n",
    "\n",
    "Следующее задание будет связано с подготовкой датасета к one-hot кодированию, поэтому уже на этом этапе имеет смысл подумать о том, как будут закодированы категориальные факторы\n",
    "\n",
    "Особое внимание нужно обратить на категории, которых мало в выборке. Их стоит удалить или укрупнить до собирательной категории `Иное`. Например тех, кто закончил `0-6 классов`, почти нет в выборке, коэффицент для этой категории будет не значим, поэтому эту категорию можно заранее удалить (например, удалить эти наблюдения как выбросы).\n",
    "\n",
    "Рекомендуется проанализировать подобную таблицу для каждого фактора или нанести значения из неё на график\n",
    "\n",
    "<a href=\"https://ibb.co/NFRYmxq\"><img src=\"https://i.ibb.co/rQ9yckh/image.png\" alt=\"image\" border=\"0\"></a>\n",
    "\n"
   ]
  },
  {
   "cell_type": "markdown",
   "metadata": {},
   "source": [
    "**Часть 2 (бонусная, + 50 баллов)**\n",
    "\n",
    "- При помощи инструментов для тестирования однородности выборок проверьте влияние всех на зарплату\n",
    "- Для этого нужно попарно сравить однородность всех категорий друг с другом и воспользоваться корректировкой на множественное тестирование (например, методом Бенджамини-Хохберга)\n",
    "- В качестве статистического теста воспользуйтесь критерием Манна-Уитни или t-тестом\n",
    "- Решение лучше реализовать через фунции, циклы итд, чтобы его можно было легко применить на каждую исследуемую переменную и на любой стат. тест\n",
    "    \n",
    "В качестве решения, предлагается для каждого категориального признака составить свобдную таблицу, в которой будут сопоставлены все возможные пары категориальных признаков и выведен результат тестирования гипотезы об однородности с учетом корректировки. \n",
    "\n",
    "Например, в таблице ниже приведен результат тестирования гипотезы о равенстве средних з/п для всех возможных пар по переменной `тип населенного пункта / town_type`. На основе этой таблицы гипотеза о равенстве средней з/п в `городах` и `поселках городского типа` не отвергается, а в остальных случаях наоборот отвергается. \n",
    "\n",
    "<a href=\"https://ibb.co/HNnjyKS\"><img src=\"https://i.ibb.co/SQRzg6j/image.png\" alt=\"image\" border=\"0\" width=500></a>\n",
    "\n",
    "Если проанализровать распределения з/п в зависимости от этой переменной, то в `городах` и `поселках городского типа` распределение и медианы оказываются достаточно близки, поэтому при кодировки этих двух категорий их можно объединить в одну общую `город и ПГТ`.\n",
    "\n",
    "<a href=\"https://ibb.co/vQ8tLYd\"><img src=\"https://i.ibb.co/5nV7sFj/image.png\" alt=\"image\" border=\"0\"></a>\n"
   ]
  },
  {
   "cell_type": "markdown",
   "metadata": {},
   "source": [
    "Ниже идут подзаголовки для каждой переменной, которая может влиять на зарплату, просьба ими пользоваться"
   ]
  },
  {
   "cell_type": "markdown",
   "metadata": {},
   "source": [
    "### пол / sex"
   ]
  },
  {
   "cell_type": "code",
   "execution_count": null,
   "metadata": {},
   "outputs": [],
   "source": []
  },
  {
   "cell_type": "markdown",
   "metadata": {},
   "source": [
    "### тип населенного пункта / town_type\n"
   ]
  },
  {
   "cell_type": "code",
   "execution_count": null,
   "metadata": {},
   "outputs": [],
   "source": []
  },
  {
   "cell_type": "markdown",
   "metadata": {},
   "source": [
    "### семейное положение / marital_status"
   ]
  },
  {
   "cell_type": "code",
   "execution_count": null,
   "metadata": {},
   "outputs": [],
   "source": []
  },
  {
   "cell_type": "markdown",
   "metadata": {},
   "source": [
    "### проффессиональная группа / professional_group"
   ]
  },
  {
   "cell_type": "code",
   "execution_count": null,
   "metadata": {},
   "outputs": [],
   "source": []
  },
  {
   "cell_type": "markdown",
   "metadata": {},
   "source": [
    "### образование / finished_education\n"
   ]
  },
  {
   "cell_type": "code",
   "execution_count": null,
   "metadata": {},
   "outputs": [],
   "source": []
  },
  {
   "cell_type": "markdown",
   "metadata": {},
   "source": [
    "### индустрия / industry"
   ]
  },
  {
   "cell_type": "code",
   "execution_count": null,
   "metadata": {},
   "outputs": [],
   "source": []
  },
  {
   "cell_type": "markdown",
   "metadata": {},
   "source": [
    "## Кодировка категориальных признаков"
   ]
  },
  {
   "cell_type": "markdown",
   "metadata": {},
   "source": [
    "Для построения линейной регрессии категориальные колонки предстоит закодировать с помощью one-hot-encoding. Для этого необходимо:\n",
    "- для каждой категориальной колонки выбрать базовую категорию (относительно которой будет анализироваться влияние),\n",
    "- удалить из анализа те категории, в которые попало слишком мало наблюдений (выбрать на ваше усмотрение такие категории), либо укрупнить их в собирательную категорию \"иное\"\n",
    "- исходя из анализа в предыдущемм задании выбрать близкие по смыслу категории и крупнить (если гипотеза об их однородности не отвергается или если вы пришли к этому через визуальный анализ)\n",
    "- те переменные, которые мало влияют на зарплату, можно не кодировать и не включать в итоговый датасет\n"
   ]
  },
  {
   "cell_type": "code",
   "execution_count": null,
   "metadata": {},
   "outputs": [],
   "source": []
  },
  {
   "cell_type": "markdown",
   "metadata": {},
   "source": [
    "## Линейная регрессия"
   ]
  },
  {
   "cell_type": "markdown",
   "metadata": {},
   "source": [
    "- Убедитесь, что все данные готовы и постройте линейную регрессию\n",
    "- Проанализируйте результаты регрессии\n",
    "- Соотносятся ли результаты регрессии с разведывательным анализом данных ранее?\n"
   ]
  },
  {
   "cell_type": "code",
   "execution_count": null,
   "metadata": {},
   "outputs": [],
   "source": []
  },
  {
   "cell_type": "markdown",
   "metadata": {},
   "source": [
    "## Корректность линейной регрессии\n",
    "\n",
    "Проверьте корректность линейной регрессии (предпосылки теоремы Гаусса-Маркова) подобно тому, как мы это делали на семинаре. Анализируя остатки регрессии, можно также использовать дополнительные тесты на ваше усмотрение."
   ]
  },
  {
   "cell_type": "code",
   "execution_count": null,
   "metadata": {},
   "outputs": [],
   "source": []
  }
 ],
 "metadata": {
  "colab": {
   "collapsed_sections": [],
   "name": "7_task_rlms prepare.ipynb",
   "provenance": []
  },
  "kernelspec": {
   "display_name": "Python 3 (ipykernel)",
   "language": "python",
   "name": "python3"
  },
  "language_info": {
   "codemirror_mode": {
    "name": "ipython",
    "version": 3
   },
   "file_extension": ".py",
   "mimetype": "text/x-python",
   "name": "python",
   "nbconvert_exporter": "python",
   "pygments_lexer": "ipython3",
   "version": "3.10.4"
  },
  "toc": {
   "base_numbering": 1,
   "nav_menu": {},
   "number_sections": false,
   "sideBar": true,
   "skip_h1_title": false,
   "title_cell": "Table of Contents",
   "title_sidebar": "Contents",
   "toc_cell": true,
   "toc_position": {},
   "toc_section_display": true,
   "toc_window_display": true
  }
 },
 "nbformat": 4,
 "nbformat_minor": 1
}
