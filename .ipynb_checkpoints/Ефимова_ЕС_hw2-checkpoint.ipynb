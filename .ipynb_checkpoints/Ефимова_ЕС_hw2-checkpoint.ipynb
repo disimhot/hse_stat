{
 "cells": [
  {
   "cell_type": "markdown",
   "metadata": {
    "toc": true
   },
   "source": [
    "<h1>Table of Contents<span class=\"tocSkip\"></span></h1>\n",
    "<div class=\"toc\"><ul class=\"toc-item\"><li><ul class=\"toc-item\"><li><span><a href=\"#Оформленние\" data-toc-modified-id=\"Оформленние-0.1\">Оформленние</a></span></li><li><span><a href=\"#Данные\" data-toc-modified-id=\"Данные-0.2\">Данные</a></span></li><li><span><a href=\"#Баллы\" data-toc-modified-id=\"Баллы-0.3\">Баллы</a></span></li></ul></li><li><span><a href=\"#Правило-3-сигм\" data-toc-modified-id=\"Правило-3-сигм-1\">Правило 3 сигм</a></span></li><li><span><a href=\"#Равномерная-случайная-величина\" data-toc-modified-id=\"Равномерная-случайная-величина-2\">Равномерная случайная величина</a></span><ul class=\"toc-item\"><li><span><a href=\"#(n4)-Сравнение-оценок\" data-toc-modified-id=\"(n4)-Сравнение-оценок-2.1\">(n4) Сравнение оценок</a></span></li><li><span><a href=\"#(n7)-Сравнение-доверительных-интервалов\" data-toc-modified-id=\"(n7)-Сравнение-доверительных-интервалов-2.2\">(n7) Сравнение доверительных интервалов</a></span></li><li><span><a href=\"#(n8)-Сравнение-доверительных-интервалов-2\" data-toc-modified-id=\"(n8)-Сравнение-доверительных-интервалов-2-2.3\">(n8) Сравнение доверительных интервалов-2</a></span></li></ul></li><li><span><a href=\"#Линейная-модель\" data-toc-modified-id=\"Линейная-модель-3\">Линейная модель</a></span></li><li><span><a href=\"#Пуассоновская-модель\" data-toc-modified-id=\"Пуассоновская-модель-4\">Пуассоновская модель</a></span></li><li><span><a href=\"#Линейная-модель---2*\" data-toc-modified-id=\"Линейная-модель---2*-5\">Линейная модель - 2*</a></span><ul class=\"toc-item\"><li><span><a href=\"#(n5)-Разные-модели-на-картинке\" data-toc-modified-id=\"(n5)-Разные-модели-на-картинке-5.1\">(n5) Разные модели на картинке</a></span></li></ul></li><li><span><a href=\"#Аварии-на-шахтах\" data-toc-modified-id=\"Аварии-на-шахтах-6\">Аварии на шахтах</a></span><ul class=\"toc-item\"><li><span><a href=\"#Точечная-оценка-и-асимптотический-Д.И.\" data-toc-modified-id=\"Точечная-оценка-и-асимптотический-Д.И.-6.1\">Точечная оценка и асимптотический Д.И.</a></span></li><li><span><a href=\"#Число-катастроф\" data-toc-modified-id=\"Число-катастроф-6.2\">Число катастроф</a></span></li><li><span><a href=\"#Дельта-метод\" data-toc-modified-id=\"Дельта-метод-6.3\">Дельта-метод</a></span></li></ul></li><li><span><a href=\"#Контрольная-работа\" data-toc-modified-id=\"Контрольная-работа-7\">Контрольная работа</a></span><ul class=\"toc-item\"><li><span><a href=\"#Распределение-результатов-контрольной\" data-toc-modified-id=\"Распределение-результатов-контрольной-7.1\">Распределение результатов контрольной</a></span></li><li><span><a href=\"#Д.И.-для-среднего\" data-toc-modified-id=\"Д.И.-для-среднего-7.2\">Д.И. для среднего</a></span></li><li><span><a href=\"#Хорошие-и-плохие-студенты\" data-toc-modified-id=\"Хорошие-и-плохие-студенты-7.3\">Хорошие и плохие студенты</a></span></li><li><span><a href=\"#Д.И.-для-дисперсии\" data-toc-modified-id=\"Д.И.-для-дисперсии-7.4\">Д.И. для дисперсии</a></span></li><li><span><a href=\"#Доля-написавших-третью-контрольную\" data-toc-modified-id=\"Доля-написавших-третью-контрольную-7.5\">Доля написавших третью контрольную</a></span></li><li><span><a href=\"#Снова-разница-средних\" data-toc-modified-id=\"Снова-разница-средних-7.6\">Снова разница средних</a></span></li></ul></li></ul></div>"
   ]
  },
  {
   "cell_type": "markdown",
   "metadata": {
    "id": "uxBhTbOlL3U7"
   },
   "source": [
    "## Оформленние\n",
    "\n",
    "В этом ДЗ нужно будет решить несколько теоретических заданий. Можно их написать от руки на листочке и отсканировать.\n",
    "\n",
    "Для красивых читаемых сканов можно воспользоваться нативным приложением \"Заметки\" на айфоне (инструкция [тут](https://uipservice.com/blog/how-to-scan-in-notes/)).\n",
    "\n",
    "На андройде есть неплохое приложение [CamScanner](https://play.google.com/store/apps/details?id=com.intsig.camscanner) и еще ряд [других](https://blackberries.ru/2017/06/12/luchshie-android-prilozheniya-dlya-skanirovaniya-dokumentov/).\n",
    "\n",
    "Если вы вдруг владеете LaTeX, то решение сверстанное им очень приветствуется.\n",
    "\n",
    "Все теоретические задания просьба склеить в один pdf-файл и прикрепить в классрум. Можно воспользоваться [этим](https://www.ilovepdf.com/) сервисом для объединения pdf-файлтов. \n",
    "\n",
    "На листочке просьба четко обозначить, что за задание решается.\n",
    "\n",
    "Практические задания можно выполнить в этом ноутбуке.\n",
    "\n",
    "Итого в классрум нужно сдать 2 файла\n",
    "- pdf файл с решением теоретических заданий\n",
    "- ipynb ноутбук с кодом\n",
    "\n",
    "Просьба назвать файлы в формате: Иванова.pdf, Иванова.ipynb\n",
    "\n",
    "Архивировать файлы НЕ нужно"
   ]
  },
  {
   "cell_type": "markdown",
   "metadata": {
    "id": "57S3g2cioIJB"
   },
   "source": [
    "## Данные\n",
    "\n",
    "Все датасеты лежат [тут](https://drive.google.com/open?id=1-psTZYeGvnr7UKt77X3D271N5BzNRxzZ)\n",
    "\n",
    "Можно скачать эту папку, положить в соседнюю папку с рабочими ноутбуками и указать соответствующий путь `'../data/something.csv'`"
   ]
  },
  {
   "cell_type": "markdown",
   "metadata": {
    "id": "BgeUzkRdoIJB"
   },
   "source": [
    "## Баллы\n",
    "\n",
    "Разбалловка по заданиям в таблице ниже.\n",
    "\n",
    "Большая часть заданий дает до 5 баллов, более вычислительно интенсивные – по 10.\n",
    "\n",
    "Выполнив основные задания, можно набрать 100 баллов.\n",
    "\n",
    "--- \n",
    "\n",
    "Задания в разделе `Линейная модель - 2* (бонусная часть)` – бонусные, можно сделать по желанию.\n",
    "\n",
    "В сумме они дают 70 баллов сверх 100 основных\n"
   ]
  },
  {
   "cell_type": "markdown",
   "metadata": {
    "id": "PGRYDJTuoIJC"
   },
   "source": [
    "<style type=\"text/css\">\n",
    ".tg  {border-collapse:collapse;border-spacing:0;}\n",
    ".tg td{border-color:black;border-style:solid;border-width:1px;font-family:Arial, sans-serif;font-size:14px;\n",
    "  overflow:hidden;padding:10px 5px;word-break:normal;}\n",
    ".tg th{border-color:black;border-style:solid;border-width:1px;font-family:Arial, sans-serif;font-size:14px;\n",
    "  font-weight:normal;overflow:hidden;padding:10px 5px;word-break:normal;}\n",
    ".tg .tg-lboi{border-color:inherit;text-align:left;vertical-align:middle}\n",
    ".tg .tg-9wq8{border-color:inherit;text-align:center;vertical-align:middle}\n",
    ".tg .tg-9j3s{border-color:inherit;font-weight:bold;text-align:right;vertical-align:middle}\n",
    ".tg .tg-g7sd{border-color:inherit;font-weight:bold;text-align:left;vertical-align:middle}\n",
    "</style>\n",
    "<table class=\"tg\">\n",
    "<thead>\n",
    "  <tr>\n",
    "    <th class=\"tg-lboi\">Задания</th>\n",
    "    <th class=\"tg-9wq8\">баллы по задаиям</th>\n",
    "    <th class=\"tg-9wq8\">баллы по разделам</th>\n",
    "  </tr>\n",
    "</thead>\n",
    "<tbody>\n",
    "  <tr>\n",
    "    <td class=\"tg-g7sd\"><span style=\"font-weight:bold\">1&nbsp;&nbsp;Правило 3 сигм</span></td>\n",
    "    <td class=\"tg-9wq8\"></td>\n",
    "    <td class=\"tg-9wq8\" rowspan=\"2\">5</td>\n",
    "  </tr>\n",
    "  <tr>\n",
    "    <td class=\"tg-lboi\">т1</td>\n",
    "    <td class=\"tg-9wq8\">5</td>\n",
    "  </tr>\n",
    "  <tr>\n",
    "    <td class=\"tg-g7sd\"><span style=\"font-weight:bold\">2&nbsp;&nbsp;Равномерная случайная величина</span></td>\n",
    "    <td class=\"tg-9wq8\"></td>\n",
    "    <td class=\"tg-9wq8\" rowspan=\"6\">30</td>\n",
    "  </tr>\n",
    "  <tr>\n",
    "    <td class=\"tg-lboi\">т1, т2 - оценки</td>\n",
    "    <td class=\"tg-9wq8\">5</td>\n",
    "  </tr>\n",
    "  <tr>\n",
    "    <td class=\"tg-lboi\">т3 - свойства</td>\n",
    "    <td class=\"tg-9wq8\">10</td>\n",
    "  </tr>\n",
    "  <tr>\n",
    "    <td class=\"tg-lboi\">n4 - эксперимент</td>\n",
    "    <td class=\"tg-9wq8\">5</td>\n",
    "  </tr>\n",
    "  <tr>\n",
    "    <td class=\"tg-lboi\">т5, т6 - интервалы</td>\n",
    "    <td class=\"tg-9wq8\">5</td>\n",
    "  </tr>\n",
    "  <tr>\n",
    "    <td class=\"tg-lboi\">n7 - эксперимент</td>\n",
    "    <td class=\"tg-9wq8\">5</td>\n",
    "  </tr>\n",
    "  <tr>\n",
    "    <td class=\"tg-g7sd\"><span style=\"font-weight:bold\">3&nbsp;&nbsp;Линейная модель</span></td>\n",
    "    <td class=\"tg-9wq8\"></td>\n",
    "    <td class=\"tg-9wq8\" rowspan=\"5\">20</td>\n",
    "  </tr>\n",
    "  <tr>\n",
    "    <td class=\"tg-lboi\">т1 - коэффициент</td>\n",
    "    <td class=\"tg-9wq8\">5</td>\n",
    "  </tr>\n",
    "  <tr>\n",
    "    <td class=\"tg-lboi\">т2 - свойства</td>\n",
    "    <td class=\"tg-9wq8\">10</td>\n",
    "  </tr>\n",
    "  <tr>\n",
    "    <td class=\"tg-g7sd\"><span style=\"font-weight:bold\">4&nbsp;&nbsp;Пуассоновская модель</span></td>\n",
    "    <td class=\"tg-9wq8\"></td>\n",
    "  </tr>\n",
    "  <tr>\n",
    "    <td class=\"tg-lboi\">т1 - коэффициент</td>\n",
    "    <td class=\"tg-9wq8\">5</td>\n",
    "  </tr>\n",
    "  <tr>\n",
    "    <td class=\"tg-g7sd\"><span style=\"font-weight:bold\">5&nbsp;&nbsp;Линейная модель - 2* (бонусная часть)</span></td>\n",
    "    <td class=\"tg-9wq8\"></td>\n",
    "    <td class=\"tg-9wq8\" rowspan=\"6\">70</td>\n",
    "  </tr>\n",
    "  <tr>\n",
    "    <td class=\"tg-lboi\">т1 - коэффициенты</td>\n",
    "    <td class=\"tg-9wq8\">15</td>\n",
    "  </tr>\n",
    "  <tr>\n",
    "    <td class=\"tg-lboi\">т2 - свойства суммирования</td>\n",
    "    <td class=\"tg-9wq8\">10</td>\n",
    "  </tr>\n",
    "  <tr>\n",
    "    <td class=\"tg-lboi\">т3 - свойства</td>\n",
    "    <td class=\"tg-9wq8\">20</td>\n",
    "  </tr>\n",
    "  <tr>\n",
    "    <td class=\"tg-lboi\">т4 - корреляция и отношение дисперсий</td>\n",
    "    <td class=\"tg-9wq8\">15</td>\n",
    "  </tr>\n",
    "  <tr>\n",
    "    <td class=\"tg-lboi\">n5 - эксперимент</td>\n",
    "    <td class=\"tg-9wq8\">10</td>\n",
    "  </tr>\n",
    "  <tr>\n",
    "    <td class=\"tg-g7sd\"><span style=\"font-weight:bold\">6&nbsp;&nbsp;Аварии на шахтах</span></td>\n",
    "    <td class=\"tg-9wq8\"></td>\n",
    "    <td class=\"tg-9wq8\" rowspan=\"4\">20</td>\n",
    "  </tr>\n",
    "  <tr>\n",
    "    <td class=\"tg-lboi\">6.1&nbsp;&nbsp;Точечная оценка и асимптотический Д.И.</td>\n",
    "    <td class=\"tg-9wq8\">5</td>\n",
    "  </tr>\n",
    "  <tr>\n",
    "    <td class=\"tg-lboi\">6.2&nbsp;&nbsp;Число катастроф</td>\n",
    "    <td class=\"tg-9wq8\">5</td>\n",
    "  </tr>\n",
    "  <tr>\n",
    "    <td class=\"tg-lboi\">6.3&nbsp;&nbsp;Дельта-метод</td>\n",
    "    <td class=\"tg-9wq8\">10</td>\n",
    "  </tr>\n",
    "  <tr>\n",
    "    <td class=\"tg-g7sd\"><span style=\"font-weight:bold\">7&nbsp;&nbsp;Контрольная работа</span></td>\n",
    "    <td class=\"tg-9wq8\"></td>\n",
    "    <td class=\"tg-9wq8\" rowspan=\"6\">25</td>\n",
    "  </tr>\n",
    "  <tr>\n",
    "    <td class=\"tg-lboi\">7.1&nbsp;&nbsp;Распределение результатов контрольной<br>7.2&nbsp;&nbsp;Д.И. для среднего</td>\n",
    "    <td class=\"tg-9wq8\">5</td>\n",
    "  </tr>\n",
    "  <tr>\n",
    "    <td class=\"tg-lboi\">7.3&nbsp;&nbsp;Хорошие и плохие студенты</td>\n",
    "    <td class=\"tg-9wq8\">5</td>\n",
    "  </tr>\n",
    "  <tr>\n",
    "    <td class=\"tg-lboi\">7.4&nbsp;&nbsp;Д.И. для дисперсии</td>\n",
    "    <td class=\"tg-9wq8\">5</td>\n",
    "  </tr>\n",
    "  <tr>\n",
    "    <td class=\"tg-lboi\">7.5&nbsp;&nbsp;Доля написавших третью контрольную</td>\n",
    "    <td class=\"tg-9wq8\">5</td>\n",
    "  </tr>\n",
    "  <tr>\n",
    "    <td class=\"tg-lboi\">7.6&nbsp;&nbsp;Снова разница средних</td>\n",
    "    <td class=\"tg-9wq8\">5</td>\n",
    "  </tr>\n",
    "  <tr>\n",
    "    <td class=\"tg-9j3s\"><span style=\"font-weight:bold\">Всего</span></td>\n",
    "    <td class=\"tg-9wq8\">170</td>\n",
    "    <td class=\"tg-9wq8\">170</td>\n",
    "  </tr>\n",
    "</tbody>\n",
    "</table>"
   ]
  },
  {
   "cell_type": "code",
   "execution_count": null,
   "metadata": {
    "id": "lMdUh3wLKM3-"
   },
   "outputs": [],
   "source": [
    "# Правило 3 сигм"
   ]
  },
  {
   "cell_type": "markdown",
   "metadata": {
    "id": "lUJvkitvJ9lV"
   },
   "source": [
    "В этом упражнении мы обсудим правила двух и трех сигм для произвольной случайной величины. \n",
    "\n",
    "Пусть $X$ имеет некоторое распределение с математическим ожиданием $E[X] = a$ и конечной дисперсией $var(X) = \\sigma^2 < \\infty$. \n",
    "\n",
    "С помощью неравенства Чебышёва покажите, с какой вероятностью эта случайная величина лежит в отрезках $[a − 2\\sigma, a + 2\\sigma]$ и $[a − 3\\sigma, a + 3\\sigma]$. \n",
    "\n",
    "n1) Сравните полученные вероятности с соответствующими вероятностями для стандартного нормального распределения $N (0, 1)$. Какой вывод можно сделать?"
   ]
  },
  {
   "cell_type": "code",
   "execution_count": 30,
   "metadata": {
    "id": "xWbdyjwZ1q-T"
   },
   "outputs": [],
   "source": [
    "import numpy as np\n",
    "import pandas as pd\n",
    "\n",
    "from scipy import stats\n",
    "\n",
    "import seaborn as sns\n",
    "import matplotlib.pyplot as plt\n",
    "\n",
    "plt.style.use('ggplot')"
   ]
  },
  {
   "cell_type": "markdown",
   "metadata": {
    "id": "K-W2KQH3Ne5g"
   },
   "source": [
    "Воспользуемся формулой для $a=k\\sigma$\n",
    "\n",
    "$a=2\\sigma$\n",
    "\n",
    "$P(|X - a| <= 2\\sigma) = 1 - P(|X - a| >= 2\\sigma) >= 1 - 1/2^2$\n",
    "P >= 3/4\n",
    "\n",
    "$a=3\\sigma$\n",
    "\n",
    "$P(|X - a| <= 3\\sigma) = 1 - P(|X - a| >= 3\\sigma) >= 1 - 1/3^2$\n",
    "P >= 8/9\n"
   ]
  },
  {
   "cell_type": "code",
   "execution_count": 12,
   "metadata": {},
   "outputs": [
    {
     "name": "stdout",
     "output_type": "stream",
     "text": [
      "P(-2 < X < 2) = Ф(2)-Ф(-2) =  0.9544997361036416\n",
      "P(-3 < X < 3) = Ф(3)-Ф(-3) =  0.9973002039367398\n"
     ]
    }
   ],
   "source": [
    "# n1) для норм распределения\n",
    "norm_rv = stats.norm(loc=0, scale=1)\n",
    "\n",
    "for i in [2,3]:\n",
    "    print(f'P({-i} < X < {i}) = Ф({i})-Ф({-i}) = ', norm_rv.cdf(i)-norm_rv.cdf(-i) )\n",
    "    \n",
    "# В нормальном распределении лежат 95% и 99% значений в пределах 2 и 3 сигм соответственно, то есть почти все значения. Все значения более 3 сигм можно считать выбросами\n",
    "# Для произвольной случайной величины процент ее значений составляет 75% и 88%, что значительно меньше, чем для нормального распределения"
   ]
  },
  {
   "cell_type": "markdown",
   "metadata": {
    "id": "pSZIZPXY7Oco"
   },
   "source": [
    "# Равномерная случайная величина"
   ]
  },
  {
   "cell_type": "markdown",
   "metadata": {
    "id": "2iCaBkFNzLld"
   },
   "source": [
    "Рассмотрим случайную величину из равномерного распределения на отрезке от $0$ до $θ$ с функцией распределения:\n",
    "\n",
    "$$\n",
    "F(x) = \\begin{cases} 0, & x < 0 \\\\ x/\\theta, & 0 \\le x \\le \\theta \\\\ 1, & x > \\theta. \\end{cases}\n",
    "$$\n",
    "\n",
    "и с плотностью распределения:\n",
    "\n",
    "$$\n",
    "f_X(x) = \\begin{cases} 1/\\theta, & 0 \\le x \\le \\theta \\\\ 0, & \\text{otherwise.} \\end{cases}\n",
    "$$\n",
    "\n",
    "или через индикаторную функцию:\n",
    "\n",
    "$$\n",
    "f_X(x) = \\frac{1}{\\theta} \\cdot \\mathbb 1\\{0 \\le x \\le \\theta\\}.\n",
    "$$\n",
    "\n",
    "т1) Покажите, что оценка параметра $θ$ метом максимального правдоподобия есть оценка $\\hat{\\theta}_1 = \\max(X_1, ..., X_n)$\n",
    "\n",
    "т2) Покажите, что оценка параметра $θ$ метом моментов есть оценка $\\hat{\\theta}_2 = 2\\bar{X}$\n",
    "\n",
    "т3) Покажите, являются ли оценки $\\hat{\\theta}_1$ и $\\hat{\\theta}_2$\n",
    "- несмещенными $ E[\\hat{\\theta}]=\\theta $\n",
    "- асимптотически несмещенными $ E[\\hat{\\theta}]=\\theta, n\\to ∞$\n",
    "- состоятельными $ \\hat{\\theta} \\overset{\\mathbb{P}}{\\to} \\theta , n\\to ∞$\n",
    "\n",
    "Используйте тот факт, что распределение максимума из $n$ независимых равномерно распределённых на отрезке $[0, θ]$ случайных величин имеет функцию распределения:\n",
    "\n",
    "$$\n",
    "\\mathbb{P}\\left(\\max \\left(X_{1}, \\ldots, X_{n}\\right)<x\\right)=[\\mathbb{P}(X_i<x)]^{n}=\\left(\\frac{x}{\\theta}\\right)^{n}=F(x)=\\text{cdf}(\\hat{\\theta}_1)\n",
    "$$\n",
    "\n",
    "n4) Эмпирически проверьте, какая из предложенных оценок точнее оценивает параметр $\\theta$. \n",
    "- Для этого зафиксируйте $\\theta$ с псевдонеизвестным параметром значением из равномерного распределения на $[10,20]$.\n",
    "- Промоделируйте $M = 1000$ раз выборку размера $n = 100$ . \n",
    "- Затем по каждой выборке вычислите обе оценки  и сравните точность оценок графически (boxplot, гистограмма) и численно (среднеквадратическая ошибка).\n",
    "\n",
    "т5) Постройте точный доверительный интервал для параметра $\\theta$ уровня доверия $(1-\\alpha)$ с помощью оценки $\\hat{\\theta}_1 = \\max(X_1, ..., X_n)$. Для этого нужно будет необходимо найти квантили с помощью функции распределения $\\text{cdf}(\\hat{\\theta}_1)$.\n",
    "\n",
    "т6) Постройте асимптотический (с помощью ЦПТ) доверительный интервал для неизвестного параметра $\\theta$  уровня доверия $(1-\\alpha)$, используя оценку $\\hat{\\theta}_2 = 2\\bar{X}$.\n",
    "\n",
    "n7) Реализуйте эксперимент в питоне:\n",
    "- Сгенерируйте выборку размера $n=50$ с псевдонеизвестным параметром  $\\theta$ из равномерного распределения на $[10,20]$;\n",
    "- Посчитайте доверительные интервалы, выведенные ранее, для обеих оценок и сравните их.\n",
    "\n",
    "n8*) [Бонусное +15 баллов] \n",
    "\n",
    "Эмпирически проверьте, какой доверительный интервал работает лучше.\n",
    "- Рассмотрите  \n",
    "    - Д.И., полученный методом макс. правдоподобия\n",
    "    - Д.И., полученный методом макс. правдоподобия с коррективкой смещения в оценке параметра\n",
    "    - Д.И., полученный методом моментов\n",
    "- Для этого зафиксируйте $\\theta$ с псевдонеизвестным параметром значением из равномерного распределения на $[10,20]$.\n",
    "- Промоделируйте $M = 1000$ раз выборку размера $n = 100$ . \n",
    "- Затем по каждой выборке вычислите доверительные интервалы и проверьте лежит ли истинный параметр внутри интервала. Далее посчитайте частоту покрытия истинного значения доверительным интервалом. У какого интервала действительно частота равна $1-\\alpha$?"
   ]
  },
  {
   "cell_type": "markdown",
   "metadata": {
    "id": "Gl_ZPV7_NUUc"
   },
   "source": [
    "## (n4) Сравнение оценок"
   ]
  },
  {
   "cell_type": "code",
   "execution_count": 109,
   "metadata": {
    "id": "0tFeGyJ9NWTb"
   },
   "outputs": [
    {
     "data": {
      "text/plain": [
       "17.771320643266748"
      ]
     },
     "execution_count": 109,
     "metadata": {},
     "output_type": "execute_result"
    }
   ],
   "source": [
    "theta = stats.uniform.rvs(17, random_state=10)\n",
    "uniform_rv = stats.uniform(0, theta)\n",
    "theta"
   ]
  },
  {
   "cell_type": "code",
   "execution_count": 110,
   "metadata": {},
   "outputs": [
    {
     "data": {
      "text/plain": [
       "(100, 1000)"
      ]
     },
     "execution_count": 110,
     "metadata": {},
     "output_type": "execute_result"
    }
   ],
   "source": [
    "n = 100\n",
    "M = 1000\n",
    "samples = uniform_rv.rvs(size = (n, M))\n",
    "samples.shape"
   ]
  },
  {
   "cell_type": "code",
   "execution_count": 111,
   "metadata": {},
   "outputs": [],
   "source": [
    "# mm\n",
    "theta1 = 2*np.mean(samples, axis=0)\n",
    "\n",
    "# ml\n",
    "theta2 = (n + 1)/n*np.max(samples, axis=0)"
   ]
  },
  {
   "cell_type": "code",
   "execution_count": 112,
   "metadata": {},
   "outputs": [
    {
     "data": {
      "text/plain": [
       "(17.797594875421307, 17.771097842819138)"
      ]
     },
     "execution_count": 112,
     "metadata": {},
     "output_type": "execute_result"
    }
   ],
   "source": [
    "theta1.mean(), theta2.mean()"
   ]
  },
  {
   "cell_type": "code",
   "execution_count": 113,
   "metadata": {},
   "outputs": [
    {
     "data": {
      "image/png": "[encoded data removed]",
      "text/plain": [
       "<Figure size 864x432 with 1 Axes>"
      ]
     },
     "metadata": {},
     "output_type": "display_data"
    }
   ],
   "source": [
    "plt.figure(figsize=(12,6))\n",
    "\n",
    "plt.hist(theta1, alpha=0.5, label='Moment method')\n",
    "plt.hist(theta2, alpha=0.5, label='ML method')\n",
    "plt.legend();"
   ]
  },
  {
   "cell_type": "code",
   "execution_count": 129,
   "metadata": {},
   "outputs": [
    {
     "name": "stdout",
     "output_type": "stream",
     "text": [
      "0.9979097579114332\n",
      "0.03481163881625472\n"
     ]
    }
   ],
   "source": [
    "# mm\n",
    "delta1 = theta1 - theta\n",
    "MSE1 = np.mean(np.power(delta1, 2))\n",
    "print(MSE1)\n",
    "# ml\n",
    "delta2 = theta2 - theta\n",
    "MSE2 = np.mean(np.power(delta2, 2))\n",
    "print(MSE2)\n",
    "\n",
    "#  у оценки максимального правдоподобия разброс оказался меньше"
   ]
  },
  {
   "cell_type": "markdown",
   "metadata": {
    "id": "b5pDfJfcNSD6"
   },
   "source": [
    "## (n7) Сравнение доверительных интервалов"
   ]
  },
  {
   "cell_type": "code",
   "execution_count": null,
   "metadata": {
    "id": "Rx8grKAPJ8vd"
   },
   "outputs": [],
   "source": [
    "uniform = "
   ]
  },
  {
   "cell_type": "markdown",
   "metadata": {},
   "source": [
    "## (n8) Сравнение доверительных интервалов-2"
   ]
  },
  {
   "cell_type": "code",
   "execution_count": null,
   "metadata": {},
   "outputs": [],
   "source": []
  },
  {
   "cell_type": "markdown",
   "metadata": {
    "id": "K3c5sNWR7QTf"
   },
   "source": [
    "# Линейная модель"
   ]
  },
  {
   "cell_type": "markdown",
   "metadata": {
    "id": "xjLNWrkM7RdV"
   },
   "source": [
    "Рассмотрим $\\varepsilon_1,\\dots, \\varepsilon_n \\sim iid N(0,\\sigma^2)$ и модель вида $y_i = \\beta \\cdot x_i + \\varepsilon_i$, где \n",
    "- $y_i$ – зависимая (объясняемая) переменная, \n",
    "- $x_i$ – независимая (объясняющая) переменная, \n",
    "- $\\beta$ – коэффициент, связывающий переменные $y_i$ и $x_i$,\n",
    "- $\\varepsilon_i$ – непрогнозируемая ошибка\n",
    ".\n",
    "\n",
    "т1) Покажите, что $y_i \\sim N(\\beta x_i ,\\sigma^2)$ и найдите оценку $\\hat{\\beta}$ методом максимального правдоподобия.\n",
    "\n",
    "т2) Покажите, что полученная $\\hat{\\beta}$ – несмещенная, состоятельная и эффективная. \n",
    "- При проверке свойств, воспринимайте $x_i$ как некоторую константу (записанную в pd.DataFrame), а $y_i$ как случайную величину из двух компонент $\\beta \\cdot x_i + \\varepsilon_i$, где первая компонента не случайна, а вторая случайна.\n",
    "- Эффективность оценки нужно проверить с помощью неравенства Рао-Крамера-Фреше"
   ]
  },
  {
   "cell_type": "markdown",
   "metadata": {
    "id": "FTqahRS0A5w4"
   },
   "source": [
    "# Пуассоновская модель\n"
   ]
  },
  {
   "cell_type": "markdown",
   "metadata": {
    "id": "g_ZHOJx_BgAz"
   },
   "source": [
    "Рассмотрим случайную величину $y_i \\sim \\text{Poisson}(\\beta\\cdot x_i)$, где \n",
    "- $y_i$ – зависимая (объясняемая) переменная (например, число комментариев), \n",
    "- $x_i$ – независимая (объясняющая) переменная (например, число лайков), \n",
    "    - помним, что обычно подобные переменные счетчики моделируются распределением Пуассон\n",
    "- $\\beta$ – коэффициент, связывающий переменные $y_i$ и $x_i$,\n",
    "\n",
    "т1) Найдите оценку $\\hat{\\beta}$  методом максимального правдоподобия."
   ]
  },
  {
   "cell_type": "markdown",
   "metadata": {
    "id": "TpsmFToN_n8p"
   },
   "source": [
    "# Линейная модель - 2*"
   ]
  },
  {
   "cell_type": "markdown",
   "metadata": {
    "id": "nDp8kUFj_st2"
   },
   "source": [
    "Рассмотрим $\\varepsilon_1,\\dots, \\varepsilon_n \\sim iid N(0,\\sigma^2)$ и модель вида $y_i = \\beta_0 + \\beta_1 \\cdot x_i + \\varepsilon_i$, где \n",
    "- $y_i$ – зависимая (объясняемая) переменная, \n",
    "- $x_i$ – независимая (объясняющая) переменная, \n",
    "- $\\beta_1$ – коэффициент, связывающий переменные $y_i$ и $x_i$,\n",
    "- $\\beta_0$ – свободный коэффициент,\n",
    "- $\\varepsilon_i$ – непрогнозируемая ошибка\n",
    ".\n",
    "\n",
    "т1) Покажите, что $y_i \\sim N(\\beta_0 + \\beta_1 \\cdot x_i,\\sigma^2)$ и найдите оценки $\\hat{\\beta}_1$ и $\\hat{\\beta}_0$ методом максимального правдоподобия.\n",
    "\n",
    "т2) Покажите, что оценка $\\hat{\\beta}_1 = \\dfrac{\\hat{cov}(x,y)}{\\hat{var}(x)}$, где $\\hat{cov}$ и $\\hat{var}$ – выборочные ковариация и дисперсия. Для этого расскройте скобки в выборочных статистиках и примените оператор суммирования к каждому слагаемому.\n",
    "\n",
    "т3***) (для смелых) покажите, что $\\hat{\\beta}_1$ и $\\hat{\\beta}_0$ – несмещенные, состоятельные и эффективные оценки. \n",
    "\n",
    "т4*****) (для очень смелых) покажите, что $\\hat{corr}^2(x,y) = \\dfrac{\\hat{var}(\\hat{y})}{\\hat{var}(y)}$, где $\\hat{y}=\\beta_0 + \\beta_1 \\cdot x_i$. \n",
    "\n",
    "\n",
    "n5) Проиллюстрируйте полученные модели для датасета ниже. Для этого на точечном графике ниже нарисуйте 3 линии с прогнозом."
   ]
  },
  {
   "cell_type": "markdown",
   "metadata": {
    "id": "fRrbiBs_NYdz"
   },
   "source": [
    "## (n5) Разные модели на картинке"
   ]
  },
  {
   "cell_type": "code",
   "execution_count": 27,
   "metadata": {
    "id": "vV1EqOYvDU92"
   },
   "outputs": [],
   "source": [
    "df = pd.read_csv('./data/youtube_data.csv', sep='\\t')\n",
    "cols = ['likeCount', 'commentCount']\n",
    "df = df[cols].dropna()\n",
    "df = df.query('likeCount<1e6 and commentCount<100e3') "
   ]
  },
  {
   "cell_type": "code",
   "execution_count": 28,
   "metadata": {
    "id": "HM_dfRRgDZVw"
   },
   "outputs": [
    {
     "data": {
      "image/png": "[encoded data removed]",
      "text/plain": [
       "<Figure size 432x288 with 1 Axes>"
      ]
     },
     "metadata": {},
     "output_type": "display_data"
    }
   ],
   "source": [
    "sns.scatterplot(data=df, x='likeCount',y='commentCount', );"
   ]
  },
  {
   "cell_type": "markdown",
   "metadata": {
    "id": "a-JZq-84dlx5"
   },
   "source": [
    "# Аварии на шахтах"
   ]
  },
  {
   "cell_type": "markdown",
   "metadata": {
    "deletable": false,
    "editable": false,
    "id": "5M7DfLY9daJe",
    "nbgrader": {
     "cell_type": "markdown",
     "checksum": "80970bc9f21db2cc2cf85d64c918e72a",
     "grade": false,
     "grade_id": "cell-75d58b9b3f8d9f28",
     "locked": true,
     "schema_version": 3,
     "solution": false,
     "task": false
    }
   },
   "source": [
    "На угольных шахтах ежегодно происходят аварии. Англия довольно давно собирает информацию о числе крупных аварий. Именно её нам предстоит проанализировать:\n",
    "\n",
    "* хочется понять как часто в среднем происходят аварии \n",
    "* насколько большой у среднего числа аварий доверительный интервал"
   ]
  },
  {
   "cell_type": "code",
   "execution_count": null,
   "metadata": {
    "id": "FGrQP8YqdaJf"
   },
   "outputs": [],
   "source": [
    "df = pd.read_csv(\"../data/coals.csv\", index_col=0)\n",
    "df.head()"
   ]
  },
  {
   "cell_type": "markdown",
   "metadata": {
    "deletable": false,
    "editable": false,
    "id": "pW4FqTJ-daJg",
    "nbgrader": {
     "cell_type": "markdown",
     "checksum": "250e18d302d16fb1e7626720133789aa",
     "grade": false,
     "grade_id": "cell-71d1eaf34ae3f8a6",
     "locked": true,
     "schema_version": 3,
     "solution": false,
     "task": false
    }
   },
   "source": [
    "В колонке `year` находится год наблюдений. В колонке `count` число аварий за этот год на шахтах в Англии. Посмотрим на распределение числа аварий. "
   ]
  },
  {
   "cell_type": "code",
   "execution_count": null,
   "metadata": {
    "id": "KtcIUZB9daJg"
   },
   "outputs": [],
   "source": [
    "df['count'].hist(bins=30);"
   ]
  },
  {
   "cell_type": "markdown",
   "metadata": {
    "id": "dKFFS718gT01"
   },
   "source": [
    "## Точечная оценка и асимптотический Д.И."
   ]
  },
  {
   "cell_type": "markdown",
   "metadata": {
    "deletable": false,
    "editable": false,
    "id": "YgW1tke7daJh",
    "nbgrader": {
     "cell_type": "markdown",
     "checksum": "93cd51081378129d848714a7563024ff",
     "grade": false,
     "grade_id": "cell-8f81fc0ac935f974",
     "locked": true,
     "schema_version": 3,
     "solution": false,
     "task": false
    }
   },
   "source": [
    "Судя по гистограмме уместно предположить, что число аварий имеет распределение Пуассона, $Poiss(\\lambda)$.  То есть, если мы хотим что-то понять про среднее число аварий, нам надо оценить параметр $\\lambda$. \n",
    "\n",
    "__Точечная оценка__\n",
    "\n",
    "Найдите оценку параметра $\\lambda$ с помощью метода моментов и метода максимального правдоподобия. Запишите получившийся результат в переменную `lambda_hat`.\n",
    "\n",
    "__Стандартное отклонение__ \n",
    "\n",
    "Среднее, оценённое методом моментов будет иметь асимптотически нормальное распределение. Оцените стандартное отклонение этого распределения по выборке и запишите ответ в переменную `lam_se`. \n",
    "\n",
    "> __Примечание:__ мы предполагаем, что выборка пришла из распределения Пуассона. Для него $Var(X) = \\lambda$. Для оценки стандартного отклонения используйте этот факт. \n",
    "\n",
    "__Доверительный интервал__ \n",
    "\n",
    "Постройте для неизвестного математического ожидания $\\lambda$ доверительный интервал. Возьмите уровень значимости равный $10\\%$. В переменные `left` и `right` запишите соотвествующие границы интервала. В переменную `delta` запишите его ширину."
   ]
  },
  {
   "cell_type": "code",
   "execution_count": null,
   "metadata": {
    "deletable": false,
    "id": "9flvAOpJdaJi",
    "nbgrader": {
     "cell_type": "code",
     "checksum": "6049e41ea6548d69159f2393c9925ae4",
     "grade": false,
     "grade_id": "cell-a4673b56f9be221f",
     "locked": false,
     "schema_version": 3,
     "solution": true,
     "task": false
    }
   },
   "outputs": [],
   "source": [
    "n_hat = df.shape[0]   # число наблюдений \n",
    "lam_hat = ...         # ваша оценка метода моментов\n",
    "lam_se = ...         # ваша оценка\n",
    "\n",
    "alpha = ...         # уровень значимость\n",
    "\n",
    "left = ...          # левая граница дов. интервала\n",
    "right = ...         # правая граница дов. интервала\n",
    "delta = ...         # ширина дов. интервала\n",
    "\n",
    "print(left, right)"
   ]
  },
  {
   "cell_type": "markdown",
   "metadata": {
    "deletable": false,
    "editable": false,
    "id": "HWW8dRNfdaJm",
    "nbgrader": {
     "cell_type": "markdown",
     "checksum": "4d631c3f9d5ebeb5d67e62d85a83ed08",
     "grade": false,
     "grade_id": "cell-bf0ff017e366f60d",
     "locked": true,
     "schema_version": 3,
     "solution": false,
     "task": false
    }
   },
   "source": [
    "## Число катастроф\n",
    "\n",
    "Многие говорят, что в $20$ веке катастроф стало на порядок меньше. Давайте проверим это. Постройте оценку для $\\lambda_1$ по данным до $1900$ года включительно. Постройте оценку для $\\lambda_2$ по данным после $1900$ года. Для разности $\\lambda_1 - \\lambda_2$ постройте $95\\%$ доверительный интервал. "
   ]
  },
  {
   "cell_type": "markdown",
   "metadata": {
    "deletable": false,
    "editable": false,
    "id": "Bppp-jRFdaJn",
    "nbgrader": {
     "cell_type": "markdown",
     "checksum": "283692227b153b139be90a29fc9d61d5",
     "grade": false,
     "grade_id": "cell-856039d3919cfd24",
     "locked": true,
     "schema_version": 3,
     "solution": false,
     "task": false
    }
   },
   "source": [
    "Ноль не вошёл в этот доверительный интервал. Это означает, что на уровне значимости $5\\%$ мы можем сказать, что число аварий правда снизилось. "
   ]
  },
  {
   "cell_type": "code",
   "execution_count": null,
   "metadata": {
    "deletable": false,
    "id": "-iuBje9jdaJm",
    "nbgrader": {
     "cell_type": "code",
     "checksum": "acbbeb4a6bf1695cf002916cf371973b",
     "grade": false,
     "grade_id": "cell-a52534c295035fea",
     "locked": false,
     "schema_version": 3,
     "solution": true,
     "task": false
    }
   },
   "outputs": [],
   "source": [
    "x = df[df.year <= 1900]['count']\n",
    "y = df[df.year > 1900]['count']\n",
    "\n",
    "alpha = ...\n",
    "\n",
    "left = ...\n",
    "right = ...\n",
    "delta = ...\n",
    "\n",
    "print(left, right)"
   ]
  },
  {
   "cell_type": "markdown",
   "metadata": {
    "id": "NaUS12T_gCx8"
   },
   "source": [
    "## Дельта-метод"
   ]
  },
  {
   "cell_type": "markdown",
   "metadata": {
    "id": "hORKoDjYdaJn"
   },
   "source": [
    "__Вероятность для распределения Пуассона__ \n",
    "\n",
    "Вспомните формулу, по которой считается вероятность того, что Пуассоновская случайная величина примет какое-то значение. Найдите точечную оценку вероятности того, что произойдёт только одна авария. В качестве $\\lambda$ используйте оценку метода моментов, полученную в первом задании. "
   ]
  },
  {
   "cell_type": "code",
   "execution_count": null,
   "metadata": {
    "deletable": false,
    "id": "_l4zb88RdaJn",
    "nbgrader": {
     "cell_type": "code",
     "checksum": "677de3c04a3c8f7acc00e08729a9999a",
     "grade": false,
     "grade_id": "cell-1383c35748bfed27",
     "locked": false,
     "schema_version": 3,
     "solution": true,
     "task": false
    }
   },
   "outputs": [],
   "source": [
    "def poiss_prob(k):\n",
    "    # your code here\n",
    "\n",
    "\n",
    "# проверка функции\n",
    "assert np.abs(poiss_prob(1) - 0.3098761) < 1e-5\n",
    "\n"
   ]
  },
  {
   "cell_type": "markdown",
   "metadata": {
    "deletable": false,
    "editable": false,
    "id": "VBsjUWMrdaJo",
    "nbgrader": {
     "cell_type": "markdown",
     "checksum": "7f2badfbccaaf93be8606789c37481f9",
     "grade": false,
     "grade_id": "cell-0e3a31dfc730da6f",
     "locked": true,
     "schema_version": 3,
     "solution": false,
     "task": false
    }
   },
   "source": [
    "__Дельта-метод__ \n",
    "\n",
    "Та вероятность, которую мы нашли в предыдущем пункте - это лишь точечная оценка. Она является функцией от среднего. С помощью дельта-метода постройте для этой вероятности $95\\%$ довертельный интервал."
   ]
  },
  {
   "cell_type": "code",
   "execution_count": null,
   "metadata": {
    "deletable": false,
    "id": "BZDA5T_xdaJo",
    "nbgrader": {
     "cell_type": "code",
     "checksum": "25bd6905ed924461b79cea1e154754a2",
     "grade": false,
     "grade_id": "cell-cd0a438c7adffcdb",
     "locked": false,
     "schema_version": 3,
     "solution": true,
     "task": false
    }
   },
   "outputs": [],
   "source": [
    "alpha = ...\n",
    "\n",
    "left = ...\n",
    "right = ...\n",
    "delta = ...\n",
    "\n",
    "print(left, right)"
   ]
  },
  {
   "cell_type": "markdown",
   "metadata": {
    "deletable": false,
    "editable": false,
    "id": "8A7kjAOQdaJo",
    "nbgrader": {
     "cell_type": "markdown",
     "checksum": "10a701f826377d3ac37362b3ab3f9b92",
     "grade": false,
     "grade_id": "cell-f0b4e99983c91ca4",
     "locked": true,
     "schema_version": 3,
     "solution": false,
     "task": false
    }
   },
   "source": [
    "По аналогии можно построить доверительные интервалы для вероятности того, что случайная величина примет значения от нуля до девяти. Проделайте это в качестве необязательного упражнения и оформите процедуру расчёта в виде функции."
   ]
  },
  {
   "cell_type": "code",
   "execution_count": null,
   "metadata": {
    "deletable": false,
    "id": "q_7XXT_EdaJo",
    "nbgrader": {
     "cell_type": "code",
     "checksum": "c069ad8ca5fbcff71b79428535a2b4ba",
     "grade": false,
     "grade_id": "cell-957ca214e0fc17cb",
     "locked": false,
     "schema_version": 3,
     "solution": true,
     "task": false
    }
   },
   "outputs": [],
   "source": [
    "def prob_ci(k, alpha = 0.01, lam_hat=lam_hat):\n",
    "    # your code here\n"
   ]
  },
  {
   "cell_type": "code",
   "execution_count": null,
   "metadata": {
    "id": "7GJw11n5daJo"
   },
   "outputs": [],
   "source": [
    "left, right = prob_ci(1)\n",
    "delta = right - left\n",
    "\n",
    "assert np.abs(delta - 0.08147) < 1e-5\n",
    "\n",
    "\n",
    "left, right = prob_ci(0)\n",
    "delta = right - left\n",
    "\n",
    "assert np.abs(delta - 0.11551) < 1e-5\n",
    "\n"
   ]
  },
  {
   "cell_type": "markdown",
   "metadata": {
    "id": "1ht5ylAedaJp"
   },
   "source": [
    "Сделали функцию? Запускайте код для не очень информативной картинки!"
   ]
  },
  {
   "cell_type": "code",
   "execution_count": null,
   "metadata": {
    "id": "OvF3r4vpdaJp"
   },
   "outputs": [],
   "source": [
    "poiss_rv = sts.poisson(lam_hat)\n",
    "\n",
    "x = np.arange(10)\n",
    "\n",
    "p = poiss_rv.pmf(x)\n",
    "left, right = prob_ci(x)\n",
    "\n",
    "plt.figure(figsize=(10,5))\n",
    "plt.plot(x, p, 'bo', ms=6, label='poisson pmf')\n",
    "plt.fill_between(x, left, right, alpha=0.5)\n",
    "plt.vlines(x, 0, p, lw=1)\n",
    "plt.legend(loc='best', frameon=False)\n",
    "plt.show()\n"
   ]
  },
  {
   "cell_type": "code",
   "execution_count": null,
   "metadata": {
    "id": "y_i1ib2FdaJp"
   },
   "outputs": [],
   "source": [
    "for k,(i,j) in enumerate(zip(left, right)):\n",
    "    print(f\"Вероятность P(X={k}) лежит между  {i:.5} и {j:.5}\")"
   ]
  },
  {
   "cell_type": "markdown",
   "metadata": {
    "deletable": false,
    "editable": false,
    "id": "cmaj_gwWdaJp",
    "nbgrader": {
     "cell_type": "markdown",
     "checksum": "8f6311fca1d92124280fe941a5617cdf",
     "grade": false,
     "grade_id": "cell-77d5ebfab1514cda",
     "locked": true,
     "schema_version": 3,
     "solution": false,
     "task": false
    }
   },
   "source": [
    "Интервалы получился довольно короткими. Попробуйте поиграться с уровнем значимости и посмотреть как они меняются в зависимости от него. "
   ]
  },
  {
   "cell_type": "markdown",
   "metadata": {
    "deletable": false,
    "editable": false,
    "id": "dONPhJRqdaJp",
    "nbgrader": {
     "cell_type": "markdown",
     "checksum": "b207b13b56e3339a7ba971a435ce5390",
     "grade": false,
     "grade_id": "cell-b3dd31a15c05e245",
     "locked": true,
     "schema_version": 3,
     "solution": false,
     "task": false
    }
   },
   "source": [
    "Мы из теории вероятностей знаем, что для случайной величины $X$, имеющей распределение Пуассона $\\mathbb{E}(X) = Var(X) = \\lambda$. Для текущей выборки мы видим, что между дисперсией и средним есть небольшое отличие.  \n",
    "\n",
    "Не факт, что мы имеем право предполагать, что наша выборка пришла к нам из распределения Пуассона. Все предпосылки о распределениях выборки нужно тестировать. Позже мы научимся это делать."
   ]
  },
  {
   "cell_type": "code",
   "execution_count": null,
   "metadata": {
    "id": "HX3Aty0WdaJp"
   },
   "outputs": [],
   "source": [
    "df['count'].mean(), df['count'].var()"
   ]
  },
  {
   "cell_type": "markdown",
   "metadata": {
    "id": "nQzZEta5dclK"
   },
   "source": [
    "# Контрольная работа"
   ]
  },
  {
   "cell_type": "markdown",
   "metadata": {
    "deletable": false,
    "editable": false,
    "id": "wpMCOP-ldclM",
    "nbgrader": {
     "cell_type": "markdown",
     "checksum": "43f7f429f44d154d6c72b7b236254c08",
     "grade": false,
     "grade_id": "cell-be89eebcb2f6ec8c",
     "locked": true,
     "schema_version": 3,
     "solution": false,
     "task": false
    }
   },
   "source": [
    "В файле `cr.csv` лежат результаты контрольной работы, которая проводилась в Вышке на факультете \"Э\".  По мнению студентов эти оценки смещённые, несостоятельные и ужасно неэффективные. Но это уже совершенно другая история. Подгрузим файлик и посмотрим на него!  "
   ]
  },
  {
   "cell_type": "code",
   "execution_count": null,
   "metadata": {
    "id": "ERjx0vHZdclM"
   },
   "outputs": [],
   "source": [
    "df = pd.read_csv('../data/cr.csv')\n",
    "print(df.shape)\n",
    "df.head()"
   ]
  },
  {
   "cell_type": "markdown",
   "metadata": {
    "id": "Cq9xa-JDoIJM"
   },
   "source": [
    "__Описание колонок:__\n",
    "\n",
    "* `fraud` - в списывании скольки задач был уличён студент \n",
    "* `k1` - результат за первую контрольную, `k1a - k1f` в разбивке по задачам\n",
    "* `k2` - результат за вторую контрольную, `k2a - k2f` в разбивке по задачам\n",
    "* `k3` - результат за третью контрольную, `k3a - k3с` в разбивке по задачам"
   ]
  },
  {
   "cell_type": "markdown",
   "metadata": {
    "deletable": false,
    "editable": false,
    "id": "Cds4ZqqYdclO",
    "nbgrader": {
     "cell_type": "markdown",
     "checksum": "a609f2701de2c58fb402623ada75f2d6",
     "grade": false,
     "grade_id": "cell-12cb86d2c52c88ee",
     "locked": true,
     "schema_version": 3,
     "solution": false,
     "task": false
    }
   },
   "source": [
    "## Распределение результатов контрольной\n",
    "\n",
    "- Запишите все оценки за первую контрольную в переменную `x`, все пропуски удалите\n",
    "- Найдите среднее и стандартное отклонение (используйте несмещённую оценку) \n",
    "- Постройте гистограмму результатов за первую контрольную \n",
    "- На этой же картинке постройте плотность нормального распределения со средним и стандартным отклонением, посчитанными выше\n",
    "\n",
    "Похоже ли эмпирическое распределение на нормальное? "
   ]
  },
  {
   "cell_type": "code",
   "execution_count": null,
   "metadata": {
    "deletable": false,
    "id": "4BW50Ca7dclO",
    "nbgrader": {
     "cell_type": "code",
     "checksum": "04205b8269710e3852ef0ef2ec0c8bd5",
     "grade": false,
     "grade_id": "cell-4caa86c30a9f3dab",
     "locked": false,
     "schema_version": 3,
     "solution": true,
     "task": false
    }
   },
   "outputs": [],
   "source": [
    "x = ...\n",
    "x_mean = ...\n",
    "x_std = ...\n"
   ]
  },
  {
   "cell_type": "code",
   "execution_count": null,
   "metadata": {
    "id": "PwYC8VUchS-q"
   },
   "outputs": [],
   "source": [
    "# sns.histplot(...)"
   ]
  },
  {
   "cell_type": "markdown",
   "metadata": {
    "deletable": false,
    "editable": false,
    "id": "a0ORKAradclS",
    "nbgrader": {
     "cell_type": "markdown",
     "checksum": "73238ad01c1a0a12f9a77d0bfa6b3e06",
     "grade": false,
     "grade_id": "cell-8ebc6cda31688260",
     "locked": true,
     "schema_version": 3,
     "solution": false,
     "task": false
    }
   },
   "source": [
    "Предположим невероятное! А именно, независимость и одинаковую распределённость наших наблюдений (никто не списывал контрольную друг у друга)."
   ]
  },
  {
   "cell_type": "markdown",
   "metadata": {
    "deletable": false,
    "editable": false,
    "id": "pY0JtxPjdclS",
    "nbgrader": {
     "cell_type": "markdown",
     "checksum": "8f76e098fcb040b85147b0f3426470d5",
     "grade": false,
     "grade_id": "cell-fb3d48dd25fb1f07",
     "locked": true,
     "schema_version": 3,
     "solution": false,
     "task": false
    }
   },
   "source": [
    "## Д.И. для среднего\n",
    "\n",
    "Постройте точный $95\\%$-й доверительный интервал для ожидамоего результата за первую контрольную. В качестве оценки стандартного отклонения используйте несмещённый вариант, `ddof=1`. В переменные `left` и `right` запишите границы получившегося интервала. В переменную `delta` его ширину. "
   ]
  },
  {
   "cell_type": "code",
   "execution_count": null,
   "metadata": {
    "deletable": false,
    "id": "KVI99PI0dclS",
    "nbgrader": {
     "cell_type": "code",
     "checksum": "70eb28b4aaeb46af2f9696cd4f691f2f",
     "grade": false,
     "grade_id": "cell-9e40f504dc8a1f04",
     "locked": false,
     "schema_version": 3,
     "solution": true,
     "task": false
    }
   },
   "outputs": [],
   "source": [
    "alpha = ...\n",
    "\n",
    "margin = ...    # отступ от среднего\n",
    "left =  ...     # левая граница интервала\n",
    "right = ...     # правая граница интервала\n",
    "delta = ...     # ширина интервала\n",
    "\n",
    "print(left, right)"
   ]
  },
  {
   "cell_type": "markdown",
   "metadata": {
    "deletable": false,
    "editable": false,
    "id": "mYYL8CI6dclT",
    "nbgrader": {
     "cell_type": "markdown",
     "checksum": "c0e10ef4b641d40f0c88c89c8e1261fc",
     "grade": false,
     "grade_id": "cell-c8cb65b81fd4f4fe",
     "locked": true,
     "schema_version": 3,
     "solution": false,
     "task": false
    }
   },
   "source": [
    "## Хорошие и плохие студенты\n",
    "\n",
    "Переменная`fraud` - в списывании скольки задач был уличён студент. Разобьём наши наблюдения на две группы: Хорошие и Плохие. У Хороший `fraud == 0`, у Плохих `fraud > 0`. \n",
    "\n",
    "Запишите оценки за первую контрольную для хороших в переменную `good`, для плохих в `bad`. Все пропуски из выборки удалите. Постройте на общем фоне гистограмму распределения оценок за первую контрольную у хороших и плохих. \n",
    "\n",
    "__Интервал для разницы средних__ \n",
    "\n",
    "Постройте примерный $95\\%$-й доверительный интервал для разницы ожидаемого результата за первую контрольную у хороших и плохих студентнов без предположения о равенстве дисперсий (интервал Уэлча). Для оценки всех дисперсий используйте несмещённый вариант. Заполните все переменные, перечисленные ниже. "
   ]
  },
  {
   "cell_type": "markdown",
   "metadata": {
    "deletable": false,
    "editable": false,
    "id": "bnZ-u5VddclU",
    "nbgrader": {
     "cell_type": "markdown",
     "checksum": "6e25be1a6ef849cbf62ea4a3996214bc",
     "grade": false,
     "grade_id": "cell-66a3e9ada3ad850a",
     "locked": true,
     "schema_version": 3,
     "solution": false,
     "task": false
    }
   },
   "source": [
    "Входит ли в получившийся доверительный интервал ноль? Как думаете, что это означает? \n",
    "\n",
    "> *Ответ напишите сюда*"
   ]
  },
  {
   "cell_type": "code",
   "execution_count": null,
   "metadata": {
    "deletable": false,
    "id": "Zcvz9jO2dclT",
    "nbgrader": {
     "cell_type": "code",
     "checksum": "6c0b23dd967a4f205f44779962b2a42b",
     "grade": false,
     "grade_id": "cell-c0be9e8dcdcc6943",
     "locked": false,
     "schema_version": 3,
     "solution": true,
     "task": false
    }
   },
   "outputs": [],
   "source": [
    "good = ...\n",
    "bad = ...\n",
    "\n",
    "nu =  ...       # число степеней свободы в распределении Стьюдента\n",
    "margin = ...    # отступ от среднего\n",
    "left =  ...     # левая граница интервала\n",
    "right = ...     # правая граница интервала\n",
    "delta = ...     # ширина интервала\n",
    "\n",
    "print(left, right)"
   ]
  },
  {
   "cell_type": "markdown",
   "metadata": {
    "deletable": false,
    "editable": false,
    "id": "VwOZr2scdclV",
    "nbgrader": {
     "cell_type": "markdown",
     "checksum": "063bd8b6e45cccc3e8cae735b5ff739a",
     "grade": false,
     "grade_id": "cell-0d191b73acb7ee38",
     "locked": true,
     "schema_version": 3,
     "solution": false,
     "task": false
    }
   },
   "source": [
    "## Д.И. для дисперсии\n",
    "\n",
    "Предположим, что математическое ожидание результата за контрольную зависит от уровня подготовки, а дисперсия результата — от нервов. Постройте для отношения нервозности плохих и хороших студентов $95\\%$ доверительный интервал. Для оценки всех дисперсий используйте несмещённый вариант. "
   ]
  },
  {
   "cell_type": "markdown",
   "metadata": {
    "deletable": false,
    "editable": false,
    "id": "fz0o0nk-dclV",
    "nbgrader": {
     "cell_type": "markdown",
     "checksum": "35287e8c0aaa3c65baeb855d439e24f1",
     "grade": false,
     "grade_id": "cell-c10fcf23f98971bb",
     "locked": true,
     "schema_version": 3,
     "solution": false,
     "task": false
    }
   },
   "source": [
    "Вошла ли в доверительный интервал единица? Как думаете, что это означает? \n",
    "\n",
    "> *Ответ напишите сюда*"
   ]
  },
  {
   "cell_type": "code",
   "execution_count": null,
   "metadata": {
    "deletable": false,
    "id": "XP-TabNzdclV",
    "nbgrader": {
     "cell_type": "code",
     "checksum": "8ea1121c2ed8a94df21d96016401ccb1",
     "grade": false,
     "grade_id": "cell-8dae4d42e098b2a2",
     "locked": false,
     "schema_version": 3,
     "solution": true,
     "task": false
    }
   },
   "outputs": [],
   "source": [
    "alpha = 0.05\n",
    "left =  ...     # левая граница интервала\n",
    "right = ...     # правая граница интервала\n",
    "delta = ...     # ширина интервала\n",
    "\n",
    "print(left, right)"
   ]
  },
  {
   "cell_type": "markdown",
   "metadata": {
    "deletable": false,
    "editable": false,
    "id": "vLKNClN6dclW",
    "nbgrader": {
     "cell_type": "markdown",
     "checksum": "e6ab5253dba5643bd1bf843ac2058c6e",
     "grade": false,
     "grade_id": "cell-883157a3a5a40be9",
     "locked": true,
     "schema_version": 3,
     "solution": false,
     "task": false
    }
   },
   "source": [
    "## Доля написавших третью контрольную\n",
    "\n",
    "У студентов был выбор: писать или не писать третью контрольную. Если в колонке `k3` стоит $0$, значит студент не стал это делать. Постройте асимптотический $95\\%$-й доверительный интервал для разницы долей хороших и плохих студентов, которые решили писать третью контрольную. \n",
    "\n",
    "__Примечание:__ На практике, если мы пользуемся асимптотическими доверительными интервалами, мы можем искать границы двумя способами:\n",
    "\n",
    "* __Первый__ состоит в том, что мы оцениваем стандартное отклонение с помощью $\\sqrt{\\hat{p} \\cdot (1 - \\hat{p})} = \\sqrt{\\bar{x} \\cdot (1 - \\bar{x})}$. \n",
    "* __Второй способ__ состоит в том, чтобы оценить стандартное отклонение как  $\\sqrt{\\frac{1}{n-1} \\cdot \\sum_{i=1}^n (x_i - \\bar{x})^2}$. \n",
    "\n",
    "В плане асимптотики это не влияет на выводы, так как обе этих оценки состоятельно оценивают дисперсию. Можно пользоваться любым. "
   ]
  },
  {
   "cell_type": "markdown",
   "metadata": {
    "deletable": false,
    "editable": false,
    "id": "8tOOIK3tdclX",
    "nbgrader": {
     "cell_type": "markdown",
     "checksum": "305582da29ec7a31d2f90c0f06fb9651",
     "grade": false,
     "grade_id": "cell-e474bad5c9133fa8",
     "locked": true,
     "schema_version": 3,
     "solution": false,
     "task": false
    }
   },
   "source": [
    "Входит ли в доверительный интервал ноль? Как думаете, что это означает? \n",
    "\n",
    "> *Ответ напишите сюда*"
   ]
  },
  {
   "cell_type": "code",
   "execution_count": null,
   "metadata": {
    "deletable": false,
    "id": "v4CCvbt9dclW",
    "nbgrader": {
     "cell_type": "code",
     "checksum": "04a67297c1a4265eb642c8657a9dc8c6",
     "grade": false,
     "grade_id": "cell-27c36da495c9f1b9",
     "locked": false,
     "schema_version": 3,
     "solution": true,
     "task": false
    }
   },
   "outputs": [],
   "source": [
    "alpha = 0.05\n",
    "left =  ...     # левая граница интервала\n",
    "right = ...     # правая граница интервала\n",
    "delta = ...     # ширина интервала\n",
    "\n",
    "print(left, right)"
   ]
  },
  {
   "cell_type": "markdown",
   "metadata": {
    "deletable": false,
    "editable": false,
    "id": "kNg5I112dclX",
    "nbgrader": {
     "cell_type": "markdown",
     "checksum": "85e3ab45a0c0e7a5455403c2f2824bb3",
     "grade": false,
     "grade_id": "cell-0e6bd521a8522d4b",
     "locked": true,
     "schema_version": 3,
     "solution": false,
     "task": false
    }
   },
   "source": [
    "## Снова разница средних\n",
    "\n",
    "Посмотрим на результаты студентов в динамике. Постройте точный $95\\%$ доверительный интервал для средней разницы оценок за вторую и первую контрольные. Пропуски в данных заполните нулями. "
   ]
  },
  {
   "cell_type": "markdown",
   "metadata": {
    "deletable": false,
    "editable": false,
    "id": "2EXdio0ndclX",
    "nbgrader": {
     "cell_type": "markdown",
     "checksum": "9e70820055d9cf699f61b64bdee48755",
     "grade": false,
     "grade_id": "cell-d60ae7faf8d2aa78",
     "locked": true,
     "schema_version": 3,
     "solution": false,
     "task": false
    }
   },
   "source": [
    "Входит ли в доверительный интервал ноль? Как думаете, что это означает? \n",
    "\n",
    "> *Ответ напишите сюда*"
   ]
  },
  {
   "cell_type": "code",
   "execution_count": null,
   "metadata": {
    "deletable": false,
    "id": "hggHL0_MdclX",
    "nbgrader": {
     "cell_type": "code",
     "checksum": "00506bb1365beb2e76ed5c4f0d126019",
     "grade": false,
     "grade_id": "cell-0781fc2725266cb8",
     "locked": false,
     "schema_version": 3,
     "solution": true,
     "task": false
    }
   },
   "outputs": [],
   "source": [
    "alpha = 0.05\n",
    "left =  ...     # левая граница интервала\n",
    "right = ...     # правая граница интервала\n",
    "delta = ...     # ширина интервала\n",
    "\n",
    "print(left, right)"
   ]
  },
  {
   "cell_type": "markdown",
   "metadata": {
    "deletable": false,
    "editable": false,
    "id": "P3RM65EhdclX",
    "nbgrader": {
     "cell_type": "markdown",
     "checksum": "077635f824d87fa65f1974a77ad1e58f",
     "grade": false,
     "grade_id": "cell-701c121e9d85cfbe",
     "locked": true,
     "schema_version": 3,
     "solution": false,
     "task": false
    }
   },
   "source": [
    "Это домашка подошла к концу!\n",
    "\n",
    "Поздравляю! \n",
    "\n",
    "Теперь  \n",
    "- вы умеете находить оценки параметров распределения методом моментом и методом максимального правдоподобия\n",
    "- вы умеете проверять свойства этих оценок и строить для них доверительные интервалы\n",
    "- вы узнали о линейной регрессии и потренировались работать с оператором суммирования\n",
    "- вы умеете строить асимптотические доверительные интервалы для любых выборок и точные доверительные интервалы для нормальных выборок"
   ]
  }
 ],
 "metadata": {
  "colab": {
   "collapsed_sections": [],
   "name": "hw2.ipynb",
   "provenance": [],
   "toc_visible": true
  },
  "kernelspec": {
   "display_name": "Python 3",
   "language": "python",
   "name": "python3"
  },
  "language_info": {
   "codemirror_mode": {
    "name": "ipython",
    "version": 3
   },
   "file_extension": ".py",
   "mimetype": "text/x-python",
   "name": "python",
   "nbconvert_exporter": "python",
   "pygments_lexer": "ipython3",
   "version": "3.8.8"
  },
  "toc": {
   "base_numbering": 1,
   "nav_menu": {},
   "number_sections": false,
   "sideBar": true,
   "skip_h1_title": false,
   "title_cell": "Table of Contents",
   "title_sidebar": "Contents",
   "toc_cell": true,
   "toc_position": {
    "height": "calc(100% - 180px)",
    "left": "10px",
    "top": "150px",
    "width": "261.805px"
   },
   "toc_section_display": true,
   "toc_window_display": true
  }
 },
 "nbformat": 4,
 "nbformat_minor": 1
}
