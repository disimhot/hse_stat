{
 "cells": [
  {
   "cell_type": "markdown",
   "metadata": {
    "toc": true
   },
   "source": [
    "<h1>Table of Contents<span class=\"tocSkip\"></span></h1>\n",
    "<div class=\"toc\"><ul class=\"toc-item\"><li><span><a href=\"#Часть-1---Параметрические-гипотезы\" data-toc-modified-id=\"Часть-1---Параметрические-гипотезы-1\">Часть 1 - Параметрические гипотезы</a></span><ul class=\"toc-item\"><li><span><a href=\"#Мудрость\" data-toc-modified-id=\"Мудрость-1.1\">Мудрость</a></span></li><li><span><a href=\"#Тайлер\" data-toc-modified-id=\"Тайлер-1.2\">Тайлер</a></span></li><li><span><a href=\"#Рейтинги-президентов\" data-toc-modified-id=\"Рейтинги-президентов-1.3\">Рейтинги президентов</a></span></li><li><span><a href=\"#Сон\" data-toc-modified-id=\"Сон-1.4\">Сон</a></span></li><li><span><a href=\"#Say-my-name\" data-toc-modified-id=\"Say-my-name-1.5\">Say my name</a></span></li><li><span><a href=\"#Матан\" data-toc-modified-id=\"Матан-1.6\">Матан</a></span></li><li><span><a href=\"#Бутерброд\" data-toc-modified-id=\"Бутерброд-1.7\">Бутерброд</a></span></li></ul></li><li><span><a href=\"#Часть-2---Непараметрические-гипотезы\" data-toc-modified-id=\"Часть-2---Непараметрические-гипотезы-2\">Часть 2 - Непараметрические гипотезы</a></span><ul class=\"toc-item\"><li><span><a href=\"#Однородная-игра\" data-toc-modified-id=\"Однородная-игра-2.1\">Однородная игра</a></span></li><li><span><a href=\"#Мыши-и-зеркало\" data-toc-modified-id=\"Мыши-и-зеркало-2.2\">Мыши и зеркало</a></span></li><li><span><a href=\"#Энергетик\" data-toc-modified-id=\"Энергетик-2.3\">Энергетик</a></span></li><li><span><a href=\"#Бомбардировки\" data-toc-modified-id=\"Бомбардировки-2.4\">Бомбардировки</a></span></li></ul></li><li><span><a href=\"#Часть-3---Самостоятельный-анализ\" data-toc-modified-id=\"Часть-3---Самостоятельный-анализ-3\">Часть 3 - Самостоятельный анализ</a></span><ul class=\"toc-item\"><li><span><a href=\"#Анорексия\" data-toc-modified-id=\"Анорексия-3.1\">Анорексия</a></span></li><li><span><a href=\"#Метилфенидат\" data-toc-modified-id=\"Метилфенидат-3.2\">Метилфенидат</a></span></li><li><span><a href=\"#Сиэтл\" data-toc-modified-id=\"Сиэтл-3.3\">Сиэтл</a></span></li><li><span><a href=\"#Расход-топлива\" data-toc-modified-id=\"Расход-топлива-3.4\">Расход топлива</a></span><ul class=\"toc-item\"><li><ul class=\"toc-item\"><li><span><a href=\"#vs,-mpg\" data-toc-modified-id=\"vs,-mpg-3.4.0.1\">vs, mpg</a></span></li><li><span><a href=\"#am,-mpg\" data-toc-modified-id=\"am,-mpg-3.4.0.2\">am, mpg</a></span></li><li><span><a href=\"#vs,-am\" data-toc-modified-id=\"vs,-am-3.4.0.3\">vs, am</a></span></li></ul></li></ul></li></ul></li></ul></div>"
   ]
  },
  {
   "cell_type": "markdown",
   "metadata": {
    "id": "oelts-ZPPCpd"
   },
   "source": [
    "В этом домашнем задании предстоит проверить много гипотез.\n",
    "\n",
    "Каждая гипотеза дает от 5 до 10 баллов и все они поделены на 3 части. Ориентир по заданиям ниже.\n",
    "\n",
    "\n",
    "Все датасеты лежат [тут](https://drive.google.com/open?id=1-psTZYeGvnr7UKt77X3D271N5BzNRxzZ). Можно скачать эту папку, положить в соседнюю с рабочими ноутбуками и указать соответствующий путь `'../data/something.csv'`\n",
    "\n",
    "В классрум нужно сдать заполненный ipynb ноутбук с кодом и комментариями. Просьба назвать файлы в формате: `Иванова.ipynb`. Архивировать файл и присылать датасеты НЕ нужно.\n",
    "\n",
    "\n",
    "**Часть 1 - Параметрические гипотезы**\n",
    "\n",
    "| Задание              | Баллы |\n",
    "|----------------------|-------|\n",
    "| Мудрость             |     5 |\n",
    "| Тайлер               |     5 |\n",
    "| Рейтинги президентов |     5 |\n",
    "| Сон                  |     5 |\n",
    "| Say my name          |     5 |\n",
    "| Матан                |     5 |\n",
    "| Бутерброд            |     5 |\n",
    "| Всего                |    35 |\n",
    "\n",
    "\n",
    "**Часть 2 - Непараметрические гипотезы**\n",
    "\n",
    "| Задание            | Датасет         | Баллы |\n",
    "|--------------------|-----------------|-------|\n",
    "| Однородная игра    | killer_time     |     5 |\n",
    "| Мыши и зеркало     | mouses_mirror   |     5 |\n",
    "| Энергетик          | energy drink    |     5 |\n",
    "| Бомбардировки      | london          |     10 |\n",
    "| | Всего                |    25 |\n",
    "\n",
    "**Часть 3 - Самостоятельный анализ**\n",
    "\n",
    "| Задание            | Датасет         | Баллы |\n",
    "|--------------------|-----------------|-------|\n",
    "| Анорексия          | anorexia        |     10 |\n",
    "| Метилфенидат       | methylphenidate |     5 |\n",
    "| Сиэтл              | seattle         |     5 |\n",
    "| Расход топлива - 1 | mtcars: vs mpg  |     5 |\n",
    "| Расход топлива - 2 | mtcars: am mpg  |     5 |\n",
    "| Расход топлива - 3 | mtcars: am vs   |     10 |\n",
    "|                    | Всего           |    40 |\n"
   ]
  },
  {
   "cell_type": "markdown",
   "metadata": {
    "id": "lQH8gmSWGbDC"
   },
   "source": [
    "# Часть 1 - Параметрические гипотезы\n"
   ]
  },
  {
   "cell_type": "code",
   "execution_count": 1,
   "metadata": {
    "id": "v8VHlKCHGbDH"
   },
   "outputs": [],
   "source": [
    "import numpy as np\n",
    "import pandas as pd\n",
    "\n",
    "from scipy import stats as sts\n",
    "from scipy import stats\n",
    "import statsmodels as sts\n",
    "\n",
    "import seaborn as sns\n",
    "import matplotlib.pyplot as plt\n",
    "from statsmodels.stats.weightstats import ttest_ind\n",
    "from statsmodels.stats.descriptivestats import sign_test\n",
    "from scipy.stats import chisquare\n",
    "from scipy.stats import poisson\n",
    "from statsmodels.stats.weightstats import ztest\n",
    " \n",
    "plt.style.use('ggplot')"
   ]
  },
  {
   "cell_type": "markdown",
   "metadata": {
    "id": "N61MUFtnGbDI"
   },
   "source": [
    "## Мудрость\n",
    "\n",
    "> Помните, что для человека звук его имени является самым сладким и самым важным звуком человеческой речи. (Дейл Карнеги)\n",
    "\n",
    "Доверяй, но проверяй. Решим задачку по психологии! Все цитаты в пабликах вконтакте делятся на два вида: мудрые и недостаточно мудрые. Если цитата мудрая, то её можно лайкнуть. Поговаривают, что если в цитате есть личные местоимения, то пользователь автоматически сопоставляет себя автору этой цитаты и вероятность того, что она будет лайкнута, повышается. Например, цитату \n",
    "\n",
    "> Можно простить человеку все, кроме отсутствия. (Экзюпери) \n",
    "\n",
    "мне не очень хотелось бы лайкать. А вот цитата \n",
    "\n",
    "> Мне наплевать, что вы обо мне думаете. Я о вас вообще не думаю. (Булгаков) \n",
    "\n",
    "совершенно другое дело. \n",
    "\n",
    "В табличке `df_vk_wise` лежат данные о мудрых цитатах из [мудрого паблика.](https://vk.com/ooioioioioioo) В колонке `I` находится переменная, которая принимает значение `True`, когда в тексте цитаты было личное местоимение \"Я\".\n",
    "\n",
    "Срежем первые $50$ постов, так как под ними количество репостов и лайков ещё окончательно не выставлено, и будем работать с остатками. "
   ]
  },
  {
   "cell_type": "code",
   "execution_count": 7,
   "metadata": {
    "id": "war-ReUpGbDK"
   },
   "outputs": [
    {
     "data": {
      "text/html": [
       "<div>\n",
       "<style scoped>\n",
       "    .dataframe tbody tr th:only-of-type {\n",
       "        vertical-align: middle;\n",
       "    }\n",
       "\n",
       "    .dataframe tbody tr th {\n",
       "        vertical-align: top;\n",
       "    }\n",
       "\n",
       "    .dataframe thead th {\n",
       "        text-align: right;\n",
       "    }\n",
       "</style>\n",
       "<table border=\"1\" class=\"dataframe\">\n",
       "  <thead>\n",
       "    <tr style=\"text-align: right;\">\n",
       "      <th></th>\n",
       "      <th>likes</th>\n",
       "      <th>reposts</th>\n",
       "      <th>text</th>\n",
       "      <th>I</th>\n",
       "    </tr>\n",
       "  </thead>\n",
       "  <tbody>\n",
       "    <tr>\n",
       "      <th>50</th>\n",
       "      <td>549</td>\n",
       "      <td>25</td>\n",
       "      <td>Я, говорит, люблю человечество, но дивлюсь на ...</td>\n",
       "      <td>True</td>\n",
       "    </tr>\n",
       "    <tr>\n",
       "      <th>51</th>\n",
       "      <td>607</td>\n",
       "      <td>22</td>\n",
       "      <td>Нельзя любить то, что я люблю, да ещё так, как...</td>\n",
       "      <td>True</td>\n",
       "    </tr>\n",
       "    <tr>\n",
       "      <th>52</th>\n",
       "      <td>914</td>\n",
       "      <td>37</td>\n",
       "      <td>Если испытываешь по-настоящему глубокое чувств...</td>\n",
       "      <td>False</td>\n",
       "    </tr>\n",
       "    <tr>\n",
       "      <th>53</th>\n",
       "      <td>989</td>\n",
       "      <td>34</td>\n",
       "      <td>— Я тебя люблю, — сказал я. \\n— Это пройдет, —...</td>\n",
       "      <td>True</td>\n",
       "    </tr>\n",
       "    <tr>\n",
       "      <th>54</th>\n",
       "      <td>1229</td>\n",
       "      <td>32</td>\n",
       "      <td>Он очаровательно рассказывает мне о том, как о...</td>\n",
       "      <td>False</td>\n",
       "    </tr>\n",
       "  </tbody>\n",
       "</table>\n",
       "</div>"
      ],
      "text/plain": [
       "    likes  reposts                                               text      I\n",
       "50    549       25  Я, говорит, люблю человечество, но дивлюсь на ...   True\n",
       "51    607       22  Нельзя любить то, что я люблю, да ещё так, как...   True\n",
       "52    914       37  Если испытываешь по-настоящему глубокое чувств...  False\n",
       "53    989       34  — Я тебя люблю, — сказал я. \\n— Это пройдет, —...   True\n",
       "54   1229       32  Он очаровательно рассказывает мне о том, как о...  False"
      ]
     },
     "execution_count": 7,
     "metadata": {},
     "output_type": "execute_result"
    }
   ],
   "source": [
    "df = pd.read_csv('./data/df_vk_wise.csv')[50:]\n",
    "df.head()"
   ]
  },
  {
   "cell_type": "markdown",
   "metadata": {
    "id": "wXuqQ9ZSGbDK"
   },
   "source": [
    "Постройте гистограмму для числа лайков постов, содержащих личные местоимения и не содержащих. Как думаете, есть ли с распределением лайков какие-то проблемы?"
   ]
  },
  {
   "cell_type": "code",
   "execution_count": 8,
   "metadata": {
    "deletable": false,
    "id": "ZDA_1HIWGbDK",
    "nbgrader": {
     "cell_type": "code",
     "checksum": "3959fa2c8afbb37a435b22f39831c1b4",
     "grade": false,
     "grade_id": "cell-5b1acf05ccd983b3",
     "locked": false,
     "schema_version": 3,
     "solution": true,
     "task": false
    }
   },
   "outputs": [
    {
     "data": {
      "text/plain": [
       "<AxesSubplot:xlabel='likes', ylabel='Density'>"
      ]
     },
     "execution_count": 8,
     "metadata": {},
     "output_type": "execute_result"
    },
    {
     "data": {
      "image/png": "[encoded data removed]",
      "text/plain": [
       "<Figure size 432x288 with 1 Axes>"
      ]
     },
     "metadata": {},
     "output_type": "display_data"
    }
   ],
   "source": [
    "has_pronouns = df[df.I == True]['likes']\n",
    "\n",
    "sns.histplot(has_pronouns, bins=10, stat='density', kde=True)"
   ]
  },
  {
   "cell_type": "code",
   "execution_count": 9,
   "metadata": {},
   "outputs": [
    {
     "data": {
      "text/plain": [
       "<AxesSubplot:xlabel='likes', ylabel='Density'>"
      ]
     },
     "execution_count": 9,
     "metadata": {},
     "output_type": "execute_result"
    },
    {
     "data": {
      "image/png": "[encoded data removed]",
      "text/plain": [
       "<Figure size 432x288 with 1 Axes>"
      ]
     },
     "metadata": {},
     "output_type": "display_data"
    }
   ],
   "source": [
    "has_not_pronouns = df[df.I == False]['likes']\n",
    "\n",
    "\n",
    "sns.histplot(has_not_pronouns, bins=10, stat='density', kde=True)"
   ]
  },
  {
   "cell_type": "markdown",
   "metadata": {
    "id": "n4N8AsezGbDL"
   },
   "source": [
    "Да, проблемы есть. Это выбросы. Хвосты на гистограммах оказываются очень длинными. Найдите медианы и средние для числа лайков. Сравните их между собой. "
   ]
  },
  {
   "cell_type": "code",
   "execution_count": 10,
   "metadata": {
    "deletable": false,
    "id": "fa-zOO27GbDM",
    "nbgrader": {
     "cell_type": "code",
     "checksum": "920d011f18252d1f5ad8a0acbd77af8b",
     "grade": false,
     "grade_id": "cell-84afb85a40373b11",
     "locked": false,
     "schema_version": 3,
     "solution": true,
     "task": false
    }
   },
   "outputs": [
    {
     "name": "stdout",
     "output_type": "stream",
     "text": [
      "среднее 2879.1828885400314 и медиана 2588.5 для постов, содержащих местоимения\n",
      "среднее 2784.0432051478474 и медиана 2497.0 для постов, НЕ содержащих местоимения\n"
     ]
    }
   ],
   "source": [
    "mu_with_pr = has_pronouns.mean()\n",
    "mu_without_pr = has_not_pronouns.mean()\n",
    "\n",
    "has_pronouns_median = has_pronouns.median()\n",
    "has_not_pronouns_median = has_not_pronouns.median()\n",
    "\n",
    "print(f'среднее {mu_with_pr} и медиана {has_pronouns_median} для постов, содержащих местоимения')\n",
    "print(f'среднее {mu_without_pr} и медиана {has_not_pronouns_median} для постов, НЕ содержащих местоимения')\n"
   ]
  },
  {
   "cell_type": "code",
   "execution_count": 11,
   "metadata": {},
   "outputs": [
    {
     "name": "stdout",
     "output_type": "stream",
     "text": [
      "среднее 2810.7557024793387 и медиана 2524.0 для всех постов\n"
     ]
    }
   ],
   "source": [
    "likes_mean = df['likes'].mean()\n",
    "likes_median = df['likes'].median()\n",
    "print(f'среднее {likes_mean} и медиана {likes_median} для всех постов')\n"
   ]
  },
  {
   "cell_type": "markdown",
   "metadata": {
    "id": "r5GY3AfUGbDN"
   },
   "source": [
    "Проверьте гипотезу о равенстве среднего числа лайков. Используйте для этого $z$-тест, основанный на ЦПТ. Дисперсию расчитывайте по выборке, используя несмещённую оценку `(ddof=1)`. Запишите наблюдаемое значение статистики в переменную `z_obs`. "
   ]
  },
  {
   "cell_type": "code",
   "execution_count": 12,
   "metadata": {
    "deletable": false,
    "id": "5H0qKAPQGbDN",
    "nbgrader": {
     "cell_type": "code",
     "checksum": "7f93ee1688388c6a8b8449e05da2fe98",
     "grade": false,
     "grade_id": "cell-1acfb89f07181a0a",
     "locked": false,
     "schema_version": 3,
     "solution": true,
     "task": false
    }
   },
   "outputs": [
    {
     "name": "stdout",
     "output_type": "stream",
     "text": [
      "Наблюдаемое значение 2.66446\n"
     ]
    }
   ],
   "source": [
    "### ╰( ͡° ͜ʖ ͡° )つ▬▬ι═══════  bzzzzzzzzzz\n",
    "# your code below\n",
    "\n",
    "# H_0: mu_with_pr= mu_without_pr те, кто пишут и не пишут местоимения, ставят в среднем одинаковое кол-во лайков\n",
    "# H_1: mu_with_pr != mu_without_pr\n",
    "\n",
    "alpha = 0.05                                                  \n",
    "n_with_pr, n_without_pr = has_pronouns.size, has_not_pronouns.size\n",
    "\n",
    "diff = mu_with_pr - mu_without_pr # разность средних\n",
    "diff_std = np.sqrt(has_pronouns.var(ddof=1)/n_with_pr + has_not_pronouns.var(ddof=1)/n_without_pr)   # стандартное отклонение\n",
    "\n",
    "z_obs = diff/diff_std # наблюдаемое значение статистики \n",
    "\n",
    "print(f'Наблюдаемое значение {z_obs:.6}')"
   ]
  },
  {
   "cell_type": "markdown",
   "metadata": {
    "id": "vbg7UO3bGbDO"
   },
   "source": [
    "Найдите критическое значение статистики. Сравните его с наблюдаемым. Рассчитайте p-value для ситуации с двусторонней альтернативой. Сделайте вывод о выдвинутой гипотезе. Критическое значение статистики запишите в переменную `z_crit`, а p-значение в переменную `pval`. "
   ]
  },
  {
   "cell_type": "code",
   "execution_count": 14,
   "metadata": {
    "deletable": false,
    "id": "05R0EttDGbDO",
    "nbgrader": {
     "cell_type": "code",
     "checksum": "46bd437560b80a2b837cc3e7d7415f62",
     "grade": false,
     "grade_id": "cell-9ebff976022e649a",
     "locked": false,
     "schema_version": 3,
     "solution": true,
     "task": false
    }
   },
   "outputs": [
    {
     "name": "stdout",
     "output_type": "stream",
     "text": [
      "2.66 не попадает в (-1.64 , 1.64) => Нулевая гипотеза отвергается\n",
      "pval < alpha => Нулевая гипотеза отвергается 0.007711178605442903\n"
     ]
    }
   ],
   "source": [
    "### ╰( ͡° ͜ʖ ͡° )つ▬▬ι═══════  bzzzzzzzzzz\n",
    "# your code below\n",
    "z_crit = stats.norm.ppf(1 - alpha)               # критическое значение статистики\n",
    "\n",
    "pval =  2 * (1 - stats.norm().cdf(np.abs(z_obs)))\n",
    "\n",
    "\n",
    "print(f'{z_obs:.3} не попадает в ({-z_crit:.3} , {z_crit:.3}) => Нулевая гипотеза отвергается')\n",
    "print('pval < alpha => Нулевая гипотеза отвергается', pval)"
   ]
  },
  {
   "cell_type": "code",
   "execution_count": 22,
   "metadata": {
    "id": "8wh9Bxr4Hq2_"
   },
   "outputs": [],
   "source": [
    "# проверка того, что задание решено верно\n",
    "assert np.abs(z_obs - 2.6644610922505323) < 1e-5"
   ]
  },
  {
   "cell_type": "markdown",
   "metadata": {
    "id": "s65r_aiUGbDP"
   },
   "source": [
    "Можно заметить, что у распределения числа репостов длинные хвосты. В данных есть выбросы, которые завышают среднее значение. Если выбросы сильные, то ЦПТ может ломаться. Из-за этого имеет смысл в данном случае проверять гипотезу о равенстве медиан, которые устойчивы к выбросам.\n",
    "\n",
    "-------------------"
   ]
  },
  {
   "cell_type": "markdown",
   "metadata": {
    "id": "9F9v3lAyGbDP"
   },
   "source": [
    "## Тайлер\n",
    "\n",
    "__Люди всё время меня спрашивают, знаю ли я Тайлера Дёрдена?__ Да, знаю. Он делает лучшее мыло в стране. \n",
    "\n",
    "__а)__ Тайлер считает партию изделий хорошей, если дисперсия размера не превышает $25$ грамм$^2$. Пока Тайлер летел в самолёте, он измерил $10$ кусков мыла. Выборочная дисперсия оказалась равна $27$ грамм$^2$. Можно ли продавать эту партию или её надо списать в брак? \n",
    "\n",
    "При проверке этой гипотезы найдите $p$-значение и запишите его в переменную `pval1`. Наблюдаемое значение статистики запишите в переменную `chi_obs`. Используйте уровень значимости $1\\%$."
   ]
  },
  {
   "cell_type": "code",
   "execution_count": 37,
   "metadata": {
    "deletable": false,
    "id": "-ZZE8QVVGbDR",
    "nbgrader": {
     "cell_type": "code",
     "checksum": "9b8826d6e3062cc4de98fdd59e1d6ca9",
     "grade": false,
     "grade_id": "cell-2e30e820f90148d5",
     "locked": false,
     "schema_version": 3,
     "solution": true,
     "task": false
    }
   },
   "outputs": [
    {
     "name": "stdout",
     "output_type": "stream",
     "text": [
      "Наблюдаемое значение 9.72 меньше критического 21.666 => гипотеза H_0 не отвергается\n",
      "pval1 > alpha 0.37362476510008014\n"
     ]
    }
   ],
   "source": [
    "### ╰( ͡° ͜ʖ ͡° )つ▬▬ι═══════  bzzzzzzzzzz\n",
    "# your code below\n",
    "\n",
    "# H_0: var <= 25 партия хорошая и ее можно продавать\n",
    "# H_1: var > 25 партия плохая и списать в брак\n",
    "\n",
    "alpha = 0.01\n",
    "n = 10\n",
    "s_obs = 27\n",
    "\n",
    "chi_obs = (n - 1) * s_obs / 25\n",
    "\n",
    "chi_krit = stats.chi2.ppf(1-alpha, df=(n-1))  # критическое значение\n",
    "pval1 = 1 - stats.chi2.cdf(chi_obs, df=(n-1))\n",
    "\n",
    "print(f'Наблюдаемое значение {chi_obs:.5} меньше критического {chi_krit:.5} => гипотеза H_0 не отвергается')\n",
    "print('pval1 > alpha', pval1)"
   ]
  },
  {
   "cell_type": "markdown",
   "metadata": {
    "id": "4pOvXASjGbDR"
   },
   "source": [
    "__б)__ Для того, чтобы уменьшить количество бракованного мыла, Тайлер собирается внедрить новую технологию производства. Тайлер произвёл по старой технологии $100$ кусков мыла. Стандартное отклонение этой партии составило $6$ грамм. Для  новой технологии стандартное отклонение, посчитанное по $100$ кускам мыла, составило $5$ грамм. Правда ли, что новая технология обладает меньшей дисперсией и её нужно внедрить на производстве?\n",
    "\n",
    "При проверке этой гипотезы найдите $p$-значение и запишите его в переменную `pval2`. Используйте уровень значимости $1\\%$."
   ]
  },
  {
   "cell_type": "code",
   "execution_count": 40,
   "metadata": {
    "deletable": false,
    "id": "YJkHbgR9GbDR",
    "nbgrader": {
     "cell_type": "code",
     "checksum": "72a130a7ef8f3bae0797aa938d6cfe08",
     "grade": false,
     "grade_id": "cell-88a96be4941d7e62",
     "locked": false,
     "schema_version": 3,
     "solution": true,
     "task": false
    }
   },
   "outputs": [
    {
     "name": "stdout",
     "output_type": "stream",
     "text": [
      "Наблюдаемое значение 1.44 меньше критического 1.6854 => гипотеза H_0 не отвергается\n",
      "pval2 0.9644265520379758\n"
     ]
    }
   ],
   "source": [
    "### ╰( ͡° ͜ʖ ͡° )つ▬▬ι═══════  bzzzzzzzzzz\n",
    "# your code below\n",
    "\n",
    "# H_0: var_old > var_new  новая технология обладает меньшей дисперсией\n",
    "# H_1: var_old <= var_new   технологии обладают одинаковой дисперсией или старая техн обладает больше дисп\n",
    "\n",
    "alpha = 0.01\n",
    "n, m = 100, 100\n",
    "\n",
    "std_old = 6\n",
    "std_new = 5\n",
    "\n",
    "F_obs = 6**2/5**2\n",
    "\n",
    "f_rv = stats.f(n - 1, m - 1) \n",
    "F_crit = f_rv.ppf(1 - alpha/2)           # критическое значение\n",
    "                                  \n",
    "pval2 = f_rv.cdf(F_obs) \n",
    "\n",
    "print(f'Наблюдаемое значение {F_obs:.5} меньше критического {F_crit:.5} => гипотеза H_0 не отвергается')\n",
    "print('pval2 > alpha', pval2)"
   ]
  },
  {
   "cell_type": "code",
   "execution_count": 23,
   "metadata": {
    "id": "rlB97qGJHTkb"
   },
   "outputs": [],
   "source": [
    "# проверка того, что задание решено верно\n",
    "assert np.abs(chi_obs - 9.72) < 1e-1\n",
    "assert np.abs(F_obs - 1.44) < 1e-1"
   ]
  },
  {
   "cell_type": "markdown",
   "metadata": {
    "id": "rswUMFMDGbDS"
   },
   "source": [
    "## Рейтинги президентов\n",
    "\n",
    "В таблице `presidents.csv` представлены рейтинги различных президентов США. Социальные опросы проводились раз в квартал. Опрашивалась случайная выборка граждан. У каждого спрашивалось одобряет ли он деятельность президента.\n",
    "\n",
    "__Люди всё время меня спрашивают, знаю ли я Никсона.__ Да, Ричард Никсон был президентом США с 20 января 1969 года по 9 августа 1974 года. 17 июня 1972 года произошёл Уотергейтский скандал. Давайте проанализируем, что при этом произошло с его рейтингом."
   ]
  },
  {
   "cell_type": "code",
   "execution_count": 41,
   "metadata": {
    "id": "NVdYFIsqGbDS"
   },
   "outputs": [
    {
     "data": {
      "text/html": [
       "<div>\n",
       "<style scoped>\n",
       "    .dataframe tbody tr th:only-of-type {\n",
       "        vertical-align: middle;\n",
       "    }\n",
       "\n",
       "    .dataframe tbody tr th {\n",
       "        vertical-align: top;\n",
       "    }\n",
       "\n",
       "    .dataframe thead th {\n",
       "        text-align: right;\n",
       "    }\n",
       "</style>\n",
       "<table border=\"1\" class=\"dataframe\">\n",
       "  <thead>\n",
       "    <tr style=\"text-align: right;\">\n",
       "      <th></th>\n",
       "      <th>year</th>\n",
       "      <th>Qtr1</th>\n",
       "      <th>Qtr2</th>\n",
       "      <th>Qtr3</th>\n",
       "      <th>Qtr4</th>\n",
       "    </tr>\n",
       "  </thead>\n",
       "  <tbody>\n",
       "    <tr>\n",
       "      <th>0</th>\n",
       "      <td>1945</td>\n",
       "      <td>NaN</td>\n",
       "      <td>87</td>\n",
       "      <td>82.0</td>\n",
       "      <td>75.0</td>\n",
       "    </tr>\n",
       "    <tr>\n",
       "      <th>1</th>\n",
       "      <td>1946</td>\n",
       "      <td>63.0</td>\n",
       "      <td>50</td>\n",
       "      <td>43.0</td>\n",
       "      <td>32.0</td>\n",
       "    </tr>\n",
       "    <tr>\n",
       "      <th>2</th>\n",
       "      <td>1947</td>\n",
       "      <td>35.0</td>\n",
       "      <td>60</td>\n",
       "      <td>54.0</td>\n",
       "      <td>55.0</td>\n",
       "    </tr>\n",
       "    <tr>\n",
       "      <th>3</th>\n",
       "      <td>1948</td>\n",
       "      <td>36.0</td>\n",
       "      <td>39</td>\n",
       "      <td>NaN</td>\n",
       "      <td>NaN</td>\n",
       "    </tr>\n",
       "    <tr>\n",
       "      <th>4</th>\n",
       "      <td>1949</td>\n",
       "      <td>69.0</td>\n",
       "      <td>57</td>\n",
       "      <td>57.0</td>\n",
       "      <td>51.0</td>\n",
       "    </tr>\n",
       "  </tbody>\n",
       "</table>\n",
       "</div>"
      ],
      "text/plain": [
       "   year  Qtr1  Qtr2  Qtr3  Qtr4\n",
       "0  1945   NaN    87  82.0  75.0\n",
       "1  1946  63.0    50  43.0  32.0\n",
       "2  1947  35.0    60  54.0  55.0\n",
       "3  1948  36.0    39   NaN   NaN\n",
       "4  1949  69.0    57  57.0  51.0"
      ]
     },
     "execution_count": 41,
     "metadata": {},
     "output_type": "execute_result"
    }
   ],
   "source": [
    "df = pd.read_csv('./data/presidents.csv')\n",
    "df.head()"
   ]
  },
  {
   "cell_type": "markdown",
   "metadata": {
    "id": "_0ArNzXdGbDS"
   },
   "source": [
    "Чтобы привести таблицу к удобному виду используйте функцию `pd.melt`. Вытащите из таблички рейтинг Никсона с 1 квартала 1969 года по 2 квартал 1972 года (включая его). Запишите эти данные в переменную `x`. Рейтинг с 3 квартала 1972 года по 2 квартал 1974 года поместите в переменную `y`. Пропуски в данных удалите из выборки."
   ]
  },
  {
   "cell_type": "code",
   "execution_count": 42,
   "metadata": {
    "deletable": false,
    "id": "sLB4mxRRGbDS",
    "nbgrader": {
     "cell_type": "code",
     "checksum": "22ec9a50950897f91ca39c4631a6200c",
     "grade": false,
     "grade_id": "cell-0c35f4bdddbb0029",
     "locked": false,
     "schema_version": 3,
     "solution": true,
     "task": false
    }
   },
   "outputs": [
    {
     "data": {
      "text/plain": [
       "array([68., 28., 44., 25., 40., 27.])"
      ]
     },
     "execution_count": 42,
     "metadata": {},
     "output_type": "execute_result"
    }
   ],
   "source": [
    "### ╰( ͡° ͜ʖ ͡° )つ▬▬ι═══════  bzzzzzzzzzz\n",
    "# your code below\n",
    "\n",
    "df = pd.melt(df, id_vars=['year'], value_vars=['Qtr1', 'Qtr2', \"Qtr3\", \"Qtr4\"])\n",
    "df['time'] = df['year'] + df['variable'].str[-1].astype(int)/10\n",
    "\n",
    "x = df.query('1969<=time<=1972.2')['value'].dropna().values\n",
    "y = df.query('1972.3<=time<=1974.2')['value'].dropna().values\n",
    "y"
   ]
  },
  {
   "cell_type": "markdown",
   "metadata": {
    "id": "3u4Vm0F0GbDT"
   },
   "source": [
    "Правда ли, что после скандала средний рейтинг Никсона рухнул? Предполагайте, что рейтинг распределён нормально, а также, что дисперсия рейтинга не изменилась из-за скандала. Наблюдаемое значение статистики запишите в переменную `obs`, в переменную `pval` запишите $p$-значение."
   ]
  },
  {
   "cell_type": "code",
   "execution_count": 43,
   "metadata": {},
   "outputs": [
    {
     "data": {
      "text/plain": [
       "(56.357142857142854, 38.666666666666664)"
      ]
     },
     "execution_count": 43,
     "metadata": {},
     "output_type": "execute_result"
    }
   ],
   "source": [
    "x.mean(), y.mean()"
   ]
  },
  {
   "cell_type": "code",
   "execution_count": 50,
   "metadata": {
    "deletable": false,
    "id": "aOtIUd2EGbDT",
    "nbgrader": {
     "cell_type": "code",
     "checksum": "2472ad8779c6b2e9af75ad034a8f98ae",
     "grade": false,
     "grade_id": "cell-468606ed00795265",
     "locked": false,
     "schema_version": 3,
     "solution": true,
     "task": false
    }
   },
   "outputs": [
    {
     "name": "stdout",
     "output_type": "stream",
     "text": [
      "p-value 0.001109 < alpha =>  нулевая гипотеза отвергается\n",
      "Наблюдаемое значение 3.564 меньше критического 1.734 => нулевая гипотеза отвергается\n"
     ]
    }
   ],
   "source": [
    "### ╰( ͡° ͜ʖ ͡° )つ▬▬ι═══════  bzzzzzzzzzz\n",
    "# your code below\n",
    "\n",
    "# H_0: mu_x = mu_y  рейтинг до и после скандала не изменился\n",
    "# H_1: mu_x > mu_y  рейтинг до скандала был выше\n",
    "\n",
    "alpha = 0.05                                                  \n",
    "nx, ny = x.size, y.size\n",
    "\n",
    "diff = x.mean() - y.mean() # разность средних\n",
    "\n",
    "diff_var = ((nx - 1)*x.var(ddof=1) + (ny - 1)*y.var(ddof=1))/(nx + ny - 2) # дисперсия рейтинга не изменилась из-за скандала\n",
    "diff_std = np.sqrt(diff_var/nx + diff_var/ny)                   # стандартное отклонение\n",
    "\n",
    "obs = diff/diff_std                                           # наблюдаемое значение\n",
    "crit = stats.t(df = nx + ny - 2).ppf(1 - alpha)               # критическое значени\n",
    "\n",
    "\n",
    "obs, pval, _ = ttest_ind(x, y, value=0, alternative='larger')\n",
    "\n",
    "print(f'p-value {pval:.4} < alpha =>  нулевая гипотеза отвергается')\n",
    "print(f'Наблюдаемое значение {obs:.4} меньше критического {crit:.4} => нулевая гипотеза отвергается')\n"
   ]
  },
  {
   "cell_type": "code",
   "execution_count": 51,
   "metadata": {
    "id": "HdDiyn1_HorM"
   },
   "outputs": [],
   "source": [
    "# проверка того, что задание решено верно\n",
    "assert np.abs(obs - 3.5640741313229793) < 1e-5\n"
   ]
  },
  {
   "cell_type": "markdown",
   "metadata": {
    "id": "SfmNR7ZDGbDT"
   },
   "source": [
    "Снова президентом Никсон станет в $3000$ году. \n",
    "\n",
    "![](https://vignette.wikia.nocookie.net/futurama/images/2/2f/Richard_M._Nixon%27s_head.jpg/revision/latest/scale-to-width-down/250?cb=20131123190522&path-prefix=ru)"
   ]
  },
  {
   "cell_type": "markdown",
   "metadata": {
    "id": "79MR-7yzGbDT"
   },
   "source": [
    "## Сон\n",
    "\n",
    "Проводится эксперимент о пользе нового снотворного. Для его проведения используется группа из $10$ студентов. В первый день каждый из них ложится спать. На утро измеряется, сколько он проспал. Из результата вычитают $8$ (нормальное число часов сна). На второй день каждому дают таблетку. Утром снова измеряют сколько человек проспал, и вычитают $8$. Результаты эксперимента записаны в табличку `sleep.csv`."
   ]
  },
  {
   "cell_type": "code",
   "execution_count": 52,
   "metadata": {
    "id": "N-GJLf2BGbDT"
   },
   "outputs": [
    {
     "data": {
      "text/html": [
       "<div>\n",
       "<style scoped>\n",
       "    .dataframe tbody tr th:only-of-type {\n",
       "        vertical-align: middle;\n",
       "    }\n",
       "\n",
       "    .dataframe tbody tr th {\n",
       "        vertical-align: top;\n",
       "    }\n",
       "\n",
       "    .dataframe thead th {\n",
       "        text-align: right;\n",
       "    }\n",
       "</style>\n",
       "<table border=\"1\" class=\"dataframe\">\n",
       "  <thead>\n",
       "    <tr style=\"text-align: right;\">\n",
       "      <th></th>\n",
       "      <th>extra</th>\n",
       "      <th>group</th>\n",
       "      <th>ID</th>\n",
       "    </tr>\n",
       "  </thead>\n",
       "  <tbody>\n",
       "    <tr>\n",
       "      <th>0</th>\n",
       "      <td>0.7</td>\n",
       "      <td>1</td>\n",
       "      <td>1</td>\n",
       "    </tr>\n",
       "    <tr>\n",
       "      <th>1</th>\n",
       "      <td>-1.6</td>\n",
       "      <td>1</td>\n",
       "      <td>2</td>\n",
       "    </tr>\n",
       "    <tr>\n",
       "      <th>2</th>\n",
       "      <td>-0.2</td>\n",
       "      <td>1</td>\n",
       "      <td>3</td>\n",
       "    </tr>\n",
       "    <tr>\n",
       "      <th>3</th>\n",
       "      <td>-1.2</td>\n",
       "      <td>1</td>\n",
       "      <td>4</td>\n",
       "    </tr>\n",
       "    <tr>\n",
       "      <th>4</th>\n",
       "      <td>-0.1</td>\n",
       "      <td>1</td>\n",
       "      <td>5</td>\n",
       "    </tr>\n",
       "    <tr>\n",
       "      <th>5</th>\n",
       "      <td>3.4</td>\n",
       "      <td>1</td>\n",
       "      <td>6</td>\n",
       "    </tr>\n",
       "    <tr>\n",
       "      <th>6</th>\n",
       "      <td>3.7</td>\n",
       "      <td>1</td>\n",
       "      <td>7</td>\n",
       "    </tr>\n",
       "    <tr>\n",
       "      <th>7</th>\n",
       "      <td>0.8</td>\n",
       "      <td>1</td>\n",
       "      <td>8</td>\n",
       "    </tr>\n",
       "    <tr>\n",
       "      <th>8</th>\n",
       "      <td>0.0</td>\n",
       "      <td>1</td>\n",
       "      <td>9</td>\n",
       "    </tr>\n",
       "    <tr>\n",
       "      <th>9</th>\n",
       "      <td>2.0</td>\n",
       "      <td>1</td>\n",
       "      <td>10</td>\n",
       "    </tr>\n",
       "    <tr>\n",
       "      <th>10</th>\n",
       "      <td>1.9</td>\n",
       "      <td>2</td>\n",
       "      <td>1</td>\n",
       "    </tr>\n",
       "    <tr>\n",
       "      <th>11</th>\n",
       "      <td>0.8</td>\n",
       "      <td>2</td>\n",
       "      <td>2</td>\n",
       "    </tr>\n",
       "    <tr>\n",
       "      <th>12</th>\n",
       "      <td>1.1</td>\n",
       "      <td>2</td>\n",
       "      <td>3</td>\n",
       "    </tr>\n",
       "    <tr>\n",
       "      <th>13</th>\n",
       "      <td>0.1</td>\n",
       "      <td>2</td>\n",
       "      <td>4</td>\n",
       "    </tr>\n",
       "    <tr>\n",
       "      <th>14</th>\n",
       "      <td>-0.1</td>\n",
       "      <td>2</td>\n",
       "      <td>5</td>\n",
       "    </tr>\n",
       "    <tr>\n",
       "      <th>15</th>\n",
       "      <td>4.4</td>\n",
       "      <td>2</td>\n",
       "      <td>6</td>\n",
       "    </tr>\n",
       "    <tr>\n",
       "      <th>16</th>\n",
       "      <td>5.5</td>\n",
       "      <td>2</td>\n",
       "      <td>7</td>\n",
       "    </tr>\n",
       "    <tr>\n",
       "      <th>17</th>\n",
       "      <td>1.6</td>\n",
       "      <td>2</td>\n",
       "      <td>8</td>\n",
       "    </tr>\n",
       "    <tr>\n",
       "      <th>18</th>\n",
       "      <td>4.6</td>\n",
       "      <td>2</td>\n",
       "      <td>9</td>\n",
       "    </tr>\n",
       "    <tr>\n",
       "      <th>19</th>\n",
       "      <td>3.4</td>\n",
       "      <td>2</td>\n",
       "      <td>10</td>\n",
       "    </tr>\n",
       "  </tbody>\n",
       "</table>\n",
       "</div>"
      ],
      "text/plain": [
       "    extra  group  ID\n",
       "0     0.7      1   1\n",
       "1    -1.6      1   2\n",
       "2    -0.2      1   3\n",
       "3    -1.2      1   4\n",
       "4    -0.1      1   5\n",
       "5     3.4      1   6\n",
       "6     3.7      1   7\n",
       "7     0.8      1   8\n",
       "8     0.0      1   9\n",
       "9     2.0      1  10\n",
       "10    1.9      2   1\n",
       "11    0.8      2   2\n",
       "12    1.1      2   3\n",
       "13    0.1      2   4\n",
       "14   -0.1      2   5\n",
       "15    4.4      2   6\n",
       "16    5.5      2   7\n",
       "17    1.6      2   8\n",
       "18    4.6      2   9\n",
       "19    3.4      2  10"
      ]
     },
     "execution_count": 52,
     "metadata": {},
     "output_type": "execute_result"
    }
   ],
   "source": [
    "df = pd.read_csv('./data/sleep.csv')\n",
    "df"
   ]
  },
  {
   "cell_type": "markdown",
   "metadata": {
    "id": "3A0ND7dKGbDT"
   },
   "source": [
    "Правда ли, что сон студентов до приёма снотворного не отличается от нормы (отклонение от 8 часов равно нулю). Проверьте эту гипотезу на $5\\%$ уровне значимости, в переменную `pval1` запишите p-значение. "
   ]
  },
  {
   "cell_type": "code",
   "execution_count": 53,
   "metadata": {},
   "outputs": [],
   "source": [
    "before = df[df['group'] == 1].extra\n",
    "after = df[df['group'] == 2].extra"
   ]
  },
  {
   "cell_type": "code",
   "execution_count": 55,
   "metadata": {
    "deletable": false,
    "id": "gjdH45OyGbDT",
    "nbgrader": {
     "cell_type": "code",
     "checksum": "84c67f6747d67cca7633914c28107c96",
     "grade": false,
     "grade_id": "cell-c04ca7c5b2d46f59",
     "locked": false,
     "schema_version": 3,
     "solution": true,
     "task": false
    }
   },
   "outputs": [
    {
     "name": "stdout",
     "output_type": "stream",
     "text": [
      "Наблюдаемое значение 1.326 меньше критического 1.833 => нулевая гипотеза не отвергается\n",
      "pval1 0.184936 > alpha\n"
     ]
    }
   ],
   "source": [
    "### ╰( ͡° ͜ʖ ͡° )つ▬▬ι═══════  bzzzzzzzzzz\n",
    "# your code below\n",
    "\n",
    "# H_0: mu_before == 0 отклонение от 8 часов равно нулю\n",
    "# H_1: mu_before != 0 не равно\n",
    "\n",
    "alpha = 0.05\n",
    "mu_0 = 0     # тест мат ожидание\n",
    "n = before.size\n",
    "mu = before.mean()\n",
    "std =  before.std(ddof=1)/np.sqrt(n)\n",
    "\n",
    "tobs1 = (mu - mu_0)/std   # наблюдаемое значение статистики\n",
    "t_crit = stats.t(n - 1).ppf(1 - alpha)  # критическое значение\n",
    "\n",
    "pval1 = 2 * (1 - stats.norm().cdf(np.abs(tobs1)))\n",
    "\n",
    "print(f'Наблюдаемое значение {tobs1:.4} меньше критического {t_crit:.4} => нулевая гипотеза не отвергается')\n",
    "print(f'pval1 {pval1:.6} > alpha') "
   ]
  },
  {
   "cell_type": "markdown",
   "metadata": {
    "id": "pJVmer_LGbDT"
   },
   "source": [
    "Правда ли, что благодаря таблеткам студенты стали спать больше (односторонняя альтернатива)? Запишите в переменную `pval2` соотвествующее p-значение. "
   ]
  },
  {
   "cell_type": "code",
   "execution_count": 56,
   "metadata": {},
   "outputs": [],
   "source": [
    "data = pd.DataFrame()"
   ]
  },
  {
   "cell_type": "code",
   "execution_count": 57,
   "metadata": {},
   "outputs": [],
   "source": [
    "after = pd.DataFrame()\n",
    "after = df[10:20]['extra'].reset_index().drop('index', axis =1)\n",
    "after.columns = ['after']"
   ]
  },
  {
   "cell_type": "code",
   "execution_count": 58,
   "metadata": {
    "scrolled": true
   },
   "outputs": [],
   "source": [
    "data['before'] = df[:10]['extra']\n",
    "data['after'] = after"
   ]
  },
  {
   "cell_type": "code",
   "execution_count": 62,
   "metadata": {
    "deletable": false,
    "id": "HiWQGHvcGbDU",
    "nbgrader": {
     "cell_type": "code",
     "checksum": "5df1edb5b8b18a467151f30e3ad24e05",
     "grade": false,
     "grade_id": "cell-4c7c2e8e8b3c5de8",
     "locked": false,
     "schema_version": 3,
     "solution": true,
     "task": false
    }
   },
   "outputs": [
    {
     "name": "stdout",
     "output_type": "stream",
     "text": [
      "Наблюдаемое значение 4.062 больше критического 1.833 => нулевая гипотеза отвергается\n",
      "pval1 0.00141645 < alpha => нул гипотеза отвергается\n",
      "t_obs_check 4.062\n"
     ]
    }
   ],
   "source": [
    "### ╰( ͡° ͜ʖ ͡° )つ▬▬ι═══════  bzzzzzzzzzz\n",
    "# your code below\n",
    "\n",
    "# H_0: mu_after - mu_before = 0 до и после приема таблеток студенты спали одинаковое кол-во времени\n",
    "# H_1: mu_after - mu_before > 0 благодаря таблеткам студенты стали спать больше\n",
    "\n",
    "d = data.after - data.before\n",
    "alpha = 0.05\n",
    "d_mean = d.mean()\n",
    "d_std = d.std(ddof=1)\n",
    "\n",
    "\n",
    "tobs2 = d.mean()/np.sqrt(d.var(ddof=1)/d.size)   # наблюдаемое значение статистики\n",
    "t_crit = stats.t(n - 1).ppf(1 - alpha)  # критическое значение\n",
    "\n",
    "t_obs_check, pval2 = stats.ttest_rel(data.after, data.before, alternative='greater')\n",
    "\n",
    "print(f'Наблюдаемое значение {tobs2:.4} больше критического {t_crit:.4} => нулевая гипотеза отвергается')\n",
    "print(f'pval1 {pval2:.6} < alpha => нул гипотеза отвергается') \n",
    "print(f't_obs_check {t_obs_check:.4}')"
   ]
  },
  {
   "cell_type": "code",
   "execution_count": 60,
   "metadata": {
    "deletable": false,
    "editable": false,
    "id": "G7euIbDEGbDU",
    "nbgrader": {
     "cell_type": "code",
     "checksum": "72bfc924a2bb01c46b9bf61fddb2620b",
     "grade": true,
     "grade_id": "cell-2167298693b77a31",
     "locked": true,
     "points": 1,
     "schema_version": 3,
     "solution": false,
     "task": false
    }
   },
   "outputs": [],
   "source": [
    "# проверка того, что задание решено верно\n",
    "assert np.abs(tobs1 - 1.325710) < 1e-5\n",
    "assert np.abs(tobs2 - 4.062127) < 1e-5\n"
   ]
  },
  {
   "cell_type": "markdown",
   "metadata": {
    "id": "oi3xznavGbDU"
   },
   "source": [
    "## Say my name\n",
    "\n",
    "__Люди всё время меня спрашивают, знает ли меня Барсик.__  Многие владельцы кошек уверены, что их питомцы могут понимать достаточно большое количество слов, а также узнавать собственное имя. Однако долгое время никто не пытался доказать это экспериментально. Разобраться с этой проблемой [решили учёные из Токийского университета.](https://nplus1.ru/news/2019/04/04/cat-name?utm_source=obrazovach&utm_medium=social&utm_campaign=yaponskie-uchenye-dokazali--chto-domashnie-k)\n",
    "\n",
    "Было проведено четыре эксперимента с участием домашних кошек и кошек из кошачьих кафе. Учёные использовали метод привыкания-отвыкания (habituation-dishabituation), который часто используется в экспериментах с участием маленьких детей. \n",
    "\n",
    "В соответствии с гипотезой, которая лежит в основе этого метода, определить реакцию на какой-либо стимул можно, представив его после схожих с ним стимулов. К примеру, для того, чтобы выяснить, может ли младенец узнать свое имя, ему представляют несколько слов подряд: с каждым новым словом его реакция снижается, но появление имени должно (в случае, если ребенок действительно узнает свое имя) ее вернуть. Этот же метод применили и к кошкам: реакция кошек на слова характеризовалась поворотом головы, движением ушей, вокализацией, движениями хвоста или перемещениями.\n",
    "\n",
    "В первом эксперименте исследователи проследили за реакцией кошек на собственное имя, произнесенное хозяином, после четырех существительных (16 кошек, живущих дома с двумя другими кошками или меньше). Данные об этом эксперименте находятся в табличке `cats_names.csv`. "
   ]
  },
  {
   "cell_type": "code",
   "execution_count": 63,
   "metadata": {
    "id": "2YNrKpZWGbDU"
   },
   "outputs": [
    {
     "data": {
      "text/html": [
       "<div>\n",
       "<style scoped>\n",
       "    .dataframe tbody tr th:only-of-type {\n",
       "        vertical-align: middle;\n",
       "    }\n",
       "\n",
       "    .dataframe tbody tr th {\n",
       "        vertical-align: top;\n",
       "    }\n",
       "\n",
       "    .dataframe thead th {\n",
       "        text-align: right;\n",
       "    }\n",
       "</style>\n",
       "<table border=\"1\" class=\"dataframe\">\n",
       "  <thead>\n",
       "    <tr style=\"text-align: right;\">\n",
       "      <th></th>\n",
       "      <th>name</th>\n",
       "      <th>stimuli</th>\n",
       "      <th>Ear moving</th>\n",
       "      <th>Head moving</th>\n",
       "      <th>Tail moving</th>\n",
       "      <th>Vocalising</th>\n",
       "      <th>Displacement</th>\n",
       "      <th>Total Score</th>\n",
       "    </tr>\n",
       "  </thead>\n",
       "  <tbody>\n",
       "    <tr>\n",
       "      <th>0</th>\n",
       "      <td>Cr</td>\n",
       "      <td>Noun 1</td>\n",
       "      <td>1</td>\n",
       "      <td>0</td>\n",
       "      <td>0</td>\n",
       "      <td>0</td>\n",
       "      <td>0</td>\n",
       "      <td>1</td>\n",
       "    </tr>\n",
       "    <tr>\n",
       "      <th>1</th>\n",
       "      <td>Cr</td>\n",
       "      <td>Noun 2</td>\n",
       "      <td>1</td>\n",
       "      <td>1</td>\n",
       "      <td>0</td>\n",
       "      <td>0</td>\n",
       "      <td>0</td>\n",
       "      <td>2</td>\n",
       "    </tr>\n",
       "    <tr>\n",
       "      <th>2</th>\n",
       "      <td>Cr</td>\n",
       "      <td>Noun 3</td>\n",
       "      <td>1</td>\n",
       "      <td>1</td>\n",
       "      <td>0</td>\n",
       "      <td>0</td>\n",
       "      <td>0</td>\n",
       "      <td>2</td>\n",
       "    </tr>\n",
       "    <tr>\n",
       "      <th>3</th>\n",
       "      <td>Cr</td>\n",
       "      <td>Noun 4</td>\n",
       "      <td>0</td>\n",
       "      <td>0</td>\n",
       "      <td>0</td>\n",
       "      <td>0</td>\n",
       "      <td>0</td>\n",
       "      <td>0</td>\n",
       "    </tr>\n",
       "    <tr>\n",
       "      <th>4</th>\n",
       "      <td>Cr</td>\n",
       "      <td>Test Cat's Name</td>\n",
       "      <td>1</td>\n",
       "      <td>0</td>\n",
       "      <td>0</td>\n",
       "      <td>0</td>\n",
       "      <td>0</td>\n",
       "      <td>1</td>\n",
       "    </tr>\n",
       "    <tr>\n",
       "      <th>5</th>\n",
       "      <td>Ekcn</td>\n",
       "      <td>Noun 1</td>\n",
       "      <td>0</td>\n",
       "      <td>1</td>\n",
       "      <td>0</td>\n",
       "      <td>0</td>\n",
       "      <td>0</td>\n",
       "      <td>1</td>\n",
       "    </tr>\n",
       "    <tr>\n",
       "      <th>6</th>\n",
       "      <td>Ekcn</td>\n",
       "      <td>Noun 2</td>\n",
       "      <td>0</td>\n",
       "      <td>1</td>\n",
       "      <td>0</td>\n",
       "      <td>0</td>\n",
       "      <td>0</td>\n",
       "      <td>1</td>\n",
       "    </tr>\n",
       "    <tr>\n",
       "      <th>7</th>\n",
       "      <td>Ekcn</td>\n",
       "      <td>Noun 3</td>\n",
       "      <td>0</td>\n",
       "      <td>0</td>\n",
       "      <td>0</td>\n",
       "      <td>0</td>\n",
       "      <td>0</td>\n",
       "      <td>0</td>\n",
       "    </tr>\n",
       "    <tr>\n",
       "      <th>8</th>\n",
       "      <td>Ekcn</td>\n",
       "      <td>Noun 4</td>\n",
       "      <td>0</td>\n",
       "      <td>1</td>\n",
       "      <td>0</td>\n",
       "      <td>0</td>\n",
       "      <td>0</td>\n",
       "      <td>1</td>\n",
       "    </tr>\n",
       "    <tr>\n",
       "      <th>9</th>\n",
       "      <td>Ekcn</td>\n",
       "      <td>Test Cat's Name</td>\n",
       "      <td>0</td>\n",
       "      <td>0</td>\n",
       "      <td>0</td>\n",
       "      <td>0</td>\n",
       "      <td>0</td>\n",
       "      <td>0</td>\n",
       "    </tr>\n",
       "    <tr>\n",
       "      <th>10</th>\n",
       "      <td>Icg</td>\n",
       "      <td>Noun 1</td>\n",
       "      <td>1</td>\n",
       "      <td>1</td>\n",
       "      <td>0</td>\n",
       "      <td>0</td>\n",
       "      <td>0</td>\n",
       "      <td>2</td>\n",
       "    </tr>\n",
       "    <tr>\n",
       "      <th>11</th>\n",
       "      <td>Icg</td>\n",
       "      <td>Noun 2</td>\n",
       "      <td>1</td>\n",
       "      <td>1</td>\n",
       "      <td>0</td>\n",
       "      <td>0</td>\n",
       "      <td>0</td>\n",
       "      <td>2</td>\n",
       "    </tr>\n",
       "    <tr>\n",
       "      <th>12</th>\n",
       "      <td>Icg</td>\n",
       "      <td>Noun 3</td>\n",
       "      <td>1</td>\n",
       "      <td>1</td>\n",
       "      <td>0</td>\n",
       "      <td>0</td>\n",
       "      <td>0</td>\n",
       "      <td>2</td>\n",
       "    </tr>\n",
       "    <tr>\n",
       "      <th>13</th>\n",
       "      <td>Icg</td>\n",
       "      <td>Noun 4</td>\n",
       "      <td>1</td>\n",
       "      <td>1</td>\n",
       "      <td>0</td>\n",
       "      <td>0</td>\n",
       "      <td>0</td>\n",
       "      <td>2</td>\n",
       "    </tr>\n",
       "    <tr>\n",
       "      <th>14</th>\n",
       "      <td>Icg</td>\n",
       "      <td>Test Cat's Name</td>\n",
       "      <td>1</td>\n",
       "      <td>1</td>\n",
       "      <td>0</td>\n",
       "      <td>0</td>\n",
       "      <td>0</td>\n",
       "      <td>2</td>\n",
       "    </tr>\n",
       "    <tr>\n",
       "      <th>15</th>\n",
       "      <td>Knt</td>\n",
       "      <td>Noun 1</td>\n",
       "      <td>0</td>\n",
       "      <td>0</td>\n",
       "      <td>0</td>\n",
       "      <td>0</td>\n",
       "      <td>0</td>\n",
       "      <td>0</td>\n",
       "    </tr>\n",
       "    <tr>\n",
       "      <th>16</th>\n",
       "      <td>Knt</td>\n",
       "      <td>Noun 2</td>\n",
       "      <td>0</td>\n",
       "      <td>0</td>\n",
       "      <td>0</td>\n",
       "      <td>0</td>\n",
       "      <td>0</td>\n",
       "      <td>0</td>\n",
       "    </tr>\n",
       "    <tr>\n",
       "      <th>17</th>\n",
       "      <td>Knt</td>\n",
       "      <td>Noun 3</td>\n",
       "      <td>0</td>\n",
       "      <td>0</td>\n",
       "      <td>0</td>\n",
       "      <td>0</td>\n",
       "      <td>0</td>\n",
       "      <td>0</td>\n",
       "    </tr>\n",
       "    <tr>\n",
       "      <th>18</th>\n",
       "      <td>Knt</td>\n",
       "      <td>Noun 4</td>\n",
       "      <td>0</td>\n",
       "      <td>0</td>\n",
       "      <td>0</td>\n",
       "      <td>0</td>\n",
       "      <td>0</td>\n",
       "      <td>0</td>\n",
       "    </tr>\n",
       "    <tr>\n",
       "      <th>19</th>\n",
       "      <td>Knt</td>\n",
       "      <td>Test Cat's Name</td>\n",
       "      <td>0</td>\n",
       "      <td>0</td>\n",
       "      <td>0</td>\n",
       "      <td>0</td>\n",
       "      <td>0</td>\n",
       "      <td>0</td>\n",
       "    </tr>\n",
       "    <tr>\n",
       "      <th>20</th>\n",
       "      <td>Kro</td>\n",
       "      <td>Noun 1</td>\n",
       "      <td>1</td>\n",
       "      <td>0</td>\n",
       "      <td>0</td>\n",
       "      <td>0</td>\n",
       "      <td>0</td>\n",
       "      <td>1</td>\n",
       "    </tr>\n",
       "    <tr>\n",
       "      <th>21</th>\n",
       "      <td>Kro</td>\n",
       "      <td>Noun 2</td>\n",
       "      <td>1</td>\n",
       "      <td>1</td>\n",
       "      <td>1</td>\n",
       "      <td>0</td>\n",
       "      <td>0</td>\n",
       "      <td>3</td>\n",
       "    </tr>\n",
       "    <tr>\n",
       "      <th>22</th>\n",
       "      <td>Kro</td>\n",
       "      <td>Noun 3</td>\n",
       "      <td>1</td>\n",
       "      <td>0</td>\n",
       "      <td>1</td>\n",
       "      <td>0</td>\n",
       "      <td>0</td>\n",
       "      <td>2</td>\n",
       "    </tr>\n",
       "    <tr>\n",
       "      <th>23</th>\n",
       "      <td>Kro</td>\n",
       "      <td>Noun 4</td>\n",
       "      <td>1</td>\n",
       "      <td>1</td>\n",
       "      <td>0</td>\n",
       "      <td>0</td>\n",
       "      <td>0</td>\n",
       "      <td>2</td>\n",
       "    </tr>\n",
       "    <tr>\n",
       "      <th>24</th>\n",
       "      <td>Kro</td>\n",
       "      <td>Test Cat's Name</td>\n",
       "      <td>1</td>\n",
       "      <td>1</td>\n",
       "      <td>0</td>\n",
       "      <td>0</td>\n",
       "      <td>0</td>\n",
       "      <td>2</td>\n",
       "    </tr>\n",
       "    <tr>\n",
       "      <th>25</th>\n",
       "      <td>Krr</td>\n",
       "      <td>Noun 1</td>\n",
       "      <td>1</td>\n",
       "      <td>1</td>\n",
       "      <td>0</td>\n",
       "      <td>0</td>\n",
       "      <td>0</td>\n",
       "      <td>2</td>\n",
       "    </tr>\n",
       "    <tr>\n",
       "      <th>26</th>\n",
       "      <td>Krr</td>\n",
       "      <td>Noun 2</td>\n",
       "      <td>0</td>\n",
       "      <td>1</td>\n",
       "      <td>0</td>\n",
       "      <td>0</td>\n",
       "      <td>0</td>\n",
       "      <td>1</td>\n",
       "    </tr>\n",
       "    <tr>\n",
       "      <th>27</th>\n",
       "      <td>Krr</td>\n",
       "      <td>Noun 3</td>\n",
       "      <td>1</td>\n",
       "      <td>0</td>\n",
       "      <td>0</td>\n",
       "      <td>0</td>\n",
       "      <td>0</td>\n",
       "      <td>1</td>\n",
       "    </tr>\n",
       "    <tr>\n",
       "      <th>28</th>\n",
       "      <td>Krr</td>\n",
       "      <td>Noun 4</td>\n",
       "      <td>0</td>\n",
       "      <td>1</td>\n",
       "      <td>0</td>\n",
       "      <td>0</td>\n",
       "      <td>0</td>\n",
       "      <td>1</td>\n",
       "    </tr>\n",
       "    <tr>\n",
       "      <th>29</th>\n",
       "      <td>Krr</td>\n",
       "      <td>Test Cat's Name</td>\n",
       "      <td>0</td>\n",
       "      <td>1</td>\n",
       "      <td>0</td>\n",
       "      <td>0</td>\n",
       "      <td>0</td>\n",
       "      <td>1</td>\n",
       "    </tr>\n",
       "  </tbody>\n",
       "</table>\n",
       "</div>"
      ],
      "text/plain": [
       "    name          stimuli  Ear moving  Head moving  Tail moving  Vocalising  \\\n",
       "0     Cr           Noun 1           1            0            0           0   \n",
       "1     Cr           Noun 2           1            1            0           0   \n",
       "2     Cr           Noun 3           1            1            0           0   \n",
       "3     Cr           Noun 4           0            0            0           0   \n",
       "4     Cr  Test Cat's Name           1            0            0           0   \n",
       "5   Ekcn           Noun 1           0            1            0           0   \n",
       "6   Ekcn           Noun 2           0            1            0           0   \n",
       "7   Ekcn           Noun 3           0            0            0           0   \n",
       "8   Ekcn           Noun 4           0            1            0           0   \n",
       "9   Ekcn  Test Cat's Name           0            0            0           0   \n",
       "10   Icg           Noun 1           1            1            0           0   \n",
       "11   Icg           Noun 2           1            1            0           0   \n",
       "12   Icg           Noun 3           1            1            0           0   \n",
       "13   Icg           Noun 4           1            1            0           0   \n",
       "14   Icg  Test Cat's Name           1            1            0           0   \n",
       "15   Knt           Noun 1           0            0            0           0   \n",
       "16   Knt           Noun 2           0            0            0           0   \n",
       "17   Knt           Noun 3           0            0            0           0   \n",
       "18   Knt           Noun 4           0            0            0           0   \n",
       "19   Knt  Test Cat's Name           0            0            0           0   \n",
       "20   Kro           Noun 1           1            0            0           0   \n",
       "21   Kro           Noun 2           1            1            1           0   \n",
       "22   Kro           Noun 3           1            0            1           0   \n",
       "23   Kro           Noun 4           1            1            0           0   \n",
       "24   Kro  Test Cat's Name           1            1            0           0   \n",
       "25   Krr           Noun 1           1            1            0           0   \n",
       "26   Krr           Noun 2           0            1            0           0   \n",
       "27   Krr           Noun 3           1            0            0           0   \n",
       "28   Krr           Noun 4           0            1            0           0   \n",
       "29   Krr  Test Cat's Name           0            1            0           0   \n",
       "\n",
       "    Displacement  Total Score  \n",
       "0              0            1  \n",
       "1              0            2  \n",
       "2              0            2  \n",
       "3              0            0  \n",
       "4              0            1  \n",
       "5              0            1  \n",
       "6              0            1  \n",
       "7              0            0  \n",
       "8              0            1  \n",
       "9              0            0  \n",
       "10             0            2  \n",
       "11             0            2  \n",
       "12             0            2  \n",
       "13             0            2  \n",
       "14             0            2  \n",
       "15             0            0  \n",
       "16             0            0  \n",
       "17             0            0  \n",
       "18             0            0  \n",
       "19             0            0  \n",
       "20             0            1  \n",
       "21             0            3  \n",
       "22             0            2  \n",
       "23             0            2  \n",
       "24             0            2  \n",
       "25             0            2  \n",
       "26             0            1  \n",
       "27             0            1  \n",
       "28             0            1  \n",
       "29             0            1  "
      ]
     },
     "execution_count": 63,
     "metadata": {},
     "output_type": "execute_result"
    }
   ],
   "source": [
    "df = pd.read_csv('./data/cats_names.csv', sep='\\t')\n",
    "df.head(30)"
   ]
  },
  {
   "cell_type": "markdown",
   "metadata": {
    "id": "gb3exuPAGbDU"
   },
   "source": [
    "Будем проверять гипотезу о том, что кошки понимают своё имя с помощью упрощённой процедуры: \n",
    "\n",
    "- Вытащим из таблички все строчки, где экспериментаторы называли $4-$ое существительное. Они помечены в колонке `stimuli` как `Noun 4`. Если в колонке `Total Score` стоит положительное число, будем считать, что кошка среагировала на слово. В вектор `noun4` запишем единицу. В противном случае — ноль. \n",
    "- Вытащим по аналогии информацию о том, откликнулась ли кошка на своё имя (пометка `Test Cat's Name`) в колонке `stimuli`. Запишем её в вектор `name`.\n",
    "- Используем тест о равенстве пропорций для зависимых выборок, чтобы ответить на вопрос \"А правда ли кошка откликается на своё имя?\" В переменную `pval` запишем $p$-значение, полученное при проверке этой гипотезы. "
   ]
  },
  {
   "cell_type": "code",
   "execution_count": 65,
   "metadata": {
    "deletable": false,
    "id": "Nj5kBVOUGbDU",
    "nbgrader": {
     "cell_type": "code",
     "checksum": "c019c2956f7e14de25568795f31f7dcc",
     "grade": false,
     "grade_id": "cell-4ab37a21e0f8a42c",
     "locked": false,
     "schema_version": 3,
     "solution": true,
     "task": false
    }
   },
   "outputs": [
    {
     "name": "stdout",
     "output_type": "stream",
     "text": [
      "6 10\n",
      "2 14\n",
      "Наблюдаемое значение 1.78885 попадает в (-1.96 , 1.96) => нулевая гипотеза не отвергается\n",
      "p_value 0.07363827012030266 > alpha\n"
     ]
    }
   ],
   "source": [
    "### ╰( ͡° ͜ʖ ͡° )つ▬▬ι═══════  bzzzzzzzzzz\n",
    "# your code below\n",
    "\n",
    "# H_0: p1=p2 доля откликов на имя и на слово одинаковая\n",
    "# H_1: p1 != p2 есть различия\n",
    "\n",
    "all_noun4 = df.loc[df['stimuli'] == 'Noun 4'].reset_index()\n",
    "all_names = df.loc[df['stimuli'] == 'Test Cat\\'s Name'].reset_index()\n",
    "\n",
    "noun4 = all_noun4['Total Score'].apply(lambda x: 1 if x > 0 else 0)\n",
    "name = all_names['Total Score'].apply(lambda x: 1 if x > 0 else 0)\n",
    "\n",
    "n = name.size\n",
    "noun4_0 = (noun4 == 0).sum(axis=0)\n",
    "noun4_1 = (noun4 == 1).sum(axis=0)\n",
    "print(noun4_0, noun4_1)\n",
    "\n",
    "name_0 = (name == 0).sum(axis=0)\n",
    "name_1 = (name == 1).sum(axis=0)\n",
    "print(name_0, name_1)\n",
    "\n",
    "a = 1\n",
    "b = 1\n",
    "c = 5\n",
    "d = 9\n",
    "\n",
    "z_obs = (c - b)/np.sqrt((c+b) - (c-b)**2/n)\n",
    "z_crit = stats.norm().ppf(1 - alpha/2)\n",
    "p_value = 2 * (1 - stats.norm().cdf(np.abs(z_obs)))\n",
    "print(f'Наблюдаемое значение {z_obs:.6} попадает в ({-z_crit:.3} , {z_crit:.3}) => нулевая гипотеза не отвергается')\n",
    "print(f'p_value {p_value} > alpha')"
   ]
  },
  {
   "cell_type": "code",
   "execution_count": 66,
   "metadata": {
    "deletable": false,
    "editable": false,
    "id": "BQDVJw9SGbDU",
    "nbgrader": {
     "cell_type": "code",
     "checksum": "017ca952bd4b618680f94b4eb603e091",
     "grade": true,
     "grade_id": "cell-473051ae67ddc9a6",
     "locked": true,
     "points": 1,
     "schema_version": 3,
     "solution": false,
     "task": false
    }
   },
   "outputs": [],
   "source": [
    "# проверка того, что задание решено верно\n",
    "assert sum(name) == 14\n",
    "assert np.abs(z_obs - 1.7888543819998317) < 1e-5\n"
   ]
  },
  {
   "cell_type": "markdown",
   "metadata": {
    "id": "ZfOpYGpDGbDV"
   },
   "source": [
    "Выводы учёных могут отличаться от наших. Результат проверки гипотезы зависит от многих внешних факторов. Например, от громкости произнесённого кошачьего имени. Все такие факторы надо как-то изолировать.\n",
    "\n",
    "[В оригинальном исследовании](https://www.nature.com/articles/s41598-019-40616-4) учёные реализовывали более сложные статистические процедуры. Они пытались проконтролировать все внешние факторы, которые могли бы повлиять на результаты эксперимента. О том, как это можно делать, мы с вами поговорим в будущем. \n",
    "\n",
    "![](https://cdn.nplus1.ru/images/2019/04/04/47a222337ec0984bcec1644f12b4c328.gif)"
   ]
  },
  {
   "cell_type": "markdown",
   "metadata": {
    "id": "VaXPDaK_GbDV"
   },
   "source": [
    "## Матан\n",
    "\n",
    "Лекции по матану на экономическом факультете читают два преподавателя: Злой и Добрый. Каждый год они чередуются. Среди студентов ходит слух, что в год, когда преподаёт Злой, отчисляют куда больше народу. В таблице `matan.csv` лежит информация по $418$ студентам экономического факультета. \n",
    "\n",
    "В столбце `is_angry` стоит единица, если этому студенту преподавал Злой. В столбце `target_1` стоит единица, если человек закончил первый курс. Проверьте гипотезу о том, что Злой отчисляет больше народу. В переменную `pval` запишите $p$-значение, получившееся при проверке гипотезы. "
   ]
  },
  {
   "cell_type": "code",
   "execution_count": 67,
   "metadata": {
    "id": "FUM7SHMEGbDV"
   },
   "outputs": [
    {
     "data": {
      "text/html": [
       "<div>\n",
       "<style scoped>\n",
       "    .dataframe tbody tr th:only-of-type {\n",
       "        vertical-align: middle;\n",
       "    }\n",
       "\n",
       "    .dataframe tbody tr th {\n",
       "        vertical-align: top;\n",
       "    }\n",
       "\n",
       "    .dataframe thead th {\n",
       "        text-align: right;\n",
       "    }\n",
       "</style>\n",
       "<table border=\"1\" class=\"dataframe\">\n",
       "  <thead>\n",
       "    <tr style=\"text-align: right;\">\n",
       "      <th></th>\n",
       "      <th>is_angry</th>\n",
       "      <th>target_1</th>\n",
       "    </tr>\n",
       "  </thead>\n",
       "  <tbody>\n",
       "    <tr>\n",
       "      <th>0</th>\n",
       "      <td>0</td>\n",
       "      <td>1.0</td>\n",
       "    </tr>\n",
       "    <tr>\n",
       "      <th>1</th>\n",
       "      <td>0</td>\n",
       "      <td>1.0</td>\n",
       "    </tr>\n",
       "    <tr>\n",
       "      <th>2</th>\n",
       "      <td>0</td>\n",
       "      <td>1.0</td>\n",
       "    </tr>\n",
       "    <tr>\n",
       "      <th>3</th>\n",
       "      <td>0</td>\n",
       "      <td>0.0</td>\n",
       "    </tr>\n",
       "    <tr>\n",
       "      <th>4</th>\n",
       "      <td>0</td>\n",
       "      <td>1.0</td>\n",
       "    </tr>\n",
       "  </tbody>\n",
       "</table>\n",
       "</div>"
      ],
      "text/plain": [
       "   is_angry  target_1\n",
       "0         0       1.0\n",
       "1         0       1.0\n",
       "2         0       1.0\n",
       "3         0       0.0\n",
       "4         0       1.0"
      ]
     },
     "execution_count": 67,
     "metadata": {},
     "output_type": "execute_result"
    }
   ],
   "source": [
    "df = pd.read_csv('./data/matan.csv', sep='\\t')\n",
    "df.head() "
   ]
  },
  {
   "cell_type": "code",
   "execution_count": 69,
   "metadata": {
    "deletable": false,
    "id": "wnTQyka1GbDV",
    "nbgrader": {
     "cell_type": "code",
     "checksum": "3ac2faf1e5b216db1ab097b8d456f1f6",
     "grade": false,
     "grade_id": "cell-06da65b1aca523bb",
     "locked": false,
     "schema_version": 3,
     "solution": true,
     "task": false
    }
   },
   "outputs": [
    {
     "name": "stdout",
     "output_type": "stream",
     "text": [
      "0.298977 попадает в (-2.57583 , 2.57583) => Нулевая гипотеза не отвергается\n",
      "pval 0.7649576208453219 > alpha\n"
     ]
    }
   ],
   "source": [
    "### ╰( ͡° ͜ʖ ͡° )つ▬▬ι═══════  bzzzzzzzzzz\n",
    "# your code below\n",
    "\n",
    "angry = df[df['is_angry'] == 1]['target_1'].dropna()\n",
    "kind = df[df['is_angry'] == 0]['target_1'].dropna()\n",
    "\n",
    "# H_0: p_angry = p_kind доля отчислений для доброго и злого преподавателей равна\n",
    "# H_1: p_angry != p_kind есть различия\n",
    "\n",
    "alpha = 0.01                                    \n",
    "n1,n2 = angry.size, kind.size                     \n",
    "m1,m2 = angry.sum(), kind.sum()                 \n",
    "\n",
    "p1, p2 = angry.mean(), kind.mean()                 # точеные оценки долей \n",
    "diff = p1 - p2                                     # разность долей\n",
    "\n",
    "P = (m1 + m2)/(n1 + n2)          \n",
    "diff_std = np.sqrt(P*(1 - P)*(1/n1 + 1/n2))        # стандартное отклонение разности\n",
    "                                    \n",
    "z_obs = diff/diff_std                              # наблюдаемое значение статистики \n",
    "z_crit = stats.norm.ppf(1 - alpha/2)               # критическое значение статистики\n",
    "\n",
    "pval = 2 * (1 - stats.norm().cdf(np.abs(z_obs)))\n",
    "\n",
    "print(f'{z_obs:.6} попадает в ({-z_crit:.6} , {z_crit:.6}) => Нулевая гипотеза не отвергается')\n",
    "print(f'pval {pval} > alpha')"
   ]
  },
  {
   "cell_type": "code",
   "execution_count": 70,
   "metadata": {
    "id": "GqW25tKZHk6e"
   },
   "outputs": [],
   "source": [
    "# проверка того, что задание решено верно\n",
    "assert np.abs(np.abs(z_obs) - 0.29897)  < 1e-5"
   ]
  },
  {
   "cell_type": "markdown",
   "metadata": {
    "id": "9iC8GwjFGbDV"
   },
   "source": [
    "## Бутерброд\n",
    "\n",
    "Вася решил проверить известное утверждение о том, что бутерброд падает маслом вниз. Для этого он провёл серию из $200$ испытаний. Бутерброд упал маслом вниз $105$ раз. Маслом вверх $95$ раз. Можно ли утверждать, что бутерброд падает маслом вниз так же часто, как и маслом вверх на уровне значимости $5\\%$? В качестве ответа сохраните в `pval` $p$-значение. \n",
    "\n",
    "__Примечание:__ для поиска дисперсии используйте смещённый вариант. Либо по формуле $\\frac{p\\cdot(1-p)}{n}$ либо с помощью `std(ddof=0)`. При поиске `pval` обратите внимание, что алтернатива двусторонняя. А ещё [прочитайте историю](https://absentis.livejournal.com/27153.html) про то, почему Коперник мазал бутеры маслом. "
   ]
  },
  {
   "cell_type": "code",
   "execution_count": 15,
   "metadata": {
    "deletable": false,
    "id": "CcejINJEGbDV",
    "nbgrader": {
     "cell_type": "code",
     "checksum": "32402f85ea10dfa3f248e44f703663e5",
     "grade": false,
     "grade_id": "cell-db59ee9982bc3985",
     "locked": false,
     "schema_version": 3,
     "solution": true,
     "task": false
    }
   },
   "outputs": [
    {
     "name": "stdout",
     "output_type": "stream",
     "text": [
      "Наблюдаемое значение 0.70711 меньше критического 1.64 => нулевая гипотеза не отвергается\n",
      "pval > alpha 0.47950012218695326\n"
     ]
    }
   ],
   "source": [
    "### ╰( ͡° ͜ʖ ͡° )つ▬▬ι═══════  bzzzzzzzzzz\n",
    "# your code below\n",
    "\n",
    "# H_0: p = 0.5 бутерброд падает маслом вниз так же часто, как и маслом вверх \n",
    "# H_1: p != 0.5 маслом вниз чаще\n",
    "\n",
    "p0 = 0.5\n",
    "n = 200\n",
    "m = 105\n",
    "\n",
    "\n",
    "alpha = 0.05\n",
    "mean = m/n\n",
    "\n",
    "z_obs =  (mean-p0) / (p0*(1-p0)/n)**0.5 \n",
    "z_crit = stats.norm.ppf(1 - alpha)                              # критическое значение\n",
    "\n",
    "pval = 2 * (1 - stats.norm().cdf(np.abs(z_obs))) \n",
    "\n",
    "\n",
    "print(f'Наблюдаемое значение {z_obs:.5} меньше критического {z_crit:.3} => нулевая гипотеза не отвергается')\n",
    "print('pval > alpha', pval)"
   ]
  },
  {
   "cell_type": "code",
   "execution_count": 16,
   "metadata": {
    "id": "U-bMjDhgHkHx"
   },
   "outputs": [],
   "source": [
    "# проверка того, что задание решено верно\n",
    "assert np.abs(z_obs - 0.707) < 1e-3"
   ]
  },
  {
   "cell_type": "markdown",
   "metadata": {
    "id": "GaYQOkrIGbDV"
   },
   "source": [
    "<img src=\"https://i.ibb.co/Ks57rDV/student-teacher-dist.png\" height=\"300\" width=\"600\"> "
   ]
  },
  {
   "cell_type": "markdown",
   "metadata": {
    "id": "J142jEhuVybT"
   },
   "source": [
    "# Часть 2 - Непараметрические гипотезы\n"
   ]
  },
  {
   "cell_type": "markdown",
   "metadata": {
    "id": "bvr1yy3JJUXI"
   },
   "source": [
    "## Однородная игра\n",
    "\n",
    "Киллер - это весёлая лагерная игра. Краткие правила игры:\n",
    "\n",
    "- Игроки пишут свои имена на карточках и кладут их в шляпу\n",
    "- Игроки рандомно вытаскивают карточки из шляпы \n",
    "- Полученное имя - имя жертвы\n",
    "- Каждый игрок одновременно и убийца и жертва\n",
    "- Чтобы убить другого игрока, надо оказаться с ним наедине и застрелить из пальца\n",
    "- Жертва убитого становится новой жертвой игрока\n",
    "- Побеждает тот, кто совершит наибольшее число убийств\n",
    "\n",
    "На экономическом факультете было два раунда игры в киллера. Все убийства регистрировались в гугл-форме. В табличках `killer_time1.csv` и `killer_time2.csv` лежит время в часах, которое проходило между убийствами."
   ]
  },
  {
   "cell_type": "code",
   "execution_count": 17,
   "metadata": {
    "id": "kYfvEaT_JUXJ"
   },
   "outputs": [],
   "source": [
    "killer1 = pd.read_csv(\"./data/killer_time1.csv\").hours_between_kill.values\n",
    "killer2 = pd.read_csv(\"./data/killer_time2.csv\").hours_between_kill.values"
   ]
  },
  {
   "cell_type": "code",
   "execution_count": 18,
   "metadata": {
    "id": "1krzIKHHJUXJ"
   },
   "outputs": [
    {
     "data": {
      "image/png": "[encoded data removed]",
      "text/plain": [
       "<Figure size 432x288 with 1 Axes>"
      ]
     },
     "metadata": {},
     "output_type": "display_data"
    }
   ],
   "source": [
    "plt.hist(killer1, bins=20);"
   ]
  },
  {
   "cell_type": "code",
   "execution_count": 19,
   "metadata": {
    "id": "WQyAo8dOJUXK"
   },
   "outputs": [
    {
     "data": {
      "image/png": "[encoded data removed]",
      "text/plain": [
       "<Figure size 432x288 with 1 Axes>"
      ]
     },
     "metadata": {},
     "output_type": "display_data"
    }
   ],
   "source": [
    "plt.hist(killer2, bins=20);"
   ]
  },
  {
   "cell_type": "markdown",
   "metadata": {
    "id": "nfpZHp6iJUXL"
   },
   "source": [
    "Распределение выглядит, как экспоненциальное. Более того, по гистограммам возникает ощущение, что это одинаковое распределение. С помощью теста Колмогорова-Смирнова проверьте гипотезу о том, что обе выборки пришли из одного и того же распределения, $p$-значение, полученное при проверке запишите в переменную `pvalue1`. "
   ]
  },
  {
   "cell_type": "code",
   "execution_count": 29,
   "metadata": {
    "deletable": false,
    "id": "IX7DAn9UJUXL",
    "nbgrader": {
     "cell_type": "code",
     "checksum": "44fb3b5304225f3947fbd73bc67a3d44",
     "grade": false,
     "grade_id": "cell-f8134e5d39cba5cd",
     "locked": false,
     "schema_version": 3,
     "solution": true,
     "task": false
    }
   },
   "outputs": [
    {
     "name": "stdout",
     "output_type": "stream",
     "text": [
      "pvalue1 0.54525 > alpha 0.05 => Нулевая гипотеза не отвергается\n"
     ]
    }
   ],
   "source": [
    "### ╰( ͡° ͜ʖ ͡° )つ▬▬ι═══════  bzzzzzzzzzz\n",
    "# your code below\n",
    "\n",
    "# H_0: F1 = F2 одинаковое распределение у выборок\n",
    "# H_1: F1 != F2 из разных распределений\n",
    "\n",
    "statistic, pvalue1 = stats.ks_2samp(killer1, killer2, alternative='two-sided')\n",
    "print(f'pvalue1 {pvalue1:.5} > alpha 0.05 => Нулевая гипотеза не отвергается')"
   ]
  },
  {
   "cell_type": "markdown",
   "metadata": {
    "id": "M5R8h3YsJUXM"
   },
   "source": [
    "С помощью теста Колмогорова проверьте гипотезу о том, что время для первой игры имеет экспоненциальное распределение с параметром $\\lambda = 0.026$, $p$-значение, полученное при проверке запишите в переменную `pvalue2`. "
   ]
  },
  {
   "cell_type": "code",
   "execution_count": 35,
   "metadata": {
    "deletable": false,
    "id": "XAgaSG7fJUXM",
    "nbgrader": {
     "cell_type": "code",
     "checksum": "b4e27fa1c6f0366a2e938430173a15b3",
     "grade": false,
     "grade_id": "cell-da5a87e744840bab",
     "locked": false,
     "schema_version": 3,
     "solution": true,
     "task": false
    }
   },
   "outputs": [
    {
     "name": "stdout",
     "output_type": "stream",
     "text": [
      "pvalue2 0.054838 > alpha 0.05 => Нулевая гипотеза не отвергается\n"
     ]
    }
   ],
   "source": [
    "### ╰( ͡° ͜ʖ ͡° )つ▬▬ι═══════  bzzzzzzzzzz\n",
    "# your code below\n",
    "\n",
    "\n",
    "# H_0: F1 имеет expon(𝜆=0.026)\n",
    "# H_1: F1 не имеет эксп распределения\n",
    "\n",
    "lambd = 0.026\n",
    "statistic, pvalue2 = stats.kstest(killer1, 'expon', args=(lambd, killer1.mean()))\n",
    "print(f'pvalue2 {pvalue2:.5} > alpha 0.05 => Нулевая гипотеза не отвергается')"
   ]
  },
  {
   "cell_type": "code",
   "execution_count": 28,
   "metadata": {
    "deletable": false,
    "editable": false,
    "id": "-9CSLG6yJUXN",
    "nbgrader": {
     "cell_type": "code",
     "checksum": "92729497f6a2fc0d98bc3610e4f4c72d",
     "grade": true,
     "grade_id": "cell-be55b7fce581170d",
     "locked": true,
     "points": 2,
     "schema_version": 3,
     "solution": false,
     "task": false
    }
   },
   "outputs": [],
   "source": [
    "# проверка того, что задание решено верно\n",
    "assert pvalue1 > 0.5\n"
   ]
  },
  {
   "cell_type": "markdown",
   "metadata": {
    "id": "Y7bd0DTQJUXN"
   },
   "source": [
    "## Мыши и зеркало\n",
    "\n",
    "$16$ лабораторных мышей были помещены в двухкомнатные клетки, в одной из комнат висело зеркало. С целью установить, есть ли у мышей какие-то предпочтения насчет зеркал, измерялась доля времени, которое каждая мышь проводила в каждой из своих двух клеток.\n",
    "\n",
    "![](https://ars.els-cdn.com/content/image/1-s2.0-S0168159104000061-gr1.gif)\n",
    "\n",
    "В файле `mouses_mirror.txt` лежит информация о том, какую долю времени мышка проводила в клетке с зеркалом. "
   ]
  },
  {
   "cell_type": "code",
   "execution_count": 33,
   "metadata": {
    "id": "UV1syPNPJUXN"
   },
   "outputs": [
    {
     "data": {
      "image/png": "[encoded data removed]",
      "text/plain": [
       "<Figure size 432x288 with 1 Axes>"
      ]
     },
     "metadata": {},
     "output_type": "display_data"
    }
   ],
   "source": [
    "x = pd.read_csv('./data/mouses_mirror.txt', header = None)[0].values\n",
    "plt.hist(x, density=True);"
   ]
  },
  {
   "cell_type": "code",
   "execution_count": 50,
   "metadata": {},
   "outputs": [
    {
     "data": {
      "text/plain": [
       "0.47528889375"
      ]
     },
     "execution_count": 50,
     "metadata": {},
     "output_type": "execute_result"
    }
   ],
   "source": [
    "x.mean()"
   ]
  },
  {
   "cell_type": "markdown",
   "metadata": {
    "id": "bmLSU-CTJUXO"
   },
   "source": [
    "Проверьте гипотезу о том, что мышкам безразлично в какой комнате проводить время с помощью критерия знаков. Сформулируйте нулевую гипотезу, перечислите основные особенности этого критерия. Запишите в переменную `pvalue_1` получившееся в результате этого $p$-значение. "
   ]
  },
  {
   "cell_type": "code",
   "execution_count": 49,
   "metadata": {
    "deletable": false,
    "id": "7Z5XesobJUXO",
    "nbgrader": {
     "cell_type": "code",
     "checksum": "69c18cd39cdcc6708cc99b3d2034796a",
     "grade": false,
     "grade_id": "cell-6b6cc3cc3f9d2e2d",
     "locked": false,
     "schema_version": 3,
     "solution": true,
     "task": false
    }
   },
   "outputs": [
    {
     "name": "stdout",
     "output_type": "stream",
     "text": [
      "stat_T -5.0\n",
      "pvalue_1 0.021271 < alpha 0.05 => гипотеза отвергается на уровне значимости 5%\n"
     ]
    }
   ],
   "source": [
    "### ╰( ͡° ͜ʖ ͡° )つ▬▬ι═══════  bzzzzzzzzzz\n",
    "# your code below\n",
    "\n",
    "# Критерий знаков принадлежит семейству непараметрических критериев, то есть он не использует никаких данных о характере распределении\n",
    "# работает только для непрерывных распределений\n",
    "\n",
    "# H_0: Med(X) = 0.5  мышкам безразлично в какой комнате проводить\n",
    "# H_1: Med(X) < 0.5\n",
    "\n",
    "med_0 = 0.5\n",
    "\n",
    "stat_T, pvalue_1 = sign_test(x, mu0=med_0)\n",
    "print('stat_T', stat_T)\n",
    "print(f'pvalue_1 {pvalue_1:.5} < alpha 0.05 => гипотеза отвергается на уровне значимости 5%')"
   ]
  },
  {
   "cell_type": "markdown",
   "metadata": {
    "id": "Zej2AKWRJUXO"
   },
   "source": [
    "Проверьте гипотезу о том, что мышкам безразлично в какой комнате проводить время с помощью теста Вилкоксона. Сформулируйте нулевую гипотезу, перечислите основные особенности этого критерия.  Запишите в переменную `pvalue_2` получившееся в результате этого $p$-значение. "
   ]
  },
  {
   "cell_type": "code",
   "execution_count": 48,
   "metadata": {
    "deletable": false,
    "id": "Awlj-VqcJUXO",
    "nbgrader": {
     "cell_type": "code",
     "checksum": "810237e6b508833ff45a566c9122dc2d",
     "grade": false,
     "grade_id": "cell-689716dd8c46567c",
     "locked": false,
     "schema_version": 3,
     "solution": true,
     "task": false
    }
   },
   "outputs": [
    {
     "name": "stdout",
     "output_type": "stream",
     "text": [
      "stat_T 136.0\n",
      "pvalue_2 1.0 > alpha 0.05 => гипотеза не отвергается на уровне значимости 5%\n"
     ]
    }
   ],
   "source": [
    "### ╰( ͡° ͜ʖ ͡° )つ▬▬ι═══════  bzzzzzzzzzz\n",
    "# your code below\n",
    "\n",
    "stat_T, pvalue_2 = stats.wilcoxon(x, alternative='less')\n",
    "print('stat_T', stat_T)\n",
    "print(f'pvalue_2 {pvalue_2:.5} > alpha 0.05 => гипотеза не отвергается на уровне значимости 5%')"
   ]
  },
  {
   "cell_type": "markdown",
   "metadata": {
    "id": "fwaS3s5gJUXP"
   },
   "source": [
    "Проверьте гипотезу о том, что мышкам безразлично в какой комнате проводить время с помощью асимптотического $z$-теста. Сформулируйте нулевую гипотезу, перечислите основные особенности этого критерия.  Запишите в переменную `pvalue_3` получившееся в результате этого $p$-значение. "
   ]
  },
  {
   "cell_type": "code",
   "execution_count": 59,
   "metadata": {
    "deletable": false,
    "id": "u5HlNpxiJUXP",
    "nbgrader": {
     "cell_type": "code",
     "checksum": "b55c22e6795228bd3d57ea5a1e98c49a",
     "grade": false,
     "grade_id": "cell-4ce505503163ae74",
     "locked": false,
     "schema_version": 3,
     "solution": true,
     "task": false
    }
   },
   "outputs": [
    {
     "name": "stdout",
     "output_type": "stream",
     "text": [
      "Наблюдаемое значение: -1.496178\n",
      "P-значение: 0.0673 > alpha 0.05\n"
     ]
    }
   ],
   "source": [
    "from statsmodels.stats.weightstats import ztest,zconfint\n",
    "\n",
    "### ╰( ͡° ͜ʖ ͡° )つ▬▬ι═══════  bzzzzzzzzzz\n",
    "# your code below\n",
    "\n",
    "z_obs, pvalue_3 = ztest(x, value=med_0, alternative='smaller')\n",
    "\n",
    "print(f\"Наблюдаемое значение: {z_obs:.7}\") \n",
    "print(f\"P-значение: {pvalue_3:.3} > alpha 0.05\") "
   ]
  },
  {
   "cell_type": "code",
   "execution_count": 60,
   "metadata": {
    "deletable": false,
    "editable": false,
    "id": "2hHW3dxXJUXP",
    "nbgrader": {
     "cell_type": "code",
     "checksum": "73290f06f31fe8c145c864dae9c02101",
     "grade": true,
     "grade_id": "cell-2f9dfc7c1834c8a5",
     "locked": true,
     "points": 2,
     "schema_version": 3,
     "solution": false,
     "task": false
    }
   },
   "outputs": [],
   "source": [
    "# проверка того, что задание решено верно\n",
    "assert pvalue_1 < 0.05\n",
    "assert pvalue_2 > 0.05\n",
    "assert pvalue_3 > 0.05\n"
   ]
  },
  {
   "cell_type": "markdown",
   "metadata": {
    "id": "le-4YyzmJUXP"
   },
   "source": [
    "Объясните, почему `pvalue` от теста к тесту ведёт себя именно так. Подробнее про опыт с мышками читайте [в оригинальном исследовании.](https://www.sciencedirect.com/science/article/abs/pii/S0168159104000061)"
   ]
  },
  {
   "cell_type": "markdown",
   "metadata": {
    "id": "cP9JajAQJUXP"
   },
   "source": [
    "## Энергетик\n",
    "\n",
    "Исследовательница Глафира считает, что любовь к энергетическим напиткам и успешность сдачи экзамена по математической статистике должны быть как-то связаны. Опросив $200$ своих однокурсников, она получила следующие результаты:\n",
    "\n",
    "- Сдал, пьёт энергетик: 20\n",
    "- Сдал, не пьёт энергетик: 120\n",
    "- Завалил, пьёт энергетик: 40\n",
    "- Завалил, не пьёт энергетик: 20\n",
    "\n",
    "Правда ли, что энергетик оказывает на успешность сдачи экзамена какое-то влияние? Проверьте гипотезу с помощью критерия Пирсона. В качестве ответа запишите в переменную `pvalue` получившееся $p$-значение."
   ]
  },
  {
   "cell_type": "code",
   "execution_count": 25,
   "metadata": {},
   "outputs": [
    {
     "data": {
      "text/html": [
       "<div>\n",
       "<style scoped>\n",
       "    .dataframe tbody tr th:only-of-type {\n",
       "        vertical-align: middle;\n",
       "    }\n",
       "\n",
       "    .dataframe tbody tr th {\n",
       "        vertical-align: top;\n",
       "    }\n",
       "\n",
       "    .dataframe thead th {\n",
       "        text-align: right;\n",
       "    }\n",
       "</style>\n",
       "<table border=\"1\" class=\"dataframe\">\n",
       "  <thead>\n",
       "    <tr style=\"text-align: right;\">\n",
       "      <th></th>\n",
       "      <th>pass</th>\n",
       "      <th>fail</th>\n",
       "    </tr>\n",
       "  </thead>\n",
       "  <tbody>\n",
       "    <tr>\n",
       "      <th>drink</th>\n",
       "      <td>20</td>\n",
       "      <td>40</td>\n",
       "    </tr>\n",
       "    <tr>\n",
       "      <th>nodrink</th>\n",
       "      <td>120</td>\n",
       "      <td>20</td>\n",
       "    </tr>\n",
       "  </tbody>\n",
       "</table>\n",
       "</div>"
      ],
      "text/plain": [
       "         pass  fail\n",
       "drink      20    40\n",
       "nodrink   120    20"
      ]
     },
     "execution_count": 25,
     "metadata": {},
     "output_type": "execute_result"
    }
   ],
   "source": [
    "df = pd.DataFrame([[20, 40],[120, 20]])\n",
    "df.columns = [\"pass\",\"fail\"]\n",
    "df.index = [\"drink\", \"nodrink\"]\n",
    "df"
   ]
  },
  {
   "cell_type": "code",
   "execution_count": 29,
   "metadata": {
    "deletable": false,
    "id": "66VFtzaoJUXP",
    "nbgrader": {
     "cell_type": "code",
     "checksum": "11b701a76c7cad856b9a90da5179b7fe",
     "grade": false,
     "grade_id": "cell-8806588bc0865379",
     "locked": false,
     "schema_version": 3,
     "solution": true,
     "task": false
    }
   },
   "outputs": [
    {
     "name": "stdout",
     "output_type": "stream",
     "text": [
      "chi, pvalue, df_, expected 52.409297052154194 4.5058575666472013e-13 1 [[42. 18.]\n",
      " [98. 42.]]\n"
     ]
    }
   ],
   "source": [
    "### ╰( ͡° ͜ʖ ͡° )つ▬▬ι═══════  bzzzzzzzzzz\n",
    "# your code below\n",
    "from scipy.stats import chi2_contingency\n",
    "# тестируес гипотезу о том, что 2 категориальных фактора не зависимы друг от друга\n",
    "\n",
    "chi, pvalue, df_, expected = chi2_contingency(df.values)\n",
    "print('chi, pvalue, df_, expected', chi, pvalue, df_, expected)"
   ]
  },
  {
   "cell_type": "code",
   "execution_count": 27,
   "metadata": {},
   "outputs": [
    {
     "name": "stdout",
     "output_type": "stream",
     "text": [
      "P-значение: 4.51e-13 < alpha 0.05 => гипотеза о влиянии энергетика\n"
     ]
    },
    {
     "data": {
      "text/plain": [
       "'0.000000'"
      ]
     },
     "execution_count": 27,
     "metadata": {},
     "output_type": "execute_result"
    }
   ],
   "source": [
    "print(f\"P-значение: {pvalue:.3} < alpha 0.05 => гипотеза о влиянии энергетика отвергается\")\n",
    "'{:f}'.format(pvalue)"
   ]
  },
  {
   "cell_type": "code",
   "execution_count": 28,
   "metadata": {
    "deletable": false,
    "editable": false,
    "id": "UcMfPHBnJUXP",
    "nbgrader": {
     "cell_type": "code",
     "checksum": "da1fdd962d58f234934cc003b1d90290",
     "grade": true,
     "grade_id": "cell-920f09f17b0aafde",
     "locked": true,
     "points": 2,
     "schema_version": 3,
     "solution": false,
     "task": false
    }
   },
   "outputs": [],
   "source": [
    "# проверка того, что задание решено верно\n",
    "assert pvalue < 0.05\n"
   ]
  },
  {
   "cell_type": "markdown",
   "metadata": {
    "id": "Fh5Cl9MHJUXQ"
   },
   "source": [
    "## Бомбардировки\n",
    "\n",
    "В таблице `london_07-09-1940.tsv` лежат данные о бомбардировке Лондона 7 сентября 1940 года немецкой авиацией. Интересно выяснить, насколько прицельно велась бомбардировка. Если немецкие войска знали, где именно находятся британские военные объекты, они вели бы бомбардировку пристрельно.  \n",
    "\n",
    "Ещё больше данных о бомбардировке Лондона ищите здесь: http://bombsight.org/data/sources/"
   ]
  },
  {
   "cell_type": "code",
   "execution_count": 2,
   "metadata": {
    "id": "_G-twKngJUXQ"
   },
   "outputs": [
    {
     "name": "stdout",
     "output_type": "stream",
     "text": [
      "(751, 6)\n"
     ]
    },
    {
     "data": {
      "text/html": [
       "<div>\n",
       "<style scoped>\n",
       "    .dataframe tbody tr th:only-of-type {\n",
       "        vertical-align: middle;\n",
       "    }\n",
       "\n",
       "    .dataframe tbody tr th {\n",
       "        vertical-align: top;\n",
       "    }\n",
       "\n",
       "    .dataframe thead th {\n",
       "        text-align: right;\n",
       "    }\n",
       "</style>\n",
       "<table border=\"1\" class=\"dataframe\">\n",
       "  <thead>\n",
       "    <tr style=\"text-align: right;\">\n",
       "      <th></th>\n",
       "      <th>Time</th>\n",
       "      <th>Location</th>\n",
       "      <th>Type_of_bomb</th>\n",
       "      <th>Damage</th>\n",
       "      <th>x</th>\n",
       "      <th>y</th>\n",
       "    </tr>\n",
       "  </thead>\n",
       "  <tbody>\n",
       "    <tr>\n",
       "      <th>0</th>\n",
       "      <td>0:08</td>\n",
       "      <td>43 Southwark Park Road, SE16, London, UK</td>\n",
       "      <td>IB</td>\n",
       "      <td>Grocers: 3x2 roof damaged</td>\n",
       "      <td>-0.127660</td>\n",
       "      <td>51.507351</td>\n",
       "    </tr>\n",
       "    <tr>\n",
       "      <th>1</th>\n",
       "      <td>0:10</td>\n",
       "      <td>49 Southwark Park road, Bermondsey, SE16, Lond...</td>\n",
       "      <td>IB</td>\n",
       "      <td>Bakers: 3x2 roof damaged</td>\n",
       "      <td>-0.054303</td>\n",
       "      <td>51.487794</td>\n",
       "    </tr>\n",
       "    <tr>\n",
       "      <th>2</th>\n",
       "      <td>0:15</td>\n",
       "      <td>84 Southwark Park Road, SE16, London, UK</td>\n",
       "      <td>IB</td>\n",
       "      <td>front room on 1st floor and contents slightly ...</td>\n",
       "      <td>-0.127660</td>\n",
       "      <td>51.507351</td>\n",
       "    </tr>\n",
       "    <tr>\n",
       "      <th>3</th>\n",
       "      <td>0:18</td>\n",
       "      <td>141 Braidwood Road, Catford SE6, London, UK</td>\n",
       "      <td>IB</td>\n",
       "      <td>10x6 roof damage</td>\n",
       "      <td>-0.025584</td>\n",
       "      <td>51.443299</td>\n",
       "    </tr>\n",
       "    <tr>\n",
       "      <th>4</th>\n",
       "      <td>0:20</td>\n",
       "      <td>129 Killearn Road, Catford SE6, London, UK</td>\n",
       "      <td>IB</td>\n",
       "      <td>Front room on 1st floor severely damaged</td>\n",
       "      <td>-0.025584</td>\n",
       "      <td>51.443299</td>\n",
       "    </tr>\n",
       "  </tbody>\n",
       "</table>\n",
       "</div>"
      ],
      "text/plain": [
       "   Time                                           Location Type_of_bomb  \\\n",
       "0  0:08           43 Southwark Park Road, SE16, London, UK           IB   \n",
       "1  0:10  49 Southwark Park road, Bermondsey, SE16, Lond...           IB   \n",
       "2  0:15           84 Southwark Park Road, SE16, London, UK           IB   \n",
       "3  0:18        141 Braidwood Road, Catford SE6, London, UK           IB   \n",
       "4  0:20         129 Killearn Road, Catford SE6, London, UK           IB   \n",
       "\n",
       "                                              Damage         x          y  \n",
       "0                          Grocers: 3x2 roof damaged -0.127660  51.507351  \n",
       "1                           Bakers: 3x2 roof damaged -0.054303  51.487794  \n",
       "2  front room on 1st floor and contents slightly ... -0.127660  51.507351  \n",
       "3                                   10x6 roof damage -0.025584  51.443299  \n",
       "4           Front room on 1st floor severely damaged -0.025584  51.443299  "
      ]
     },
     "execution_count": 2,
     "metadata": {},
     "output_type": "execute_result"
    }
   ],
   "source": [
    "df = pd.read_csv('./data/london_07-09-1940.tsv', sep='\\t')\n",
    "print(df.shape)\n",
    "df.head()"
   ]
  },
  {
   "cell_type": "code",
   "execution_count": 3,
   "metadata": {
    "id": "rxdSRKjvJUXQ"
   },
   "outputs": [
    {
     "data": {
      "image/png": "[encoded data removed]",
      "text/plain": [
       "<Figure size 432x288 with 1 Axes>"
      ]
     },
     "metadata": {},
     "output_type": "display_data"
    }
   ],
   "source": [
    "plt.scatter(df.x, df.y);"
   ]
  },
  {
   "cell_type": "markdown",
   "metadata": {
    "id": "vE8e6UDHJUXQ"
   },
   "source": [
    "В колонках $x$ и $y$ лежат координаты точки, куда упала бомба. Разбейте Лондон решёткой размера $30 \\times 30$ на $900$ небольших квадратных участков. С помощью функции `binned_statistic_2d` из пакета `scipy.stats`, подсчитайте как часто снаряд попадал на какой из участков. Поместите информацию об этом в переменную `ret`. "
   ]
  },
  {
   "cell_type": "code",
   "execution_count": 3,
   "metadata": {
    "deletable": false,
    "id": "hQUr_igwJUXQ",
    "nbgrader": {
     "cell_type": "code",
     "checksum": "3d8e8a1156fdd06c8ae186fb41313b02",
     "grade": false,
     "grade_id": "cell-2a06adb25a0b5542",
     "locked": false,
     "schema_version": 3,
     "solution": true,
     "task": false
    }
   },
   "outputs": [
    {
     "data": {
      "image/png": "[encoded data removed]",
      "text/plain": [
       "<Figure size 720x576 with 2 Axes>"
      ]
     },
     "metadata": {},
     "output_type": "display_data"
    }
   ],
   "source": [
    "binx = np.linspace(df.x.min(), df.x.max(), 31)\n",
    "biny = np.linspace(df.y.min(), df.y.max(), 31)\n",
    "\n",
    "### ╰( ͡° ͜ʖ ͡° )つ▬▬ι═══════  bzzzzzzzzzz\n",
    "# your code below\n",
    "\n",
    "ret = stats.binned_statistic_2d(df.x, df.y,None,'count',bins=[binx, biny]) \n",
    "\n",
    "import matplotlib.pyplot as plt\n",
    "\n",
    "plt.figure(figsize=(10, 8));\n",
    "sns.heatmap(ret.statistic);"
   ]
  },
  {
   "cell_type": "markdown",
   "metadata": {
    "id": "BsYE5VbiJUXQ"
   },
   "source": [
    "Распакуйте информацию о попаданиях в участки в вектор `z`. Нарисуте гистограмму для получившегося распределения. "
   ]
  },
  {
   "cell_type": "code",
   "execution_count": 4,
   "metadata": {
    "deletable": false,
    "id": "5cLVqdedJUXQ",
    "nbgrader": {
     "cell_type": "code",
     "checksum": "3fbbdfb1fc38caf7a66e28a32e3d5cd5",
     "grade": false,
     "grade_id": "cell-1b692a90383e2eff",
     "locked": false,
     "schema_version": 3,
     "solution": true,
     "task": false
    }
   },
   "outputs": [
    {
     "data": {
      "image/png": "[encoded data removed]",
      "text/plain": [
       "<Figure size 432x288 with 1 Axes>"
      ]
     },
     "metadata": {},
     "output_type": "display_data"
    }
   ],
   "source": [
    "### ╰( ͡° ͜ʖ ͡° )つ▬▬ι═══════  bzzzzzzzzzz\n",
    "# your code below\n",
    "\n",
    "z = ret.binnumber\n",
    "s, v = np.unique(z, return_counts=True)\n",
    "\n",
    "sns.histplot(data=v, kde=True);"
   ]
  },
  {
   "cell_type": "markdown",
   "metadata": {
    "id": "EvSfTHgjJUXQ"
   },
   "source": [
    "Участков много, а вероятность попадания на отдельный участок мала. При справедливости гипотезы о низкой точности стрельбы мы можем воспользоваться законом редких событий:\n",
    "\n",
    "> Если в схеме испытаний Бернулли $p \\to 0$, а $n \\to \\infty$, оно сходится к распределению Пуассона. \n",
    "\n",
    "Получается, что __при верности гипотезы о низкой точности стрельбы,__ число попаданий в квадрат имеет распределение Пуассона. Дополнительно будем предполагать, что попадания на разные участки независимы друг от друга. \n",
    "\n",
    "C помощью критерия Пирсона проверьте гипотезу о том, что число попаданий на участок имеет распределение Пуассона. Прежде, чем вычислять статистику, объедините все наблюдения из хвоста в одно по аналогии с лекцией. Хвостом будем считать все наблюдения $\\ge 9$. Получившуюся в результате расчётов статистику запишите в переменную `T`."
   ]
  },
  {
   "cell_type": "code",
   "execution_count": 5,
   "metadata": {},
   "outputs": [
    {
     "data": {
      "text/plain": [
       "array([ 47,  50,  82,  88, 112, 122, 142, 144, 153, 185, 236, 246, 251,\n",
       "       274, 302, 306, 337, 366, 369, 370, 372, 390, 394, 396, 398, 402,\n",
       "       403, 404, 414, 426, 430, 433, 445, 446, 459, 460, 464, 465, 466,\n",
       "       467, 468, 475, 491, 492, 494, 495, 496, 497, 498, 499, 500, 505,\n",
       "       523, 527, 528, 529, 530, 531, 532, 534, 536, 545, 547, 556, 558,\n",
       "       559, 561, 562, 563, 567, 570, 577, 587, 588, 591, 593, 594, 595,\n",
       "       596, 597, 598, 599, 618, 622, 623, 624, 626, 627, 628, 630, 652,\n",
       "       653, 655, 656, 657, 658, 659, 660, 662, 685, 686, 687, 688, 689,\n",
       "       690, 691, 713, 717, 719, 720, 725, 752, 754, 782, 784, 785, 786,\n",
       "       809, 816, 817, 818, 849, 900, 913, 975, 980])"
      ]
     },
     "execution_count": 5,
     "metadata": {},
     "output_type": "execute_result"
    }
   ],
   "source": [
    "s, v = np.unique(z, return_counts=True)\n",
    "s"
   ]
  },
  {
   "cell_type": "code",
   "execution_count": 6,
   "metadata": {},
   "outputs": [],
   "source": [
    "reduced_v = []\n",
    "reduced_s = []\n",
    "remainder = []\n",
    "for idx, value in np.ndenumerate(v):\n",
    "    if value <= 8:\n",
    "        reduced_v.append(value)\n",
    "        reduced_s.append(s[idx])\n",
    "    else:\n",
    "        remainder.append(s[idx])\n",
    "\n",
    "reduced_v.append(9)\n",
    "reduced_s.append(sum(remainder))"
   ]
  },
  {
   "cell_type": "code",
   "execution_count": 7,
   "metadata": {},
   "outputs": [
    {
     "name": "stdout",
     "output_type": "stream",
     "text": [
      "103\n",
      "103\n",
      "[1 1 1 2 1 1 2 1 2 1 1 1 1 1 1 2 1 1 6 1 1 3 3 7 1 4 1 2 4 1 1 4 1 3 4 3 2\n",
      " 1 3 5 1 2 1 1 7 8 6 1 1 2 4 2 3 2 2 1 1 1 1 4 2 1 4 1 3 1 1 7 2 4 2 6 1 2\n",
      " 3 1 1 2 2 1 2 2 3 6 1 1 8 4 4 1 8 4 3 2 1 6 5 4 5 3 1 1 9]\n"
     ]
    }
   ],
   "source": [
    "reduced_s = np.array(reduced_s)\n",
    "reduced_v = np.array(reduced_v)\n",
    "\n",
    "print(reduced_v.size)\n",
    "print(reduced_s.size)\n",
    "print(reduced_v)\n"
   ]
  },
  {
   "cell_type": "code",
   "execution_count": 8,
   "metadata": {
    "deletable": false,
    "id": "Ry0mhX_GJUXQ",
    "nbgrader": {
     "cell_type": "code",
     "checksum": "27458dfda82dafb25009a2fa92b137b2",
     "grade": false,
     "grade_id": "cell-ae799b5490316110",
     "locked": false,
     "schema_version": 3,
     "solution": true,
     "task": false
    }
   },
   "outputs": [
    {
     "name": "stdout",
     "output_type": "stream",
     "text": [
      "1.0719071617601895e+254 1.0719071617601895e+254\n",
      "125.45841940848237\n"
     ]
    }
   ],
   "source": [
    "### ╰( ͡° ͜ʖ ͡° )つ▬▬ι═══════  bzzzzzzzzzz\n",
    "# your code below\n",
    "\n",
    "n = reduced_s.size\n",
    "mu = z.mean()\n",
    "\n",
    "expected_prob = np.array([poisson.pmf(k, mu) for k in reduced_v]) #P(x<t)\n",
    "df = n - 1 - 1\n",
    "\n",
    "T = np.sum((reduced_v - n*expected_prob)**2 / (n*expected_prob))\n",
    "\n",
    "chi2_crit = stats.chi2.ppf(0.95, df)\n",
    "chi2_crit\n",
    "\n",
    "T_krit, pval = chisquare(reduced_v, f_exp=n*expected_prob)\n",
    "print(T_krit, T)\n",
    "print(chi2_crit)"
   ]
  },
  {
   "cell_type": "code",
   "execution_count": 154,
   "metadata": {},
   "outputs": [
    {
     "data": {
      "text/plain": [
       "True"
      ]
     },
     "execution_count": 154,
     "metadata": {},
     "output_type": "execute_result"
    }
   ],
   "source": [
    "T > chi2_crit\n",
    "# отвергаем гипотезу о распределении Пуасоона и низкоточной стрельбе"
   ]
  },
  {
   "cell_type": "code",
   "execution_count": 143,
   "metadata": {
    "deletable": false,
    "editable": false,
    "id": "yednYOD3JUXQ",
    "nbgrader": {
     "cell_type": "code",
     "checksum": "04a992cbb78c1776904005722f0fad09",
     "grade": true,
     "grade_id": "cell-2986a877274d9a7e",
     "locked": true,
     "points": 2,
     "schema_version": 3,
     "solution": false,
     "task": false
    }
   },
   "outputs": [],
   "source": [
    "# проверка того, что задание решено верно\n",
    "assert T > 6000\n"
   ]
  },
  {
   "cell_type": "markdown",
   "metadata": {
    "id": "vtHNYBcoJUXR"
   },
   "source": [
    "Какой вывод мы можем из этого сделать? Правда ли, что бомбардировка осуществлялась прицельно? "
   ]
  },
  {
   "cell_type": "markdown",
   "metadata": {
    "id": "Tuwc0JwfMRyM"
   },
   "source": [
    "# Часть 3 - Самостоятельный анализ\n"
   ]
  },
  {
   "cell_type": "markdown",
   "metadata": {
    "id": "HALykPFtX3yt"
   },
   "source": [
    "- Ниже приведены несколько датасетов, их необходимо самостоятельно проанализировать и ответить на определенные вопросы\n",
    "- Для ответа на эти вопросы нужно сделать следующее\n",
    "    - Сделать хорошую визуализацию исследуемых переменных\n",
    "    - Для каждой из задач подобрать **все подходящие** параметрические и непараметрические критерии, проанализировать результаты этих критериев (тут имеет смысл обернуть все критерии в фунцию или словарь - как удобно)\n",
    "- Для каждого набора данных проверьте нормальность выборки и допустимость использования параметрических критериев (можно прокомментировать гистограмму и воспользоваться соответствующими критериями согласия)\n",
    "- Не забудьте оставить краткие комментарии к вашим действиям и сформулировать выводы, которые вы сделали в ходе анализа\n"
   ]
  },
  {
   "cell_type": "markdown",
   "metadata": {
    "id": "nbHK4unpW5Js"
   },
   "source": [
    "## Анорексия\n",
    "\n",
    "В файле anorexia.txt записан вес пациентов до начала терапии анорексии и после ее окончания. Была ли терапия в эффективна?\n"
   ]
  },
  {
   "cell_type": "code",
   "execution_count": 12,
   "metadata": {
    "colab": {
     "base_uri": "https://localhost:8080/",
     "height": 202
    },
    "executionInfo": {
     "elapsed": 333,
     "status": "ok",
     "timestamp": 1636727359327,
     "user": {
      "displayName": "Ilya A",
      "photoUrl": "https://lh3.googleusercontent.com/a-/AOh14GiSa8oddSgsU03OOnvGn7Dk96PjoJwbTrHh_f7oDw=s64",
      "userId": "17148912465935982955"
     },
     "user_tz": -180
    },
    "id": "Cyt0g08jhKNC",
    "outputId": "568a2ce9-f1b2-4418-d79a-684bafcda71d"
   },
   "outputs": [
    {
     "data": {
      "text/html": [
       "<div>\n",
       "<style scoped>\n",
       "    .dataframe tbody tr th:only-of-type {\n",
       "        vertical-align: middle;\n",
       "    }\n",
       "\n",
       "    .dataframe tbody tr th {\n",
       "        vertical-align: top;\n",
       "    }\n",
       "\n",
       "    .dataframe thead th {\n",
       "        text-align: right;\n",
       "    }\n",
       "</style>\n",
       "<table border=\"1\" class=\"dataframe\">\n",
       "  <thead>\n",
       "    <tr style=\"text-align: right;\">\n",
       "      <th></th>\n",
       "      <th>Before</th>\n",
       "      <th>After</th>\n",
       "    </tr>\n",
       "  </thead>\n",
       "  <tbody>\n",
       "    <tr>\n",
       "      <th>0</th>\n",
       "      <td>80.5</td>\n",
       "      <td>82.2</td>\n",
       "    </tr>\n",
       "    <tr>\n",
       "      <th>1</th>\n",
       "      <td>84.9</td>\n",
       "      <td>85.6</td>\n",
       "    </tr>\n",
       "    <tr>\n",
       "      <th>2</th>\n",
       "      <td>81.5</td>\n",
       "      <td>81.4</td>\n",
       "    </tr>\n",
       "    <tr>\n",
       "      <th>3</th>\n",
       "      <td>82.6</td>\n",
       "      <td>81.9</td>\n",
       "    </tr>\n",
       "    <tr>\n",
       "      <th>4</th>\n",
       "      <td>79.9</td>\n",
       "      <td>76.4</td>\n",
       "    </tr>\n",
       "  </tbody>\n",
       "</table>\n",
       "</div>"
      ],
      "text/plain": [
       "   Before  After\n",
       "0    80.5   82.2\n",
       "1    84.9   85.6\n",
       "2    81.5   81.4\n",
       "3    82.6   81.9\n",
       "4    79.9   76.4"
      ]
     },
     "execution_count": 12,
     "metadata": {},
     "output_type": "execute_result"
    }
   ],
   "source": [
    "df = pd.read_csv('./data/anorexia.txt', sep='\\t')\n",
    "df.head()"
   ]
  },
  {
   "cell_type": "code",
   "execution_count": 11,
   "metadata": {},
   "outputs": [
    {
     "data": {
      "text/html": [
       "<div>\n",
       "<style scoped>\n",
       "    .dataframe tbody tr th:only-of-type {\n",
       "        vertical-align: middle;\n",
       "    }\n",
       "\n",
       "    .dataframe tbody tr th {\n",
       "        vertical-align: top;\n",
       "    }\n",
       "\n",
       "    .dataframe thead th {\n",
       "        text-align: right;\n",
       "    }\n",
       "</style>\n",
       "<table border=\"1\" class=\"dataframe\">\n",
       "  <thead>\n",
       "    <tr style=\"text-align: right;\">\n",
       "      <th></th>\n",
       "      <th>Before</th>\n",
       "      <th>After</th>\n",
       "    </tr>\n",
       "  </thead>\n",
       "  <tbody>\n",
       "    <tr>\n",
       "      <th>count</th>\n",
       "      <td>29.000000</td>\n",
       "      <td>29.000000</td>\n",
       "    </tr>\n",
       "    <tr>\n",
       "      <th>mean</th>\n",
       "      <td>82.689655</td>\n",
       "      <td>85.696552</td>\n",
       "    </tr>\n",
       "    <tr>\n",
       "      <th>std</th>\n",
       "      <td>4.845495</td>\n",
       "      <td>8.351924</td>\n",
       "    </tr>\n",
       "    <tr>\n",
       "      <th>min</th>\n",
       "      <td>70.000000</td>\n",
       "      <td>71.300000</td>\n",
       "    </tr>\n",
       "    <tr>\n",
       "      <th>25%</th>\n",
       "      <td>80.400000</td>\n",
       "      <td>81.900000</td>\n",
       "    </tr>\n",
       "    <tr>\n",
       "      <th>50%</th>\n",
       "      <td>82.600000</td>\n",
       "      <td>83.900000</td>\n",
       "    </tr>\n",
       "    <tr>\n",
       "      <th>75%</th>\n",
       "      <td>85.000000</td>\n",
       "      <td>90.900000</td>\n",
       "    </tr>\n",
       "    <tr>\n",
       "      <th>max</th>\n",
       "      <td>94.900000</td>\n",
       "      <td>103.600000</td>\n",
       "    </tr>\n",
       "  </tbody>\n",
       "</table>\n",
       "</div>"
      ],
      "text/plain": [
       "          Before       After\n",
       "count  29.000000   29.000000\n",
       "mean   82.689655   85.696552\n",
       "std     4.845495    8.351924\n",
       "min    70.000000   71.300000\n",
       "25%    80.400000   81.900000\n",
       "50%    82.600000   83.900000\n",
       "75%    85.000000   90.900000\n",
       "max    94.900000  103.600000"
      ]
     },
     "execution_count": 11,
     "metadata": {},
     "output_type": "execute_result"
    }
   ],
   "source": [
    "df.describe()"
   ]
  },
  {
   "cell_type": "code",
   "execution_count": 3,
   "metadata": {
    "scrolled": true
   },
   "outputs": [
    {
     "data": {
      "image/png": "[encoded data removed]",
      "text/plain": [
       "<Figure size 1080x288 with 2 Axes>"
      ]
     },
     "metadata": {},
     "output_type": "display_data"
    }
   ],
   "source": [
    "df[['Before', 'After']].hist(bins=20, figsize=(15,4));"
   ]
  },
  {
   "cell_type": "code",
   "execution_count": 13,
   "metadata": {},
   "outputs": [
    {
     "data": {
      "image/png": "[encoded data removed]",
      "text/plain": [
       "<Figure size 432x288 with 1 Axes>"
      ]
     },
     "metadata": {},
     "output_type": "display_data"
    }
   ],
   "source": [
    "sns.histplot(data=df, stat='density');"
   ]
  },
  {
   "cell_type": "code",
   "execution_count": 9,
   "metadata": {},
   "outputs": [
    {
     "data": {
      "image/png": "[encoded data removed]",
      "text/plain": [
       "<Figure size 432x288 with 1 Axes>"
      ]
     },
     "metadata": {},
     "output_type": "display_data"
    }
   ],
   "source": [
    "sns.boxplot(data=df);"
   ]
  },
  {
   "cell_type": "markdown",
   "metadata": {},
   "source": [
    "Графики слабо напоминают нормальное распределение, однако проверим утверждения для первого распределения.\n",
    "Из графиков видно, что медианы обоих графиков примерно равны. На первом графике имеются выбросы, данные на втором графике не симметричны. Также у второго графика больше дисперсия, чем у первого"
   ]
  },
  {
   "cell_type": "code",
   "execution_count": 4,
   "metadata": {},
   "outputs": [
    {
     "name": "stdout",
     "output_type": "stream",
     "text": [
      "T 6.97e+02 > chi2_crit 38.9 => отвергаем гипотезу о нормальном распределении\n"
     ]
    }
   ],
   "source": [
    "# Проверим на нормальность первую выборку критерием Пирсона, тк у нас дискретное рапределение\n",
    "\n",
    "# Н_0: выборка из норм распредления\n",
    "# Н_1 не принадлежит норм распределению\n",
    "\n",
    "s, v = np.unique(df.Before, return_counts=True)\n",
    "\n",
    "n = df.Before.size\n",
    "mu = df.Before.mean()\n",
    "std = df.Before.var(ddof=1)\n",
    "\n",
    "expected_prob = np.array([stats.norm.cdf( mu,std,k) for k in v])\n",
    "\n",
    "df = n - 2 - 1\n",
    "\n",
    "T = np.sum((v - n*expected_prob)**2 / (n*expected_prob))\n",
    "\n",
    "chi2_crit = stats.chi2.ppf(0.95, df)\n",
    "chi2_crit\n",
    "\n",
    "T_krit, pval = chisquare(v, f_exp=n*expected_prob)\n",
    "print(f'T {T:.3} > chi2_crit {chi2_crit:.3} => отвергаем гипотезу о нормальном распределении')"
   ]
  },
  {
   "cell_type": "code",
   "execution_count": 14,
   "metadata": {},
   "outputs": [
    {
     "name": "stdout",
     "output_type": "stream",
     "text": [
      "pvalue 0.26493089646101 > 0.05 => гипотеза о том, что терапия была неэффективна, не отвергается.\n"
     ]
    }
   ],
   "source": [
    "# Ответим, на вопрос, была ли эффективна терапия\n",
    "# Выборки связные, поэтому используем Критерий знаков и Уилкоксона\n",
    "\n",
    "# H_0: P(After > Before) = 0.5 в среднем терапия была неэффективна\n",
    "# H_1 P(After > Before) > 0.5\n",
    "\n",
    "x = df.After\n",
    "y = df.Before\n",
    "_, pvalue = sign_test(x, y)\n",
    "print(f'pvalue {pvalue} > 0.05 => гипотеза о том, что терапия была неэффективна, не отвергается.')"
   ]
  },
  {
   "cell_type": "code",
   "execution_count": 16,
   "metadata": {},
   "outputs": [
    {
     "name": "stdout",
     "output_type": "stream",
     "text": [
      "pvalue 0.06291972262602667 > 0.05 => гипотеза о том, что терапия была неэффективна, не отвергается.\n"
     ]
    }
   ],
   "source": [
    "# H_0: Med(After - Before) = 0.5\n",
    "# H_1 P(After > Before) != 0.5\n",
    "\n",
    "T, pvalue = stats.wilcoxon(x, y)\n",
    "print(f'pvalue {pvalue} > 0.05 => гипотеза о том, что терапия была неэффективна, не отвергается.')"
   ]
  },
  {
   "cell_type": "code",
   "execution_count": 17,
   "metadata": {},
   "outputs": [
    {
     "name": "stdout",
     "output_type": "stream",
     "text": [
      "pvalue 0.9998246308912 > 0.05 => гипотеза об однородности выборок не отвергается\n"
     ]
    }
   ],
   "source": [
    "# Проверим гипотезу об однородности выборок\n",
    "# посмотрим, что выдаст нам тест\n",
    "from scipy.stats import chi2_contingency\n",
    "chi, pvalue, df_, expected = chi2_contingency(df.values)\n",
    "\n",
    "print(f'pvalue {pvalue} > 0.05 => гипотеза об однородности выборок не отвергается')"
   ]
  },
  {
   "cell_type": "code",
   "execution_count": null,
   "metadata": {},
   "outputs": [],
   "source": []
  },
  {
   "cell_type": "markdown",
   "metadata": {
    "id": "Gl2o-SqZXVl0"
   },
   "source": [
    "## Метилфенидат\n",
    "В рамках исследования эффективности препарата метилфенидат пациенты с синдромом дефицита внимания и гиперактивности в течение недели принимали либо метилфенидат, либо плацебо. В конце недели каждый пациент проходили тест на способность к подавлению импульсивных поведенческих реакций. На втором этапе плацебо и препарат менялись, и после недельного курса каждый испытуемые проходили второй тест. Был ли эффект от применения препарата? Данные находятся в файле methylphenidate.txt.\n",
    "\n"
   ]
  },
  {
   "cell_type": "code",
   "execution_count": 37,
   "metadata": {
    "colab": {
     "base_uri": "https://localhost:8080/",
     "height": 202
    },
    "executionInfo": {
     "elapsed": 31,
     "status": "ok",
     "timestamp": 1636727359331,
     "user": {
      "displayName": "Ilya A",
      "photoUrl": "https://lh3.googleusercontent.com/a-/AOh14GiSa8oddSgsU03OOnvGn7Dk96PjoJwbTrHh_f7oDw=s64",
      "userId": "17148912465935982955"
     },
     "user_tz": -180
    },
    "id": "yyTmPFVserUA",
    "outputId": "0823d24d-d836-4fcd-eb2a-15d6fd1053fe"
   },
   "outputs": [
    {
     "data": {
      "text/html": [
       "<div>\n",
       "<style scoped>\n",
       "    .dataframe tbody tr th:only-of-type {\n",
       "        vertical-align: middle;\n",
       "    }\n",
       "\n",
       "    .dataframe tbody tr th {\n",
       "        vertical-align: top;\n",
       "    }\n",
       "\n",
       "    .dataframe thead th {\n",
       "        text-align: right;\n",
       "    }\n",
       "</style>\n",
       "<table border=\"1\" class=\"dataframe\">\n",
       "  <thead>\n",
       "    <tr style=\"text-align: right;\">\n",
       "      <th></th>\n",
       "      <th>Placebo</th>\n",
       "      <th>Methylphenidate</th>\n",
       "    </tr>\n",
       "  </thead>\n",
       "  <tbody>\n",
       "    <tr>\n",
       "      <th>0</th>\n",
       "      <td>57</td>\n",
       "      <td>62</td>\n",
       "    </tr>\n",
       "    <tr>\n",
       "      <th>1</th>\n",
       "      <td>27</td>\n",
       "      <td>49</td>\n",
       "    </tr>\n",
       "    <tr>\n",
       "      <th>2</th>\n",
       "      <td>32</td>\n",
       "      <td>30</td>\n",
       "    </tr>\n",
       "    <tr>\n",
       "      <th>3</th>\n",
       "      <td>31</td>\n",
       "      <td>34</td>\n",
       "    </tr>\n",
       "    <tr>\n",
       "      <th>4</th>\n",
       "      <td>34</td>\n",
       "      <td>38</td>\n",
       "    </tr>\n",
       "  </tbody>\n",
       "</table>\n",
       "</div>"
      ],
      "text/plain": [
       "   Placebo  Methylphenidate\n",
       "0       57               62\n",
       "1       27               49\n",
       "2       32               30\n",
       "3       31               34\n",
       "4       34               38"
      ]
     },
     "execution_count": 37,
     "metadata": {},
     "output_type": "execute_result"
    }
   ],
   "source": [
    "df = pd.read_csv('./data/methylphenidate.txt', sep=' ')\n",
    "df.head()"
   ]
  },
  {
   "cell_type": "code",
   "execution_count": 22,
   "metadata": {},
   "outputs": [
    {
     "data": {
      "text/html": [
       "<div>\n",
       "<style scoped>\n",
       "    .dataframe tbody tr th:only-of-type {\n",
       "        vertical-align: middle;\n",
       "    }\n",
       "\n",
       "    .dataframe tbody tr th {\n",
       "        vertical-align: top;\n",
       "    }\n",
       "\n",
       "    .dataframe thead th {\n",
       "        text-align: right;\n",
       "    }\n",
       "</style>\n",
       "<table border=\"1\" class=\"dataframe\">\n",
       "  <thead>\n",
       "    <tr style=\"text-align: right;\">\n",
       "      <th></th>\n",
       "      <th>Placebo</th>\n",
       "      <th>Methylphenidate</th>\n",
       "    </tr>\n",
       "  </thead>\n",
       "  <tbody>\n",
       "    <tr>\n",
       "      <th>count</th>\n",
       "      <td>24.000000</td>\n",
       "      <td>24.000000</td>\n",
       "    </tr>\n",
       "    <tr>\n",
       "      <th>mean</th>\n",
       "      <td>39.750000</td>\n",
       "      <td>44.708333</td>\n",
       "    </tr>\n",
       "    <tr>\n",
       "      <th>std</th>\n",
       "      <td>11.314669</td>\n",
       "      <td>12.319935</td>\n",
       "    </tr>\n",
       "    <tr>\n",
       "      <th>min</th>\n",
       "      <td>26.000000</td>\n",
       "      <td>29.000000</td>\n",
       "    </tr>\n",
       "    <tr>\n",
       "      <th>25%</th>\n",
       "      <td>33.000000</td>\n",
       "      <td>35.000000</td>\n",
       "    </tr>\n",
       "    <tr>\n",
       "      <th>50%</th>\n",
       "      <td>36.000000</td>\n",
       "      <td>42.500000</td>\n",
       "    </tr>\n",
       "    <tr>\n",
       "      <th>75%</th>\n",
       "      <td>44.500000</td>\n",
       "      <td>52.500000</td>\n",
       "    </tr>\n",
       "    <tr>\n",
       "      <th>max</th>\n",
       "      <td>71.000000</td>\n",
       "      <td>77.000000</td>\n",
       "    </tr>\n",
       "  </tbody>\n",
       "</table>\n",
       "</div>"
      ],
      "text/plain": [
       "         Placebo  Methylphenidate\n",
       "count  24.000000        24.000000\n",
       "mean   39.750000        44.708333\n",
       "std    11.314669        12.319935\n",
       "min    26.000000        29.000000\n",
       "25%    33.000000        35.000000\n",
       "50%    36.000000        42.500000\n",
       "75%    44.500000        52.500000\n",
       "max    71.000000        77.000000"
      ]
     },
     "execution_count": 22,
     "metadata": {},
     "output_type": "execute_result"
    }
   ],
   "source": [
    "df.describe()"
   ]
  },
  {
   "cell_type": "code",
   "execution_count": 21,
   "metadata": {
    "id": "XLPPqRF5Xb9g"
   },
   "outputs": [
    {
     "data": {
      "image/png": "[encoded data removed]",
      "text/plain": [
       "<Figure size 1080x288 with 2 Axes>"
      ]
     },
     "metadata": {},
     "output_type": "display_data"
    }
   ],
   "source": [
    "df[['Placebo', 'Methylphenidate']].hist(bins=25, figsize=(15,4));"
   ]
  },
  {
   "cell_type": "code",
   "execution_count": 40,
   "metadata": {},
   "outputs": [
    {
     "data": {
      "image/png": "[encoded data removed]",
      "text/plain": [
       "<Figure size 432x288 with 1 Axes>"
      ]
     },
     "metadata": {},
     "output_type": "display_data"
    }
   ],
   "source": [
    "sns.histplot(data=df.Placebo, bins=9, kde=True);"
   ]
  },
  {
   "cell_type": "code",
   "execution_count": 41,
   "metadata": {},
   "outputs": [
    {
     "data": {
      "image/png": "[encoded data removed]",
      "text/plain": [
       "<Figure size 432x288 with 1 Axes>"
      ]
     },
     "metadata": {},
     "output_type": "display_data"
    }
   ],
   "source": [
    "sns.histplot(data=df.Methylphenidate, bins=9, kde=True);"
   ]
  },
  {
   "cell_type": "code",
   "execution_count": 26,
   "metadata": {},
   "outputs": [
    {
     "data": {
      "image/png": "[encoded data removed]",
      "text/plain": [
       "<Figure size 432x288 with 1 Axes>"
      ]
     },
     "metadata": {},
     "output_type": "display_data"
    }
   ],
   "source": [
    "sns.histplot(data=df, stat='density');"
   ]
  },
  {
   "cell_type": "code",
   "execution_count": 27,
   "metadata": {},
   "outputs": [
    {
     "data": {
      "image/png": "[encoded data removed]",
      "text/plain": [
       "<Figure size 432x288 with 1 Axes>"
      ]
     },
     "metadata": {},
     "output_type": "display_data"
    }
   ],
   "source": [
    "sns.boxplot(data=df);"
   ]
  },
  {
   "cell_type": "markdown",
   "metadata": {},
   "source": [
    "Графики не имеют нормальное распределение. Из графиков видно, что медианы второго больше, чем у первого. На первом графике имеются выбросы, данные на втором графике не симметричны. "
   ]
  },
  {
   "cell_type": "code",
   "execution_count": 23,
   "metadata": {},
   "outputs": [
    {
     "name": "stdout",
     "output_type": "stream",
     "text": [
      "pvalue 0.06391465663909912 > 0.05 => гипотеза о том, что эффекта не наблюдалось, не отвергается.\n"
     ]
    }
   ],
   "source": [
    "# Выборки связные, поэтому используем Критерий знаков и Уилкоксона\n",
    "\n",
    "# H_0: P(Methylphenidate > Placebo) = 0.5 в среднем эффекта не наблюдалось\n",
    "# H_1 P(Methylphenidate > Placebo) != 0.5\n",
    "\n",
    "x = df.Methylphenidate\n",
    "y = df.Placebo\n",
    "_, pvalue = sign_test(x, y)\n",
    "print(f'pvalue {pvalue} > 0.05 => гипотеза о том, что эффекта не наблюдалось, не отвергается.')"
   ]
  },
  {
   "cell_type": "code",
   "execution_count": 25,
   "metadata": {},
   "outputs": [
    {
     "name": "stdout",
     "output_type": "stream",
     "text": [
      "pvalue 0.002814650535583496 < 0.05 => гипотеза о том, что эффекта не наблюдалось, отвергается.\n"
     ]
    }
   ],
   "source": [
    "# H_0: Med(Methylphenidate - Placebo) = 0\n",
    "# H_1 Med(Methylphenidate - Placebo) != 0\n",
    "\n",
    "T, pvalue = stats.wilcoxon(x, y)\n",
    "print(f'pvalue {pvalue} < 0.05 => гипотеза о том, что эффекта не наблюдалось, отвергается.')"
   ]
  },
  {
   "cell_type": "markdown",
   "metadata": {},
   "source": [
    "Разница между результатами критерия знаков и критерия Уилкоксона заключается в том, что критерий п игнорирует величину изменений и обращает внимание только на её направление, а критерий Уилкоксона проверяет существенные различия между медианами "
   ]
  },
  {
   "cell_type": "code",
   "execution_count": 29,
   "metadata": {},
   "outputs": [
    {
     "name": "stdout",
     "output_type": "stream",
     "text": [
      "pvalue 0.8462758394957708 > 0.05 => гипотеза об однородности выборок не отвергается\n"
     ]
    }
   ],
   "source": [
    "# Проверим гипотезу об однородности выборок\n",
    "# посмотрим, что выдаст нам тест\n",
    "from scipy.stats import chi2_contingency\n",
    "chi, pvalue, df_, expected = chi2_contingency(df.values)\n",
    "\n",
    "print(f'pvalue {pvalue} > 0.05 => гипотеза об однородности выборок не отвергается')"
   ]
  },
  {
   "cell_type": "code",
   "execution_count": null,
   "metadata": {},
   "outputs": [],
   "source": []
  },
  {
   "cell_type": "markdown",
   "metadata": {
    "id": "tRwTUweFXO-F"
   },
   "source": [
    "## Сиэтл\n",
    "В файле seattle.txt записаны цены на недвижимость в одном из районов Сиэтла в 2001 году и в 2002 году (объекты недвижимости выбирались случайно). Изменились ли в среднем цены в этом районе за год?\n"
   ]
  },
  {
   "cell_type": "code",
   "execution_count": 6,
   "metadata": {
    "colab": {
     "base_uri": "https://localhost:8080/",
     "height": 202
    },
    "executionInfo": {
     "elapsed": 30,
     "status": "ok",
     "timestamp": 1636727359328,
     "user": {
      "displayName": "Ilya A",
      "photoUrl": "https://lh3.googleusercontent.com/a-/AOh14GiSa8oddSgsU03OOnvGn7Dk96PjoJwbTrHh_f7oDw=s64",
      "userId": "17148912465935982955"
     },
     "user_tz": -180
    },
    "id": "VOIIliUEeqkE",
    "outputId": "4385e026-a7d2-4191-ee81-1527b30106db"
   },
   "outputs": [
    {
     "data": {
      "text/html": [
       "<div>\n",
       "<style scoped>\n",
       "    .dataframe tbody tr th:only-of-type {\n",
       "        vertical-align: middle;\n",
       "    }\n",
       "\n",
       "    .dataframe tbody tr th {\n",
       "        vertical-align: top;\n",
       "    }\n",
       "\n",
       "    .dataframe thead th {\n",
       "        text-align: right;\n",
       "    }\n",
       "</style>\n",
       "<table border=\"1\" class=\"dataframe\">\n",
       "  <thead>\n",
       "    <tr style=\"text-align: right;\">\n",
       "      <th></th>\n",
       "      <th>Price</th>\n",
       "      <th>Year</th>\n",
       "    </tr>\n",
       "  </thead>\n",
       "  <tbody>\n",
       "    <tr>\n",
       "      <th>0</th>\n",
       "      <td>142.0</td>\n",
       "      <td>2002</td>\n",
       "    </tr>\n",
       "    <tr>\n",
       "      <th>1</th>\n",
       "      <td>232.0</td>\n",
       "      <td>2002</td>\n",
       "    </tr>\n",
       "    <tr>\n",
       "      <th>2</th>\n",
       "      <td>132.5</td>\n",
       "      <td>2002</td>\n",
       "    </tr>\n",
       "    <tr>\n",
       "      <th>3</th>\n",
       "      <td>200.0</td>\n",
       "      <td>2002</td>\n",
       "    </tr>\n",
       "    <tr>\n",
       "      <th>4</th>\n",
       "      <td>362.0</td>\n",
       "      <td>2002</td>\n",
       "    </tr>\n",
       "  </tbody>\n",
       "</table>\n",
       "</div>"
      ],
      "text/plain": [
       "   Price  Year\n",
       "0  142.0  2002\n",
       "1  232.0  2002\n",
       "2  132.5  2002\n",
       "3  200.0  2002\n",
       "4  362.0  2002"
      ]
     },
     "execution_count": 6,
     "metadata": {},
     "output_type": "execute_result"
    }
   ],
   "source": [
    "df = pd.read_csv('./data/seattle.txt', sep='\\t')\n",
    "df.head()"
   ]
  },
  {
   "cell_type": "code",
   "execution_count": 7,
   "metadata": {},
   "outputs": [],
   "source": [
    "df_2001 = df[df.Year == 2001].reset_index(drop=True)\n",
    "df_2002 = df[df.Year == 2002].reset_index(drop=True)"
   ]
  },
  {
   "cell_type": "code",
   "execution_count": 65,
   "metadata": {},
   "outputs": [
    {
     "data": {
      "text/html": [
       "<div>\n",
       "<style scoped>\n",
       "    .dataframe tbody tr th:only-of-type {\n",
       "        vertical-align: middle;\n",
       "    }\n",
       "\n",
       "    .dataframe tbody tr th {\n",
       "        vertical-align: top;\n",
       "    }\n",
       "\n",
       "    .dataframe thead th {\n",
       "        text-align: right;\n",
       "    }\n",
       "</style>\n",
       "<table border=\"1\" class=\"dataframe\">\n",
       "  <thead>\n",
       "    <tr style=\"text-align: right;\">\n",
       "      <th></th>\n",
       "      <th>Price</th>\n",
       "      <th>Year</th>\n",
       "    </tr>\n",
       "  </thead>\n",
       "  <tbody>\n",
       "    <tr>\n",
       "      <th>count</th>\n",
       "      <td>50.000000</td>\n",
       "      <td>50.0</td>\n",
       "    </tr>\n",
       "    <tr>\n",
       "      <th>mean</th>\n",
       "      <td>288.926540</td>\n",
       "      <td>2001.0</td>\n",
       "    </tr>\n",
       "    <tr>\n",
       "      <th>std</th>\n",
       "      <td>157.777757</td>\n",
       "      <td>0.0</td>\n",
       "    </tr>\n",
       "    <tr>\n",
       "      <th>min</th>\n",
       "      <td>50.000000</td>\n",
       "      <td>2001.0</td>\n",
       "    </tr>\n",
       "    <tr>\n",
       "      <th>25%</th>\n",
       "      <td>190.250000</td>\n",
       "      <td>2001.0</td>\n",
       "    </tr>\n",
       "    <tr>\n",
       "      <th>50%</th>\n",
       "      <td>260.800000</td>\n",
       "      <td>2001.0</td>\n",
       "    </tr>\n",
       "    <tr>\n",
       "      <th>75%</th>\n",
       "      <td>406.737500</td>\n",
       "      <td>2001.0</td>\n",
       "    </tr>\n",
       "    <tr>\n",
       "      <th>max</th>\n",
       "      <td>710.000000</td>\n",
       "      <td>2001.0</td>\n",
       "    </tr>\n",
       "  </tbody>\n",
       "</table>\n",
       "</div>"
      ],
      "text/plain": [
       "            Price    Year\n",
       "count   50.000000    50.0\n",
       "mean   288.926540  2001.0\n",
       "std    157.777757     0.0\n",
       "min     50.000000  2001.0\n",
       "25%    190.250000  2001.0\n",
       "50%    260.800000  2001.0\n",
       "75%    406.737500  2001.0\n",
       "max    710.000000  2001.0"
      ]
     },
     "execution_count": 65,
     "metadata": {},
     "output_type": "execute_result"
    }
   ],
   "source": [
    "df_2001.describe()"
   ]
  },
  {
   "cell_type": "code",
   "execution_count": 66,
   "metadata": {},
   "outputs": [
    {
     "data": {
      "text/html": [
       "<div>\n",
       "<style scoped>\n",
       "    .dataframe tbody tr th:only-of-type {\n",
       "        vertical-align: middle;\n",
       "    }\n",
       "\n",
       "    .dataframe tbody tr th {\n",
       "        vertical-align: top;\n",
       "    }\n",
       "\n",
       "    .dataframe thead th {\n",
       "        text-align: right;\n",
       "    }\n",
       "</style>\n",
       "<table border=\"1\" class=\"dataframe\">\n",
       "  <thead>\n",
       "    <tr style=\"text-align: right;\">\n",
       "      <th></th>\n",
       "      <th>Price</th>\n",
       "      <th>Year</th>\n",
       "    </tr>\n",
       "  </thead>\n",
       "  <tbody>\n",
       "    <tr>\n",
       "      <th>count</th>\n",
       "      <td>50.000000</td>\n",
       "      <td>50.0</td>\n",
       "    </tr>\n",
       "    <tr>\n",
       "      <th>mean</th>\n",
       "      <td>329.257140</td>\n",
       "      <td>2002.0</td>\n",
       "    </tr>\n",
       "    <tr>\n",
       "      <th>std</th>\n",
       "      <td>316.830045</td>\n",
       "      <td>0.0</td>\n",
       "    </tr>\n",
       "    <tr>\n",
       "      <th>min</th>\n",
       "      <td>50.000000</td>\n",
       "      <td>2002.0</td>\n",
       "    </tr>\n",
       "    <tr>\n",
       "      <th>25%</th>\n",
       "      <td>176.200000</td>\n",
       "      <td>2002.0</td>\n",
       "    </tr>\n",
       "    <tr>\n",
       "      <th>50%</th>\n",
       "      <td>244.925000</td>\n",
       "      <td>2002.0</td>\n",
       "    </tr>\n",
       "    <tr>\n",
       "      <th>75%</th>\n",
       "      <td>328.625000</td>\n",
       "      <td>2002.0</td>\n",
       "    </tr>\n",
       "    <tr>\n",
       "      <th>max</th>\n",
       "      <td>1850.000000</td>\n",
       "      <td>2002.0</td>\n",
       "    </tr>\n",
       "  </tbody>\n",
       "</table>\n",
       "</div>"
      ],
      "text/plain": [
       "             Price    Year\n",
       "count    50.000000    50.0\n",
       "mean    329.257140  2002.0\n",
       "std     316.830045     0.0\n",
       "min      50.000000  2002.0\n",
       "25%     176.200000  2002.0\n",
       "50%     244.925000  2002.0\n",
       "75%     328.625000  2002.0\n",
       "max    1850.000000  2002.0"
      ]
     },
     "execution_count": 66,
     "metadata": {},
     "output_type": "execute_result"
    }
   ],
   "source": [
    "df_2002.describe()"
   ]
  },
  {
   "cell_type": "code",
   "execution_count": 35,
   "metadata": {},
   "outputs": [
    {
     "data": {
      "image/png": "[encoded data removed]",
      "text/plain": [
       "<Figure size 432x288 with 1 Axes>"
      ]
     },
     "metadata": {},
     "output_type": "display_data"
    }
   ],
   "source": [
    "sns.histplot(data=df_2001, x='Price', bins=9, kde=True);"
   ]
  },
  {
   "cell_type": "code",
   "execution_count": 36,
   "metadata": {},
   "outputs": [
    {
     "data": {
      "image/png": "[encoded data removed]",
      "text/plain": [
       "<Figure size 432x288 with 1 Axes>"
      ]
     },
     "metadata": {},
     "output_type": "display_data"
    }
   ],
   "source": [
    "sns.histplot(data=df_2002, x='Price', bins=9, kde=True);"
   ]
  },
  {
   "cell_type": "markdown",
   "metadata": {},
   "source": [
    "Первый график напоминает нормальное распределение, а второй - показательное. Проверим наши гипотезы"
   ]
  },
  {
   "cell_type": "code",
   "execution_count": 44,
   "metadata": {},
   "outputs": [
    {
     "data": {
      "image/png": "[encoded data removed]",
      "text/plain": [
       "<Figure size 432x288 with 1 Axes>"
      ]
     },
     "metadata": {},
     "output_type": "display_data"
    }
   ],
   "source": [
    "sns.boxplot(data=df_2001, x='Price');"
   ]
  },
  {
   "cell_type": "code",
   "execution_count": 45,
   "metadata": {},
   "outputs": [
    {
     "data": {
      "image/png": "[encoded data removed]",
      "text/plain": [
       "<Figure size 432x288 with 1 Axes>"
      ]
     },
     "metadata": {},
     "output_type": "display_data"
    }
   ],
   "source": [
    "sns.boxplot(data=df_2002, x='Price');"
   ]
  },
  {
   "cell_type": "markdown",
   "metadata": {},
   "source": [
    "Заметим большое количество выбросов на втором графике. При этом значения медианы не изменились, хотя разброс значительно уменьшился."
   ]
  },
  {
   "cell_type": "code",
   "execution_count": 9,
   "metadata": {},
   "outputs": [
    {
     "name": "stdout",
     "output_type": "stream",
     "text": [
      "pvalue > 0.05 => гипотеза о принадлежности к норм. распределению не отвергается\n"
     ]
    },
    {
     "data": {
      "text/plain": [
       "KstestResult(statistic=0.10199767623856881, pvalue=0.6383920354669088)"
      ]
     },
     "execution_count": 9,
     "metadata": {},
     "output_type": "execute_result"
    }
   ],
   "source": [
    "# Воспользуемся критерием Колмогорова, тк у нас непрерывное распределение\n",
    "\n",
    "# H_0: df_2001 имеет нормальное распределение\n",
    "# H_1\n",
    "\n",
    "x = df_2001.Price\n",
    "mu, sigma = x.mean(), x.std(ddof=1)\n",
    "\n",
    "print('pvalue > 0.05 => гипотеза о принадлежности к норм. распределению не отвергается')\n",
    "stats.kstest(x, 'norm', args=(mu, sigma))"
   ]
  },
  {
   "cell_type": "code",
   "execution_count": 12,
   "metadata": {},
   "outputs": [
    {
     "name": "stdout",
     "output_type": "stream",
     "text": [
      "pvalue < 0.05 => гипотеза о принадлежности df_2002 к показат. распределению отвергается\n"
     ]
    },
    {
     "data": {
      "text/plain": [
       "KstestResult(statistic=0.2208053625754045, pvalue=0.012734413723750615)"
      ]
     },
     "execution_count": 12,
     "metadata": {},
     "output_type": "execute_result"
    }
   ],
   "source": [
    "# Воспользуемся критерием Колмогорова, тк у нас непрерывное распределение\n",
    "\n",
    "# H_0: df_2002 имеет показательное распределение\n",
    "# H_1\n",
    "\n",
    "y = df_2002.Price\n",
    "mu, loc = y.mean(), y.min()\n",
    "print('pvalue < 0.05 => гипотеза о принадлежности df_2002 к показат. распределению отвергается')\n",
    "stats.kstest(y, 'expon', args=(loc, mu) )\n"
   ]
  },
  {
   "cell_type": "code",
   "execution_count": 77,
   "metadata": {},
   "outputs": [
    {
     "name": "stdout",
     "output_type": "stream",
     "text": [
      "Наблюдаемое значение 0.04152 меньше критического 1.677 => нулевая гипотеза не отвергается\n"
     ]
    }
   ],
   "source": [
    "# Будем считать, что жилье дорогое в опред районе Сиетла 2001, если оно стоило > 288\n",
    "# Воспользуемся точным тестом\n",
    "# H_0: mu >= 288  жилье дорогое в опред районе Сиетла \n",
    "# H_1: mu < 288\n",
    "\n",
    "\n",
    "alpha = 0.05                         # уровень значимости = 5%\n",
    "mu_0 = 288                             # тестируемое мат. ожидание выборки\n",
    "n = x.size                           # размер выборки\n",
    "mu = x.mean()                        # среднее значение\n",
    "\n",
    "\n",
    "t_obs = (mu - mu_0)/std                     # наблюдаемое значение статистики \n",
    "t_crit = stats.t(n - 1).ppf(1 - alpha)   # критическое значение статистики\n",
    "\n",
    "print(f'Наблюдаемое значение {t_obs:.4} меньше критического {t_crit:.4} => нулевая гипотеза не отвергается')"
   ]
  },
  {
   "cell_type": "code",
   "execution_count": 81,
   "metadata": {},
   "outputs": [
    {
     "name": "stdout",
     "output_type": "stream",
     "text": [
      "Наблюдаемое значение: -0.01657928\n",
      "P-значение: 0.493 > 0.05 => гипотеза о дорогом жилье не отвергается\n"
     ]
    }
   ],
   "source": [
    "# Будем считать, что жилье дорогое в опред районе Сиетла 2002, если оно стоило > 330\n",
    "# Воспользуемся ассимпт тестом\n",
    "\n",
    "# H_0: mu >= 330  жилье дорогое в опред районе Сиетла \n",
    "# H_1: mu < 330\n",
    "\n",
    "z_obs, p_val = ztest(y, value=330, alternative='smaller')\n",
    "\n",
    "print(f\"Наблюдаемое значение: {z_obs:.7}\") \n",
    "print(f\"P-значение: {p_val:.3} > 0.05 => гипотеза о дорогом жилье не отвергается\") "
   ]
  },
  {
   "cell_type": "code",
   "execution_count": 14,
   "metadata": {},
   "outputs": [
    {
     "name": "stdout",
     "output_type": "stream",
     "text": [
      "Наблюдаемое значение -0.80573 меньше критического 1.64 => нулевая гипотеза не отвергается\n"
     ]
    }
   ],
   "source": [
    "# Если предположить, в выборках нет выбросов и они незавсимы, то можно воспользоваться ЦПТ \n",
    "# и найти разность средних\n",
    "\n",
    "# H_0: mu_x = mu_y  жилье в среднем не выросло в цене\n",
    "# H_1: mu_x > mu_y жилье подорожало к 2002\n",
    "\n",
    "alpha = 0.05                                                    \n",
    "nx, ny = x.size, y.size                                   \n",
    "\n",
    "diff = x.mean() - y.mean()                               \n",
    "diff_std = np.sqrt(x.var(ddof=1)/nx + y.var(ddof=1)/ny)  \n",
    "\n",
    "z_obs = diff/diff_std                                         \n",
    "\n",
    "print(f'Наблюдаемое значение {z_obs:.5} меньше критического {z_crit:.3} => нулевая гипотеза не отвергается')\n"
   ]
  },
  {
   "cell_type": "markdown",
   "metadata": {
    "id": "ew4ByKQOXjyD"
   },
   "source": [
    "## Расход топлива\n",
    "В файле mtcars.csv находятся данные из американского журнала Motor Trend 1974 года. Они описывают расход топлива в зависимости от 10 характеристик автомобиля (все автомобили 1973-1974 года). А именно, в данных вы найдете следующие столбцы:\n",
    "1. mpg — расход топлива (миль/галлон); \n",
    "2. cyl — количество цилиндров мотора; 3) disp — объем мотор (куб. дюйм);\n",
    "4. hp — мощность мотора (в лошадиных силах);\n",
    "5. drat — передаточное число редуктора заднего моста;\n",
    "6. wt — вес (тысяч фунтов);\n",
    "7. qsec — время, за которое автомобиль проезжает 1/4 мили;\n",
    "8. vs — тип двигателя (0 = V-образный, 1 = рядный);\n",
    "9. am — тип коробки передач (0 = автоматическая, 1 = ручная);\n",
    "10. gear — количество передних передач; 11) carb — количество карбюраторов.\n",
    "\n"
   ]
  },
  {
   "cell_type": "markdown",
   "metadata": {
    "id": "nFvA_mW-MVkM"
   },
   "source": [
    "- Влияет ли тип двигателя на расход топлива? \n",
    "- А тип коробки передач?\n",
    "- Взаимосвязаны ли тип двигателя и тип коробки передач?"
   ]
  },
  {
   "cell_type": "code",
   "execution_count": null,
   "metadata": {
    "colab": {
     "base_uri": "https://localhost:8080/",
     "height": 202
    },
    "executionInfo": {
     "elapsed": 669,
     "status": "ok",
     "timestamp": 1636727359971,
     "user": {
      "displayName": "Ilya A",
      "photoUrl": "https://lh3.googleusercontent.com/a-/AOh14GiSa8oddSgsU03OOnvGn7Dk96PjoJwbTrHh_f7oDw=s64",
      "userId": "17148912465935982955"
     },
     "user_tz": -180
    },
    "id": "OqCi07e-XsGv",
    "outputId": "a07743a7-1750-4230-bc51-bfafe58aac86"
   },
   "outputs": [
    {
     "data": {
      "text/html": [
       "<div>\n",
       "<style scoped>\n",
       "    .dataframe tbody tr th:only-of-type {\n",
       "        vertical-align: middle;\n",
       "    }\n",
       "\n",
       "    .dataframe tbody tr th {\n",
       "        vertical-align: top;\n",
       "    }\n",
       "\n",
       "    .dataframe thead th {\n",
       "        text-align: right;\n",
       "    }\n",
       "</style>\n",
       "<table border=\"1\" class=\"dataframe\">\n",
       "  <thead>\n",
       "    <tr style=\"text-align: right;\">\n",
       "      <th></th>\n",
       "      <th>mpg</th>\n",
       "      <th>cyl</th>\n",
       "      <th>disp</th>\n",
       "      <th>hp</th>\n",
       "      <th>drat</th>\n",
       "      <th>wt</th>\n",
       "      <th>qsec</th>\n",
       "      <th>vs</th>\n",
       "      <th>am</th>\n",
       "      <th>gear</th>\n",
       "      <th>carb</th>\n",
       "    </tr>\n",
       "  </thead>\n",
       "  <tbody>\n",
       "    <tr>\n",
       "      <th>Mazda RX4</th>\n",
       "      <td>21.0</td>\n",
       "      <td>6</td>\n",
       "      <td>160.0</td>\n",
       "      <td>110</td>\n",
       "      <td>3.90</td>\n",
       "      <td>2.620</td>\n",
       "      <td>16.46</td>\n",
       "      <td>0</td>\n",
       "      <td>1</td>\n",
       "      <td>4</td>\n",
       "      <td>4</td>\n",
       "    </tr>\n",
       "    <tr>\n",
       "      <th>Mazda RX4 Wag</th>\n",
       "      <td>21.0</td>\n",
       "      <td>6</td>\n",
       "      <td>160.0</td>\n",
       "      <td>110</td>\n",
       "      <td>3.90</td>\n",
       "      <td>2.875</td>\n",
       "      <td>17.02</td>\n",
       "      <td>0</td>\n",
       "      <td>1</td>\n",
       "      <td>4</td>\n",
       "      <td>4</td>\n",
       "    </tr>\n",
       "    <tr>\n",
       "      <th>Datsun 710</th>\n",
       "      <td>22.8</td>\n",
       "      <td>4</td>\n",
       "      <td>108.0</td>\n",
       "      <td>93</td>\n",
       "      <td>3.85</td>\n",
       "      <td>2.320</td>\n",
       "      <td>18.61</td>\n",
       "      <td>1</td>\n",
       "      <td>1</td>\n",
       "      <td>4</td>\n",
       "      <td>1</td>\n",
       "    </tr>\n",
       "    <tr>\n",
       "      <th>Hornet 4 Drive</th>\n",
       "      <td>21.4</td>\n",
       "      <td>6</td>\n",
       "      <td>258.0</td>\n",
       "      <td>110</td>\n",
       "      <td>3.08</td>\n",
       "      <td>3.215</td>\n",
       "      <td>19.44</td>\n",
       "      <td>1</td>\n",
       "      <td>0</td>\n",
       "      <td>3</td>\n",
       "      <td>1</td>\n",
       "    </tr>\n",
       "    <tr>\n",
       "      <th>Hornet Sportabout</th>\n",
       "      <td>18.7</td>\n",
       "      <td>8</td>\n",
       "      <td>360.0</td>\n",
       "      <td>175</td>\n",
       "      <td>3.15</td>\n",
       "      <td>3.440</td>\n",
       "      <td>17.02</td>\n",
       "      <td>0</td>\n",
       "      <td>0</td>\n",
       "      <td>3</td>\n",
       "      <td>2</td>\n",
       "    </tr>\n",
       "  </tbody>\n",
       "</table>\n",
       "</div>"
      ],
      "text/plain": [
       "                    mpg  cyl   disp   hp  drat     wt   qsec  vs  am  gear  \\\n",
       "Mazda RX4          21.0    6  160.0  110  3.90  2.620  16.46   0   1     4   \n",
       "Mazda RX4 Wag      21.0    6  160.0  110  3.90  2.875  17.02   0   1     4   \n",
       "Datsun 710         22.8    4  108.0   93  3.85  2.320  18.61   1   1     4   \n",
       "Hornet 4 Drive     21.4    6  258.0  110  3.08  3.215  19.44   1   0     3   \n",
       "Hornet Sportabout  18.7    8  360.0  175  3.15  3.440  17.02   0   0     3   \n",
       "\n",
       "                   carb  \n",
       "Mazda RX4             4  \n",
       "Mazda RX4 Wag         4  \n",
       "Datsun 710            1  \n",
       "Hornet 4 Drive        1  \n",
       "Hornet Sportabout     2  "
      ]
     },
     "execution_count": 5,
     "metadata": {},
     "output_type": "execute_result"
    }
   ],
   "source": [
    "df = pd.read_csv('./data/mtcars.csv', index_col=0)\n",
    "df.head()\n"
   ]
  },
  {
   "cell_type": "markdown",
   "metadata": {
    "id": "9Zz_I5TeMVkM"
   },
   "source": [
    "#### vs, mpg"
   ]
  },
  {
   "cell_type": "code",
   "execution_count": null,
   "metadata": {
    "id": "7CqwhMoPMVkN"
   },
   "outputs": [],
   "source": []
  },
  {
   "cell_type": "markdown",
   "metadata": {
    "id": "gaZ6XmvuexzG"
   },
   "source": [
    "#### am, mpg"
   ]
  },
  {
   "cell_type": "code",
   "execution_count": null,
   "metadata": {
    "id": "G7zm74eAMVkN"
   },
   "outputs": [],
   "source": []
  },
  {
   "cell_type": "markdown",
   "metadata": {
    "id": "kCLFYqFzMVkN"
   },
   "source": [
    "#### vs, am"
   ]
  },
  {
   "cell_type": "code",
   "execution_count": null,
   "metadata": {
    "id": "c_kuNAaZMVkO"
   },
   "outputs": [],
   "source": []
  },
  {
   "cell_type": "code",
   "execution_count": null,
   "metadata": {
    "id": "7RS1EAkpMSSr"
   },
   "outputs": [],
   "source": []
  }
 ],
 "metadata": {
  "colab": {
   "collapsed_sections": [],
   "name": "hw3-hypothesis.ipynb",
   "provenance": [
    {
     "file_id": "1zyavlR7sioHt3RaOI6xBeW1YhcJmAChg",
     "timestamp": 1652628556225
    },
    {
     "file_id": "1KP9E-nhgD0AVg30jbGMJ5uJM5ameO5zq",
     "timestamp": 1652628202457
    }
   ],
   "toc_visible": true
  },
  "kernelspec": {
   "display_name": "Python 3",
   "language": "python",
   "name": "python3"
  },
  "language_info": {
   "codemirror_mode": {
    "name": "ipython",
    "version": 3
   },
   "file_extension": ".py",
   "mimetype": "text/x-python",
   "name": "python",
   "nbconvert_exporter": "python",
   "pygments_lexer": "ipython3",
   "version": "3.8.8"
  },
  "toc": {
   "base_numbering": 1,
   "nav_menu": {},
   "number_sections": false,
   "sideBar": true,
   "skip_h1_title": false,
   "title_cell": "Table of Contents",
   "title_sidebar": "Contents",
   "toc_cell": true,
   "toc_position": {},
   "toc_section_display": true,
   "toc_window_display": true
  }
 },
 "nbformat": 4,
 "nbformat_minor": 1
}
