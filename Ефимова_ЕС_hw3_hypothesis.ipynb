{
 "cells": [
  {
   "cell_type": "markdown",
   "metadata": {
    "toc": true
   },
   "source": [
    "<h1>Table of Contents<span class=\"tocSkip\"></span></h1>\n",
    "<div class=\"toc\"><ul class=\"toc-item\"><li><span><a href=\"#Часть-1---Параметрические-гипотезы\" data-toc-modified-id=\"Часть-1---Параметрические-гипотезы-1\">Часть 1 - Параметрические гипотезы</a></span><ul class=\"toc-item\"><li><span><a href=\"#Мудрость\" data-toc-modified-id=\"Мудрость-1.1\">Мудрость</a></span></li><li><span><a href=\"#Тайлер\" data-toc-modified-id=\"Тайлер-1.2\">Тайлер</a></span></li><li><span><a href=\"#Рейтинги-президентов\" data-toc-modified-id=\"Рейтинги-президентов-1.3\">Рейтинги президентов</a></span></li><li><span><a href=\"#Сон\" data-toc-modified-id=\"Сон-1.4\">Сон</a></span></li><li><span><a href=\"#Say-my-name\" data-toc-modified-id=\"Say-my-name-1.5\">Say my name</a></span></li><li><span><a href=\"#Матан\" data-toc-modified-id=\"Матан-1.6\">Матан</a></span></li><li><span><a href=\"#Бутерброд\" data-toc-modified-id=\"Бутерброд-1.7\">Бутерброд</a></span></li></ul></li><li><span><a href=\"#Часть-2---Непараметрические-гипотезы\" data-toc-modified-id=\"Часть-2---Непараметрические-гипотезы-2\">Часть 2 - Непараметрические гипотезы</a></span><ul class=\"toc-item\"><li><span><a href=\"#Однородная-игра\" data-toc-modified-id=\"Однородная-игра-2.1\">Однородная игра</a></span></li><li><span><a href=\"#Мыши-и-зеркало\" data-toc-modified-id=\"Мыши-и-зеркало-2.2\">Мыши и зеркало</a></span></li><li><span><a href=\"#Энергетик\" data-toc-modified-id=\"Энергетик-2.3\">Энергетик</a></span></li><li><span><a href=\"#Бомбардировки\" data-toc-modified-id=\"Бомбардировки-2.4\">Бомбардировки</a></span></li></ul></li><li><span><a href=\"#Часть-3---Самостоятельный-анализ\" data-toc-modified-id=\"Часть-3---Самостоятельный-анализ-3\">Часть 3 - Самостоятельный анализ</a></span><ul class=\"toc-item\"><li><span><a href=\"#Анорексия\" data-toc-modified-id=\"Анорексия-3.1\">Анорексия</a></span></li><li><span><a href=\"#Метилфенидат\" data-toc-modified-id=\"Метилфенидат-3.2\">Метилфенидат</a></span></li><li><span><a href=\"#Сиэтл\" data-toc-modified-id=\"Сиэтл-3.3\">Сиэтл</a></span></li><li><span><a href=\"#Расход-топлива\" data-toc-modified-id=\"Расход-топлива-3.4\">Расход топлива</a></span><ul class=\"toc-item\"><li><ul class=\"toc-item\"><li><span><a href=\"#vs,-mpg\" data-toc-modified-id=\"vs,-mpg-3.4.0.1\">vs, mpg</a></span></li><li><span><a href=\"#am,-mpg\" data-toc-modified-id=\"am,-mpg-3.4.0.2\">am, mpg</a></span></li><li><span><a href=\"#vs,-am\" data-toc-modified-id=\"vs,-am-3.4.0.3\">vs, am</a></span></li></ul></li></ul></li></ul></li></ul></div>"
   ]
  },
  {
   "cell_type": "markdown",
   "metadata": {
    "id": "oelts-ZPPCpd"
   },
   "source": [
    "В этом домашнем задании предстоит проверить много гипотез.\n",
    "\n",
    "Каждая гипотеза дает от 5 до 10 баллов и все они поделены на 3 части. Ориентир по заданиям ниже.\n",
    "\n",
    "\n",
    "Все датасеты лежат [тут](https://drive.google.com/open?id=1-psTZYeGvnr7UKt77X3D271N5BzNRxzZ). Можно скачать эту папку, положить в соседнюю с рабочими ноутбуками и указать соответствующий путь `'../data/something.csv'`\n",
    "\n",
    "В классрум нужно сдать заполненный ipynb ноутбук с кодом и комментариями. Просьба назвать файлы в формате: `Иванова.ipynb`. Архивировать файл и присылать датасеты НЕ нужно.\n",
    "\n",
    "\n",
    "**Часть 1 - Параметрические гипотезы**\n",
    "\n",
    "| Задание              | Баллы |\n",
    "|----------------------|-------|\n",
    "| Мудрость             |     5 |\n",
    "| Тайлер               |     5 |\n",
    "| Рейтинги президентов |     5 |\n",
    "| Сон                  |     5 |\n",
    "| Say my name          |     5 |\n",
    "| Матан                |     5 |\n",
    "| Бутерброд            |     5 |\n",
    "| Всего                |    35 |\n",
    "\n",
    "\n",
    "**Часть 2 - Непараметрические гипотезы**\n",
    "\n",
    "| Задание            | Датасет         | Баллы |\n",
    "|--------------------|-----------------|-------|\n",
    "| Однородная игра    | killer_time     |     5 |\n",
    "| Мыши и зеркало     | mouses_mirror   |     5 |\n",
    "| Энергетик          | energy drink    |     5 |\n",
    "| Бомбардировки      | london          |     10 |\n",
    "| | Всего                |    25 |\n",
    "\n",
    "**Часть 3 - Самостоятельный анализ**\n",
    "\n",
    "| Задание            | Датасет         | Баллы |\n",
    "|--------------------|-----------------|-------|\n",
    "| Анорексия          | anorexia        |     10 |\n",
    "| Метилфенидат       | methylphenidate |     5 |\n",
    "| Сиэтл              | seattle         |     5 |\n",
    "| Расход топлива - 1 | mtcars: vs mpg  |     5 |\n",
    "| Расход топлива - 2 | mtcars: am mpg  |     5 |\n",
    "| Расход топлива - 3 | mtcars: am vs   |     10 |\n",
    "|                    | Всего           |    40 |\n"
   ]
  },
  {
   "cell_type": "markdown",
   "metadata": {
    "id": "lQH8gmSWGbDC"
   },
   "source": [
    "# Часть 1 - Параметрические гипотезы\n"
   ]
  },
  {
   "cell_type": "code",
   "execution_count": null,
   "metadata": {
    "id": "v8VHlKCHGbDH"
   },
   "outputs": [],
   "source": [
    "import numpy as np\n",
    "import pandas as pd\n",
    "\n",
    "from scipy import stats as sts\n",
    "\n",
    "import seaborn as sns\n",
    "import matplotlib.pyplot as plt\n",
    "\n",
    "plt.style.use('ggplot')"
   ]
  },
  {
   "cell_type": "markdown",
   "metadata": {
    "id": "N61MUFtnGbDI"
   },
   "source": [
    "## Мудрость\n",
    "\n",
    "> Помните, что для человека звук его имени является самым сладким и самым важным звуком человеческой речи. (Дейл Карнеги)\n",
    "\n",
    "Доверяй, но проверяй. Решим задачку по психологии! Все цитаты в пабликах вконтакте делятся на два вида: мудрые и недостаточно мудрые. Если цитата мудрая, то её можно лайкнуть. Поговаривают, что если в цитате есть личные местоимения, то пользователь автоматически сопоставляет себя автору этой цитаты и вероятность того, что она будет лайкнута, повышается. Например, цитату \n",
    "\n",
    "> Можно простить человеку все, кроме отсутствия. (Экзюпери) \n",
    "\n",
    "мне не очень хотелось бы лайкать. А вот цитата \n",
    "\n",
    "> Мне наплевать, что вы обо мне думаете. Я о вас вообще не думаю. (Булгаков) \n",
    "\n",
    "совершенно другое дело. \n",
    "\n",
    "В табличке `df_vk_wise` лежат данные о мудрых цитатах из [мудрого паблика.](https://vk.com/ooioioioioioo) В колонке `I` находится переменная, которая принимает значение `True`, когда в тексте цитаты было личное местоимение \"Я\".\n",
    "\n",
    "Срежем первые $50$ постов, так как под ними количество репостов и лайков ещё окончательно не выставлено, и будем работать с остатками. "
   ]
  },
  {
   "cell_type": "code",
   "execution_count": null,
   "metadata": {
    "id": "war-ReUpGbDK"
   },
   "outputs": [],
   "source": [
    "df = pd.read_csv('./data/df_vk_wise.csv')[50:]\n",
    "df.head()"
   ]
  },
  {
   "cell_type": "markdown",
   "metadata": {
    "id": "wXuqQ9ZSGbDK"
   },
   "source": [
    "Постройте гистограмму для числа лайков постов, содержащих личные местоимения и не содержащих. Как думаете, есть ли с распределением лайков какие-то проблемы?"
   ]
  },
  {
   "cell_type": "code",
   "execution_count": null,
   "metadata": {
    "deletable": false,
    "id": "ZDA_1HIWGbDK",
    "nbgrader": {
     "cell_type": "code",
     "checksum": "3959fa2c8afbb37a435b22f39831c1b4",
     "grade": false,
     "grade_id": "cell-5b1acf05ccd983b3",
     "locked": false,
     "schema_version": 3,
     "solution": true,
     "task": false
    }
   },
   "outputs": [],
   "source": [
    "### ╰( ͡° ͜ʖ ͡° )つ▬▬ι═══════  bzzzzzzzzzz\n",
    "# your code below\n"
   ]
  },
  {
   "cell_type": "markdown",
   "metadata": {
    "id": "n4N8AsezGbDL"
   },
   "source": [
    "Да, проблемы есть. Это выбросы. Хвосты на гистограммах оказываются очень длинными. Найдите медианы и средние для числа лайков. Сравните их между собой. "
   ]
  },
  {
   "cell_type": "code",
   "execution_count": null,
   "metadata": {
    "deletable": false,
    "id": "fa-zOO27GbDM",
    "nbgrader": {
     "cell_type": "code",
     "checksum": "920d011f18252d1f5ad8a0acbd77af8b",
     "grade": false,
     "grade_id": "cell-84afb85a40373b11",
     "locked": false,
     "schema_version": 3,
     "solution": true,
     "task": false
    }
   },
   "outputs": [],
   "source": [
    "### ╰( ͡° ͜ʖ ͡° )つ▬▬ι═══════  bzzzzzzzzzz\n",
    "# your code below\n"
   ]
  },
  {
   "cell_type": "markdown",
   "metadata": {
    "id": "r5GY3AfUGbDN"
   },
   "source": [
    "Проверьте гипотезу о равенстве среднего числа лайков. Используйте для этого $z$-тест, основанный на ЦПТ. Дисперсию расчитывайте по выборке, используя несмещённую оценку `(ddof=1)`. Запишите наблюдаемое значение статистики в переменную `z_obs`. "
   ]
  },
  {
   "cell_type": "code",
   "execution_count": null,
   "metadata": {
    "deletable": false,
    "id": "5H0qKAPQGbDN",
    "nbgrader": {
     "cell_type": "code",
     "checksum": "7f93ee1688388c6a8b8449e05da2fe98",
     "grade": false,
     "grade_id": "cell-1acfb89f07181a0a",
     "locked": false,
     "schema_version": 3,
     "solution": true,
     "task": false
    }
   },
   "outputs": [],
   "source": [
    "### ╰( ͡° ͜ʖ ͡° )つ▬▬ι═══════  bzzzzzzzzzz\n",
    "# your code below\n",
    "\n",
    "alpha = 0.05 \n",
    "z_obs = ...\n",
    "\n"
   ]
  },
  {
   "cell_type": "markdown",
   "metadata": {
    "id": "vbg7UO3bGbDO"
   },
   "source": [
    "Найдите критическое значение статистики. Сравните его с наблюдаемым. Рассчитайте p-value для ситуации с двусторонней альтернативой. Сделайте вывод о выдвинутой гипотезе. Критическое значение статистики запишите в переменную `z_crit`, а p-значение в переменную `pval`. "
   ]
  },
  {
   "cell_type": "code",
   "execution_count": null,
   "metadata": {
    "deletable": false,
    "id": "05R0EttDGbDO",
    "nbgrader": {
     "cell_type": "code",
     "checksum": "46bd437560b80a2b837cc3e7d7415f62",
     "grade": false,
     "grade_id": "cell-9ebff976022e649a",
     "locked": false,
     "schema_version": 3,
     "solution": true,
     "task": false
    }
   },
   "outputs": [],
   "source": [
    "### ╰( ͡° ͜ʖ ͡° )つ▬▬ι═══════  bzzzzzzzzzz\n",
    "# your code below\n",
    "z_crit = ...\n",
    "pval = ...\n"
   ]
  },
  {
   "cell_type": "code",
   "execution_count": null,
   "metadata": {
    "id": "8wh9Bxr4Hq2_"
   },
   "outputs": [],
   "source": [
    "# проверка того, что задание решено верно\n",
    "assert np.abs(z_obs - 2.6644610922505323) < 1e-5"
   ]
  },
  {
   "cell_type": "markdown",
   "metadata": {
    "id": "s65r_aiUGbDP"
   },
   "source": [
    "Можно заметить, что у распределения числа репостов длинные хвосты. В данных есть выбросы, которые завышают среднее значение. Если выбросы сильные, то ЦПТ может ломаться. Из-за этого имеет смысл в данном случае проверять гипотезу о равенстве медиан, которые устойчивы к выбросам.\n",
    "\n",
    "-------------------"
   ]
  },
  {
   "cell_type": "markdown",
   "metadata": {
    "id": "9F9v3lAyGbDP"
   },
   "source": [
    "## Тайлер\n",
    "\n",
    "__Люди всё время меня спрашивают, знаю ли я Тайлера Дёрдена?__ Да, знаю. Он делает лучшее мыло в стране. \n",
    "\n",
    "__а)__ Тайлер считает партию изделий хорошей, если дисперсия размера не превышает $25$ грамм$^2$. Пока Тайлер летел в самолёте, он измерил $10$ кусков мыла. Выборочная дисперсия оказалась равна $27$ грамм$^2$. Можно ли продавать эту партию или её надо списать в брак? \n",
    "\n",
    "При проверке этой гипотезы найдите $p$-значение и запишите его в переменную `pval1`. Наблюдаемое значение статистики запишите в переменную `chi_obs`. Используйте уровень значимости $1\\%$."
   ]
  },
  {
   "cell_type": "code",
   "execution_count": null,
   "metadata": {
    "deletable": false,
    "id": "-ZZE8QVVGbDR",
    "nbgrader": {
     "cell_type": "code",
     "checksum": "9b8826d6e3062cc4de98fdd59e1d6ca9",
     "grade": false,
     "grade_id": "cell-2e30e820f90148d5",
     "locked": false,
     "schema_version": 3,
     "solution": true,
     "task": false
    }
   },
   "outputs": [],
   "source": [
    "### ╰( ͡° ͜ʖ ͡° )つ▬▬ι═══════  bzzzzzzzzzz\n",
    "# your code below\n",
    "\n",
    "chi_obs = ...\n",
    "\n"
   ]
  },
  {
   "cell_type": "markdown",
   "metadata": {
    "id": "4pOvXASjGbDR"
   },
   "source": [
    "__б)__ Для того, чтобы уменьшить количество бракованного мыла, Тайлер собирается внедрить новую технологию производства. Тайлер произвёл по старой технологии $100$ кусков мыла. Стандартное отклонение этой партии составило $6$ грамм. Для  новой технологии стандартное отклонение, посчитанное по $100$ кускам мыла, составило $5$ грамм. Правда ли, что новая технология обладает меньшей дисперсией и её нужно внедрить на производстве?\n",
    "\n",
    "При проверке этой гипотезы найдите $p$-значение и запишите его в переменную `pval2`. Используйте уровень значимости $1\\%$."
   ]
  },
  {
   "cell_type": "code",
   "execution_count": null,
   "metadata": {
    "deletable": false,
    "id": "YJkHbgR9GbDR",
    "nbgrader": {
     "cell_type": "code",
     "checksum": "72a130a7ef8f3bae0797aa938d6cfe08",
     "grade": false,
     "grade_id": "cell-88a96be4941d7e62",
     "locked": false,
     "schema_version": 3,
     "solution": true,
     "task": false
    }
   },
   "outputs": [],
   "source": [
    "### ╰( ͡° ͜ʖ ͡° )つ▬▬ι═══════  bzzzzzzzzzz\n",
    "# your code below\n",
    "\n",
    "pval2 = ...\n",
    "\n"
   ]
  },
  {
   "cell_type": "code",
   "execution_count": null,
   "metadata": {
    "id": "rlB97qGJHTkb"
   },
   "outputs": [],
   "source": [
    "# проверка того, что задание решено верно\n",
    "assert np.abs(chi_obs - 9.72) < 1e-1\n",
    "assert np.abs(F_obs - 1.44) < 1e-1\n"
   ]
  },
  {
   "cell_type": "markdown",
   "metadata": {
    "id": "rswUMFMDGbDS"
   },
   "source": [
    "## Рейтинги президентов\n",
    "\n",
    "В таблице `presidents.csv` представлены рейтинги различных президентов США. Социальные опросы проводились раз в квартал. Опрашивалась случайная выборка граждан. У каждого спрашивалось одобряет ли он деятельность президента.\n",
    "\n",
    "__Люди всё время меня спрашивают, знаю ли я Никсона.__ Да, Ричард Никсон был президентом США с 20 января 1969 года по 9 августа 1974 года. 17 июня 1972 года произошёл Уотергейтский скандал. Давайте проанализируем, что при этом произошло с его рейтингом."
   ]
  },
  {
   "cell_type": "code",
   "execution_count": null,
   "metadata": {
    "id": "NVdYFIsqGbDS"
   },
   "outputs": [],
   "source": [
    "df = pd.read_csv('./data/presidents.csv')\n",
    "df.head()"
   ]
  },
  {
   "cell_type": "markdown",
   "metadata": {
    "id": "_0ArNzXdGbDS"
   },
   "source": [
    "Чтобы привести таблицу к удобному виду используйте функцию `pd.melt`. Вытащите из таблички рейтинг Никсона с 1 квартала 1969 года по 2 квартал 1972 года (включая его). Запишите эти данные в переменную `x`. Рейтинг с 3 квартала 1972 года по 2 квартал 1974 года поместите в переменную `y`. Пропуски в данных удалите из выборки."
   ]
  },
  {
   "cell_type": "code",
   "execution_count": null,
   "metadata": {
    "deletable": false,
    "id": "sLB4mxRRGbDS",
    "nbgrader": {
     "cell_type": "code",
     "checksum": "22ec9a50950897f91ca39c4631a6200c",
     "grade": false,
     "grade_id": "cell-0c35f4bdddbb0029",
     "locked": false,
     "schema_version": 3,
     "solution": true,
     "task": false
    }
   },
   "outputs": [],
   "source": [
    "### ╰( ͡° ͜ʖ ͡° )つ▬▬ι═══════  bzzzzzzzzzz\n",
    "# your code below\n",
    "\n",
    "x = ...\n",
    "y = ... \n",
    " "
   ]
  },
  {
   "cell_type": "markdown",
   "metadata": {
    "id": "3u4Vm0F0GbDT"
   },
   "source": [
    "Правда ли, что после скандала средний рейтинг Никсона рухнул? Предполагайте, что рейтинг распределён нормально, а также, что дисперсия рейтинга не изменилась из-за скандала. Наблюдаемое значение статистики запишите в переменную `obs`, в переменную `pval` запишите $p$-значение."
   ]
  },
  {
   "cell_type": "code",
   "execution_count": null,
   "metadata": {
    "deletable": false,
    "id": "aOtIUd2EGbDT",
    "nbgrader": {
     "cell_type": "code",
     "checksum": "2472ad8779c6b2e9af75ad034a8f98ae",
     "grade": false,
     "grade_id": "cell-468606ed00795265",
     "locked": false,
     "schema_version": 3,
     "solution": true,
     "task": false
    }
   },
   "outputs": [],
   "source": [
    "### ╰( ͡° ͜ʖ ͡° )つ▬▬ι═══════  bzzzzzzzzzz\n",
    "# your code below\n",
    "\n",
    "obs = ...\n",
    "pval = ...\n"
   ]
  },
  {
   "cell_type": "code",
   "execution_count": null,
   "metadata": {
    "id": "HdDiyn1_HorM"
   },
   "outputs": [],
   "source": [
    "# проверка того, что задание решено верно\n",
    "assert np.abs(obs - 3.5640741313229793) < 1e-5\n"
   ]
  },
  {
   "cell_type": "markdown",
   "metadata": {
    "id": "SfmNR7ZDGbDT"
   },
   "source": [
    "Снова президентом Никсон станет в $3000$ году. \n",
    "\n",
    "![](https://vignette.wikia.nocookie.net/futurama/images/2/2f/Richard_M._Nixon%27s_head.jpg/revision/latest/scale-to-width-down/250?cb=20131123190522&path-prefix=ru)"
   ]
  },
  {
   "cell_type": "markdown",
   "metadata": {
    "id": "79MR-7yzGbDT"
   },
   "source": [
    "## Сон\n",
    "\n",
    "Проводится эксперимент о пользе нового снотворного. Для его проведения используется группа из $10$ студентов. В первый день каждый из них ложится спать. На утро измеряется, сколько он проспал. Из результата вычитают $8$ (нормальное число часов сна). На второй день каждому дают таблетку. Утром снова измеряют сколько человек проспал, и вычитают $8$. Результаты эксперимента записаны в табличку `sleep.csv`."
   ]
  },
  {
   "cell_type": "code",
   "execution_count": null,
   "metadata": {
    "id": "N-GJLf2BGbDT"
   },
   "outputs": [],
   "source": [
    "df = pd.read_csv('./data/sleep.csv')\n",
    "df.head()"
   ]
  },
  {
   "cell_type": "markdown",
   "metadata": {
    "id": "3A0ND7dKGbDT"
   },
   "source": [
    "Правда ли, что сон студентов до приёма снотворного не отличается от нормы (отклонение от 8 часов равно нулю). Проверьте эту гипотезу на $5\\%$ уровне значимости, в переменную `pval1` запишите p-значение. "
   ]
  },
  {
   "cell_type": "code",
   "execution_count": null,
   "metadata": {
    "deletable": false,
    "id": "gjdH45OyGbDT",
    "nbgrader": {
     "cell_type": "code",
     "checksum": "84c67f6747d67cca7633914c28107c96",
     "grade": false,
     "grade_id": "cell-c04ca7c5b2d46f59",
     "locked": false,
     "schema_version": 3,
     "solution": true,
     "task": false
    }
   },
   "outputs": [],
   "source": [
    "### ╰( ͡° ͜ʖ ͡° )つ▬▬ι═══════  bzzzzzzzzzz\n",
    "# your code below\n",
    "\n",
    "tobs1 = ...\n",
    "pval1 = ...\n",
    "\n"
   ]
  },
  {
   "cell_type": "markdown",
   "metadata": {
    "id": "pJVmer_LGbDT"
   },
   "source": [
    "Правда ли, что благодаря таблеткам студенты стали спать больше (односторонняя альтернатива)? Запишите в переменную `pval2` соотвествующее p-значение. "
   ]
  },
  {
   "cell_type": "code",
   "execution_count": null,
   "metadata": {
    "deletable": false,
    "id": "HiWQGHvcGbDU",
    "nbgrader": {
     "cell_type": "code",
     "checksum": "5df1edb5b8b18a467151f30e3ad24e05",
     "grade": false,
     "grade_id": "cell-4c7c2e8e8b3c5de8",
     "locked": false,
     "schema_version": 3,
     "solution": true,
     "task": false
    }
   },
   "outputs": [],
   "source": [
    "### ╰( ͡° ͜ʖ ͡° )つ▬▬ι═══════  bzzzzzzzzzz\n",
    "# your code below\n",
    "\n",
    "tobs2 = ...\n",
    "pval2 = ...\n",
    "\n",
    "# your code here\n"
   ]
  },
  {
   "cell_type": "code",
   "execution_count": null,
   "metadata": {
    "deletable": false,
    "editable": false,
    "id": "G7euIbDEGbDU",
    "nbgrader": {
     "cell_type": "code",
     "checksum": "72bfc924a2bb01c46b9bf61fddb2620b",
     "grade": true,
     "grade_id": "cell-2167298693b77a31",
     "locked": true,
     "points": 1,
     "schema_version": 3,
     "solution": false,
     "task": false
    }
   },
   "outputs": [],
   "source": [
    "# проверка того, что задание решено верно\n",
    "assert np.abs(tobs1 - 1.325710) < 1e-5\n",
    "assert np.abs(tobs2 - 4.062127) < 1e-5\n"
   ]
  },
  {
   "cell_type": "markdown",
   "metadata": {
    "id": "oi3xznavGbDU"
   },
   "source": [
    "## Say my name\n",
    "\n",
    "__Люди всё время меня спрашивают, знает ли меня Барсик.__  Многие владельцы кошек уверены, что их питомцы могут понимать достаточно большое количество слов, а также узнавать собственное имя. Однако долгое время никто не пытался доказать это экспериментально. Разобраться с этой проблемой [решили учёные из Токийского университета.](https://nplus1.ru/news/2019/04/04/cat-name?utm_source=obrazovach&utm_medium=social&utm_campaign=yaponskie-uchenye-dokazali--chto-domashnie-k)\n",
    "\n",
    "Было проведено четыре эксперимента с участием домашних кошек и кошек из кошачьих кафе. Учёные использовали метод привыкания-отвыкания (habituation-dishabituation), который часто используется в экспериментах с участием маленьких детей. \n",
    "\n",
    "В соответствии с гипотезой, которая лежит в основе этого метода, определить реакцию на какой-либо стимул можно, представив его после схожих с ним стимулов. К примеру, для того, чтобы выяснить, может ли младенец узнать свое имя, ему представляют несколько слов подряд: с каждым новым словом его реакция снижается, но появление имени должно (в случае, если ребенок действительно узнает свое имя) ее вернуть. Этот же метод применили и к кошкам: реакция кошек на слова характеризовалась поворотом головы, движением ушей, вокализацией, движениями хвоста или перемещениями.\n",
    "\n",
    "В первом эксперименте исследователи проследили за реакцией кошек на собственное имя, произнесенное хозяином, после четырех существительных (16 кошек, живущих дома с двумя другими кошками или меньше). Данные об этом эксперименте находятся в табличке `cats_names.csv`. "
   ]
  },
  {
   "cell_type": "code",
   "execution_count": null,
   "metadata": {
    "id": "2YNrKpZWGbDU"
   },
   "outputs": [],
   "source": [
    "df = pd.read_csv('./data/cats_names.csv', sep='\\t')\n",
    "df.head()"
   ]
  },
  {
   "cell_type": "markdown",
   "metadata": {
    "id": "gb3exuPAGbDU"
   },
   "source": [
    "Будем проверять гипотезу о том, что кошки понимают своё имя с помощью упрощённой процедуры: \n",
    "\n",
    "- Вытащим из таблички все строчки, где экспериментаторы называли $4-$ое существительное. Они помечены в колонке `stimuli` как `Noun 4`. Если в колонке `Total Score` стоит положительное число, будем считать, что кошка среагировала на слово. В вектор `noun4` запишем единицу. В противном случае — ноль. \n",
    "- Вытащим по аналогии информацию о том, откликнулась ли кошка на своё имя (пометка `Test Cat's Name`) в колонке `stimuli`. Запишем её в вектор `name`.\n",
    "- Используем тест о равенстве пропорций для зависимых выборок, чтобы ответить на вопрос \"А правда ли кошка откликается на своё имя?\" В переменную `pval` запишем $p$-значение, полученное при проверке этой гипотезы. "
   ]
  },
  {
   "cell_type": "code",
   "execution_count": null,
   "metadata": {
    "deletable": false,
    "id": "Nj5kBVOUGbDU",
    "nbgrader": {
     "cell_type": "code",
     "checksum": "c019c2956f7e14de25568795f31f7dcc",
     "grade": false,
     "grade_id": "cell-4ab37a21e0f8a42c",
     "locked": false,
     "schema_version": 3,
     "solution": true,
     "task": false
    }
   },
   "outputs": [],
   "source": [
    "### ╰( ͡° ͜ʖ ͡° )つ▬▬ι═══════  bzzzzzzzzzz\n",
    "# your code below\n",
    "\n",
    "noun4 = ... \n",
    "name = ... \n",
    "\n",
    "z_obs = ...\n",
    "pval = ...\n",
    "\n"
   ]
  },
  {
   "cell_type": "code",
   "execution_count": null,
   "metadata": {
    "deletable": false,
    "editable": false,
    "id": "BQDVJw9SGbDU",
    "nbgrader": {
     "cell_type": "code",
     "checksum": "017ca952bd4b618680f94b4eb603e091",
     "grade": true,
     "grade_id": "cell-473051ae67ddc9a6",
     "locked": true,
     "points": 1,
     "schema_version": 3,
     "solution": false,
     "task": false
    }
   },
   "outputs": [],
   "source": [
    "# проверка того, что задание решено верно\n",
    "assert sum(name) == 14\n",
    "assert np.abs(z_obs - 1.7888543819998317) < 1e-5\n"
   ]
  },
  {
   "cell_type": "markdown",
   "metadata": {
    "id": "ZfOpYGpDGbDV"
   },
   "source": [
    "Выводы учёных могут отличаться от наших. Результат проверки гипотезы зависит от многих внешних факторов. Например, от громкости произнесённого кошачьего имени. Все такие факторы надо как-то изолировать.\n",
    "\n",
    "[В оригинальном исследовании](https://www.nature.com/articles/s41598-019-40616-4) учёные реализовывали более сложные статистические процедуры. Они пытались проконтролировать все внешние факторы, которые могли бы повлиять на результаты эксперимента. О том, как это можно делать, мы с вами поговорим в будущем. \n",
    "\n",
    "![](https://cdn.nplus1.ru/images/2019/04/04/47a222337ec0984bcec1644f12b4c328.gif)"
   ]
  },
  {
   "cell_type": "markdown",
   "metadata": {
    "id": "VaXPDaK_GbDV"
   },
   "source": [
    "## Матан\n",
    "\n",
    "Лекции по матану на экономическом факультете читают два преподавателя: Злой и Добрый. Каждый год они чередуются. Среди студентов ходит слух, что в год, когда преподаёт Злой, отчисляют куда больше народу. В таблице `matan.csv` лежит информация по $418$ студентам экономического факультета. \n",
    "\n",
    "В столбце `is_angry` стоит единица, если этому студенту преподавал Злой. В столбце `target_1` стоит единица, если человек закончил первый курс. Проверьте гипотезу о том, что Злой отчисляет больше народу. В переменную `pval` запишите $p$-значение, получившееся при проверке гипотезы. "
   ]
  },
  {
   "cell_type": "code",
   "execution_count": null,
   "metadata": {
    "id": "FUM7SHMEGbDV"
   },
   "outputs": [],
   "source": [
    "df = pd.read_csv('./data/matan.csv', sep='\\t')\n",
    "df.head()"
   ]
  },
  {
   "cell_type": "code",
   "execution_count": null,
   "metadata": {
    "deletable": false,
    "id": "wnTQyka1GbDV",
    "nbgrader": {
     "cell_type": "code",
     "checksum": "3ac2faf1e5b216db1ab097b8d456f1f6",
     "grade": false,
     "grade_id": "cell-06da65b1aca523bb",
     "locked": false,
     "schema_version": 3,
     "solution": true,
     "task": false
    }
   },
   "outputs": [],
   "source": [
    "### ╰( ͡° ͜ʖ ͡° )つ▬▬ι═══════  bzzzzzzzzzz\n",
    "# your code below\n",
    "\n",
    "pval = ... \n",
    "z_obs = ...\n",
    "\n"
   ]
  },
  {
   "cell_type": "code",
   "execution_count": null,
   "metadata": {
    "id": "GqW25tKZHk6e"
   },
   "outputs": [],
   "source": [
    "# проверка того, что задание решено верно\n",
    "assert np.abs(np.abs(z_obs) - 0.29897)  < 1e-5\n"
   ]
  },
  {
   "cell_type": "markdown",
   "metadata": {
    "id": "9iC8GwjFGbDV"
   },
   "source": [
    "## Бутерброд\n",
    "\n",
    "Вася решил проверить известное утверждение о том, что бутерброд падает маслом вниз. Для этого он провёл серию из $200$ испытаний. Бутерброд упал маслом вниз $105$ раз. Маслом вверх $95$ раз. Можно ли утверждать, что бутерброд падает маслом вниз так же часто, как и маслом вверх на уровне значимости $5\\%$? В качестве ответа сохраните в `pval` $p$-значение. \n",
    "\n",
    "__Примечание:__ для поиска дисперсии используйте смещённый вариант. Либо по формуле $\\frac{p\\cdot(1-p)}{n}$ либо с помощью `std(ddof=0)`. При поиске `pval` обратите внимание, что алтернатива двусторонняя. А ещё [прочитайте историю](https://absentis.livejournal.com/27153.html) про то, почему Коперник мазал бутеры маслом. "
   ]
  },
  {
   "cell_type": "code",
   "execution_count": null,
   "metadata": {
    "deletable": false,
    "id": "CcejINJEGbDV",
    "nbgrader": {
     "cell_type": "code",
     "checksum": "32402f85ea10dfa3f248e44f703663e5",
     "grade": false,
     "grade_id": "cell-db59ee9982bc3985",
     "locked": false,
     "schema_version": 3,
     "solution": true,
     "task": false
    }
   },
   "outputs": [],
   "source": [
    "### ╰( ͡° ͜ʖ ͡° )つ▬▬ι═══════  bzzzzzzzzzz\n",
    "# your code below\n",
    "\n",
    "n = 200\n",
    "m = 105\n",
    "\n",
    "pval = ... \n",
    "z_obs = ...\n",
    "\n"
   ]
  },
  {
   "cell_type": "code",
   "execution_count": null,
   "metadata": {
    "id": "U-bMjDhgHkHx"
   },
   "outputs": [],
   "source": [
    "# проверка того, что задание решено верно\n",
    "assert np.abs(z_obs - 0.70799) < 1e-5\n"
   ]
  },
  {
   "cell_type": "markdown",
   "metadata": {
    "id": "GaYQOkrIGbDV"
   },
   "source": [
    "<img src=\"https://i.ibb.co/Ks57rDV/student-teacher-dist.png\" height=\"300\" width=\"600\"> "
   ]
  },
  {
   "cell_type": "markdown",
   "metadata": {
    "id": "J142jEhuVybT"
   },
   "source": [
    "# Часть 2 - Непараметрические гипотезы\n"
   ]
  },
  {
   "cell_type": "markdown",
   "metadata": {
    "id": "bvr1yy3JJUXI"
   },
   "source": [
    "## Однородная игра\n",
    "\n",
    "Киллер - это весёлая лагерная игра. Краткие правила игры:\n",
    "\n",
    "- Игроки пишут свои имена на карточках и кладут их в шляпу\n",
    "- Игроки рандомно вытаскивают карточки из шляпы \n",
    "- Полученное имя - имя жертвы\n",
    "- Каждый игрок одновременно и убийца и жертва\n",
    "- Чтобы убить другого игрока, надо оказаться с ним наедине и застрелить из пальца\n",
    "- Жертва убитого становится новой жертвой игрока\n",
    "- Побеждает тот, кто совершит наибольшее число убийств\n",
    "\n",
    "На экономическом факультете было два раунда игры в киллера. Все убийства регистрировались в гугл-форме. В табличках `killer_time1.csv` и `killer_time2.csv` лежит время в часах, которое проходило между убийствами."
   ]
  },
  {
   "cell_type": "code",
   "execution_count": null,
   "metadata": {
    "id": "kYfvEaT_JUXJ"
   },
   "outputs": [],
   "source": [
    "killer1 = pd.read_csv(\"./data/killer_time1.csv\").hours_between_kill.values\n",
    "killer2 = pd.read_csv(\"./data/killer_time2.csv\").hours_between_kill.values"
   ]
  },
  {
   "cell_type": "code",
   "execution_count": null,
   "metadata": {
    "id": "1krzIKHHJUXJ"
   },
   "outputs": [],
   "source": [
    "plt.hist(killer1, bins=20);"
   ]
  },
  {
   "cell_type": "code",
   "execution_count": null,
   "metadata": {
    "id": "WQyAo8dOJUXK"
   },
   "outputs": [],
   "source": [
    "plt.hist(killer2, bins=20);"
   ]
  },
  {
   "cell_type": "markdown",
   "metadata": {
    "id": "nfpZHp6iJUXL"
   },
   "source": [
    "Распределение выглядит, как экспоненциальное. Более того, по гистограммам возникает ощущение, что это одинаковое распределение. С помощью теста Колмогорова-Смирнова проверьте гипотезу о том, что обе выборки пришли из одного и того же распределения, $p$-значение, полученное при проверке запишите в переменную `pvalue1`. "
   ]
  },
  {
   "cell_type": "code",
   "execution_count": null,
   "metadata": {
    "deletable": false,
    "id": "IX7DAn9UJUXL",
    "nbgrader": {
     "cell_type": "code",
     "checksum": "44fb3b5304225f3947fbd73bc67a3d44",
     "grade": false,
     "grade_id": "cell-f8134e5d39cba5cd",
     "locked": false,
     "schema_version": 3,
     "solution": true,
     "task": false
    }
   },
   "outputs": [],
   "source": [
    "### ╰( ͡° ͜ʖ ͡° )つ▬▬ι═══════  bzzzzzzzzzz\n",
    "# your code below\n",
    "\n",
    "pvalue1 = ...\n"
   ]
  },
  {
   "cell_type": "markdown",
   "metadata": {
    "id": "M5R8h3YsJUXM"
   },
   "source": [
    "С помощью теста Колмогорова проверьте гипотезу о том, что время для первой игры имеет экспоненциальное распределение с параметром $\\lambda = 0.026$, $p$-значение, полученное при проверке запишите в переменную `pvalue2`. "
   ]
  },
  {
   "cell_type": "code",
   "execution_count": null,
   "metadata": {
    "deletable": false,
    "id": "XAgaSG7fJUXM",
    "nbgrader": {
     "cell_type": "code",
     "checksum": "b4e27fa1c6f0366a2e938430173a15b3",
     "grade": false,
     "grade_id": "cell-da5a87e744840bab",
     "locked": false,
     "schema_version": 3,
     "solution": true,
     "task": false
    }
   },
   "outputs": [],
   "source": [
    "### ╰( ͡° ͜ʖ ͡° )つ▬▬ι═══════  bzzzzzzzzzz\n",
    "# your code below\n",
    "\n",
    "pvalue2 = ...\n"
   ]
  },
  {
   "cell_type": "code",
   "execution_count": null,
   "metadata": {
    "deletable": false,
    "editable": false,
    "id": "-9CSLG6yJUXN",
    "nbgrader": {
     "cell_type": "code",
     "checksum": "92729497f6a2fc0d98bc3610e4f4c72d",
     "grade": true,
     "grade_id": "cell-be55b7fce581170d",
     "locked": true,
     "points": 2,
     "schema_version": 3,
     "solution": false,
     "task": false
    }
   },
   "outputs": [],
   "source": [
    "# проверка того, что задание решено верно\n",
    "assert pvalue1 > 0.5\n"
   ]
  },
  {
   "cell_type": "markdown",
   "metadata": {
    "id": "Y7bd0DTQJUXN"
   },
   "source": [
    "## Мыши и зеркало\n",
    "\n",
    "$16$ лабораторных мышей были помещены в двухкомнатные клетки, в одной из комнат висело зеркало. С целью установить, есть ли у мышей какие-то предпочтения насчет зеркал, измерялась доля времени, которое каждая мышь проводила в каждой из своих двух клеток.\n",
    "\n",
    "![](https://ars.els-cdn.com/content/image/1-s2.0-S0168159104000061-gr1.gif)\n",
    "\n",
    "В файле `mouses_mirror.txt` лежит информация о том, какую долю времени мышка проводила в клетке с зеркалом. "
   ]
  },
  {
   "cell_type": "code",
   "execution_count": null,
   "metadata": {
    "id": "UV1syPNPJUXN"
   },
   "outputs": [],
   "source": [
    "x = pd.read_csv('./data/mouses_mirror.txt', header = None)[0].values\n",
    "plt.hist(x, density=True);"
   ]
  },
  {
   "cell_type": "markdown",
   "metadata": {
    "id": "bmLSU-CTJUXO"
   },
   "source": [
    "Проверьте гипотезу о том, что мышкам безразлично в какой комнате проводить время с помощью критерия знаков. Сформулируйте нулевую гипотезу, перечислите основные особенности этого критерия. Запишите в переменную `pvalue_1` получившееся в результате этого $p$-значение. "
   ]
  },
  {
   "cell_type": "code",
   "execution_count": null,
   "metadata": {
    "deletable": false,
    "id": "7Z5XesobJUXO",
    "nbgrader": {
     "cell_type": "code",
     "checksum": "69c18cd39cdcc6708cc99b3d2034796a",
     "grade": false,
     "grade_id": "cell-6b6cc3cc3f9d2e2d",
     "locked": false,
     "schema_version": 3,
     "solution": true,
     "task": false
    }
   },
   "outputs": [],
   "source": [
    "### ╰( ͡° ͜ʖ ͡° )つ▬▬ι═══════  bzzzzzzzzzz\n",
    "# your code below\n",
    "\n",
    "pvalue_1 = ... \n"
   ]
  },
  {
   "cell_type": "markdown",
   "metadata": {
    "id": "Zej2AKWRJUXO"
   },
   "source": [
    "Проверьте гипотезу о том, что мышкам безразлично в какой комнате проводить время с помощью теста Вилкоксона. Сформулируйте нулевую гипотезу, перечислите основные особенности этого критерия.  Запишите в переменную `pvalue_2` получившееся в результате этого $p$-значение. "
   ]
  },
  {
   "cell_type": "code",
   "execution_count": null,
   "metadata": {
    "deletable": false,
    "id": "Awlj-VqcJUXO",
    "nbgrader": {
     "cell_type": "code",
     "checksum": "810237e6b508833ff45a566c9122dc2d",
     "grade": false,
     "grade_id": "cell-689716dd8c46567c",
     "locked": false,
     "schema_version": 3,
     "solution": true,
     "task": false
    }
   },
   "outputs": [],
   "source": [
    "### ╰( ͡° ͜ʖ ͡° )つ▬▬ι═══════  bzzzzzzzzzz\n",
    "# your code below\n",
    "\n",
    "pvalue_2 = ... \n"
   ]
  },
  {
   "cell_type": "markdown",
   "metadata": {
    "id": "fwaS3s5gJUXP"
   },
   "source": [
    "Проверьте гипотезу о том, что мышкам безразлично в какой комнате проводить время с помощью асимптотического $z$-теста. Сформулируйте нулевую гипотезу, перечислите основные особенности этого критерия.  Запишите в переменную `pvalue_3` получившееся в результате этого $p$-значение. "
   ]
  },
  {
   "cell_type": "code",
   "execution_count": null,
   "metadata": {
    "deletable": false,
    "id": "u5HlNpxiJUXP",
    "nbgrader": {
     "cell_type": "code",
     "checksum": "b55c22e6795228bd3d57ea5a1e98c49a",
     "grade": false,
     "grade_id": "cell-4ce505503163ae74",
     "locked": false,
     "schema_version": 3,
     "solution": true,
     "task": false
    }
   },
   "outputs": [],
   "source": [
    "from statsmodels.stats.weightstats import ztest,zconfint\n",
    "\n",
    "### ╰( ͡° ͜ʖ ͡° )つ▬▬ι═══════  bzzzzzzzzzz\n",
    "# your code below\n",
    "\n",
    "pvalue_3 = ... \n"
   ]
  },
  {
   "cell_type": "code",
   "execution_count": null,
   "metadata": {
    "deletable": false,
    "editable": false,
    "id": "2hHW3dxXJUXP",
    "nbgrader": {
     "cell_type": "code",
     "checksum": "73290f06f31fe8c145c864dae9c02101",
     "grade": true,
     "grade_id": "cell-2f9dfc7c1834c8a5",
     "locked": true,
     "points": 2,
     "schema_version": 3,
     "solution": false,
     "task": false
    }
   },
   "outputs": [],
   "source": [
    "# проверка того, что задание решено верно\n",
    "assert pvalue_1 < 0.05\n",
    "assert pvalue_2 > 0.05\n",
    "assert pvalue_3 > 0.05\n"
   ]
  },
  {
   "cell_type": "markdown",
   "metadata": {
    "id": "le-4YyzmJUXP"
   },
   "source": [
    "Объясните, почему `pvalue` от теста к тесту ведёт себя именно так. Подробнее про опыт с мышками читайте [в оригинальном исследовании.](https://www.sciencedirect.com/science/article/abs/pii/S0168159104000061)"
   ]
  },
  {
   "cell_type": "markdown",
   "metadata": {
    "id": "cP9JajAQJUXP"
   },
   "source": [
    "## Энергетик\n",
    "\n",
    "Исследовательница Глафира считает, что любовь к энергетическим напиткам и успешность сдачи экзамена по математической статистике должны быть как-то связаны. Опросив $200$ своих однокурсников, она получила следующие результаты:\n",
    "\n",
    "- Сдал, пьёт энергетик: 20\n",
    "- Сдал, не пьёт энергетик: 120\n",
    "- Завалил, пьёт энергетик: 40\n",
    "- Завалил, не пьёт энергетик: 20\n",
    "\n",
    "Правда ли, что энергетик оказывает на успешность сдачи экзамена какое-то влияние? Проверьте гипотезу с помощью критерия Пирсона. В качестве ответа запишите в переменную `pvalue` получившееся $p$-значение."
   ]
  },
  {
   "cell_type": "code",
   "execution_count": null,
   "metadata": {
    "deletable": false,
    "id": "66VFtzaoJUXP",
    "nbgrader": {
     "cell_type": "code",
     "checksum": "11b701a76c7cad856b9a90da5179b7fe",
     "grade": false,
     "grade_id": "cell-8806588bc0865379",
     "locked": false,
     "schema_version": 3,
     "solution": true,
     "task": false
    }
   },
   "outputs": [],
   "source": [
    "### ╰( ͡° ͜ʖ ͡° )つ▬▬ι═══════  bzzzzzzzzzz\n",
    "# your code below\n",
    "\n",
    "pvalue = ... \n"
   ]
  },
  {
   "cell_type": "code",
   "execution_count": null,
   "metadata": {
    "deletable": false,
    "editable": false,
    "id": "UcMfPHBnJUXP",
    "nbgrader": {
     "cell_type": "code",
     "checksum": "da1fdd962d58f234934cc003b1d90290",
     "grade": true,
     "grade_id": "cell-920f09f17b0aafde",
     "locked": true,
     "points": 2,
     "schema_version": 3,
     "solution": false,
     "task": false
    }
   },
   "outputs": [],
   "source": [
    "# проверка того, что задание решено верно\n",
    "assert pvalue < 0.05\n"
   ]
  },
  {
   "cell_type": "markdown",
   "metadata": {
    "id": "Fh5Cl9MHJUXQ"
   },
   "source": [
    "## Бомбардировки\n",
    "\n",
    "В таблице `london_07-09-1940.tsv` лежат данные о бомбардировке Лондона 7 сентября 1940 года немецкой авиацией. Интересно выяснить, насколько прицельно велась бомбардировка. Если немецкие войска знали, где именно находятся британские военные объекты, они вели бы бомбардировку пристрельно.  \n",
    "\n",
    "Ещё больше данных о бомбардировке Лондона ищите здесь: http://bombsight.org/data/sources/"
   ]
  },
  {
   "cell_type": "code",
   "execution_count": null,
   "metadata": {
    "id": "_G-twKngJUXQ"
   },
   "outputs": [],
   "source": [
    "df = pd.read_csv('./data/london_07-09-1940.tsv', sep='\\t')\n",
    "print(df.shape)\n",
    "df.head()"
   ]
  },
  {
   "cell_type": "code",
   "execution_count": null,
   "metadata": {
    "id": "rxdSRKjvJUXQ"
   },
   "outputs": [],
   "source": [
    "plt.scatter(df.x, df.y);"
   ]
  },
  {
   "cell_type": "markdown",
   "metadata": {
    "id": "vE8e6UDHJUXQ"
   },
   "source": [
    "В колонках $x$ и $y$ лежат координаты точки, куда упала бомба. Разбейте Лондон решёткой размера $30 \\times 30$ на $900$ небольших квадратных участков. С помощью функции `binned_statistic_2d` из пакета `scipy.stats`, подсчитайте как часто снаряд попадал на какой из участков. Поместите информацию об этом в переменную `ret`. "
   ]
  },
  {
   "cell_type": "code",
   "execution_count": null,
   "metadata": {
    "deletable": false,
    "id": "hQUr_igwJUXQ",
    "nbgrader": {
     "cell_type": "code",
     "checksum": "3d8e8a1156fdd06c8ae186fb41313b02",
     "grade": false,
     "grade_id": "cell-2a06adb25a0b5542",
     "locked": false,
     "schema_version": 3,
     "solution": true,
     "task": false
    }
   },
   "outputs": [],
   "source": [
    "binx = np.linspace(df.x.min(), df.x.max(), 31)\n",
    "biny = np.linspace(df.y.min(), df.y.max(), 31)\n",
    "\n",
    "### ╰( ͡° ͜ʖ ͡° )つ▬▬ι═══════  bzzzzzzzzzz\n",
    "# your code below\n",
    "\n",
    "ret = ... \n",
    "\n",
    "sns.heatmap(ret.statistic);"
   ]
  },
  {
   "cell_type": "markdown",
   "metadata": {
    "id": "BsYE5VbiJUXQ"
   },
   "source": [
    "Распакуйте информацию о попаданиях в участки в вектор `z`. Нарисуте гистограмму для получившегося распределения. "
   ]
  },
  {
   "cell_type": "code",
   "execution_count": null,
   "metadata": {
    "deletable": false,
    "id": "5cLVqdedJUXQ",
    "nbgrader": {
     "cell_type": "code",
     "checksum": "3fbbdfb1fc38caf7a66e28a32e3d5cd5",
     "grade": false,
     "grade_id": "cell-1b692a90383e2eff",
     "locked": false,
     "schema_version": 3,
     "solution": true,
     "task": false
    }
   },
   "outputs": [],
   "source": [
    "### ╰( ͡° ͜ʖ ͡° )つ▬▬ι═══════  bzzzzzzzzzz\n",
    "# your code below\n",
    "\n",
    "z = ...\n",
    "\n"
   ]
  },
  {
   "cell_type": "markdown",
   "metadata": {
    "id": "EvSfTHgjJUXQ"
   },
   "source": [
    "Участков много, а вероятность попадания на отдельный участок мала. При справедливости гипотезы о низкой точности стрельбы мы можем воспользоваться законом редких событий:\n",
    "\n",
    "> Если в схеме испытаний Бернулли $p \\to 0$, а $n \\to \\infty$, оно сходится к распределению Пуассона. \n",
    "\n",
    "Получается, что __при верности гипотезы о низкой точности стрельбы,__ число попаданий в квадрат имеет распределение Пуассона. Дополнительно будем предполагать, что попадания на разные участки независимы друг от друга. \n",
    "\n",
    "C помощью критерия Пирсона проверьте гипотезу о том, что число попаданий на участок имеет распределение Пуассона. Прежде, чем вычислять статистику, объедините все наблюдения из хвоста в одно по аналогии с лекцией. Хвостом будем считать все наблюдения $\\ge 9$. Получившуюся в результате расчётов статистику запишите в переменную `T`."
   ]
  },
  {
   "cell_type": "code",
   "execution_count": null,
   "metadata": {
    "deletable": false,
    "id": "Ry0mhX_GJUXQ",
    "nbgrader": {
     "cell_type": "code",
     "checksum": "27458dfda82dafb25009a2fa92b137b2",
     "grade": false,
     "grade_id": "cell-ae799b5490316110",
     "locked": false,
     "schema_version": 3,
     "solution": true,
     "task": false
    }
   },
   "outputs": [],
   "source": [
    "### ╰( ͡° ͜ʖ ͡° )つ▬▬ι═══════  bzzzzzzzzzz\n",
    "# your code below\n",
    "\n",
    "T = ...\n"
   ]
  },
  {
   "cell_type": "code",
   "execution_count": null,
   "metadata": {
    "deletable": false,
    "editable": false,
    "id": "yednYOD3JUXQ",
    "nbgrader": {
     "cell_type": "code",
     "checksum": "04a992cbb78c1776904005722f0fad09",
     "grade": true,
     "grade_id": "cell-2986a877274d9a7e",
     "locked": true,
     "points": 2,
     "schema_version": 3,
     "solution": false,
     "task": false
    }
   },
   "outputs": [],
   "source": [
    "# проверка того, что задание решено верно\n",
    "assert T > 6000\n"
   ]
  },
  {
   "cell_type": "markdown",
   "metadata": {
    "id": "vtHNYBcoJUXR"
   },
   "source": [
    "Какой вывод мы можем из этого сделать? Правда ли, что бомбардировка осуществлялась прицельно? "
   ]
  },
  {
   "cell_type": "markdown",
   "metadata": {
    "id": "Tuwc0JwfMRyM"
   },
   "source": [
    "# Часть 3 - Самостоятельный анализ\n"
   ]
  },
  {
   "cell_type": "markdown",
   "metadata": {
    "id": "HALykPFtX3yt"
   },
   "source": [
    "- Ниже приведены несколько датасетов, их необходимо самостоятельно проанализировать и ответить на определенные вопросы\n",
    "- Для ответа на эти вопросы нужно сделать следующее\n",
    "    - Сделать хорошую визуализацию исследуемых переменных\n",
    "    - Для каждой из задач подобрать **все подходящие** параметрические и непараметрические критерии, проанализировать результаты этих критериев (тут имеет смысл обернуть все критерии в фунцию или словарь - как удобно)\n",
    "- Для каждого набора данных проверьте нормальность выборки и допустимость использования параметрических критериев (можно прокомментировать гистограмму и воспользоваться соответствующими критериями согласия)\n",
    "- Не забудьте оставить краткие комментарии к вашим действиям и сформулировать выводы, которые вы сделали в ходе анализа\n"
   ]
  },
  {
   "cell_type": "markdown",
   "metadata": {
    "id": "nbHK4unpW5Js"
   },
   "source": [
    "## Анорексия\n",
    "\n",
    "В файле anorexia.txt записан вес пациентов до начала терапии анорексии и после ее окончания. Была ли терапия в эффективна?\n"
   ]
  },
  {
   "cell_type": "code",
   "execution_count": null,
   "metadata": {
    "colab": {
     "base_uri": "https://localhost:8080/",
     "height": 202
    },
    "executionInfo": {
     "elapsed": 333,
     "status": "ok",
     "timestamp": 1636727359327,
     "user": {
      "displayName": "Ilya A",
      "photoUrl": "https://lh3.googleusercontent.com/a-/AOh14GiSa8oddSgsU03OOnvGn7Dk96PjoJwbTrHh_f7oDw=s64",
      "userId": "17148912465935982955"
     },
     "user_tz": -180
    },
    "id": "Cyt0g08jhKNC",
    "outputId": "568a2ce9-f1b2-4418-d79a-684bafcda71d"
   },
   "outputs": [
    {
     "data": {
      "text/html": [
       "<div>\n",
       "<style scoped>\n",
       "    .dataframe tbody tr th:only-of-type {\n",
       "        vertical-align: middle;\n",
       "    }\n",
       "\n",
       "    .dataframe tbody tr th {\n",
       "        vertical-align: top;\n",
       "    }\n",
       "\n",
       "    .dataframe thead th {\n",
       "        text-align: right;\n",
       "    }\n",
       "</style>\n",
       "<table border=\"1\" class=\"dataframe\">\n",
       "  <thead>\n",
       "    <tr style=\"text-align: right;\">\n",
       "      <th></th>\n",
       "      <th>Before</th>\n",
       "      <th>After</th>\n",
       "    </tr>\n",
       "  </thead>\n",
       "  <tbody>\n",
       "    <tr>\n",
       "      <th>0</th>\n",
       "      <td>80.5</td>\n",
       "      <td>82.2</td>\n",
       "    </tr>\n",
       "    <tr>\n",
       "      <th>1</th>\n",
       "      <td>84.9</td>\n",
       "      <td>85.6</td>\n",
       "    </tr>\n",
       "    <tr>\n",
       "      <th>2</th>\n",
       "      <td>81.5</td>\n",
       "      <td>81.4</td>\n",
       "    </tr>\n",
       "    <tr>\n",
       "      <th>3</th>\n",
       "      <td>82.6</td>\n",
       "      <td>81.9</td>\n",
       "    </tr>\n",
       "    <tr>\n",
       "      <th>4</th>\n",
       "      <td>79.9</td>\n",
       "      <td>76.4</td>\n",
       "    </tr>\n",
       "  </tbody>\n",
       "</table>\n",
       "</div>"
      ],
      "text/plain": [
       "   Before  After\n",
       "0    80.5   82.2\n",
       "1    84.9   85.6\n",
       "2    81.5   81.4\n",
       "3    82.6   81.9\n",
       "4    79.9   76.4"
      ]
     },
     "execution_count": 2,
     "metadata": {},
     "output_type": "execute_result"
    }
   ],
   "source": [
    "df = pd.read_csv('./data/anorexia.txt', sep='\\t')\n",
    "df.head()\n"
   ]
  },
  {
   "cell_type": "markdown",
   "metadata": {
    "id": "Gl2o-SqZXVl0"
   },
   "source": [
    "## Метилфенидат\n",
    "В рамках исследования эффективности препарата метилфенидат пациенты с синдромом дефицита внимания и гиперактивности в течение недели принимали либо метилфенидат, либо плацебо. В конце недели каждый пациент проходили тест на способность к подавлению импульсивных поведенческих реакций. На втором этапе плацебо и препарат менялись, и после недельного курса каждый испытуемые проходили второй тест. Был ли эффект от применения препарата? Данные находятся в файле methylphenidate.txt.\n",
    "\n"
   ]
  },
  {
   "cell_type": "code",
   "execution_count": null,
   "metadata": {
    "colab": {
     "base_uri": "https://localhost:8080/",
     "height": 202
    },
    "executionInfo": {
     "elapsed": 31,
     "status": "ok",
     "timestamp": 1636727359331,
     "user": {
      "displayName": "Ilya A",
      "photoUrl": "https://lh3.googleusercontent.com/a-/AOh14GiSa8oddSgsU03OOnvGn7Dk96PjoJwbTrHh_f7oDw=s64",
      "userId": "17148912465935982955"
     },
     "user_tz": -180
    },
    "id": "yyTmPFVserUA",
    "outputId": "0823d24d-d836-4fcd-eb2a-15d6fd1053fe"
   },
   "outputs": [
    {
     "data": {
      "text/html": [
       "<div>\n",
       "<style scoped>\n",
       "    .dataframe tbody tr th:only-of-type {\n",
       "        vertical-align: middle;\n",
       "    }\n",
       "\n",
       "    .dataframe tbody tr th {\n",
       "        vertical-align: top;\n",
       "    }\n",
       "\n",
       "    .dataframe thead th {\n",
       "        text-align: right;\n",
       "    }\n",
       "</style>\n",
       "<table border=\"1\" class=\"dataframe\">\n",
       "  <thead>\n",
       "    <tr style=\"text-align: right;\">\n",
       "      <th></th>\n",
       "      <th>Placebo</th>\n",
       "      <th>Methylphenidate</th>\n",
       "    </tr>\n",
       "  </thead>\n",
       "  <tbody>\n",
       "    <tr>\n",
       "      <th>0</th>\n",
       "      <td>57</td>\n",
       "      <td>62</td>\n",
       "    </tr>\n",
       "    <tr>\n",
       "      <th>1</th>\n",
       "      <td>27</td>\n",
       "      <td>49</td>\n",
       "    </tr>\n",
       "    <tr>\n",
       "      <th>2</th>\n",
       "      <td>32</td>\n",
       "      <td>30</td>\n",
       "    </tr>\n",
       "    <tr>\n",
       "      <th>3</th>\n",
       "      <td>31</td>\n",
       "      <td>34</td>\n",
       "    </tr>\n",
       "    <tr>\n",
       "      <th>4</th>\n",
       "      <td>34</td>\n",
       "      <td>38</td>\n",
       "    </tr>\n",
       "  </tbody>\n",
       "</table>\n",
       "</div>"
      ],
      "text/plain": [
       "   Placebo  Methylphenidate\n",
       "0       57               62\n",
       "1       27               49\n",
       "2       32               30\n",
       "3       31               34\n",
       "4       34               38"
      ]
     },
     "execution_count": 3,
     "metadata": {},
     "output_type": "execute_result"
    }
   ],
   "source": [
    "df = pd.read_csv('./data/methylphenidate.txt', sep=' ')\n",
    "df.head()\n"
   ]
  },
  {
   "cell_type": "code",
   "execution_count": null,
   "metadata": {
    "id": "XLPPqRF5Xb9g"
   },
   "outputs": [],
   "source": []
  },
  {
   "cell_type": "markdown",
   "metadata": {
    "id": "tRwTUweFXO-F"
   },
   "source": [
    "## Сиэтл\n",
    "В файле seattle.txt записаны цены на недвижимость в одном из районов Сиэтла в 2001 году и в 2002 году (объекты недвижимости выбирались случайно). Изменились ли в среднем цены в этом районе за год?\n"
   ]
  },
  {
   "cell_type": "code",
   "execution_count": null,
   "metadata": {
    "colab": {
     "base_uri": "https://localhost:8080/",
     "height": 202
    },
    "executionInfo": {
     "elapsed": 30,
     "status": "ok",
     "timestamp": 1636727359328,
     "user": {
      "displayName": "Ilya A",
      "photoUrl": "https://lh3.googleusercontent.com/a-/AOh14GiSa8oddSgsU03OOnvGn7Dk96PjoJwbTrHh_f7oDw=s64",
      "userId": "17148912465935982955"
     },
     "user_tz": -180
    },
    "id": "VOIIliUEeqkE",
    "outputId": "4385e026-a7d2-4191-ee81-1527b30106db"
   },
   "outputs": [
    {
     "data": {
      "text/html": [
       "<div>\n",
       "<style scoped>\n",
       "    .dataframe tbody tr th:only-of-type {\n",
       "        vertical-align: middle;\n",
       "    }\n",
       "\n",
       "    .dataframe tbody tr th {\n",
       "        vertical-align: top;\n",
       "    }\n",
       "\n",
       "    .dataframe thead th {\n",
       "        text-align: right;\n",
       "    }\n",
       "</style>\n",
       "<table border=\"1\" class=\"dataframe\">\n",
       "  <thead>\n",
       "    <tr style=\"text-align: right;\">\n",
       "      <th></th>\n",
       "      <th>Price</th>\n",
       "      <th>Year</th>\n",
       "    </tr>\n",
       "  </thead>\n",
       "  <tbody>\n",
       "    <tr>\n",
       "      <th>0</th>\n",
       "      <td>142.0</td>\n",
       "      <td>2002</td>\n",
       "    </tr>\n",
       "    <tr>\n",
       "      <th>1</th>\n",
       "      <td>232.0</td>\n",
       "      <td>2002</td>\n",
       "    </tr>\n",
       "    <tr>\n",
       "      <th>2</th>\n",
       "      <td>132.5</td>\n",
       "      <td>2002</td>\n",
       "    </tr>\n",
       "    <tr>\n",
       "      <th>3</th>\n",
       "      <td>200.0</td>\n",
       "      <td>2002</td>\n",
       "    </tr>\n",
       "    <tr>\n",
       "      <th>4</th>\n",
       "      <td>362.0</td>\n",
       "      <td>2002</td>\n",
       "    </tr>\n",
       "  </tbody>\n",
       "</table>\n",
       "</div>"
      ],
      "text/plain": [
       "   Price  Year\n",
       "0  142.0  2002\n",
       "1  232.0  2002\n",
       "2  132.5  2002\n",
       "3  200.0  2002\n",
       "4  362.0  2002"
      ]
     },
     "execution_count": 4,
     "metadata": {},
     "output_type": "execute_result"
    }
   ],
   "source": [
    "df = pd.read_csv('./data/seattle.txt', sep='\\t')\n",
    "df.head()\n"
   ]
  },
  {
   "cell_type": "markdown",
   "metadata": {
    "id": "ew4ByKQOXjyD"
   },
   "source": [
    "## Расход топлива\n",
    "В файле mtcars.csv находятся данные из американского журнала Motor Trend 1974 года. Они описывают расход топлива в зависимости от 10 характеристик автомобиля (все автомобили 1973-1974 года). А именно, в данных вы найдете следующие столбцы:\n",
    "1. mpg — расход топлива (миль/галлон); \n",
    "2. cyl — количество цилиндров мотора; 3) disp — объем мотор (куб. дюйм);\n",
    "4. hp — мощность мотора (в лошадиных силах);\n",
    "5. drat — передаточное число редуктора заднего моста;\n",
    "6. wt — вес (тысяч фунтов);\n",
    "7. qsec — время, за которое автомобиль проезжает 1/4 мили;\n",
    "8. vs — тип двигателя (0 = V-образный, 1 = рядный);\n",
    "9. am — тип коробки передач (0 = автоматическая, 1 = ручная);\n",
    "10. gear — количество передних передач; 11) carb — количество карбюраторов.\n",
    "\n"
   ]
  },
  {
   "cell_type": "markdown",
   "metadata": {
    "id": "nFvA_mW-MVkM"
   },
   "source": [
    "- Влияет ли тип двигателя на расход топлива? \n",
    "- А тип коробки передач?\n",
    "- Взаимосвязаны ли тип двигателя и тип коробки передач?"
   ]
  },
  {
   "cell_type": "code",
   "execution_count": null,
   "metadata": {
    "colab": {
     "base_uri": "https://localhost:8080/",
     "height": 202
    },
    "executionInfo": {
     "elapsed": 669,
     "status": "ok",
     "timestamp": 1636727359971,
     "user": {
      "displayName": "Ilya A",
      "photoUrl": "https://lh3.googleusercontent.com/a-/AOh14GiSa8oddSgsU03OOnvGn7Dk96PjoJwbTrHh_f7oDw=s64",
      "userId": "17148912465935982955"
     },
     "user_tz": -180
    },
    "id": "OqCi07e-XsGv",
    "outputId": "a07743a7-1750-4230-bc51-bfafe58aac86"
   },
   "outputs": [
    {
     "data": {
      "text/html": [
       "<div>\n",
       "<style scoped>\n",
       "    .dataframe tbody tr th:only-of-type {\n",
       "        vertical-align: middle;\n",
       "    }\n",
       "\n",
       "    .dataframe tbody tr th {\n",
       "        vertical-align: top;\n",
       "    }\n",
       "\n",
       "    .dataframe thead th {\n",
       "        text-align: right;\n",
       "    }\n",
       "</style>\n",
       "<table border=\"1\" class=\"dataframe\">\n",
       "  <thead>\n",
       "    <tr style=\"text-align: right;\">\n",
       "      <th></th>\n",
       "      <th>mpg</th>\n",
       "      <th>cyl</th>\n",
       "      <th>disp</th>\n",
       "      <th>hp</th>\n",
       "      <th>drat</th>\n",
       "      <th>wt</th>\n",
       "      <th>qsec</th>\n",
       "      <th>vs</th>\n",
       "      <th>am</th>\n",
       "      <th>gear</th>\n",
       "      <th>carb</th>\n",
       "    </tr>\n",
       "  </thead>\n",
       "  <tbody>\n",
       "    <tr>\n",
       "      <th>Mazda RX4</th>\n",
       "      <td>21.0</td>\n",
       "      <td>6</td>\n",
       "      <td>160.0</td>\n",
       "      <td>110</td>\n",
       "      <td>3.90</td>\n",
       "      <td>2.620</td>\n",
       "      <td>16.46</td>\n",
       "      <td>0</td>\n",
       "      <td>1</td>\n",
       "      <td>4</td>\n",
       "      <td>4</td>\n",
       "    </tr>\n",
       "    <tr>\n",
       "      <th>Mazda RX4 Wag</th>\n",
       "      <td>21.0</td>\n",
       "      <td>6</td>\n",
       "      <td>160.0</td>\n",
       "      <td>110</td>\n",
       "      <td>3.90</td>\n",
       "      <td>2.875</td>\n",
       "      <td>17.02</td>\n",
       "      <td>0</td>\n",
       "      <td>1</td>\n",
       "      <td>4</td>\n",
       "      <td>4</td>\n",
       "    </tr>\n",
       "    <tr>\n",
       "      <th>Datsun 710</th>\n",
       "      <td>22.8</td>\n",
       "      <td>4</td>\n",
       "      <td>108.0</td>\n",
       "      <td>93</td>\n",
       "      <td>3.85</td>\n",
       "      <td>2.320</td>\n",
       "      <td>18.61</td>\n",
       "      <td>1</td>\n",
       "      <td>1</td>\n",
       "      <td>4</td>\n",
       "      <td>1</td>\n",
       "    </tr>\n",
       "    <tr>\n",
       "      <th>Hornet 4 Drive</th>\n",
       "      <td>21.4</td>\n",
       "      <td>6</td>\n",
       "      <td>258.0</td>\n",
       "      <td>110</td>\n",
       "      <td>3.08</td>\n",
       "      <td>3.215</td>\n",
       "      <td>19.44</td>\n",
       "      <td>1</td>\n",
       "      <td>0</td>\n",
       "      <td>3</td>\n",
       "      <td>1</td>\n",
       "    </tr>\n",
       "    <tr>\n",
       "      <th>Hornet Sportabout</th>\n",
       "      <td>18.7</td>\n",
       "      <td>8</td>\n",
       "      <td>360.0</td>\n",
       "      <td>175</td>\n",
       "      <td>3.15</td>\n",
       "      <td>3.440</td>\n",
       "      <td>17.02</td>\n",
       "      <td>0</td>\n",
       "      <td>0</td>\n",
       "      <td>3</td>\n",
       "      <td>2</td>\n",
       "    </tr>\n",
       "  </tbody>\n",
       "</table>\n",
       "</div>"
      ],
      "text/plain": [
       "                    mpg  cyl   disp   hp  drat     wt   qsec  vs  am  gear  \\\n",
       "Mazda RX4          21.0    6  160.0  110  3.90  2.620  16.46   0   1     4   \n",
       "Mazda RX4 Wag      21.0    6  160.0  110  3.90  2.875  17.02   0   1     4   \n",
       "Datsun 710         22.8    4  108.0   93  3.85  2.320  18.61   1   1     4   \n",
       "Hornet 4 Drive     21.4    6  258.0  110  3.08  3.215  19.44   1   0     3   \n",
       "Hornet Sportabout  18.7    8  360.0  175  3.15  3.440  17.02   0   0     3   \n",
       "\n",
       "                   carb  \n",
       "Mazda RX4             4  \n",
       "Mazda RX4 Wag         4  \n",
       "Datsun 710            1  \n",
       "Hornet 4 Drive        1  \n",
       "Hornet Sportabout     2  "
      ]
     },
     "execution_count": 5,
     "metadata": {},
     "output_type": "execute_result"
    }
   ],
   "source": [
    "df = pd.read_csv('./data/mtcars.csv', index_col=0)\n",
    "df.head()\n"
   ]
  },
  {
   "cell_type": "markdown",
   "metadata": {
    "id": "9Zz_I5TeMVkM"
   },
   "source": [
    "#### vs, mpg"
   ]
  },
  {
   "cell_type": "code",
   "execution_count": null,
   "metadata": {
    "id": "7CqwhMoPMVkN"
   },
   "outputs": [],
   "source": []
  },
  {
   "cell_type": "markdown",
   "metadata": {
    "id": "gaZ6XmvuexzG"
   },
   "source": [
    "#### am, mpg"
   ]
  },
  {
   "cell_type": "code",
   "execution_count": null,
   "metadata": {
    "id": "G7zm74eAMVkN"
   },
   "outputs": [],
   "source": []
  },
  {
   "cell_type": "markdown",
   "metadata": {
    "id": "kCLFYqFzMVkN"
   },
   "source": [
    "#### vs, am"
   ]
  },
  {
   "cell_type": "code",
   "execution_count": null,
   "metadata": {
    "id": "c_kuNAaZMVkO"
   },
   "outputs": [],
   "source": []
  },
  {
   "cell_type": "code",
   "execution_count": null,
   "metadata": {
    "id": "7RS1EAkpMSSr"
   },
   "outputs": [],
   "source": []
  }
 ],
 "metadata": {
  "colab": {
   "collapsed_sections": [],
   "name": "hw3-hypothesis.ipynb",
   "provenance": [
    {
     "file_id": "1zyavlR7sioHt3RaOI6xBeW1YhcJmAChg",
     "timestamp": 1652628556225
    },
    {
     "file_id": "1KP9E-nhgD0AVg30jbGMJ5uJM5ameO5zq",
     "timestamp": 1652628202457
    }
   ],
   "toc_visible": true
  },
  "kernelspec": {
   "display_name": "Python 3 (ipykernel)",
   "language": "python",
   "name": "python3"
  },
  "language_info": {
   "codemirror_mode": {
    "name": "ipython",
    "version": 3
   },
   "file_extension": ".py",
   "mimetype": "text/x-python",
   "name": "python",
   "nbconvert_exporter": "python",
   "pygments_lexer": "ipython3",
   "version": "3.10.4"
  },
  "toc": {
   "base_numbering": 1,
   "nav_menu": {},
   "number_sections": false,
   "sideBar": true,
   "skip_h1_title": false,
   "title_cell": "Table of Contents",
   "title_sidebar": "Contents",
   "toc_cell": true,
   "toc_position": {},
   "toc_section_display": true,
   "toc_window_display": true
  }
 },
 "nbformat": 4,
 "nbformat_minor": 1
}
